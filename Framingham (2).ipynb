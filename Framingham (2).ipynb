{
 "cells": [
  {
   "cell_type": "code",
   "execution_count": 1,
   "metadata": {},
   "outputs": [],
   "source": [
    "# Importing necessary libraries\n",
    "\n",
    "import pandas as pd\n",
    "import numpy as np\n",
    "import matplotlib.pyplot as plt\n",
    "import seaborn as sns\n",
    "\n",
    "sns.set_style(\"white\")"
   ]
  },
  {
   "cell_type": "code",
   "execution_count": 2,
   "metadata": {},
   "outputs": [
    {
     "data": {
      "text/html": [
       "<div>\n",
       "<style scoped>\n",
       "    .dataframe tbody tr th:only-of-type {\n",
       "        vertical-align: middle;\n",
       "    }\n",
       "\n",
       "    .dataframe tbody tr th {\n",
       "        vertical-align: top;\n",
       "    }\n",
       "\n",
       "    .dataframe thead th {\n",
       "        text-align: right;\n",
       "    }\n",
       "</style>\n",
       "<table border=\"1\" class=\"dataframe\">\n",
       "  <thead>\n",
       "    <tr style=\"text-align: right;\">\n",
       "      <th></th>\n",
       "      <th>RANDID</th>\n",
       "      <th>SEX</th>\n",
       "      <th>TOTCHOL</th>\n",
       "      <th>AGE</th>\n",
       "      <th>SYSBP</th>\n",
       "      <th>DIABP</th>\n",
       "      <th>CURSMOKE</th>\n",
       "      <th>CIGPDAY</th>\n",
       "      <th>BMI</th>\n",
       "      <th>DIABETES</th>\n",
       "      <th>...</th>\n",
       "      <th>CVD</th>\n",
       "      <th>HYPERTEN</th>\n",
       "      <th>TIMEAP</th>\n",
       "      <th>TIMEMI</th>\n",
       "      <th>TIMEMIFC</th>\n",
       "      <th>TIMECHD</th>\n",
       "      <th>TIMESTRK</th>\n",
       "      <th>TIMECVD</th>\n",
       "      <th>TIMEDTH</th>\n",
       "      <th>TIMEHYP</th>\n",
       "    </tr>\n",
       "  </thead>\n",
       "  <tbody>\n",
       "    <tr>\n",
       "      <th>0</th>\n",
       "      <td>2448</td>\n",
       "      <td>1</td>\n",
       "      <td>195.0</td>\n",
       "      <td>39</td>\n",
       "      <td>106.0</td>\n",
       "      <td>70.0</td>\n",
       "      <td>0</td>\n",
       "      <td>0.0</td>\n",
       "      <td>26.97</td>\n",
       "      <td>0</td>\n",
       "      <td>...</td>\n",
       "      <td>1</td>\n",
       "      <td>0</td>\n",
       "      <td>8766</td>\n",
       "      <td>6438</td>\n",
       "      <td>6438</td>\n",
       "      <td>6438</td>\n",
       "      <td>8766</td>\n",
       "      <td>6438</td>\n",
       "      <td>8766</td>\n",
       "      <td>8766</td>\n",
       "    </tr>\n",
       "    <tr>\n",
       "      <th>1</th>\n",
       "      <td>2448</td>\n",
       "      <td>1</td>\n",
       "      <td>209.0</td>\n",
       "      <td>52</td>\n",
       "      <td>121.0</td>\n",
       "      <td>66.0</td>\n",
       "      <td>0</td>\n",
       "      <td>0.0</td>\n",
       "      <td>NaN</td>\n",
       "      <td>0</td>\n",
       "      <td>...</td>\n",
       "      <td>1</td>\n",
       "      <td>0</td>\n",
       "      <td>8766</td>\n",
       "      <td>6438</td>\n",
       "      <td>6438</td>\n",
       "      <td>6438</td>\n",
       "      <td>8766</td>\n",
       "      <td>6438</td>\n",
       "      <td>8766</td>\n",
       "      <td>8766</td>\n",
       "    </tr>\n",
       "    <tr>\n",
       "      <th>2</th>\n",
       "      <td>6238</td>\n",
       "      <td>2</td>\n",
       "      <td>250.0</td>\n",
       "      <td>46</td>\n",
       "      <td>121.0</td>\n",
       "      <td>81.0</td>\n",
       "      <td>0</td>\n",
       "      <td>0.0</td>\n",
       "      <td>28.73</td>\n",
       "      <td>0</td>\n",
       "      <td>...</td>\n",
       "      <td>0</td>\n",
       "      <td>0</td>\n",
       "      <td>8766</td>\n",
       "      <td>8766</td>\n",
       "      <td>8766</td>\n",
       "      <td>8766</td>\n",
       "      <td>8766</td>\n",
       "      <td>8766</td>\n",
       "      <td>8766</td>\n",
       "      <td>8766</td>\n",
       "    </tr>\n",
       "    <tr>\n",
       "      <th>3</th>\n",
       "      <td>6238</td>\n",
       "      <td>2</td>\n",
       "      <td>260.0</td>\n",
       "      <td>52</td>\n",
       "      <td>105.0</td>\n",
       "      <td>69.5</td>\n",
       "      <td>0</td>\n",
       "      <td>0.0</td>\n",
       "      <td>29.43</td>\n",
       "      <td>0</td>\n",
       "      <td>...</td>\n",
       "      <td>0</td>\n",
       "      <td>0</td>\n",
       "      <td>8766</td>\n",
       "      <td>8766</td>\n",
       "      <td>8766</td>\n",
       "      <td>8766</td>\n",
       "      <td>8766</td>\n",
       "      <td>8766</td>\n",
       "      <td>8766</td>\n",
       "      <td>8766</td>\n",
       "    </tr>\n",
       "    <tr>\n",
       "      <th>4</th>\n",
       "      <td>6238</td>\n",
       "      <td>2</td>\n",
       "      <td>237.0</td>\n",
       "      <td>58</td>\n",
       "      <td>108.0</td>\n",
       "      <td>66.0</td>\n",
       "      <td>0</td>\n",
       "      <td>0.0</td>\n",
       "      <td>28.50</td>\n",
       "      <td>0</td>\n",
       "      <td>...</td>\n",
       "      <td>0</td>\n",
       "      <td>0</td>\n",
       "      <td>8766</td>\n",
       "      <td>8766</td>\n",
       "      <td>8766</td>\n",
       "      <td>8766</td>\n",
       "      <td>8766</td>\n",
       "      <td>8766</td>\n",
       "      <td>8766</td>\n",
       "      <td>8766</td>\n",
       "    </tr>\n",
       "  </tbody>\n",
       "</table>\n",
       "<p>5 rows × 39 columns</p>\n",
       "</div>"
      ],
      "text/plain": [
       "   RANDID  SEX  TOTCHOL  AGE  SYSBP  DIABP  CURSMOKE  CIGPDAY    BMI  \\\n",
       "0    2448    1    195.0   39  106.0   70.0         0      0.0  26.97   \n",
       "1    2448    1    209.0   52  121.0   66.0         0      0.0    NaN   \n",
       "2    6238    2    250.0   46  121.0   81.0         0      0.0  28.73   \n",
       "3    6238    2    260.0   52  105.0   69.5         0      0.0  29.43   \n",
       "4    6238    2    237.0   58  108.0   66.0         0      0.0  28.50   \n",
       "\n",
       "   DIABETES  ...  CVD  HYPERTEN  TIMEAP  TIMEMI  TIMEMIFC  TIMECHD  TIMESTRK  \\\n",
       "0         0  ...    1         0    8766    6438      6438     6438      8766   \n",
       "1         0  ...    1         0    8766    6438      6438     6438      8766   \n",
       "2         0  ...    0         0    8766    8766      8766     8766      8766   \n",
       "3         0  ...    0         0    8766    8766      8766     8766      8766   \n",
       "4         0  ...    0         0    8766    8766      8766     8766      8766   \n",
       "\n",
       "   TIMECVD  TIMEDTH  TIMEHYP  \n",
       "0     6438     8766     8766  \n",
       "1     6438     8766     8766  \n",
       "2     8766     8766     8766  \n",
       "3     8766     8766     8766  \n",
       "4     8766     8766     8766  \n",
       "\n",
       "[5 rows x 39 columns]"
      ]
     },
     "execution_count": 2,
     "metadata": {},
     "output_type": "execute_result"
    }
   ],
   "source": [
    "# Creating the data frame\n",
    "df = pd.read_csv('frmgham2.csv')\n",
    "df.head()"
   ]
  },
  {
   "cell_type": "code",
   "execution_count": 3,
   "metadata": {},
   "outputs": [
    {
     "name": "stdout",
     "output_type": "stream",
     "text": [
      "<class 'pandas.core.frame.DataFrame'>\n",
      "RangeIndex: 11627 entries, 0 to 11626\n",
      "Data columns (total 39 columns):\n",
      " #   Column    Non-Null Count  Dtype  \n",
      "---  ------    --------------  -----  \n",
      " 0   RANDID    11627 non-null  int64  \n",
      " 1   SEX       11627 non-null  int64  \n",
      " 2   TOTCHOL   11218 non-null  float64\n",
      " 3   AGE       11627 non-null  int64  \n",
      " 4   SYSBP     11627 non-null  float64\n",
      " 5   DIABP     11627 non-null  float64\n",
      " 6   CURSMOKE  11627 non-null  int64  \n",
      " 7   CIGPDAY   11548 non-null  float64\n",
      " 8   BMI       11575 non-null  float64\n",
      " 9   DIABETES  11627 non-null  int64  \n",
      " 10  BPMEDS    11034 non-null  float64\n",
      " 11  HEARTRTE  11621 non-null  float64\n",
      " 12  GLUCOSE   10187 non-null  float64\n",
      " 13  educ      11332 non-null  float64\n",
      " 14  PREVCHD   11627 non-null  int64  \n",
      " 15  PREVAP    11627 non-null  int64  \n",
      " 16  PREVMI    11627 non-null  int64  \n",
      " 17  PREVSTRK  11627 non-null  int64  \n",
      " 18  PREVHYP   11627 non-null  int64  \n",
      " 19  TIME      11627 non-null  int64  \n",
      " 20  PERIOD    11627 non-null  int64  \n",
      " 21  HDLC      3027 non-null   float64\n",
      " 22  LDLC      3026 non-null   float64\n",
      " 23  DEATH     11627 non-null  int64  \n",
      " 24  ANGINA    11627 non-null  int64  \n",
      " 25  HOSPMI    11627 non-null  int64  \n",
      " 26  MI_FCHD   11627 non-null  int64  \n",
      " 27  ANYCHD    11627 non-null  int64  \n",
      " 28  STROKE    11627 non-null  int64  \n",
      " 29  CVD       11627 non-null  int64  \n",
      " 30  HYPERTEN  11627 non-null  int64  \n",
      " 31  TIMEAP    11627 non-null  int64  \n",
      " 32  TIMEMI    11627 non-null  int64  \n",
      " 33  TIMEMIFC  11627 non-null  int64  \n",
      " 34  TIMECHD   11627 non-null  int64  \n",
      " 35  TIMESTRK  11627 non-null  int64  \n",
      " 36  TIMECVD   11627 non-null  int64  \n",
      " 37  TIMEDTH   11627 non-null  int64  \n",
      " 38  TIMEHYP   11627 non-null  int64  \n",
      "dtypes: float64(11), int64(28)\n",
      "memory usage: 3.5 MB\n"
     ]
    }
   ],
   "source": [
    "df.info()"
   ]
  },
  {
   "cell_type": "code",
   "execution_count": 4,
   "metadata": {},
   "outputs": [
    {
     "data": {
      "text/plain": [
       "1    4434\n",
       "2    3930\n",
       "3    3263\n",
       "Name: PERIOD, dtype: int64"
      ]
     },
     "execution_count": 4,
     "metadata": {},
     "output_type": "execute_result"
    }
   ],
   "source": [
    "df.PERIOD.value_counts()"
   ]
  },
  {
   "cell_type": "code",
   "execution_count": 5,
   "metadata": {},
   "outputs": [
    {
     "data": {
      "text/plain": [
       "0    8469\n",
       "1    3158\n",
       "Name: ANYCHD, dtype: int64"
      ]
     },
     "execution_count": 5,
     "metadata": {},
     "output_type": "execute_result"
    }
   ],
   "source": [
    "df.ANYCHD.value_counts()"
   ]
  },
  {
   "cell_type": "code",
   "execution_count": 3,
   "metadata": {},
   "outputs": [],
   "source": [
    "df2 = df[[\"SEX\",\"TOTCHOL\", \"AGE\", \"SYSBP\", \"DIABP\", \"CURSMOKE\", \n",
    "                \"CIGPDAY\", \"BMI\", \"DIABETES\", \"BPMEDS\", \"HEARTRTE\", \"GLUCOSE\", \"educ\",\n",
    "              \"HDLC\", \"LDLC\", \"ANYCHD\", \"PERIOD\"]].copy()"
   ]
  },
  {
   "cell_type": "code",
   "execution_count": 4,
   "metadata": {},
   "outputs": [],
   "source": [
    "df2 = df2[(df2.PERIOD == 3)] "
   ]
  },
  {
   "cell_type": "code",
   "execution_count": 59,
   "metadata": {},
   "outputs": [
    {
     "name": "stdout",
     "output_type": "stream",
     "text": [
      "<class 'pandas.core.frame.DataFrame'>\n",
      "Int64Index: 3263 entries, 1 to 11626\n",
      "Data columns (total 17 columns):\n",
      " #   Column    Non-Null Count  Dtype  \n",
      "---  ------    --------------  -----  \n",
      " 0   SEX       3263 non-null   int64  \n",
      " 1   TOTCHOL   3049 non-null   float64\n",
      " 2   AGE       3263 non-null   int64  \n",
      " 3   SYSBP     3263 non-null   float64\n",
      " 4   DIABP     3263 non-null   float64\n",
      " 5   CURSMOKE  3263 non-null   int64  \n",
      " 6   CIGPDAY   3249 non-null   float64\n",
      " 7   BMI       3246 non-null   float64\n",
      " 8   DIABETES  3263 non-null   int64  \n",
      " 9   BPMEDS    2817 non-null   float64\n",
      " 10  HEARTRTE  3259 non-null   float64\n",
      " 11  GLUCOSE   2701 non-null   float64\n",
      " 12  educ      3181 non-null   float64\n",
      " 13  HDLC      3027 non-null   float64\n",
      " 14  LDLC      3026 non-null   float64\n",
      " 15  ANYCHD    3263 non-null   int64  \n",
      " 16  PERIOD    3263 non-null   int64  \n",
      "dtypes: float64(11), int64(6)\n",
      "memory usage: 458.9 KB\n"
     ]
    }
   ],
   "source": [
    "df2.info()"
   ]
  },
  {
   "cell_type": "code",
   "execution_count": 5,
   "metadata": {},
   "outputs": [],
   "source": [
    "df2 = df2.drop(columns='PERIOD')"
   ]
  },
  {
   "cell_type": "code",
   "execution_count": 6,
   "metadata": {},
   "outputs": [
    {
     "data": {
      "text/plain": [
       "(3263, 16)"
      ]
     },
     "execution_count": 6,
     "metadata": {},
     "output_type": "execute_result"
    }
   ],
   "source": [
    "df2.shape"
   ]
  },
  {
   "cell_type": "code",
   "execution_count": 7,
   "metadata": {},
   "outputs": [
    {
     "data": {
      "text/plain": [
       "1.0    1281\n",
       "2.0     967\n",
       "3.0     542\n",
       "4.0     391\n",
       "Name: educ, dtype: int64"
      ]
     },
     "execution_count": 7,
     "metadata": {},
     "output_type": "execute_result"
    }
   ],
   "source": [
    "df2.educ.value_counts()"
   ]
  },
  {
   "cell_type": "code",
   "execution_count": 61,
   "metadata": {},
   "outputs": [
    {
     "data": {
      "text/html": [
       "<div>\n",
       "<style scoped>\n",
       "    .dataframe tbody tr th:only-of-type {\n",
       "        vertical-align: middle;\n",
       "    }\n",
       "\n",
       "    .dataframe tbody tr th {\n",
       "        vertical-align: top;\n",
       "    }\n",
       "\n",
       "    .dataframe thead th {\n",
       "        text-align: right;\n",
       "    }\n",
       "</style>\n",
       "<table border=\"1\" class=\"dataframe\">\n",
       "  <thead>\n",
       "    <tr style=\"text-align: right;\">\n",
       "      <th></th>\n",
       "      <th>SEX</th>\n",
       "      <th>TOTCHOL</th>\n",
       "      <th>AGE</th>\n",
       "      <th>SYSBP</th>\n",
       "      <th>DIABP</th>\n",
       "      <th>CURSMOKE</th>\n",
       "      <th>CIGPDAY</th>\n",
       "      <th>BMI</th>\n",
       "      <th>DIABETES</th>\n",
       "      <th>BPMEDS</th>\n",
       "      <th>HEARTRTE</th>\n",
       "      <th>GLUCOSE</th>\n",
       "      <th>educ</th>\n",
       "      <th>HDLC</th>\n",
       "      <th>LDLC</th>\n",
       "      <th>ANYCHD</th>\n",
       "    </tr>\n",
       "  </thead>\n",
       "  <tbody>\n",
       "    <tr>\n",
       "      <th>1</th>\n",
       "      <td>1</td>\n",
       "      <td>209.0</td>\n",
       "      <td>52</td>\n",
       "      <td>121.0</td>\n",
       "      <td>66.0</td>\n",
       "      <td>0</td>\n",
       "      <td>0.0</td>\n",
       "      <td>NaN</td>\n",
       "      <td>0</td>\n",
       "      <td>0.0</td>\n",
       "      <td>69.0</td>\n",
       "      <td>92.0</td>\n",
       "      <td>4.0</td>\n",
       "      <td>31.0</td>\n",
       "      <td>178.0</td>\n",
       "      <td>1</td>\n",
       "    </tr>\n",
       "    <tr>\n",
       "      <th>4</th>\n",
       "      <td>2</td>\n",
       "      <td>237.0</td>\n",
       "      <td>58</td>\n",
       "      <td>108.0</td>\n",
       "      <td>66.0</td>\n",
       "      <td>0</td>\n",
       "      <td>0.0</td>\n",
       "      <td>28.50</td>\n",
       "      <td>0</td>\n",
       "      <td>0.0</td>\n",
       "      <td>80.0</td>\n",
       "      <td>71.0</td>\n",
       "      <td>2.0</td>\n",
       "      <td>54.0</td>\n",
       "      <td>141.0</td>\n",
       "      <td>0</td>\n",
       "    </tr>\n",
       "    <tr>\n",
       "      <th>11</th>\n",
       "      <td>2</td>\n",
       "      <td>NaN</td>\n",
       "      <td>58</td>\n",
       "      <td>155.0</td>\n",
       "      <td>90.0</td>\n",
       "      <td>1</td>\n",
       "      <td>30.0</td>\n",
       "      <td>24.61</td>\n",
       "      <td>0</td>\n",
       "      <td>0.0</td>\n",
       "      <td>74.0</td>\n",
       "      <td>NaN</td>\n",
       "      <td>3.0</td>\n",
       "      <td>NaN</td>\n",
       "      <td>NaN</td>\n",
       "      <td>0</td>\n",
       "    </tr>\n",
       "    <tr>\n",
       "      <th>14</th>\n",
       "      <td>2</td>\n",
       "      <td>220.0</td>\n",
       "      <td>55</td>\n",
       "      <td>180.0</td>\n",
       "      <td>106.0</td>\n",
       "      <td>0</td>\n",
       "      <td>0.0</td>\n",
       "      <td>31.17</td>\n",
       "      <td>1</td>\n",
       "      <td>1.0</td>\n",
       "      <td>86.0</td>\n",
       "      <td>81.0</td>\n",
       "      <td>2.0</td>\n",
       "      <td>46.0</td>\n",
       "      <td>135.0</td>\n",
       "      <td>1</td>\n",
       "    </tr>\n",
       "    <tr>\n",
       "      <th>19</th>\n",
       "      <td>2</td>\n",
       "      <td>320.0</td>\n",
       "      <td>57</td>\n",
       "      <td>110.0</td>\n",
       "      <td>46.0</td>\n",
       "      <td>1</td>\n",
       "      <td>30.0</td>\n",
       "      <td>22.02</td>\n",
       "      <td>0</td>\n",
       "      <td>0.0</td>\n",
       "      <td>75.0</td>\n",
       "      <td>87.0</td>\n",
       "      <td>2.0</td>\n",
       "      <td>34.0</td>\n",
       "      <td>286.0</td>\n",
       "      <td>0</td>\n",
       "    </tr>\n",
       "  </tbody>\n",
       "</table>\n",
       "</div>"
      ],
      "text/plain": [
       "    SEX  TOTCHOL  AGE  SYSBP  DIABP  CURSMOKE  CIGPDAY    BMI  DIABETES  \\\n",
       "1     1    209.0   52  121.0   66.0         0      0.0    NaN         0   \n",
       "4     2    237.0   58  108.0   66.0         0      0.0  28.50         0   \n",
       "11    2      NaN   58  155.0   90.0         1     30.0  24.61         0   \n",
       "14    2    220.0   55  180.0  106.0         0      0.0  31.17         1   \n",
       "19    2    320.0   57  110.0   46.0         1     30.0  22.02         0   \n",
       "\n",
       "    BPMEDS  HEARTRTE  GLUCOSE  educ  HDLC   LDLC  ANYCHD  \n",
       "1      0.0      69.0     92.0   4.0  31.0  178.0       1  \n",
       "4      0.0      80.0     71.0   2.0  54.0  141.0       0  \n",
       "11     0.0      74.0      NaN   3.0   NaN    NaN       0  \n",
       "14     1.0      86.0     81.0   2.0  46.0  135.0       1  \n",
       "19     0.0      75.0     87.0   2.0  34.0  286.0       0  "
      ]
     },
     "execution_count": 61,
     "metadata": {},
     "output_type": "execute_result"
    }
   ],
   "source": [
    "df2.head()"
   ]
  },
  {
   "cell_type": "code",
   "execution_count": 12,
   "metadata": {},
   "outputs": [
    {
     "data": {
      "text/plain": [
       "SEX           int64\n",
       "TOTCHOL     float64\n",
       "AGE           int64\n",
       "SYSBP       float64\n",
       "DIABP       float64\n",
       "CURSMOKE      int64\n",
       "CIGPDAY     float64\n",
       "BMI         float64\n",
       "DIABETES      int64\n",
       "BPMEDS      float64\n",
       "HEARTRTE    float64\n",
       "GLUCOSE     float64\n",
       "educ        float64\n",
       "PREVCHD       int64\n",
       "PREVAP        int64\n",
       "PREVMI        int64\n",
       "PREVSTRK      int64\n",
       "PREVHYP       int64\n",
       "HDLC        float64\n",
       "LDLC        float64\n",
       "ANYCHD        int64\n",
       "dtype: object"
      ]
     },
     "execution_count": 12,
     "metadata": {},
     "output_type": "execute_result"
    }
   ],
   "source": [
    "df2.dtypes"
   ]
  },
  {
   "cell_type": "code",
   "execution_count": 8,
   "metadata": {},
   "outputs": [],
   "source": [
    "for col in ['SEX','CURSMOKE', 'DIABETES', 'ANYCHD']:\n",
    "    df2[col] = df2[col].astype('category')"
   ]
  },
  {
   "cell_type": "code",
   "execution_count": 63,
   "metadata": {},
   "outputs": [
    {
     "name": "stdout",
     "output_type": "stream",
     "text": [
      "<class 'pandas.core.frame.DataFrame'>\n",
      "Int64Index: 3263 entries, 1 to 11626\n",
      "Data columns (total 16 columns):\n",
      " #   Column    Non-Null Count  Dtype   \n",
      "---  ------    --------------  -----   \n",
      " 0   SEX       3263 non-null   category\n",
      " 1   TOTCHOL   3049 non-null   float64 \n",
      " 2   AGE       3263 non-null   int64   \n",
      " 3   SYSBP     3263 non-null   float64 \n",
      " 4   DIABP     3263 non-null   float64 \n",
      " 5   CURSMOKE  3263 non-null   category\n",
      " 6   CIGPDAY   3249 non-null   float64 \n",
      " 7   BMI       3246 non-null   float64 \n",
      " 8   DIABETES  3263 non-null   category\n",
      " 9   BPMEDS    2817 non-null   float64 \n",
      " 10  HEARTRTE  3259 non-null   float64 \n",
      " 11  GLUCOSE   2701 non-null   float64 \n",
      " 12  educ      3181 non-null   float64 \n",
      " 13  HDLC      3027 non-null   float64 \n",
      " 14  LDLC      3026 non-null   float64 \n",
      " 15  ANYCHD    3263 non-null   category\n",
      "dtypes: category(4), float64(11), int64(1)\n",
      "memory usage: 344.6 KB\n"
     ]
    }
   ],
   "source": [
    "df2.info()"
   ]
  },
  {
   "cell_type": "code",
   "execution_count": 15,
   "metadata": {},
   "outputs": [
    {
     "data": {
      "text/plain": [
       "SEX           0\n",
       "TOTCHOL     214\n",
       "AGE           0\n",
       "SYSBP         0\n",
       "DIABP         0\n",
       "CURSMOKE      0\n",
       "CIGPDAY      14\n",
       "BMI          17\n",
       "DIABETES      0\n",
       "BPMEDS      446\n",
       "HEARTRTE      4\n",
       "GLUCOSE     562\n",
       "educ         82\n",
       "PREVCHD       0\n",
       "PREVAP        0\n",
       "PREVMI        0\n",
       "PREVSTRK      0\n",
       "PREVHYP       0\n",
       "HDLC        236\n",
       "LDLC        237\n",
       "ANYCHD        0\n",
       "dtype: int64"
      ]
     },
     "execution_count": 15,
     "metadata": {},
     "output_type": "execute_result"
    }
   ],
   "source": [
    "df2.isnull().sum()"
   ]
  },
  {
   "cell_type": "code",
   "execution_count": 16,
   "metadata": {},
   "outputs": [],
   "source": [
    "#!pip install missingno\n",
    "import missingno as msno"
   ]
  },
  {
   "cell_type": "code",
   "execution_count": 67,
   "metadata": {},
   "outputs": [
    {
     "data": {
      "text/plain": [
       "<AxesSubplot:>"
      ]
     },
     "execution_count": 67,
     "metadata": {},
     "output_type": "execute_result"
    },
    {
     "data": {
      "image/png": "[encoded data removed]",
      "text/plain": [
       "<Figure size 1800x720 with 2 Axes>"
      ]
     },
     "metadata": {},
     "output_type": "display_data"
    }
   ],
   "source": [
    "msno.matrix(df2)"
   ]
  },
  {
   "cell_type": "code",
   "execution_count": 65,
   "metadata": {},
   "outputs": [
    {
     "data": {
      "text/plain": [
       "<AxesSubplot:>"
      ]
     },
     "execution_count": 65,
     "metadata": {},
     "output_type": "execute_result"
    },
    {
     "data": {
      "image/png": "[encoded data removed]",
      "text/plain": [
       "<Figure size 1440x864 with 2 Axes>"
      ]
     },
     "metadata": {},
     "output_type": "display_data"
    }
   ],
   "source": [
    "msno.heatmap(df2)"
   ]
  },
  {
   "cell_type": "code",
   "execution_count": 66,
   "metadata": {},
   "outputs": [],
   "source": [
    "df2.to_csv(\"working_data.csv\")"
   ]
  },
  {
   "cell_type": "markdown",
   "metadata": {},
   "source": [
    "# TabNet w/o preprocessing"
   ]
  },
  {
   "cell_type": "code",
   "execution_count": 9,
   "metadata": {},
   "outputs": [],
   "source": [
    "feat = df2.drop('ANYCHD', axis = 1)"
   ]
  },
  {
   "cell_type": "code",
   "execution_count": 10,
   "metadata": {},
   "outputs": [],
   "source": [
    "# separate our target and features variables\n",
    "target = np.array(df2['ANYCHD'])\n",
    "# Remove the target from the features\n",
    "# axis 1 refers to the columns\n",
    "features= df2.drop('ANYCHD', axis = 1)\n",
    "# Saving feature names for later use\n",
    "feature_list = list(features.columns)\n",
    "# Convert to numpy array\n",
    "features = np.array(features)"
   ]
  },
  {
   "cell_type": "code",
   "execution_count": 11,
   "metadata": {},
   "outputs": [
    {
     "name": "stdout",
     "output_type": "stream",
     "text": [
      "Missing: 1812\n",
      "Missing: 0\n"
     ]
    }
   ],
   "source": [
    "from numpy import isnan\n",
    "from sklearn.impute import KNNImputer\n",
    "# print total missing\n",
    "print('Missing: %d' % sum(isnan(features).flatten()))\n",
    "# define imputer\n",
    "imputer = KNNImputer(missing_values=np.nan)\n",
    "# fit on the dataset\n",
    "imputer.fit(features)\n",
    "# transform the dataset\n",
    "features_trans = imputer.transform(features)\n",
    "# print total missing\n",
    "print('Missing: %d' % sum(isnan(features_trans).flatten()))"
   ]
  },
  {
   "cell_type": "code",
   "execution_count": 12,
   "metadata": {},
   "outputs": [],
   "source": [
    "from sklearn.model_selection import train_test_split\n",
    "x_train, x_val, y_train, y_val = train_test_split(features_trans, target, test_size=0.30, random_state=8)"
   ]
  },
  {
   "cell_type": "code",
   "execution_count": 13,
   "metadata": {},
   "outputs": [],
   "source": [
    "x_val, x_test, y_val, y_test = train_test_split(x_val, y_val, test_size=0.50, random_state=8)"
   ]
  },
  {
   "cell_type": "code",
   "execution_count": 16,
   "metadata": {},
   "outputs": [],
   "source": [
    "import pytorch_tabnet\n",
    "from pytorch_tabnet.tab_model import TabNetClassifier\n",
    "\n",
    "import torch\n",
    "from sklearn.preprocessing import LabelEncoder\n",
    "from sklearn.metrics import roc_auc_score, accuracy_score, balanced_accuracy_score\n",
    "from sklearn.model_selection import KFold\n",
    "\n",
    "np.random.seed(8)"
   ]
  },
  {
   "cell_type": "code",
   "execution_count": 59,
   "metadata": {},
   "outputs": [
    {
     "name": "stdout",
     "output_type": "stream",
     "text": [
      "Device used : cpu\n"
     ]
    }
   ],
   "source": [
    "clf1_nopreproc = TabNetClassifier(optimizer_fn=torch.optim.Adam,\n",
    "                       optimizer_params=dict(lr=2e-2),\n",
    "                       n_d = 64, # range 8 - 64 , default = 8\n",
    "                       n_a = 64, # range 8 - 64 , default = 8         \n",
    "                       n_steps = 5,\n",
    "                       scheduler_params={\"step_size\":10, # how to use learning rate scheduler\n",
    "                                         \"gamma\":0.5},\n",
    "                       scheduler_fn=torch.optim.lr_scheduler.StepLR,\n",
    "                       mask_type='entmax' # \"sparsemax\"\n",
    "                      )"
   ]
  },
  {
   "cell_type": "code",
   "execution_count": 60,
   "metadata": {},
   "outputs": [
    {
     "name": "stdout",
     "output_type": "stream",
     "text": [
      "epoch 0  | loss: 1.08846 | train_accuracy: 0.56436 | train_balanced_accuracy: 0.53594 | valid_accuracy: 0.52965 | valid_balanced_accuracy: 0.48785 |  0:00:06s\n",
      "epoch 1  | loss: 0.91604 | train_accuracy: 0.33932 | train_balanced_accuracy: 0.48627 | valid_accuracy: 0.32515 | valid_balanced_accuracy: 0.49957 |  0:00:10s\n",
      "epoch 2  | loss: 0.74871 | train_accuracy: 0.61384 | train_balanced_accuracy: 0.53522 | valid_accuracy: 0.64826 | valid_balanced_accuracy: 0.58046 |  0:00:16s\n",
      "epoch 3  | loss: 0.70177 | train_accuracy: 0.56743 | train_balanced_accuracy: 0.5353  | valid_accuracy: 0.60736 | valid_balanced_accuracy: 0.58218 |  0:00:21s\n",
      "epoch 4  | loss: 0.6379  | train_accuracy: 0.49606 | train_balanced_accuracy: 0.52773 | valid_accuracy: 0.50307 | valid_balanced_accuracy: 0.54906 |  0:00:26s\n",
      "epoch 5  | loss: 0.64504 | train_accuracy: 0.29729 | train_balanced_accuracy: 0.50233 | valid_accuracy: 0.24131 | valid_balanced_accuracy: 0.47658 |  0:00:31s\n",
      "epoch 6  | loss: 0.64879 | train_accuracy: 0.29685 | train_balanced_accuracy: 0.4939  | valid_accuracy: 0.27812 | valid_balanced_accuracy: 0.50673 |  0:00:36s\n",
      "epoch 7  | loss: 0.60793 | train_accuracy: 0.32793 | train_balanced_accuracy: 0.49485 | valid_accuracy: 0.29448 | valid_balanced_accuracy: 0.47654 |  0:00:41s\n",
      "epoch 8  | loss: 0.61055 | train_accuracy: 0.59063 | train_balanced_accuracy: 0.49999 | valid_accuracy: 0.57669 | valid_balanced_accuracy: 0.49325 |  0:00:47s\n",
      "epoch 9  | loss: 0.61496 | train_accuracy: 0.71322 | train_balanced_accuracy: 0.51346 | valid_accuracy: 0.73415 | valid_balanced_accuracy: 0.49809 |  0:00:52s\n",
      "epoch 10 | loss: 0.63062 | train_accuracy: 0.33187 | train_balanced_accuracy: 0.52031 | valid_accuracy: 0.31288 | valid_balanced_accuracy: 0.51986 |  0:00:57s\n",
      "epoch 11 | loss: 0.6029  | train_accuracy: 0.68082 | train_balanced_accuracy: 0.51596 | valid_accuracy: 0.69939 | valid_balanced_accuracy: 0.48496 |  0:01:02s\n",
      "epoch 12 | loss: 0.61164 | train_accuracy: 0.66156 | train_balanced_accuracy: 0.53658 | valid_accuracy: 0.68916 | valid_balanced_accuracy: 0.54737 |  0:01:08s\n",
      "epoch 13 | loss: 0.60746 | train_accuracy: 0.52583 | train_balanced_accuracy: 0.53919 | valid_accuracy: 0.56237 | valid_balanced_accuracy: 0.57811 |  0:01:13s\n",
      "epoch 14 | loss: 0.60081 | train_accuracy: 0.61515 | train_balanced_accuracy: 0.53557 | valid_accuracy: 0.62986 | valid_balanced_accuracy: 0.5497  |  0:01:18s\n",
      "epoch 15 | loss: 0.57673 | train_accuracy: 0.55911 | train_balanced_accuracy: 0.55573 | valid_accuracy: 0.56851 | valid_balanced_accuracy: 0.57267 |  0:01:23s\n",
      "epoch 16 | loss: 0.57431 | train_accuracy: 0.62697 | train_balanced_accuracy: 0.55551 | valid_accuracy: 0.62372 | valid_balanced_accuracy: 0.55827 |  0:01:29s\n",
      "epoch 17 | loss: 0.60891 | train_accuracy: 0.52802 | train_balanced_accuracy: 0.59874 | valid_accuracy: 0.50102 | valid_balanced_accuracy: 0.56656 |  0:01:40s\n",
      "epoch 18 | loss: 0.57136 | train_accuracy: 0.54685 | train_balanced_accuracy: 0.58759 | valid_accuracy: 0.54806 | valid_balanced_accuracy: 0.6002  |  0:01:46s\n",
      "epoch 19 | loss: 0.58563 | train_accuracy: 0.55342 | train_balanced_accuracy: 0.60778 | valid_accuracy: 0.54192 | valid_balanced_accuracy: 0.60878 |  0:01:51s\n",
      "epoch 20 | loss: 0.5642  | train_accuracy: 0.52452 | train_balanced_accuracy: 0.60831 | valid_accuracy: 0.50307 | valid_balanced_accuracy: 0.60554 |  0:01:57s\n",
      "epoch 21 | loss: 0.551   | train_accuracy: 0.57137 | train_balanced_accuracy: 0.61612 | valid_accuracy: 0.52352 | valid_balanced_accuracy: 0.58743 |  0:02:11s\n",
      "epoch 22 | loss: 0.54891 | train_accuracy: 0.5683  | train_balanced_accuracy: 0.62979 | valid_accuracy: 0.5317  | valid_balanced_accuracy: 0.58646 |  0:02:19s\n",
      "epoch 23 | loss: 0.54559 | train_accuracy: 0.581   | train_balanced_accuracy: 0.62969 | valid_accuracy: 0.55215 | valid_balanced_accuracy: 0.59344 |  0:02:25s\n",
      "epoch 24 | loss: 0.56486 | train_accuracy: 0.58669 | train_balanced_accuracy: 0.64494 | valid_accuracy: 0.51738 | valid_balanced_accuracy: 0.56148 |  0:02:31s\n",
      "epoch 25 | loss: 0.55503 | train_accuracy: 0.60946 | train_balanced_accuracy: 0.64081 | valid_accuracy: 0.56442 | valid_balanced_accuracy: 0.5763  |  0:02:36s\n",
      "epoch 26 | loss: 0.56587 | train_accuracy: 0.5683  | train_balanced_accuracy: 0.6477  | valid_accuracy: 0.50511 | valid_balanced_accuracy: 0.57863 |  0:02:41s\n",
      "epoch 27 | loss: 0.54838 | train_accuracy: 0.61384 | train_balanced_accuracy: 0.65842 | valid_accuracy: 0.54397 | valid_balanced_accuracy: 0.58186 |  0:02:47s\n",
      "epoch 28 | loss: 0.56315 | train_accuracy: 0.60595 | train_balanced_accuracy: 0.66666 | valid_accuracy: 0.53783 | valid_balanced_accuracy: 0.59043 |  0:02:53s\n",
      "epoch 29 | loss: 0.54898 | train_accuracy: 0.65324 | train_balanced_accuracy: 0.684   | valid_accuracy: 0.56646 | valid_balanced_accuracy: 0.56821 |  0:02:59s\n",
      "epoch 30 | loss: 0.55368 | train_accuracy: 0.63135 | train_balanced_accuracy: 0.68601 | valid_accuracy: 0.54397 | valid_balanced_accuracy: 0.56931 |  0:03:06s\n",
      "epoch 31 | loss: 0.54895 | train_accuracy: 0.67644 | train_balanced_accuracy: 0.69535 | valid_accuracy: 0.6135  | valid_balanced_accuracy: 0.59557 |  0:03:12s\n",
      "epoch 32 | loss: 0.54975 | train_accuracy: 0.63923 | train_balanced_accuracy: 0.70002 | valid_accuracy: 0.53783 | valid_balanced_accuracy: 0.57788 |  0:03:22s\n",
      "epoch 33 | loss: 0.54453 | train_accuracy: 0.69264 | train_balanced_accuracy: 0.70685 | valid_accuracy: 0.61759 | valid_balanced_accuracy: 0.57312 |  0:03:30s\n",
      "epoch 34 | loss: 0.52247 | train_accuracy: 0.66813 | train_balanced_accuracy: 0.70981 | valid_accuracy: 0.57055 | valid_balanced_accuracy: 0.56772 |  0:03:36s\n",
      "epoch 35 | loss: 0.5379  | train_accuracy: 0.67732 | train_balanced_accuracy: 0.71006 | valid_accuracy: 0.58282 | valid_balanced_accuracy: 0.56313 |  0:03:44s\n",
      "epoch 36 | loss: 0.51907 | train_accuracy: 0.69177 | train_balanced_accuracy: 0.72146 | valid_accuracy: 0.58487 | valid_balanced_accuracy: 0.56132 |  0:03:53s\n",
      "epoch 37 | loss: 0.53041 | train_accuracy: 0.69702 | train_balanced_accuracy: 0.72556 | valid_accuracy: 0.60532 | valid_balanced_accuracy: 0.57144 |  0:04:02s\n",
      "epoch 38 | loss: 0.50741 | train_accuracy: 0.69396 | train_balanced_accuracy: 0.73488 | valid_accuracy: 0.57669 | valid_balanced_accuracy: 0.5717  |  0:04:10s\n",
      "epoch 39 | loss: 0.52256 | train_accuracy: 0.71848 | train_balanced_accuracy: 0.73519 | valid_accuracy: 0.63804 | valid_balanced_accuracy: 0.59894 |  0:04:18s\n",
      "epoch 40 | loss: 0.52083 | train_accuracy: 0.71979 | train_balanced_accuracy: 0.74367 | valid_accuracy: 0.62781 | valid_balanced_accuracy: 0.58917 |  0:04:25s\n",
      "epoch 41 | loss: 0.52679 | train_accuracy: 0.6979  | train_balanced_accuracy: 0.74894 | valid_accuracy: 0.56851 | valid_balanced_accuracy: 0.56012 |  0:04:30s\n",
      "epoch 42 | loss: 0.51296 | train_accuracy: 0.72723 | train_balanced_accuracy: 0.74545 | valid_accuracy: 0.62577 | valid_balanced_accuracy: 0.5847  |  0:04:35s\n",
      "epoch 43 | loss: 0.509   | train_accuracy: 0.74299 | train_balanced_accuracy: 0.75394 | valid_accuracy: 0.62781 | valid_balanced_accuracy: 0.58289 |  0:04:40s\n",
      "epoch 44 | loss: 0.53066 | train_accuracy: 0.73511 | train_balanced_accuracy: 0.76598 | valid_accuracy: 0.61963 | valid_balanced_accuracy: 0.59328 |  0:04:45s\n",
      "epoch 45 | loss: 0.52449 | train_accuracy: 0.73205 | train_balanced_accuracy: 0.76336 | valid_accuracy: 0.61759 | valid_balanced_accuracy: 0.59823 |  0:04:51s\n",
      "epoch 46 | loss: 0.49306 | train_accuracy: 0.74694 | train_balanced_accuracy: 0.76475 | valid_accuracy: 0.61963 | valid_balanced_accuracy: 0.58386 |  0:04:56s\n",
      "epoch 47 | loss: 0.5359  | train_accuracy: 0.73555 | train_balanced_accuracy: 0.76356 | valid_accuracy: 0.61759 | valid_balanced_accuracy: 0.60136 |  0:05:02s\n",
      "epoch 48 | loss: 0.50889 | train_accuracy: 0.73074 | train_balanced_accuracy: 0.77007 | valid_accuracy: 0.60327 | valid_balanced_accuracy: 0.5858  |  0:05:07s\n",
      "epoch 49 | loss: 0.5249  | train_accuracy: 0.75394 | train_balanced_accuracy: 0.76623 | valid_accuracy: 0.62986 | valid_balanced_accuracy: 0.58736 |  0:05:13s\n",
      "epoch 50 | loss: 0.5074  | train_accuracy: 0.76095 | train_balanced_accuracy: 0.76717 | valid_accuracy: 0.62577 | valid_balanced_accuracy: 0.58156 |  0:05:18s\n",
      "epoch 51 | loss: 0.49822 | train_accuracy: 0.75044 | train_balanced_accuracy: 0.77635 | valid_accuracy: 0.61145 | valid_balanced_accuracy: 0.58483 |  0:05:23s\n",
      "epoch 52 | loss: 0.49313 | train_accuracy: 0.73905 | train_balanced_accuracy: 0.77679 | valid_accuracy: 0.59918 | valid_balanced_accuracy: 0.58629 |  0:05:28s\n",
      "epoch 53 | loss: 0.50947 | train_accuracy: 0.74869 | train_balanced_accuracy: 0.77679 | valid_accuracy: 0.60532 | valid_balanced_accuracy: 0.58399 |  0:05:34s\n",
      "epoch 54 | loss: 0.51134 | train_accuracy: 0.77364 | train_balanced_accuracy: 0.7877  | valid_accuracy: 0.63804 | valid_balanced_accuracy: 0.60521 |  0:05:39s\n",
      "epoch 55 | loss: 0.4985  | train_accuracy: 0.77145 | train_balanced_accuracy: 0.78297 | valid_accuracy: 0.63599 | valid_balanced_accuracy: 0.59133 |  0:05:44s\n",
      "epoch 56 | loss: 0.48534 | train_accuracy: 0.76226 | train_balanced_accuracy: 0.78217 | valid_accuracy: 0.63395 | valid_balanced_accuracy: 0.59628 |  0:05:51s\n",
      "epoch 57 | loss: 0.48638 | train_accuracy: 0.75832 | train_balanced_accuracy: 0.78114 | valid_accuracy: 0.61145 | valid_balanced_accuracy: 0.57856 |  0:05:57s\n",
      "epoch 58 | loss: 0.48355 | train_accuracy: 0.76532 | train_balanced_accuracy: 0.78099 | valid_accuracy: 0.61963 | valid_balanced_accuracy: 0.58072 |  0:06:02s\n",
      "epoch 59 | loss: 0.48652 | train_accuracy: 0.7697  | train_balanced_accuracy: 0.78232 | valid_accuracy: 0.61554 | valid_balanced_accuracy: 0.57493 |  0:06:08s\n",
      "epoch 60 | loss: 0.47909 | train_accuracy: 0.76751 | train_balanced_accuracy: 0.78519 | valid_accuracy: 0.61759 | valid_balanced_accuracy: 0.58881 |  0:06:13s\n",
      "epoch 61 | loss: 0.47995 | train_accuracy: 0.76051 | train_balanced_accuracy: 0.7837  | valid_accuracy: 0.61963 | valid_balanced_accuracy: 0.59014 |  0:06:19s\n",
      "epoch 62 | loss: 0.46731 | train_accuracy: 0.75832 | train_balanced_accuracy: 0.78276 | valid_accuracy: 0.62372 | valid_balanced_accuracy: 0.59593 |  0:06:25s\n",
      "epoch 63 | loss: 0.48959 | train_accuracy: 0.76489 | train_balanced_accuracy: 0.78015 | valid_accuracy: 0.62372 | valid_balanced_accuracy: 0.58651 |  0:06:32s\n",
      "epoch 64 | loss: 0.49743 | train_accuracy: 0.77277 | train_balanced_accuracy: 0.78494 | valid_accuracy: 0.62781 | valid_balanced_accuracy: 0.58917 |  0:06:39s\n",
      "epoch 65 | loss: 0.46981 | train_accuracy: 0.77145 | train_balanced_accuracy: 0.78351 | valid_accuracy: 0.6319  | valid_balanced_accuracy: 0.59182 |  0:06:45s\n",
      "epoch 66 | loss: 0.48885 | train_accuracy: 0.77408 | train_balanced_accuracy: 0.7842  | valid_accuracy: 0.6319  | valid_balanced_accuracy: 0.58868 |  0:06:53s\n",
      "epoch 67 | loss: 0.49261 | train_accuracy: 0.76926 | train_balanced_accuracy: 0.78474 | valid_accuracy: 0.62986 | valid_balanced_accuracy: 0.59991 |  0:06:58s\n",
      "epoch 68 | loss: 0.4926  | train_accuracy: 0.76883 | train_balanced_accuracy: 0.78445 | valid_accuracy: 0.62986 | valid_balanced_accuracy: 0.59991 |  0:07:05s\n",
      "epoch 69 | loss: 0.47607 | train_accuracy: 0.77014 | train_balanced_accuracy: 0.78642 | valid_accuracy: 0.62577 | valid_balanced_accuracy: 0.59098 |  0:07:10s\n",
      "\n",
      "Early stopping occurred at epoch 69 with best_epoch = 19 and best_valid_balanced_accuracy = 0.60878\n",
      "Best weights from best epoch are automatically used!\n"
     ]
    }
   ],
   "source": [
    "clf1_nopreproc.fit(\n",
    "    x_train,y_train,\n",
    "    eval_set=[(x_train, y_train), (x_val, y_val)],\n",
    "    eval_name=['train', 'valid'],\n",
    "    eval_metric=['accuracy', 'balanced_accuracy'],\n",
    "    max_epochs=1000 , patience=50,\n",
    "    batch_size=256, virtual_batch_size=128,\n",
    "    num_workers=0,\n",
    "    weights=1,\n",
    "    drop_last=False\n",
    ")"
   ]
  },
  {
   "cell_type": "code",
   "execution_count": 53,
   "metadata": {},
   "outputs": [
    {
     "data": {
      "text/plain": [
       "[<matplotlib.lines.Line2D at 0x1df511df1c0>]"
      ]
     },
     "execution_count": 53,
     "metadata": {},
     "output_type": "execute_result"
    },
    {
     "data": {
      "image/png": "[encoded data removed]",
      "text/plain": [
       "<Figure size 432x288 with 1 Axes>"
      ]
     },
     "metadata": {},
     "output_type": "display_data"
    }
   ],
   "source": [
    "# plot losses\n",
    "plt.plot(clf1_nopreproc.history['loss'])"
   ]
  },
  {
   "cell_type": "code",
   "execution_count": 54,
   "metadata": {},
   "outputs": [
    {
     "data": {
      "text/plain": [
       "[<matplotlib.lines.Line2D at 0x1df5122c040>]"
      ]
     },
     "execution_count": 54,
     "metadata": {},
     "output_type": "execute_result"
    },
    {
     "data": {
      "image/png": "[encoded data removed]",
      "text/plain": [
       "<Figure size 432x288 with 1 Axes>"
      ]
     },
     "metadata": {},
     "output_type": "display_data"
    }
   ],
   "source": [
    "# plot auc\n",
    "plt.plot(clf1_nopreproc.history['train_accuracy'])\n",
    "plt.plot(clf1_nopreproc.history['valid_accuracy'])"
   ]
  },
  {
   "cell_type": "code",
   "execution_count": 55,
   "metadata": {},
   "outputs": [
    {
     "data": {
      "text/plain": [
       "[<matplotlib.lines.Line2D at 0x1df5126fd00>]"
      ]
     },
     "execution_count": 55,
     "metadata": {},
     "output_type": "execute_result"
    },
    {
     "data": {
      "image/png": "[encoded data removed]",
      "text/plain": [
       "<Figure size 432x288 with 1 Axes>"
      ]
     },
     "metadata": {},
     "output_type": "display_data"
    }
   ],
   "source": [
    "# plot auc\n",
    "plt.plot(clf1_nopreproc.history['train_balanced_accuracy'])\n",
    "plt.plot(clf1_nopreproc.history['valid_balanced_accuracy'])"
   ]
  },
  {
   "cell_type": "code",
   "execution_count": 56,
   "metadata": {},
   "outputs": [
    {
     "data": {
      "text/plain": [
       "[<matplotlib.lines.Line2D at 0x1df512c08b0>]"
      ]
     },
     "execution_count": 56,
     "metadata": {},
     "output_type": "execute_result"
    },
    {
     "data": {
      "image/png": "[encoded data removed]",
      "text/plain": [
       "<Figure size 432x288 with 1 Axes>"
      ]
     },
     "metadata": {},
     "output_type": "display_data"
    }
   ],
   "source": [
    "# plot learning rates\n",
    "plt.plot(clf1_nopreproc.history['lr'])"
   ]
  },
  {
   "cell_type": "code",
   "execution_count": 57,
   "metadata": {},
   "outputs": [
    {
     "name": "stdout",
     "output_type": "stream",
     "text": [
      "BEST ACCURACY SCORE ON VALIDATION SET : 0.5980573543015726\n",
      "BEST ACCURACY SCORE ON TEST SET : 0.5823621290400096\n"
     ]
    }
   ],
   "source": [
    "preds = clf1_nopreproc.predict(x_test)\n",
    "test_acc = balanced_accuracy_score(preds, y_test)\n",
    "\n",
    "\n",
    "preds_valid = clf1_nopreproc.predict(x_val)\n",
    "valid_acc = balanced_accuracy_score(preds_valid, y_val)\n",
    "\n",
    "print(f\"BEST ACCURACY SCORE ON VALIDATION SET : {valid_acc}\")\n",
    "print(f\"BEST ACCURACY SCORE ON TEST SET : {test_acc}\")"
   ]
  },
  {
   "cell_type": "code",
   "execution_count": 79,
   "metadata": {},
   "outputs": [],
   "source": [
    "y_pred = clf1_nopreproc.predict(x_test)"
   ]
  },
  {
   "cell_type": "code",
   "execution_count": 80,
   "metadata": {},
   "outputs": [
    {
     "data": {
      "text/plain": [
       "array([0.10864174, 0.04320266, 0.10211497, 0.07570761, 0.09440351,\n",
       "       0.04869145, 0.07230765, 0.04423008, 0.07430695, 0.0334813 ,\n",
       "       0.05884564, 0.02934042, 0.03852777, 0.09924656, 0.0769517 ])"
      ]
     },
     "execution_count": 80,
     "metadata": {},
     "output_type": "execute_result"
    }
   ],
   "source": [
    "clf1_nopreproc.feature_importances_"
   ]
  },
  {
   "cell_type": "code",
   "execution_count": 81,
   "metadata": {},
   "outputs": [
    {
     "data": {
      "text/plain": [
       "<AxesSubplot:>"
      ]
     },
     "execution_count": 81,
     "metadata": {},
     "output_type": "execute_result"
    },
    {
     "data": {
      "image/png": "[encoded data removed]",
      "text/plain": [
       "<Figure size 432x288 with 1 Axes>"
      ]
     },
     "metadata": {},
     "output_type": "display_data"
    }
   ],
   "source": [
    "feat_importances = pd.Series(clf1_nopreproc.feature_importances_, index=feat.columns)\n",
    "feat_importances.nlargest(20).plot(kind='barh')"
   ]
  },
  {
   "cell_type": "code",
   "execution_count": 82,
   "metadata": {},
   "outputs": [],
   "source": [
    "explain_matrix, masks = clf1_nopreproc.explain(x_test)"
   ]
  },
  {
   "cell_type": "code",
   "execution_count": 83,
   "metadata": {},
   "outputs": [
    {
     "data": {
      "image/png": "[encoded data removed]",
      "text/plain": [
       "<Figure size 1440x1440 with 3 Axes>"
      ]
     },
     "metadata": {},
     "output_type": "display_data"
    }
   ],
   "source": [
    "fig, axs = plt.subplots(1, 3, figsize=(20,20))\n",
    "\n",
    "for i in range(3):\n",
    "    axs[i].imshow(masks[i][:50])\n",
    "    axs[i].set_title(f\"mask {i}\")"
   ]
  },
  {
   "cell_type": "markdown",
   "metadata": {},
   "source": [
    "# Unsupervised "
   ]
  },
  {
   "cell_type": "code",
   "execution_count": 85,
   "metadata": {},
   "outputs": [],
   "source": [
    "from pytorch_tabnet.pretraining import TabNetPretrainer"
   ]
  },
  {
   "cell_type": "code",
   "execution_count": 87,
   "metadata": {},
   "outputs": [
    {
     "name": "stdout",
     "output_type": "stream",
     "text": [
      "Device used : cpu\n"
     ]
    }
   ],
   "source": [
    "# TabNetPretrainer\n",
    "unsupervised_model_no_preproc = TabNetPretrainer(\n",
    "    optimizer_fn=torch.optim.Adam,\n",
    "    optimizer_params=dict(lr=2e-2),\n",
    "    mask_type='entmax', # \"sparsemax\",\n",
    "    )"
   ]
  },
  {
   "cell_type": "code",
   "execution_count": 88,
   "metadata": {},
   "outputs": [
    {
     "name": "stdout",
     "output_type": "stream",
     "text": [
      "epoch 0  | loss: 23.27435| val_0_unsup_loss: 151.22362|  0:00:00s\n",
      "epoch 1  | loss: 20.29935| val_0_unsup_loss: 33.85955|  0:00:01s\n",
      "epoch 2  | loss: 19.41276| val_0_unsup_loss: 23.74484|  0:00:02s\n",
      "epoch 3  | loss: 17.74955| val_0_unsup_loss: 16.59229|  0:00:03s\n",
      "epoch 4  | loss: 14.71082| val_0_unsup_loss: 13.7693 |  0:00:04s\n",
      "epoch 5  | loss: 10.61084| val_0_unsup_loss: 12.52599|  0:00:04s\n",
      "epoch 6  | loss: 7.10216 | val_0_unsup_loss: 9.03843 |  0:00:06s\n",
      "epoch 7  | loss: 4.95334 | val_0_unsup_loss: 6.0489  |  0:00:07s\n",
      "epoch 8  | loss: 3.59172 | val_0_unsup_loss: 5.01185 |  0:00:08s\n",
      "epoch 9  | loss: 2.86268 | val_0_unsup_loss: 3.64372 |  0:00:08s\n",
      "epoch 10 | loss: 2.33289 | val_0_unsup_loss: 3.39957 |  0:00:09s\n",
      "epoch 11 | loss: 1.97783 | val_0_unsup_loss: 3.08665 |  0:00:10s\n",
      "epoch 12 | loss: 1.7983  | val_0_unsup_loss: 2.84648 |  0:00:11s\n",
      "epoch 13 | loss: 1.60027 | val_0_unsup_loss: 3.05919 |  0:00:11s\n",
      "epoch 14 | loss: 1.45861 | val_0_unsup_loss: 2.5633  |  0:00:12s\n",
      "epoch 15 | loss: 1.35965 | val_0_unsup_loss: 2.29163 |  0:00:13s\n",
      "epoch 16 | loss: 1.29367 | val_0_unsup_loss: 1.82708 |  0:00:14s\n",
      "epoch 17 | loss: 1.23122 | val_0_unsup_loss: 2.10791 |  0:00:15s\n",
      "epoch 18 | loss: 1.1922  | val_0_unsup_loss: 2.23068 |  0:00:16s\n",
      "epoch 19 | loss: 1.161   | val_0_unsup_loss: 2.18864 |  0:00:16s\n",
      "epoch 20 | loss: 1.1299  | val_0_unsup_loss: 2.11845 |  0:00:17s\n",
      "epoch 21 | loss: 1.13348 | val_0_unsup_loss: 2.12362 |  0:00:18s\n",
      "epoch 22 | loss: 1.11366 | val_0_unsup_loss: 1.80796 |  0:00:19s\n",
      "epoch 23 | loss: 1.06874 | val_0_unsup_loss: 1.75486 |  0:00:20s\n",
      "epoch 24 | loss: 1.07965 | val_0_unsup_loss: 1.67374 |  0:00:20s\n",
      "epoch 25 | loss: 1.08229 | val_0_unsup_loss: 1.66246 |  0:00:22s\n",
      "epoch 26 | loss: 1.06744 | val_0_unsup_loss: 1.36131 |  0:00:23s\n",
      "epoch 27 | loss: 1.06455 | val_0_unsup_loss: 1.3774  |  0:00:24s\n",
      "epoch 28 | loss: 1.07807 | val_0_unsup_loss: 1.40239 |  0:00:24s\n",
      "epoch 29 | loss: 1.05926 | val_0_unsup_loss: 1.2572  |  0:00:25s\n",
      "epoch 30 | loss: 1.05413 | val_0_unsup_loss: 1.27835 |  0:00:26s\n",
      "epoch 31 | loss: 1.05804 | val_0_unsup_loss: 1.39423 |  0:00:27s\n",
      "epoch 32 | loss: 1.06846 | val_0_unsup_loss: 1.50451 |  0:00:29s\n",
      "epoch 33 | loss: 1.0595  | val_0_unsup_loss: 1.5365  |  0:00:30s\n",
      "epoch 34 | loss: 1.04781 | val_0_unsup_loss: 1.50374 |  0:00:31s\n",
      "epoch 35 | loss: 1.04664 | val_0_unsup_loss: 1.739   |  0:00:33s\n",
      "epoch 36 | loss: 1.07838 | val_0_unsup_loss: 1.37632 |  0:00:34s\n",
      "epoch 37 | loss: 1.044   | val_0_unsup_loss: 1.43283 |  0:00:35s\n",
      "epoch 38 | loss: 1.04637 | val_0_unsup_loss: 1.36237 |  0:00:36s\n",
      "epoch 39 | loss: 1.01899 | val_0_unsup_loss: 1.31663 |  0:00:37s\n",
      "epoch 40 | loss: 1.0304  | val_0_unsup_loss: 1.33258 |  0:00:38s\n",
      "epoch 41 | loss: 1.04342 | val_0_unsup_loss: 1.27493 |  0:00:39s\n",
      "epoch 42 | loss: 1.03612 | val_0_unsup_loss: 1.33341 |  0:00:40s\n",
      "epoch 43 | loss: 1.02593 | val_0_unsup_loss: 1.31532 |  0:00:41s\n",
      "epoch 44 | loss: 1.02509 | val_0_unsup_loss: 1.31991 |  0:00:42s\n",
      "epoch 45 | loss: 1.04477 | val_0_unsup_loss: 1.31484 |  0:00:43s\n",
      "epoch 46 | loss: 1.04697 | val_0_unsup_loss: 1.21817 |  0:00:45s\n",
      "epoch 47 | loss: 1.0308  | val_0_unsup_loss: 1.17527 |  0:00:45s\n",
      "epoch 48 | loss: 1.03589 | val_0_unsup_loss: 1.17636 |  0:00:47s\n",
      "epoch 49 | loss: 1.04527 | val_0_unsup_loss: 1.14494 |  0:00:48s\n",
      "epoch 50 | loss: 1.03921 | val_0_unsup_loss: 1.11109 |  0:00:49s\n",
      "epoch 51 | loss: 1.02332 | val_0_unsup_loss: 1.14943 |  0:00:50s\n",
      "epoch 52 | loss: 1.02942 | val_0_unsup_loss: 1.15388 |  0:00:51s\n",
      "epoch 53 | loss: 1.01944 | val_0_unsup_loss: 1.1038  |  0:00:51s\n",
      "epoch 54 | loss: 1.04711 | val_0_unsup_loss: 1.17073 |  0:00:52s\n",
      "epoch 55 | loss: 1.0422  | val_0_unsup_loss: 1.09178 |  0:00:53s\n",
      "epoch 56 | loss: 1.04261 | val_0_unsup_loss: 1.10908 |  0:00:54s\n",
      "epoch 57 | loss: 1.04153 | val_0_unsup_loss: 1.15797 |  0:00:55s\n",
      "epoch 58 | loss: 1.02685 | val_0_unsup_loss: 1.09344 |  0:00:55s\n",
      "epoch 59 | loss: 1.0301  | val_0_unsup_loss: 1.04875 |  0:00:56s\n",
      "epoch 60 | loss: 1.01352 | val_0_unsup_loss: 1.04661 |  0:00:57s\n",
      "epoch 61 | loss: 1.0149  | val_0_unsup_loss: 1.08108 |  0:00:58s\n",
      "epoch 62 | loss: 1.02594 | val_0_unsup_loss: 1.07837 |  0:00:59s\n",
      "epoch 63 | loss: 1.01476 | val_0_unsup_loss: 1.17708 |  0:01:00s\n",
      "epoch 64 | loss: 1.05521 | val_0_unsup_loss: 1.10662 |  0:01:01s\n",
      "epoch 65 | loss: 1.01693 | val_0_unsup_loss: 1.15236 |  0:01:02s\n",
      "epoch 66 | loss: 1.00774 | val_0_unsup_loss: 1.15076 |  0:01:03s\n",
      "epoch 67 | loss: 1.02273 | val_0_unsup_loss: 1.14355 |  0:01:03s\n",
      "epoch 68 | loss: 1.0297  | val_0_unsup_loss: 1.1876  |  0:01:04s\n",
      "epoch 69 | loss: 1.02767 | val_0_unsup_loss: 1.12289 |  0:01:05s\n",
      "epoch 70 | loss: 1.013   | val_0_unsup_loss: 1.08368 |  0:01:07s\n",
      "epoch 71 | loss: 0.99848 | val_0_unsup_loss: 1.13525 |  0:01:08s\n",
      "epoch 72 | loss: 1.00607 | val_0_unsup_loss: 1.12544 |  0:01:09s\n",
      "epoch 73 | loss: 1.03173 | val_0_unsup_loss: 1.14823 |  0:01:10s\n",
      "epoch 74 | loss: 1.0523  | val_0_unsup_loss: 1.14405 |  0:01:11s\n",
      "epoch 75 | loss: 1.00648 | val_0_unsup_loss: 1.18124 |  0:01:12s\n",
      "epoch 76 | loss: 1.02883 | val_0_unsup_loss: 1.2765  |  0:01:13s\n",
      "epoch 77 | loss: 1.01382 | val_0_unsup_loss: 1.19621 |  0:01:14s\n",
      "epoch 78 | loss: 1.01975 | val_0_unsup_loss: 1.19183 |  0:01:16s\n",
      "epoch 79 | loss: 1.02905 | val_0_unsup_loss: 1.16254 |  0:01:18s\n",
      "epoch 80 | loss: 1.01993 | val_0_unsup_loss: 1.12574 |  0:01:19s\n",
      "epoch 81 | loss: 1.01127 | val_0_unsup_loss: 1.12991 |  0:01:21s\n",
      "epoch 82 | loss: 1.01812 | val_0_unsup_loss: 1.09368 |  0:01:21s\n",
      "epoch 83 | loss: 1.02717 | val_0_unsup_loss: 1.10341 |  0:01:22s\n",
      "epoch 84 | loss: 1.02882 | val_0_unsup_loss: 1.09525 |  0:01:23s\n",
      "epoch 85 | loss: 1.03041 | val_0_unsup_loss: 1.05276 |  0:01:24s\n",
      "epoch 86 | loss: 1.01914 | val_0_unsup_loss: 1.09111 |  0:01:25s\n",
      "epoch 87 | loss: 1.00571 | val_0_unsup_loss: 1.05884 |  0:01:26s\n",
      "epoch 88 | loss: 0.98692 | val_0_unsup_loss: 1.01121 |  0:01:27s\n",
      "epoch 89 | loss: 1.01974 | val_0_unsup_loss: 1.04519 |  0:01:28s\n",
      "epoch 90 | loss: 1.01132 | val_0_unsup_loss: 1.04299 |  0:01:29s\n",
      "epoch 91 | loss: 1.02058 | val_0_unsup_loss: 1.06592 |  0:01:30s\n",
      "epoch 92 | loss: 1.01704 | val_0_unsup_loss: 1.18692 |  0:01:31s\n",
      "epoch 93 | loss: 1.02156 | val_0_unsup_loss: 1.15996 |  0:01:32s\n",
      "epoch 94 | loss: 1.01663 | val_0_unsup_loss: 1.13941 |  0:01:34s\n",
      "epoch 95 | loss: 1.02442 | val_0_unsup_loss: 1.28058 |  0:01:35s\n",
      "epoch 96 | loss: 1.02925 | val_0_unsup_loss: 1.16326 |  0:01:36s\n",
      "epoch 97 | loss: 1.0311  | val_0_unsup_loss: 1.16771 |  0:01:37s\n",
      "epoch 98 | loss: 1.00465 | val_0_unsup_loss: 1.16945 |  0:01:38s\n",
      "epoch 99 | loss: 1.00171 | val_0_unsup_loss: 1.17022 |  0:01:39s\n",
      "epoch 100| loss: 1.01613 | val_0_unsup_loss: 1.18087 |  0:01:40s\n",
      "epoch 101| loss: 1.01288 | val_0_unsup_loss: 1.1149  |  0:01:41s\n",
      "epoch 102| loss: 1.01047 | val_0_unsup_loss: 1.12461 |  0:01:42s\n",
      "epoch 103| loss: 0.99699 | val_0_unsup_loss: 1.08096 |  0:01:44s\n",
      "epoch 104| loss: 1.0016  | val_0_unsup_loss: 1.1558  |  0:01:45s\n",
      "epoch 105| loss: 0.99771 | val_0_unsup_loss: 1.17712 |  0:01:46s\n",
      "epoch 106| loss: 1.0097  | val_0_unsup_loss: 1.27014 |  0:01:47s\n",
      "epoch 107| loss: 1.01991 | val_0_unsup_loss: 1.06934 |  0:01:48s\n",
      "epoch 108| loss: 1.0105  | val_0_unsup_loss: 1.06159 |  0:01:49s\n",
      "epoch 109| loss: 1.00468 | val_0_unsup_loss: 0.996   |  0:01:51s\n",
      "epoch 110| loss: 1.01439 | val_0_unsup_loss: 1.02005 |  0:01:51s\n",
      "epoch 111| loss: 0.99198 | val_0_unsup_loss: 1.02824 |  0:01:52s\n",
      "epoch 112| loss: 1.00595 | val_0_unsup_loss: 1.1114  |  0:01:54s\n",
      "epoch 113| loss: 1.00243 | val_0_unsup_loss: 1.10071 |  0:01:55s\n",
      "epoch 114| loss: 0.98763 | val_0_unsup_loss: 1.09764 |  0:01:56s\n",
      "epoch 115| loss: 1.02123 | val_0_unsup_loss: 1.10835 |  0:01:57s\n",
      "epoch 116| loss: 1.01693 | val_0_unsup_loss: 1.11626 |  0:01:58s\n",
      "epoch 117| loss: 1.01866 | val_0_unsup_loss: 1.03347 |  0:01:59s\n",
      "epoch 118| loss: 1.00911 | val_0_unsup_loss: 1.04353 |  0:02:00s\n",
      "epoch 119| loss: 1.01964 | val_0_unsup_loss: 0.99469 |  0:02:00s\n",
      "epoch 120| loss: 1.01053 | val_0_unsup_loss: 0.98814 |  0:02:01s\n",
      "epoch 121| loss: 1.01267 | val_0_unsup_loss: 0.96521 |  0:02:02s\n",
      "epoch 122| loss: 1.01352 | val_0_unsup_loss: 0.96214 |  0:02:03s\n",
      "epoch 123| loss: 1.00262 | val_0_unsup_loss: 1.01546 |  0:02:04s\n",
      "epoch 124| loss: 1.02724 | val_0_unsup_loss: 0.98571 |  0:02:05s\n",
      "epoch 125| loss: 1.01295 | val_0_unsup_loss: 1.0646  |  0:02:06s\n",
      "epoch 126| loss: 1.0449  | val_0_unsup_loss: 0.9869  |  0:02:07s\n",
      "epoch 127| loss: 1.00023 | val_0_unsup_loss: 0.97606 |  0:02:08s\n",
      "epoch 128| loss: 1.01122 | val_0_unsup_loss: 0.99033 |  0:02:09s\n",
      "epoch 129| loss: 1.00851 | val_0_unsup_loss: 1.02917 |  0:02:10s\n",
      "epoch 130| loss: 0.9935  | val_0_unsup_loss: 0.98745 |  0:02:11s\n",
      "epoch 131| loss: 1.0035  | val_0_unsup_loss: 1.02154 |  0:02:12s\n",
      "epoch 132| loss: 1.03304 | val_0_unsup_loss: 1.00099 |  0:02:13s\n",
      "epoch 133| loss: 1.00228 | val_0_unsup_loss: 0.98876 |  0:02:14s\n",
      "epoch 134| loss: 1.00618 | val_0_unsup_loss: 0.99693 |  0:02:14s\n",
      "epoch 135| loss: 1.00558 | val_0_unsup_loss: 1.01577 |  0:02:15s\n",
      "epoch 136| loss: 1.00994 | val_0_unsup_loss: 1.03767 |  0:02:16s\n",
      "epoch 137| loss: 1.01401 | val_0_unsup_loss: 0.98304 |  0:02:17s\n",
      "epoch 138| loss: 1.00502 | val_0_unsup_loss: 0.99383 |  0:02:18s\n",
      "epoch 139| loss: 1.03555 | val_0_unsup_loss: 1.00837 |  0:02:19s\n",
      "epoch 140| loss: 1.00812 | val_0_unsup_loss: 1.0504  |  0:02:20s\n",
      "epoch 141| loss: 1.00525 | val_0_unsup_loss: 0.99815 |  0:02:20s\n",
      "epoch 142| loss: 0.99688 | val_0_unsup_loss: 0.97155 |  0:02:21s\n",
      "epoch 143| loss: 1.00653 | val_0_unsup_loss: 0.99692 |  0:02:22s\n",
      "epoch 144| loss: 1.00693 | val_0_unsup_loss: 0.98644 |  0:02:23s\n",
      "epoch 145| loss: 0.99507 | val_0_unsup_loss: 0.95777 |  0:02:24s\n",
      "epoch 146| loss: 1.00132 | val_0_unsup_loss: 0.99825 |  0:02:25s\n",
      "epoch 147| loss: 1.01288 | val_0_unsup_loss: 0.98446 |  0:02:26s\n",
      "epoch 148| loss: 0.99012 | val_0_unsup_loss: 1.02802 |  0:02:27s\n",
      "epoch 149| loss: 0.99958 | val_0_unsup_loss: 0.99176 |  0:02:28s\n",
      "epoch 150| loss: 0.9939  | val_0_unsup_loss: 1.03748 |  0:02:28s\n",
      "epoch 151| loss: 1.02854 | val_0_unsup_loss: 1.07346 |  0:02:29s\n",
      "epoch 152| loss: 1.01641 | val_0_unsup_loss: 1.01425 |  0:02:30s\n",
      "epoch 153| loss: 0.99293 | val_0_unsup_loss: 0.99785 |  0:02:31s\n",
      "epoch 154| loss: 1.0024  | val_0_unsup_loss: 1.05617 |  0:02:32s\n",
      "epoch 155| loss: 1.00727 | val_0_unsup_loss: 0.9971  |  0:02:32s\n",
      "epoch 156| loss: 1.00017 | val_0_unsup_loss: 0.99779 |  0:02:33s\n",
      "epoch 157| loss: 1.01057 | val_0_unsup_loss: 1.02459 |  0:02:34s\n",
      "epoch 158| loss: 1.00718 | val_0_unsup_loss: 0.96473 |  0:02:35s\n",
      "epoch 159| loss: 0.9889  | val_0_unsup_loss: 0.9834  |  0:02:36s\n",
      "epoch 160| loss: 0.9801  | val_0_unsup_loss: 0.98394 |  0:02:37s\n",
      "epoch 161| loss: 0.99338 | val_0_unsup_loss: 0.95637 |  0:02:37s\n",
      "epoch 162| loss: 0.99034 | val_0_unsup_loss: 0.98587 |  0:02:38s\n",
      "epoch 163| loss: 1.02911 | val_0_unsup_loss: 0.98144 |  0:02:39s\n",
      "epoch 164| loss: 1.0104  | val_0_unsup_loss: 0.99058 |  0:02:40s\n",
      "epoch 165| loss: 1.00867 | val_0_unsup_loss: 1.04735 |  0:02:41s\n",
      "epoch 166| loss: 0.99961 | val_0_unsup_loss: 0.95247 |  0:02:42s\n",
      "epoch 167| loss: 1.00143 | val_0_unsup_loss: 1.04788 |  0:02:43s\n",
      "epoch 168| loss: 1.00517 | val_0_unsup_loss: 0.95567 |  0:02:44s\n",
      "epoch 169| loss: 0.99478 | val_0_unsup_loss: 1.00114 |  0:02:45s\n",
      "epoch 170| loss: 1.01113 | val_0_unsup_loss: 1.0904  |  0:02:46s\n",
      "epoch 171| loss: 0.98788 | val_0_unsup_loss: 0.94275 |  0:02:46s\n",
      "epoch 172| loss: 0.98994 | val_0_unsup_loss: 0.97546 |  0:02:47s\n",
      "epoch 173| loss: 0.99337 | val_0_unsup_loss: 0.9671  |  0:02:48s\n",
      "epoch 174| loss: 0.99552 | val_0_unsup_loss: 1.00725 |  0:02:49s\n",
      "epoch 175| loss: 0.99385 | val_0_unsup_loss: 0.99472 |  0:02:50s\n",
      "epoch 176| loss: 1.02025 | val_0_unsup_loss: 0.95721 |  0:02:50s\n",
      "epoch 177| loss: 0.98333 | val_0_unsup_loss: 0.93785 |  0:02:51s\n",
      "epoch 178| loss: 0.98899 | val_0_unsup_loss: 0.95737 |  0:02:52s\n",
      "epoch 179| loss: 0.99349 | val_0_unsup_loss: 1.02871 |  0:02:53s\n",
      "epoch 180| loss: 0.98046 | val_0_unsup_loss: 0.97513 |  0:02:54s\n",
      "epoch 181| loss: 0.98917 | val_0_unsup_loss: 0.94521 |  0:02:54s\n",
      "epoch 182| loss: 0.99442 | val_0_unsup_loss: 0.9403  |  0:02:55s\n",
      "epoch 183| loss: 0.99922 | val_0_unsup_loss: 0.98387 |  0:02:56s\n",
      "epoch 184| loss: 1.00559 | val_0_unsup_loss: 0.95801 |  0:02:57s\n",
      "epoch 185| loss: 0.98949 | val_0_unsup_loss: 0.94639 |  0:02:58s\n",
      "epoch 186| loss: 0.9952  | val_0_unsup_loss: 0.93804 |  0:02:59s\n",
      "epoch 187| loss: 0.98733 | val_0_unsup_loss: 0.93791 |  0:03:00s\n",
      "epoch 188| loss: 0.98312 | val_0_unsup_loss: 0.95231 |  0:03:01s\n",
      "epoch 189| loss: 1.01377 | val_0_unsup_loss: 0.96376 |  0:03:02s\n",
      "epoch 190| loss: 1.0086  | val_0_unsup_loss: 0.93624 |  0:03:02s\n",
      "epoch 191| loss: 0.99289 | val_0_unsup_loss: 0.9115  |  0:03:03s\n",
      "epoch 192| loss: 0.99009 | val_0_unsup_loss: 0.92337 |  0:03:04s\n",
      "epoch 193| loss: 0.9768  | val_0_unsup_loss: 0.8998  |  0:03:05s\n",
      "epoch 194| loss: 0.99725 | val_0_unsup_loss: 0.95154 |  0:03:06s\n",
      "epoch 195| loss: 0.9841  | val_0_unsup_loss: 0.94167 |  0:03:06s\n",
      "epoch 196| loss: 0.97902 | val_0_unsup_loss: 0.92998 |  0:03:07s\n",
      "epoch 197| loss: 0.99075 | val_0_unsup_loss: 0.96313 |  0:03:08s\n",
      "epoch 198| loss: 0.9948  | val_0_unsup_loss: 0.94849 |  0:03:09s\n",
      "epoch 199| loss: 0.97435 | val_0_unsup_loss: 0.92823 |  0:03:11s\n",
      "epoch 200| loss: 0.99429 | val_0_unsup_loss: 1.07949 |  0:03:12s\n",
      "epoch 201| loss: 0.99817 | val_0_unsup_loss: 0.96079 |  0:03:13s\n",
      "epoch 202| loss: 0.99659 | val_0_unsup_loss: 0.96102 |  0:03:14s\n",
      "epoch 203| loss: 0.98619 | val_0_unsup_loss: 0.90977 |  0:03:16s\n",
      "epoch 204| loss: 0.9749  | val_0_unsup_loss: 0.96301 |  0:03:17s\n",
      "epoch 205| loss: 0.99299 | val_0_unsup_loss: 0.91324 |  0:03:17s\n",
      "epoch 206| loss: 0.98774 | val_0_unsup_loss: 0.9092  |  0:03:18s\n",
      "epoch 207| loss: 0.97514 | val_0_unsup_loss: 0.91314 |  0:03:19s\n",
      "epoch 208| loss: 0.97923 | val_0_unsup_loss: 0.93173 |  0:03:20s\n",
      "epoch 209| loss: 0.98915 | val_0_unsup_loss: 0.94174 |  0:03:21s\n",
      "epoch 210| loss: 0.99883 | val_0_unsup_loss: 0.9588  |  0:03:22s\n",
      "epoch 211| loss: 0.99537 | val_0_unsup_loss: 0.98693 |  0:03:23s\n",
      "epoch 212| loss: 0.98599 | val_0_unsup_loss: 0.94103 |  0:03:24s\n",
      "epoch 213| loss: 0.99334 | val_0_unsup_loss: 0.97743 |  0:03:25s\n",
      "epoch 214| loss: 0.99483 | val_0_unsup_loss: 0.96092 |  0:03:26s\n",
      "epoch 215| loss: 0.9902  | val_0_unsup_loss: 0.99489 |  0:03:27s\n",
      "epoch 216| loss: 1.01162 | val_0_unsup_loss: 0.9984  |  0:03:28s\n",
      "epoch 217| loss: 0.9869  | val_0_unsup_loss: 0.96981 |  0:03:29s\n",
      "epoch 218| loss: 0.99859 | val_0_unsup_loss: 0.9619  |  0:03:32s\n",
      "epoch 219| loss: 0.99364 | val_0_unsup_loss: 0.92865 |  0:03:33s\n",
      "epoch 220| loss: 0.98165 | val_0_unsup_loss: 0.93884 |  0:03:34s\n",
      "epoch 221| loss: 0.9898  | val_0_unsup_loss: 0.95395 |  0:03:35s\n",
      "epoch 222| loss: 1.00323 | val_0_unsup_loss: 0.94003 |  0:03:40s\n",
      "epoch 223| loss: 0.98475 | val_0_unsup_loss: 0.95996 |  0:03:41s\n",
      "epoch 224| loss: 0.98811 | val_0_unsup_loss: 0.92336 |  0:03:42s\n",
      "epoch 225| loss: 0.97081 | val_0_unsup_loss: 0.95156 |  0:03:43s\n",
      "epoch 226| loss: 0.9834  | val_0_unsup_loss: 0.93673 |  0:03:45s\n",
      "epoch 227| loss: 0.98088 | val_0_unsup_loss: 0.95471 |  0:03:47s\n",
      "epoch 228| loss: 0.9849  | val_0_unsup_loss: 0.9355  |  0:03:48s\n",
      "epoch 229| loss: 0.99063 | val_0_unsup_loss: 0.93909 |  0:03:50s\n",
      "epoch 230| loss: 0.96767 | val_0_unsup_loss: 0.92021 |  0:03:52s\n",
      "epoch 231| loss: 0.98475 | val_0_unsup_loss: 0.96425 |  0:03:54s\n",
      "epoch 232| loss: 0.9898  | val_0_unsup_loss: 0.94904 |  0:03:55s\n",
      "epoch 233| loss: 0.97524 | val_0_unsup_loss: 0.92121 |  0:03:56s\n",
      "epoch 234| loss: 0.97162 | val_0_unsup_loss: 0.9338  |  0:03:58s\n",
      "epoch 235| loss: 0.98442 | val_0_unsup_loss: 0.93923 |  0:03:59s\n",
      "epoch 236| loss: 0.98942 | val_0_unsup_loss: 0.94181 |  0:04:01s\n",
      "epoch 237| loss: 0.99529 | val_0_unsup_loss: 0.93452 |  0:04:03s\n",
      "epoch 238| loss: 1.00623 | val_0_unsup_loss: 0.956   |  0:04:05s\n",
      "epoch 239| loss: 0.98586 | val_0_unsup_loss: 0.96981 |  0:04:06s\n",
      "epoch 240| loss: 0.98481 | val_0_unsup_loss: 0.96714 |  0:04:08s\n",
      "epoch 241| loss: 0.99477 | val_0_unsup_loss: 0.95518 |  0:04:09s\n",
      "epoch 242| loss: 0.99934 | val_0_unsup_loss: 0.93971 |  0:04:10s\n",
      "epoch 243| loss: 0.98226 | val_0_unsup_loss: 0.91894 |  0:04:12s\n",
      "\n",
      "Early stopping occurred at epoch 243 with best_epoch = 193 and best_val_0_unsup_loss = 0.8998\n",
      "Best weights from best epoch are automatically used!\n"
     ]
    }
   ],
   "source": [
    "unsupervised_model_no_preproc.fit(\n",
    "    x_train,\n",
    "    eval_set=[x_val],\n",
    "    max_epochs=1000 , patience=50,\n",
    "    batch_size=256, virtual_batch_size=128,\n",
    "    num_workers=0,\n",
    "    drop_last=False,\n",
    "    pretraining_ratio=0.8,\n",
    "\n",
    ")"
   ]
  },
  {
   "cell_type": "code",
   "execution_count": 89,
   "metadata": {},
   "outputs": [],
   "source": [
    "# Make reconstruction from a dataset\n",
    "reconstructed_X, embedded_X = unsupervised_model_no_preproc.predict(x_val)\n",
    "assert(reconstructed_X.shape==embedded_X.shape)"
   ]
  },
  {
   "cell_type": "code",
   "execution_count": 90,
   "metadata": {},
   "outputs": [],
   "source": [
    "unsupervised_explain_matrix, unsupervised_masks = unsupervised_model_no_preproc.explain(x_val)"
   ]
  },
  {
   "cell_type": "code",
   "execution_count": 91,
   "metadata": {},
   "outputs": [
    {
     "data": {
      "image/png": "[encoded data removed]",
      "text/plain": [
       "<Figure size 1440x1440 with 3 Axes>"
      ]
     },
     "metadata": {},
     "output_type": "display_data"
    }
   ],
   "source": [
    "fig, axs = plt.subplots(1, 3, figsize=(20,20))\n",
    "\n",
    "for i in range(3):\n",
    "    axs[i].imshow(unsupervised_masks[i][:50])\n",
    "    axs[i].set_title(f\"mask {i}\")"
   ]
  },
  {
   "cell_type": "code",
   "execution_count": 92,
   "metadata": {},
   "outputs": [
    {
     "name": "stdout",
     "output_type": "stream",
     "text": [
      "Successfully saved model at ./test_pretrain2.zip\n",
      "Device used : cpu\n",
      "Device used : cpu\n"
     ]
    }
   ],
   "source": [
    "unsupervised_model_no_preproc.save_model('./test_pretrain2')\n",
    "loaded_pretrain = TabNetPretrainer()\n",
    "loaded_pretrain.load_model('./test_pretrain2.zip')"
   ]
  },
  {
   "cell_type": "code",
   "execution_count": 93,
   "metadata": {},
   "outputs": [
    {
     "name": "stdout",
     "output_type": "stream",
     "text": [
      "Device used : cpu\n"
     ]
    }
   ],
   "source": [
    "clf2_no_preproc = TabNetClassifier(optimizer_fn=torch.optim.Adam,\n",
    "                       optimizer_params=dict(lr=2e-2),\n",
    "                       scheduler_params={\"step_size\":10, # how to use learning rate scheduler\n",
    "                                         \"gamma\":0.9},\n",
    "                       scheduler_fn=torch.optim.lr_scheduler.StepLR,\n",
    "                       mask_type='sparsemax' # This will be overwritten if using pretrain model\n",
    "                      )"
   ]
  },
  {
   "cell_type": "code",
   "execution_count": 94,
   "metadata": {},
   "outputs": [
    {
     "name": "stderr",
     "output_type": "stream",
     "text": [
      "C:\\Users\\Ryan\\anaconda3\\lib\\site-packages\\pytorch_tabnet\\abstract_model.py:97: UserWarning: Pretraining: mask_type changed from sparsemax to entmax\n",
      "  warnings.warn(wrn_msg)\n"
     ]
    },
    {
     "name": "stdout",
     "output_type": "stream",
     "text": [
      "Loading weights from unsupervised pretraining\n",
      "epoch 0  | loss: 1.27347 | train_auc: 0.58612 | train_accuracy: 0.26095 | valid_auc: 0.62191 | valid_accuracy: 0.22904 |  0:00:00s\n",
      "epoch 1  | loss: 0.81177 | train_auc: 0.57721 | train_accuracy: 0.2627  | valid_auc: 0.55594 | valid_accuracy: 0.22904 |  0:00:01s\n",
      "epoch 2  | loss: 0.73665 | train_auc: 0.49455 | train_accuracy: 0.73205 | valid_auc: 0.51748 | valid_accuracy: 0.76483 |  0:00:02s\n",
      "epoch 3  | loss: 0.6863  | train_auc: 0.57742 | train_accuracy: 0.56217 | valid_auc: 0.59701 | valid_accuracy: 0.58078 |  0:00:03s\n",
      "epoch 4  | loss: 0.67845 | train_auc: 0.57882 | train_accuracy: 0.28984 | valid_auc: 0.58685 | valid_accuracy: 0.26176 |  0:00:04s\n",
      "epoch 5  | loss: 0.66405 | train_auc: 0.58292 | train_accuracy: 0.28809 | valid_auc: 0.60656 | valid_accuracy: 0.24744 |  0:00:06s\n",
      "epoch 6  | loss: 0.66605 | train_auc: 0.59883 | train_accuracy: 0.33713 | valid_auc: 0.63791 | valid_accuracy: 0.30879 |  0:00:07s\n",
      "epoch 7  | loss: 0.68734 | train_auc: 0.60741 | train_accuracy: 0.42513 | valid_auc: 0.60991 | valid_accuracy: 0.38855 |  0:00:08s\n",
      "epoch 8  | loss: 0.65245 | train_auc: 0.61924 | train_accuracy: 0.28109 | valid_auc: 0.60193 | valid_accuracy: 0.23313 |  0:00:09s\n",
      "epoch 9  | loss: 0.65989 | train_auc: 0.62379 | train_accuracy: 0.27189 | valid_auc: 0.6093  | valid_accuracy: 0.23926 |  0:00:10s\n",
      "epoch 10 | loss: 0.62632 | train_auc: 0.62492 | train_accuracy: 0.39799 | valid_auc: 0.63705 | valid_accuracy: 0.40082 |  0:00:11s\n",
      "epoch 11 | loss: 0.63887 | train_auc: 0.63431 | train_accuracy: 0.31743 | valid_auc: 0.63994 | valid_accuracy: 0.29652 |  0:00:12s\n",
      "epoch 12 | loss: 0.6433  | train_auc: 0.50872 | train_accuracy: 0.30648 | valid_auc: 0.4924  | valid_accuracy: 0.29243 |  0:00:13s\n",
      "epoch 13 | loss: 0.6692  | train_auc: 0.46646 | train_accuracy: 0.45096 | valid_auc: 0.43286 | valid_accuracy: 0.44172 |  0:00:14s\n",
      "epoch 14 | loss: 0.65021 | train_auc: 0.49243 | train_accuracy: 0.49606 | valid_auc: 0.44501 | valid_accuracy: 0.46421 |  0:00:14s\n",
      "epoch 15 | loss: 0.64347 | train_auc: 0.64458 | train_accuracy: 0.3796  | valid_auc: 0.63433 | valid_accuracy: 0.34151 |  0:00:15s\n",
      "epoch 16 | loss: 0.64462 | train_auc: 0.62877 | train_accuracy: 0.43739 | valid_auc: 0.60845 | valid_accuracy: 0.39877 |  0:00:16s\n",
      "epoch 17 | loss: 0.66766 | train_auc: 0.62647 | train_accuracy: 0.66025 | valid_auc: 0.60615 | valid_accuracy: 0.66667 |  0:00:17s\n",
      "epoch 18 | loss: 0.63785 | train_auc: 0.61617 | train_accuracy: 0.66637 | valid_auc: 0.59236 | valid_accuracy: 0.66667 |  0:00:18s\n",
      "epoch 19 | loss: 0.63919 | train_auc: 0.59846 | train_accuracy: 0.57968 | valid_auc: 0.57662 | valid_accuracy: 0.591   |  0:00:18s\n",
      "epoch 20 | loss: 0.64018 | train_auc: 0.6068  | train_accuracy: 0.56436 | valid_auc: 0.56984 | valid_accuracy: 0.55419 |  0:00:19s\n",
      "epoch 21 | loss: 0.64825 | train_auc: 0.62105 | train_accuracy: 0.63004 | valid_auc: 0.58059 | valid_accuracy: 0.61759 |  0:00:20s\n",
      "epoch 22 | loss: 0.6313  | train_auc: 0.62959 | train_accuracy: 0.55998 | valid_auc: 0.57453 | valid_accuracy: 0.53579 |  0:00:21s\n",
      "epoch 23 | loss: 0.63229 | train_auc: 0.65593 | train_accuracy: 0.39667 | valid_auc: 0.60672 | valid_accuracy: 0.37832 |  0:00:22s\n",
      "epoch 24 | loss: 0.62385 | train_auc: 0.65061 | train_accuracy: 0.38135 | valid_auc: 0.56267 | valid_accuracy: 0.34969 |  0:00:23s\n",
      "epoch 25 | loss: 0.63938 | train_auc: 0.66691 | train_accuracy: 0.4225  | valid_auc: 0.58675 | valid_accuracy: 0.41309 |  0:00:23s\n",
      "epoch 26 | loss: 0.62848 | train_auc: 0.68158 | train_accuracy: 0.57881 | valid_auc: 0.61245 | valid_accuracy: 0.55419 |  0:00:24s\n",
      "epoch 27 | loss: 0.61298 | train_auc: 0.6901  | train_accuracy: 0.56786 | valid_auc: 0.61808 | valid_accuracy: 0.56237 |  0:00:25s\n",
      "epoch 28 | loss: 0.62479 | train_auc: 0.68932 | train_accuracy: 0.59238 | valid_auc: 0.59604 | valid_accuracy: 0.5317  |  0:00:26s\n",
      "epoch 29 | loss: 0.61321 | train_auc: 0.69358 | train_accuracy: 0.58056 | valid_auc: 0.63867 | valid_accuracy: 0.56033 |  0:00:27s\n",
      "epoch 30 | loss: 0.62093 | train_auc: 0.71558 | train_accuracy: 0.56655 | valid_auc: 0.65269 | valid_accuracy: 0.53783 |  0:00:28s\n",
      "epoch 31 | loss: 0.62007 | train_auc: 0.71628 | train_accuracy: 0.56874 | valid_auc: 0.64016 | valid_accuracy: 0.51534 |  0:00:29s\n",
      "epoch 32 | loss: 0.63075 | train_auc: 0.72466 | train_accuracy: 0.54466 | valid_auc: 0.62822 | valid_accuracy: 0.4908  |  0:00:30s\n",
      "epoch 33 | loss: 0.61994 | train_auc: 0.72329 | train_accuracy: 0.54685 | valid_auc: 0.63045 | valid_accuracy: 0.50716 |  0:00:31s\n",
      "epoch 34 | loss: 0.59618 | train_auc: 0.73142 | train_accuracy: 0.59501 | valid_auc: 0.63113 | valid_accuracy: 0.54601 |  0:00:32s\n",
      "epoch 35 | loss: 0.60448 | train_auc: 0.72703 | train_accuracy: 0.61208 | valid_auc: 0.63653 | valid_accuracy: 0.57669 |  0:00:33s\n",
      "epoch 36 | loss: 0.60306 | train_auc: 0.73219 | train_accuracy: 0.60114 | valid_auc: 0.62235 | valid_accuracy: 0.53783 |  0:00:33s\n",
      "epoch 37 | loss: 0.59816 | train_auc: 0.73241 | train_accuracy: 0.53765 | valid_auc: 0.62078 | valid_accuracy: 0.52761 |  0:00:34s\n",
      "epoch 38 | loss: 0.60189 | train_auc: 0.74536 | train_accuracy: 0.5324  | valid_auc: 0.6223  | valid_accuracy: 0.50511 |  0:00:35s\n",
      "epoch 39 | loss: 0.60541 | train_auc: 0.7316  | train_accuracy: 0.50963 | valid_auc: 0.63035 | valid_accuracy: 0.47444 |  0:00:36s\n",
      "epoch 40 | loss: 0.61862 | train_auc: 0.72139 | train_accuracy: 0.60989 | valid_auc: 0.62322 | valid_accuracy: 0.56646 |  0:00:37s\n",
      "epoch 41 | loss: 0.61832 | train_auc: 0.74099 | train_accuracy: 0.69658 | valid_auc: 0.65425 | valid_accuracy: 0.6728  |  0:00:38s\n",
      "epoch 42 | loss: 0.61256 | train_auc: 0.75686 | train_accuracy: 0.73511 | valid_auc: 0.66595 | valid_accuracy: 0.68712 |  0:00:39s\n",
      "epoch 43 | loss: 0.59687 | train_auc: 0.75297 | train_accuracy: 0.70359 | valid_auc: 0.64229 | valid_accuracy: 0.63599 |  0:00:39s\n",
      "epoch 44 | loss: 0.62124 | train_auc: 0.72381 | train_accuracy: 0.61821 | valid_auc: 0.67604 | valid_accuracy: 0.58691 |  0:00:41s\n",
      "epoch 45 | loss: 0.61768 | train_auc: 0.72952 | train_accuracy: 0.65543 | valid_auc: 0.65408 | valid_accuracy: 0.62781 |  0:00:42s\n",
      "epoch 46 | loss: 0.6211  | train_auc: 0.73765 | train_accuracy: 0.66769 | valid_auc: 0.65984 | valid_accuracy: 0.64417 |  0:00:43s\n",
      "epoch 47 | loss: 0.60922 | train_auc: 0.74348 | train_accuracy: 0.69834 | valid_auc: 0.65112 | valid_accuracy: 0.67076 |  0:00:44s\n",
      "epoch 48 | loss: 0.59409 | train_auc: 0.75121 | train_accuracy: 0.65149 | valid_auc: 0.65572 | valid_accuracy: 0.62986 |  0:00:45s\n",
      "epoch 49 | loss: 0.62071 | train_auc: 0.75465 | train_accuracy: 0.63704 | valid_auc: 0.65697 | valid_accuracy: 0.60327 |  0:00:46s\n",
      "epoch 50 | loss: 0.5937  | train_auc: 0.76164 | train_accuracy: 0.59676 | valid_auc: 0.6583  | valid_accuracy: 0.56033 |  0:00:46s\n",
      "epoch 51 | loss: 0.58901 | train_auc: 0.76094 | train_accuracy: 0.62434 | valid_auc: 0.65392 | valid_accuracy: 0.58691 |  0:00:47s\n",
      "epoch 52 | loss: 0.57865 | train_auc: 0.76078 | train_accuracy: 0.65587 | valid_auc: 0.6465  | valid_accuracy: 0.61554 |  0:00:48s\n",
      "\n",
      "Early stopping occurred at epoch 52 with best_epoch = 2 and best_valid_accuracy = 0.76483\n",
      "Best weights from best epoch are automatically used!\n"
     ]
    }
   ],
   "source": [
    "clf2_no_preproc.fit(\n",
    "    x_train, y_train,\n",
    "    eval_set=[(x_train, y_train), (x_val, y_val)],\n",
    "    eval_name=['train', 'valid'],\n",
    "    eval_metric=['auc', 'accuracy'],\n",
    "    max_epochs=1000 , patience=50,\n",
    "    batch_size=256, virtual_batch_size=128,\n",
    "    num_workers=0,\n",
    "    weights=1,\n",
    "    drop_last=False,\n",
    "    from_unsupervised=loaded_pretrain\n",
    "    \n",
    ")"
   ]
  },
  {
   "cell_type": "code",
   "execution_count": 95,
   "metadata": {},
   "outputs": [
    {
     "data": {
      "text/plain": [
       "[<matplotlib.lines.Line2D at 0x1cd4d87c460>]"
      ]
     },
     "execution_count": 95,
     "metadata": {},
     "output_type": "execute_result"
    },
    {
     "data": {
      "image/png": "[encoded data removed]",
      "text/plain": [
       "<Figure size 432x288 with 1 Axes>"
      ]
     },
     "metadata": {},
     "output_type": "display_data"
    }
   ],
   "source": [
    "# plot losses\n",
    "plt.plot(clf2_no_preproc.history['loss'])"
   ]
  },
  {
   "cell_type": "code",
   "execution_count": 96,
   "metadata": {},
   "outputs": [
    {
     "data": {
      "text/plain": [
       "[<matplotlib.lines.Line2D at 0x1cd4d8c9670>]"
      ]
     },
     "execution_count": 96,
     "metadata": {},
     "output_type": "execute_result"
    },
    {
     "data": {
      "image/png": "[encoded data removed]",
      "text/plain": [
       "<Figure size 432x288 with 1 Axes>"
      ]
     },
     "metadata": {},
     "output_type": "display_data"
    }
   ],
   "source": [
    "# plot auc\n",
    "plt.plot(clf2_no_preproc.history['train_accuracy'])\n",
    "plt.plot(clf2_no_preproc.history['valid_accuracy'])"
   ]
  },
  {
   "cell_type": "code",
   "execution_count": 97,
   "metadata": {},
   "outputs": [
    {
     "data": {
      "text/plain": [
       "[<matplotlib.lines.Line2D at 0x1cd4d911640>]"
      ]
     },
     "execution_count": 97,
     "metadata": {},
     "output_type": "execute_result"
    },
    {
     "data": {
      "image/png": "[encoded data removed]",
      "text/plain": [
       "<Figure size 432x288 with 1 Axes>"
      ]
     },
     "metadata": {},
     "output_type": "display_data"
    }
   ],
   "source": [
    "# plot learning rates\n",
    "plt.plot(clf2_no_preproc.history['lr'])"
   ]
  },
  {
   "cell_type": "code",
   "execution_count": 98,
   "metadata": {},
   "outputs": [
    {
     "name": "stdout",
     "output_type": "stream",
     "text": [
      "BEST ACCURACY SCORE ON VALIDATION SET : 0.7648261758691206\n",
      "BEST ACCURACY SCORE ON TEST SET : 0.710204081632653\n"
     ]
    }
   ],
   "source": [
    "preds = clf2_no_preproc.predict(x_test)\n",
    "test_acc = accuracy_score(preds, y_test)\n",
    "\n",
    "\n",
    "preds_valid = clf2_no_preproc.predict(x_val)\n",
    "valid_acc = accuracy_score(preds_valid, y_val)\n",
    "\n",
    "print(f\"BEST ACCURACY SCORE ON VALIDATION SET : {valid_acc}\")\n",
    "print(f\"BEST ACCURACY SCORE ON TEST SET : {test_acc}\")"
   ]
  },
  {
   "cell_type": "code",
   "execution_count": 99,
   "metadata": {},
   "outputs": [
    {
     "data": {
      "text/plain": [
       "array([0.        , 0.00255817, 0.00191685, 0.        , 0.22020766,\n",
       "       0.01729154, 0.28529521, 0.35535531, 0.01126078, 0.        ,\n",
       "       0.05636882, 0.        , 0.01357883, 0.        , 0.03616683])"
      ]
     },
     "execution_count": 99,
     "metadata": {},
     "output_type": "execute_result"
    }
   ],
   "source": [
    "clf2_no_preproc.feature_importances_"
   ]
  },
  {
   "cell_type": "code",
   "execution_count": 100,
   "metadata": {},
   "outputs": [
    {
     "data": {
      "text/plain": [
       "<AxesSubplot:>"
      ]
     },
     "execution_count": 100,
     "metadata": {},
     "output_type": "execute_result"
    },
    {
     "data": {
      "image/png": "[encoded data removed]",
      "text/plain": [
       "<Figure size 432x288 with 1 Axes>"
      ]
     },
     "metadata": {},
     "output_type": "display_data"
    }
   ],
   "source": [
    "feat_importances = pd.Series(clf2_no_preproc.feature_importances_, index=feat.columns)\n",
    "feat_importances.nlargest(20).plot(kind='barh')"
   ]
  },
  {
   "cell_type": "code",
   "execution_count": 195,
   "metadata": {},
   "outputs": [],
   "source": [
    "explain_matrix, masks = clf2_no_preproc.explain(x_test)"
   ]
  },
  {
   "cell_type": "code",
   "execution_count": 196,
   "metadata": {},
   "outputs": [
    {
     "data": {
      "image/png": "[encoded data removed]",
      "text/plain": [
       "<Figure size 1440x1440 with 3 Axes>"
      ]
     },
     "metadata": {},
     "output_type": "display_data"
    }
   ],
   "source": [
    "fig, axs = plt.subplots(1, 3, figsize=(20,20))\n",
    "\n",
    "for i in range(3):\n",
    "    axs[i].imshow(masks[i][:50])\n",
    "    axs[i].set_title(f\"mask {i}\")"
   ]
  },
  {
   "cell_type": "code",
   "execution_count": null,
   "metadata": {},
   "outputs": [],
   "source": []
  },
  {
   "cell_type": "code",
   "execution_count": 166,
   "metadata": {},
   "outputs": [],
   "source": [
    "df3 = df2.copy()"
   ]
  },
  {
   "cell_type": "markdown",
   "metadata": {},
   "source": [
    "# TabNet with preprocessing"
   ]
  },
  {
   "cell_type": "code",
   "execution_count": 91,
   "metadata": {},
   "outputs": [],
   "source": [
    "from sklearn.preprocessing import LabelEncoder\n",
    "\n",
    "categ = ['SEX','CURSMOKE', 'DIABETES', 'PREVCHD', 'PREVAP', 'PREVMI', 'PREVSTRK', 'PREVHYP', 'ANYCHD']\n",
    "\n",
    "# Encode Categorical Columns\n",
    "le = LabelEncoder()\n",
    "df3[categ] = df3[categ].apply(le.fit_transform)"
   ]
  },
  {
   "cell_type": "code",
   "execution_count": 92,
   "metadata": {},
   "outputs": [],
   "source": [
    "from sklearn.preprocessing import StandardScaler\n",
    "\n",
    "numeric = ['TOTCHOL', 'AGE', 'SYSBP', 'DIABP', 'CIGPDAY', 'BMI', 'BPMEDS', 'HEARTRTE', 'GLUCOSE', \n",
    "           'educ', 'HDLC', 'LDLC' ]\n",
    "features = df3[numeric]\n",
    "\n",
    "# Use scaler of choice; here Standard scaler is used\n",
    "scaler = StandardScaler().fit(features.values)\n",
    "standardized = scaler.transform(features.values)\n",
    "inversed = scaler.inverse_transform(standardized)\n",
    "\n",
    "df3[numeric] = standardized\n"
   ]
  },
  {
   "cell_type": "code",
   "execution_count": 101,
   "metadata": {},
   "outputs": [
    {
     "data": {
      "text/html": [
       "<div>\n",
       "<style scoped>\n",
       "    .dataframe tbody tr th:only-of-type {\n",
       "        vertical-align: middle;\n",
       "    }\n",
       "\n",
       "    .dataframe tbody tr th {\n",
       "        vertical-align: top;\n",
       "    }\n",
       "\n",
       "    .dataframe thead th {\n",
       "        text-align: right;\n",
       "    }\n",
       "</style>\n",
       "<table border=\"1\" class=\"dataframe\">\n",
       "  <thead>\n",
       "    <tr style=\"text-align: right;\">\n",
       "      <th></th>\n",
       "      <th>SEX</th>\n",
       "      <th>TOTCHOL</th>\n",
       "      <th>AGE</th>\n",
       "      <th>SYSBP</th>\n",
       "      <th>DIABP</th>\n",
       "      <th>CURSMOKE</th>\n",
       "      <th>CIGPDAY</th>\n",
       "      <th>BMI</th>\n",
       "      <th>DIABETES</th>\n",
       "      <th>BPMEDS</th>\n",
       "      <th>...</th>\n",
       "      <th>GLUCOSE</th>\n",
       "      <th>educ</th>\n",
       "      <th>PREVCHD</th>\n",
       "      <th>PREVAP</th>\n",
       "      <th>PREVMI</th>\n",
       "      <th>PREVSTRK</th>\n",
       "      <th>PREVHYP</th>\n",
       "      <th>HDLC</th>\n",
       "      <th>LDLC</th>\n",
       "      <th>ANYCHD</th>\n",
       "    </tr>\n",
       "  </thead>\n",
       "  <tbody>\n",
       "    <tr>\n",
       "      <th>1</th>\n",
       "      <td>0</td>\n",
       "      <td>-0.623582</td>\n",
       "      <td>-1.042515</td>\n",
       "      <td>-0.838233</td>\n",
       "      <td>-1.401366</td>\n",
       "      <td>0</td>\n",
       "      <td>-0.582363</td>\n",
       "      <td>NaN</td>\n",
       "      <td>0</td>\n",
       "      <td>-0.423849</td>\n",
       "      <td>...</td>\n",
       "      <td>0.079021</td>\n",
       "      <td>1.925290</td>\n",
       "      <td>0</td>\n",
       "      <td>0</td>\n",
       "      <td>0</td>\n",
       "      <td>0</td>\n",
       "      <td>0</td>\n",
       "      <td>-1.175411</td>\n",
       "      <td>0.032719</td>\n",
       "      <td>1</td>\n",
       "    </tr>\n",
       "    <tr>\n",
       "      <th>4</th>\n",
       "      <td>1</td>\n",
       "      <td>0.006450</td>\n",
       "      <td>-0.319231</td>\n",
       "      <td>-1.405321</td>\n",
       "      <td>-1.401366</td>\n",
       "      <td>0</td>\n",
       "      <td>-0.582363</td>\n",
       "      <td>0.638530</td>\n",
       "      <td>0</td>\n",
       "      <td>-0.423849</td>\n",
       "      <td>...</td>\n",
       "      <td>-0.666886</td>\n",
       "      <td>-0.013101</td>\n",
       "      <td>0</td>\n",
       "      <td>0</td>\n",
       "      <td>0</td>\n",
       "      <td>0</td>\n",
       "      <td>0</td>\n",
       "      <td>0.296675</td>\n",
       "      <td>-0.756941</td>\n",
       "      <td>0</td>\n",
       "    </tr>\n",
       "    <tr>\n",
       "      <th>11</th>\n",
       "      <td>1</td>\n",
       "      <td>NaN</td>\n",
       "      <td>-0.319231</td>\n",
       "      <td>0.644921</td>\n",
       "      <td>0.728237</td>\n",
       "      <td>1</td>\n",
       "      <td>1.997652</td>\n",
       "      <td>-0.314895</td>\n",
       "      <td>0</td>\n",
       "      <td>-0.423849</td>\n",
       "      <td>...</td>\n",
       "      <td>NaN</td>\n",
       "      <td>0.956094</td>\n",
       "      <td>0</td>\n",
       "      <td>0</td>\n",
       "      <td>0</td>\n",
       "      <td>0</td>\n",
       "      <td>1</td>\n",
       "      <td>NaN</td>\n",
       "      <td>NaN</td>\n",
       "      <td>0</td>\n",
       "    </tr>\n",
       "    <tr>\n",
       "      <th>14</th>\n",
       "      <td>1</td>\n",
       "      <td>-0.376069</td>\n",
       "      <td>-0.680873</td>\n",
       "      <td>1.735475</td>\n",
       "      <td>2.147973</td>\n",
       "      <td>0</td>\n",
       "      <td>-0.582363</td>\n",
       "      <td>1.292937</td>\n",
       "      <td>1</td>\n",
       "      <td>2.359329</td>\n",
       "      <td>...</td>\n",
       "      <td>-0.311692</td>\n",
       "      <td>-0.013101</td>\n",
       "      <td>0</td>\n",
       "      <td>0</td>\n",
       "      <td>0</td>\n",
       "      <td>0</td>\n",
       "      <td>1</td>\n",
       "      <td>-0.215355</td>\n",
       "      <td>-0.884994</td>\n",
       "      <td>1</td>\n",
       "    </tr>\n",
       "    <tr>\n",
       "      <th>19</th>\n",
       "      <td>1</td>\n",
       "      <td>1.874045</td>\n",
       "      <td>-0.439778</td>\n",
       "      <td>-1.318076</td>\n",
       "      <td>-3.176035</td>\n",
       "      <td>1</td>\n",
       "      <td>1.997652</td>\n",
       "      <td>-0.949695</td>\n",
       "      <td>0</td>\n",
       "      <td>-0.423849</td>\n",
       "      <td>...</td>\n",
       "      <td>-0.098576</td>\n",
       "      <td>-0.013101</td>\n",
       "      <td>0</td>\n",
       "      <td>0</td>\n",
       "      <td>0</td>\n",
       "      <td>0</td>\n",
       "      <td>0</td>\n",
       "      <td>-0.983399</td>\n",
       "      <td>2.337670</td>\n",
       "      <td>0</td>\n",
       "    </tr>\n",
       "    <tr>\n",
       "      <th>22</th>\n",
       "      <td>0</td>\n",
       "      <td>0.973999</td>\n",
       "      <td>0.404053</td>\n",
       "      <td>1.212009</td>\n",
       "      <td>1.615572</td>\n",
       "      <td>0</td>\n",
       "      <td>-0.582363</td>\n",
       "      <td>-0.042838</td>\n",
       "      <td>0</td>\n",
       "      <td>-0.423849</td>\n",
       "      <td>...</td>\n",
       "      <td>-0.276173</td>\n",
       "      <td>-0.982297</td>\n",
       "      <td>0</td>\n",
       "      <td>0</td>\n",
       "      <td>0</td>\n",
       "      <td>0</td>\n",
       "      <td>1</td>\n",
       "      <td>-0.343362</td>\n",
       "      <td>1.270563</td>\n",
       "      <td>0</td>\n",
       "    </tr>\n",
       "    <tr>\n",
       "      <th>25</th>\n",
       "      <td>0</td>\n",
       "      <td>-0.578580</td>\n",
       "      <td>-0.680873</td>\n",
       "      <td>1.430120</td>\n",
       "      <td>3.656442</td>\n",
       "      <td>0</td>\n",
       "      <td>-0.582363</td>\n",
       "      <td>0.788039</td>\n",
       "      <td>0</td>\n",
       "      <td>2.359329</td>\n",
       "      <td>...</td>\n",
       "      <td>-0.169615</td>\n",
       "      <td>-0.982297</td>\n",
       "      <td>0</td>\n",
       "      <td>0</td>\n",
       "      <td>0</td>\n",
       "      <td>0</td>\n",
       "      <td>1</td>\n",
       "      <td>-0.087347</td>\n",
       "      <td>-0.287414</td>\n",
       "      <td>0</td>\n",
       "    </tr>\n",
       "    <tr>\n",
       "      <th>28</th>\n",
       "      <td>1</td>\n",
       "      <td>1.221512</td>\n",
       "      <td>0.162959</td>\n",
       "      <td>-0.881855</td>\n",
       "      <td>-1.046432</td>\n",
       "      <td>0</td>\n",
       "      <td>-0.582363</td>\n",
       "      <td>-0.959499</td>\n",
       "      <td>0</td>\n",
       "      <td>NaN</td>\n",
       "      <td>...</td>\n",
       "      <td>-0.240653</td>\n",
       "      <td>-0.982297</td>\n",
       "      <td>0</td>\n",
       "      <td>0</td>\n",
       "      <td>0</td>\n",
       "      <td>0</td>\n",
       "      <td>0</td>\n",
       "      <td>0.680698</td>\n",
       "      <td>0.865062</td>\n",
       "      <td>0</td>\n",
       "    </tr>\n",
       "    <tr>\n",
       "      <th>34</th>\n",
       "      <td>1</td>\n",
       "      <td>-1.748639</td>\n",
       "      <td>-0.921967</td>\n",
       "      <td>-0.707366</td>\n",
       "      <td>-0.336564</td>\n",
       "      <td>0</td>\n",
       "      <td>-0.582363</td>\n",
       "      <td>0.177749</td>\n",
       "      <td>0</td>\n",
       "      <td>-0.423849</td>\n",
       "      <td>...</td>\n",
       "      <td>1.606354</td>\n",
       "      <td>0.956094</td>\n",
       "      <td>0</td>\n",
       "      <td>0</td>\n",
       "      <td>0</td>\n",
       "      <td>0</td>\n",
       "      <td>1</td>\n",
       "      <td>0.232672</td>\n",
       "      <td>-1.503916</td>\n",
       "      <td>0</td>\n",
       "    </tr>\n",
       "    <tr>\n",
       "      <th>37</th>\n",
       "      <td>1</td>\n",
       "      <td>0.613981</td>\n",
       "      <td>-1.163062</td>\n",
       "      <td>0.034211</td>\n",
       "      <td>-0.070364</td>\n",
       "      <td>1</td>\n",
       "      <td>0.707645</td>\n",
       "      <td>-0.275680</td>\n",
       "      <td>0</td>\n",
       "      <td>-0.423849</td>\n",
       "      <td>...</td>\n",
       "      <td>0.256618</td>\n",
       "      <td>-0.013101</td>\n",
       "      <td>0</td>\n",
       "      <td>0</td>\n",
       "      <td>0</td>\n",
       "      <td>0</td>\n",
       "      <td>1</td>\n",
       "      <td>0.552690</td>\n",
       "      <td>0.630299</td>\n",
       "      <td>0</td>\n",
       "    </tr>\n",
       "    <tr>\n",
       "      <th>41</th>\n",
       "      <td>0</td>\n",
       "      <td>-0.488575</td>\n",
       "      <td>-0.078136</td>\n",
       "      <td>0.186888</td>\n",
       "      <td>-0.159097</td>\n",
       "      <td>1</td>\n",
       "      <td>0.277642</td>\n",
       "      <td>-0.719304</td>\n",
       "      <td>0</td>\n",
       "      <td>-0.423849</td>\n",
       "      <td>...</td>\n",
       "      <td>0.043502</td>\n",
       "      <td>0.956094</td>\n",
       "      <td>0</td>\n",
       "      <td>0</td>\n",
       "      <td>0</td>\n",
       "      <td>0</td>\n",
       "      <td>1</td>\n",
       "      <td>0.808705</td>\n",
       "      <td>-0.884994</td>\n",
       "      <td>0</td>\n",
       "    </tr>\n",
       "    <tr>\n",
       "      <th>45</th>\n",
       "      <td>1</td>\n",
       "      <td>-0.556079</td>\n",
       "      <td>-1.404157</td>\n",
       "      <td>0.993898</td>\n",
       "      <td>1.260638</td>\n",
       "      <td>1</td>\n",
       "      <td>0.277642</td>\n",
       "      <td>1.361564</td>\n",
       "      <td>0</td>\n",
       "      <td>-0.423849</td>\n",
       "      <td>...</td>\n",
       "      <td>-0.205134</td>\n",
       "      <td>-0.013101</td>\n",
       "      <td>0</td>\n",
       "      <td>0</td>\n",
       "      <td>0</td>\n",
       "      <td>0</td>\n",
       "      <td>1</td>\n",
       "      <td>-0.599377</td>\n",
       "      <td>-0.095334</td>\n",
       "      <td>0</td>\n",
       "    </tr>\n",
       "    <tr>\n",
       "      <th>48</th>\n",
       "      <td>0</td>\n",
       "      <td>-1.681136</td>\n",
       "      <td>-0.921967</td>\n",
       "      <td>0.535865</td>\n",
       "      <td>1.704305</td>\n",
       "      <td>0</td>\n",
       "      <td>-0.582363</td>\n",
       "      <td>0.131180</td>\n",
       "      <td>0</td>\n",
       "      <td>-0.423849</td>\n",
       "      <td>...</td>\n",
       "      <td>-0.418250</td>\n",
       "      <td>-0.013101</td>\n",
       "      <td>0</td>\n",
       "      <td>0</td>\n",
       "      <td>0</td>\n",
       "      <td>0</td>\n",
       "      <td>1</td>\n",
       "      <td>-1.175411</td>\n",
       "      <td>-1.824048</td>\n",
       "      <td>0</td>\n",
       "    </tr>\n",
       "    <tr>\n",
       "      <th>51</th>\n",
       "      <td>1</td>\n",
       "      <td>-0.241063</td>\n",
       "      <td>-0.801420</td>\n",
       "      <td>-0.620122</td>\n",
       "      <td>-0.602765</td>\n",
       "      <td>1</td>\n",
       "      <td>2.857657</td>\n",
       "      <td>-1.055087</td>\n",
       "      <td>0</td>\n",
       "      <td>-0.423849</td>\n",
       "      <td>...</td>\n",
       "      <td>0.434215</td>\n",
       "      <td>-0.013101</td>\n",
       "      <td>0</td>\n",
       "      <td>0</td>\n",
       "      <td>0</td>\n",
       "      <td>0</td>\n",
       "      <td>0</td>\n",
       "      <td>2.216788</td>\n",
       "      <td>-0.735599</td>\n",
       "      <td>0</td>\n",
       "    </tr>\n",
       "    <tr>\n",
       "      <th>54</th>\n",
       "      <td>1</td>\n",
       "      <td>NaN</td>\n",
       "      <td>-0.680873</td>\n",
       "      <td>-0.489255</td>\n",
       "      <td>-0.514031</td>\n",
       "      <td>0</td>\n",
       "      <td>-0.582363</td>\n",
       "      <td>2.405675</td>\n",
       "      <td>0</td>\n",
       "      <td>-0.423849</td>\n",
       "      <td>...</td>\n",
       "      <td>NaN</td>\n",
       "      <td>-0.982297</td>\n",
       "      <td>0</td>\n",
       "      <td>0</td>\n",
       "      <td>0</td>\n",
       "      <td>0</td>\n",
       "      <td>0</td>\n",
       "      <td>NaN</td>\n",
       "      <td>NaN</td>\n",
       "      <td>0</td>\n",
       "    </tr>\n",
       "    <tr>\n",
       "      <th>57</th>\n",
       "      <td>1</td>\n",
       "      <td>1.041502</td>\n",
       "      <td>0.404053</td>\n",
       "      <td>0.819409</td>\n",
       "      <td>-1.135166</td>\n",
       "      <td>0</td>\n",
       "      <td>-0.582363</td>\n",
       "      <td>1.724307</td>\n",
       "      <td>1</td>\n",
       "      <td>-0.423849</td>\n",
       "      <td>...</td>\n",
       "      <td>4.980694</td>\n",
       "      <td>-0.982297</td>\n",
       "      <td>0</td>\n",
       "      <td>0</td>\n",
       "      <td>0</td>\n",
       "      <td>0</td>\n",
       "      <td>1</td>\n",
       "      <td>-0.279358</td>\n",
       "      <td>1.313247</td>\n",
       "      <td>1</td>\n",
       "    </tr>\n",
       "    <tr>\n",
       "      <th>60</th>\n",
       "      <td>1</td>\n",
       "      <td>-0.016051</td>\n",
       "      <td>0.404053</td>\n",
       "      <td>0.426810</td>\n",
       "      <td>0.639504</td>\n",
       "      <td>1</td>\n",
       "      <td>1.137647</td>\n",
       "      <td>-0.461953</td>\n",
       "      <td>0</td>\n",
       "      <td>-0.423849</td>\n",
       "      <td>...</td>\n",
       "      <td>-0.347211</td>\n",
       "      <td>0.956094</td>\n",
       "      <td>0</td>\n",
       "      <td>0</td>\n",
       "      <td>0</td>\n",
       "      <td>0</td>\n",
       "      <td>1</td>\n",
       "      <td>2.792821</td>\n",
       "      <td>-0.714257</td>\n",
       "      <td>0</td>\n",
       "    </tr>\n",
       "    <tr>\n",
       "      <th>63</th>\n",
       "      <td>0</td>\n",
       "      <td>1.199010</td>\n",
       "      <td>-0.560325</td>\n",
       "      <td>-0.358389</td>\n",
       "      <td>-1.046432</td>\n",
       "      <td>1</td>\n",
       "      <td>2.857657</td>\n",
       "      <td>-0.775677</td>\n",
       "      <td>0</td>\n",
       "      <td>-0.423849</td>\n",
       "      <td>...</td>\n",
       "      <td>0.007982</td>\n",
       "      <td>-0.013101</td>\n",
       "      <td>0</td>\n",
       "      <td>0</td>\n",
       "      <td>0</td>\n",
       "      <td>0</td>\n",
       "      <td>1</td>\n",
       "      <td>0.296675</td>\n",
       "      <td>1.270563</td>\n",
       "      <td>0</td>\n",
       "    </tr>\n",
       "    <tr>\n",
       "      <th>67</th>\n",
       "      <td>1</td>\n",
       "      <td>1.379020</td>\n",
       "      <td>1.368432</td>\n",
       "      <td>-1.361699</td>\n",
       "      <td>-1.933767</td>\n",
       "      <td>0</td>\n",
       "      <td>-0.582363</td>\n",
       "      <td>0.074808</td>\n",
       "      <td>0</td>\n",
       "      <td>-0.423849</td>\n",
       "      <td>...</td>\n",
       "      <td>0.363176</td>\n",
       "      <td>-0.982297</td>\n",
       "      <td>0</td>\n",
       "      <td>0</td>\n",
       "      <td>0</td>\n",
       "      <td>0</td>\n",
       "      <td>0</td>\n",
       "      <td>-0.727384</td>\n",
       "      <td>1.782774</td>\n",
       "      <td>1</td>\n",
       "    </tr>\n",
       "    <tr>\n",
       "      <th>70</th>\n",
       "      <td>0</td>\n",
       "      <td>0.073953</td>\n",
       "      <td>-1.645252</td>\n",
       "      <td>-0.402011</td>\n",
       "      <td>0.728237</td>\n",
       "      <td>0</td>\n",
       "      <td>-0.582363</td>\n",
       "      <td>0.214513</td>\n",
       "      <td>0</td>\n",
       "      <td>-0.423849</td>\n",
       "      <td>...</td>\n",
       "      <td>-0.489289</td>\n",
       "      <td>-0.013101</td>\n",
       "      <td>0</td>\n",
       "      <td>0</td>\n",
       "      <td>0</td>\n",
       "      <td>0</td>\n",
       "      <td>1</td>\n",
       "      <td>-0.599377</td>\n",
       "      <td>0.502246</td>\n",
       "      <td>0</td>\n",
       "    </tr>\n",
       "  </tbody>\n",
       "</table>\n",
       "<p>20 rows × 21 columns</p>\n",
       "</div>"
      ],
      "text/plain": [
       "    SEX   TOTCHOL       AGE     SYSBP     DIABP  CURSMOKE   CIGPDAY       BMI  \\\n",
       "1     0 -0.623582 -1.042515 -0.838233 -1.401366         0 -0.582363       NaN   \n",
       "4     1  0.006450 -0.319231 -1.405321 -1.401366         0 -0.582363  0.638530   \n",
       "11    1       NaN -0.319231  0.644921  0.728237         1  1.997652 -0.314895   \n",
       "14    1 -0.376069 -0.680873  1.735475  2.147973         0 -0.582363  1.292937   \n",
       "19    1  1.874045 -0.439778 -1.318076 -3.176035         1  1.997652 -0.949695   \n",
       "22    0  0.973999  0.404053  1.212009  1.615572         0 -0.582363 -0.042838   \n",
       "25    0 -0.578580 -0.680873  1.430120  3.656442         0 -0.582363  0.788039   \n",
       "28    1  1.221512  0.162959 -0.881855 -1.046432         0 -0.582363 -0.959499   \n",
       "34    1 -1.748639 -0.921967 -0.707366 -0.336564         0 -0.582363  0.177749   \n",
       "37    1  0.613981 -1.163062  0.034211 -0.070364         1  0.707645 -0.275680   \n",
       "41    0 -0.488575 -0.078136  0.186888 -0.159097         1  0.277642 -0.719304   \n",
       "45    1 -0.556079 -1.404157  0.993898  1.260638         1  0.277642  1.361564   \n",
       "48    0 -1.681136 -0.921967  0.535865  1.704305         0 -0.582363  0.131180   \n",
       "51    1 -0.241063 -0.801420 -0.620122 -0.602765         1  2.857657 -1.055087   \n",
       "54    1       NaN -0.680873 -0.489255 -0.514031         0 -0.582363  2.405675   \n",
       "57    1  1.041502  0.404053  0.819409 -1.135166         0 -0.582363  1.724307   \n",
       "60    1 -0.016051  0.404053  0.426810  0.639504         1  1.137647 -0.461953   \n",
       "63    0  1.199010 -0.560325 -0.358389 -1.046432         1  2.857657 -0.775677   \n",
       "67    1  1.379020  1.368432 -1.361699 -1.933767         0 -0.582363  0.074808   \n",
       "70    0  0.073953 -1.645252 -0.402011  0.728237         0 -0.582363  0.214513   \n",
       "\n",
       "    DIABETES    BPMEDS  ...   GLUCOSE      educ  PREVCHD  PREVAP  PREVMI  \\\n",
       "1          0 -0.423849  ...  0.079021  1.925290        0       0       0   \n",
       "4          0 -0.423849  ... -0.666886 -0.013101        0       0       0   \n",
       "11         0 -0.423849  ...       NaN  0.956094        0       0       0   \n",
       "14         1  2.359329  ... -0.311692 -0.013101        0       0       0   \n",
       "19         0 -0.423849  ... -0.098576 -0.013101        0       0       0   \n",
       "22         0 -0.423849  ... -0.276173 -0.982297        0       0       0   \n",
       "25         0  2.359329  ... -0.169615 -0.982297        0       0       0   \n",
       "28         0       NaN  ... -0.240653 -0.982297        0       0       0   \n",
       "34         0 -0.423849  ...  1.606354  0.956094        0       0       0   \n",
       "37         0 -0.423849  ...  0.256618 -0.013101        0       0       0   \n",
       "41         0 -0.423849  ...  0.043502  0.956094        0       0       0   \n",
       "45         0 -0.423849  ... -0.205134 -0.013101        0       0       0   \n",
       "48         0 -0.423849  ... -0.418250 -0.013101        0       0       0   \n",
       "51         0 -0.423849  ...  0.434215 -0.013101        0       0       0   \n",
       "54         0 -0.423849  ...       NaN -0.982297        0       0       0   \n",
       "57         1 -0.423849  ...  4.980694 -0.982297        0       0       0   \n",
       "60         0 -0.423849  ... -0.347211  0.956094        0       0       0   \n",
       "63         0 -0.423849  ...  0.007982 -0.013101        0       0       0   \n",
       "67         0 -0.423849  ...  0.363176 -0.982297        0       0       0   \n",
       "70         0 -0.423849  ... -0.489289 -0.013101        0       0       0   \n",
       "\n",
       "    PREVSTRK  PREVHYP      HDLC      LDLC  ANYCHD  \n",
       "1          0        0 -1.175411  0.032719       1  \n",
       "4          0        0  0.296675 -0.756941       0  \n",
       "11         0        1       NaN       NaN       0  \n",
       "14         0        1 -0.215355 -0.884994       1  \n",
       "19         0        0 -0.983399  2.337670       0  \n",
       "22         0        1 -0.343362  1.270563       0  \n",
       "25         0        1 -0.087347 -0.287414       0  \n",
       "28         0        0  0.680698  0.865062       0  \n",
       "34         0        1  0.232672 -1.503916       0  \n",
       "37         0        1  0.552690  0.630299       0  \n",
       "41         0        1  0.808705 -0.884994       0  \n",
       "45         0        1 -0.599377 -0.095334       0  \n",
       "48         0        1 -1.175411 -1.824048       0  \n",
       "51         0        0  2.216788 -0.735599       0  \n",
       "54         0        0       NaN       NaN       0  \n",
       "57         0        1 -0.279358  1.313247       1  \n",
       "60         0        1  2.792821 -0.714257       0  \n",
       "63         0        1  0.296675  1.270563       0  \n",
       "67         0        0 -0.727384  1.782774       1  \n",
       "70         0        1 -0.599377  0.502246       0  \n",
       "\n",
       "[20 rows x 21 columns]"
      ]
     },
     "execution_count": 101,
     "metadata": {},
     "output_type": "execute_result"
    }
   ],
   "source": [
    "df3.head(20)"
   ]
  },
  {
   "cell_type": "code",
   "execution_count": 111,
   "metadata": {},
   "outputs": [],
   "source": [
    "train = df3.copy()"
   ]
  },
  {
   "cell_type": "code",
   "execution_count": 112,
   "metadata": {},
   "outputs": [],
   "source": [
    "# Labels are the values we want to predict\n",
    "target = np.array(train['ANYCHD'])\n",
    "# Remove the labels from the features\n",
    "# axis 1 refers to the columns\n",
    "features= train.drop('ANYCHD', axis = 1)\n",
    "# Saving feature names for later use\n",
    "feature_list = list(features.columns)\n",
    "# Convert to numpy array\n",
    "features = np.array(features)"
   ]
  },
  {
   "cell_type": "code",
   "execution_count": 114,
   "metadata": {},
   "outputs": [
    {
     "name": "stdout",
     "output_type": "stream",
     "text": [
      "Missing: 1812\n",
      "Missing: 0\n"
     ]
    }
   ],
   "source": [
    "from numpy import isnan\n",
    "from sklearn.impute import KNNImputer\n",
    "# print total missing\n",
    "print('Missing: %d' % sum(isnan(features).flatten()))\n",
    "# define imputer\n",
    "imputer = KNNImputer(missing_values=np.nan)\n",
    "# fit on the dataset\n",
    "imputer.fit(features)\n",
    "# transform the dataset\n",
    "features_trans = imputer.transform(features)\n",
    "# print total missing\n",
    "print('Missing: %d' % sum(isnan(features_trans).flatten()))"
   ]
  },
  {
   "cell_type": "code",
   "execution_count": 115,
   "metadata": {},
   "outputs": [],
   "source": [
    "from sklearn.model_selection import train_test_split\n",
    "x_train, x_val, y_train, y_val = train_test_split(features_trans, target, test_size=0.30, random_state=8)"
   ]
  },
  {
   "cell_type": "code",
   "execution_count": 116,
   "metadata": {},
   "outputs": [],
   "source": [
    "x_val, x_test, y_val, y_test = train_test_split(x_val, y_val, test_size=0.50, random_state=8)"
   ]
  },
  {
   "cell_type": "code",
   "execution_count": 117,
   "metadata": {},
   "outputs": [
    {
     "name": "stdout",
     "output_type": "stream",
     "text": [
      "X train shape:  (2284, 20)\n",
      "X validation shape:  (489, 20)\n",
      "X test shape:  (490, 20)\n",
      "Y train shape:  (2284,)\n",
      "Y validation shape:  (489,)\n",
      "Y test shape:  (490,)\n"
     ]
    }
   ],
   "source": [
    "print(\"X train shape: \", x_train.shape)\n",
    "print(\"X validation shape: \", x_val.shape)\n",
    "print(\"X test shape: \", x_test.shape)\n",
    "print(\"Y train shape: \", y_train.shape)\n",
    "print(\"Y validation shape: \", y_val.shape)\n",
    "print(\"Y test shape: \", y_test.shape)"
   ]
  },
  {
   "cell_type": "code",
   "execution_count": 86,
   "metadata": {},
   "outputs": [],
   "source": [
    "import pytorch_tabnet"
   ]
  },
  {
   "cell_type": "code",
   "execution_count": 150,
   "metadata": {},
   "outputs": [],
   "source": [
    "from pytorch_tabnet.tab_model import TabNetClassifier\n",
    "\n",
    "import torch\n",
    "from sklearn.preprocessing import LabelEncoder\n",
    "from sklearn.metrics import roc_auc_score, accuracy_score\n",
    "from sklearn.model_selection import KFold\n",
    "\n",
    "np.random.seed(8)"
   ]
  },
  {
   "cell_type": "code",
   "execution_count": 118,
   "metadata": {},
   "outputs": [
    {
     "name": "stdout",
     "output_type": "stream",
     "text": [
      "Before OverSampling, counts of label '1': 596\n",
      "Before OverSampling, counts of label '0': 1688 \n",
      "\n",
      "After OverSampling, the shape of train_X: (3376, 20)\n",
      "After OverSampling, the shape of train_y: (3376,) \n",
      "\n",
      "After OverSampling, counts of label '1': 1688\n",
      "After OverSampling, counts of label '0': 1688\n"
     ]
    }
   ],
   "source": [
    "import imblearn\n",
    "from imblearn.over_sampling import SMOTE\n",
    "\n",
    "print(\"Before OverSampling, counts of label '1': {}\".format(sum(y_train==1)))\n",
    "print(\"Before OverSampling, counts of label '0': {} \\n\".format(sum(y_train==0)))\n",
    "\n",
    "sm = SMOTE(random_state=8)\n",
    "x_train_res, y_train_res = sm.fit_sample(x_train, y_train.ravel())\n",
    "\n",
    "print('After OverSampling, the shape of train_X: {}'.format(x_train_res.shape))\n",
    "print('After OverSampling, the shape of train_y: {} \\n'.format(y_train_res.shape))\n",
    "\n",
    "print(\"After OverSampling, counts of label '1': {}\".format(sum(y_train_res==1)))\n",
    "print(\"After OverSampling, counts of label '0': {}\".format(sum(y_train_res==0)))"
   ]
  },
  {
   "cell_type": "code",
   "execution_count": 119,
   "metadata": {},
   "outputs": [
    {
     "name": "stdout",
     "output_type": "stream",
     "text": [
      "Device used : cpu\n"
     ]
    }
   ],
   "source": [
    "clf1 = TabNetClassifier(optimizer_fn=torch.optim.Adam,\n",
    "                       optimizer_params=dict(lr=2e-2),\n",
    "                       scheduler_params={\"step_size\":50, # how to use learning rate scheduler\n",
    "                                         \"gamma\":0.9},\n",
    "                       scheduler_fn=torch.optim.lr_scheduler.StepLR,\n",
    "                       mask_type='entmax' # \"sparsemax\"\n",
    "                      )"
   ]
  },
  {
   "cell_type": "code",
   "execution_count": 120,
   "metadata": {},
   "outputs": [
    {
     "name": "stdout",
     "output_type": "stream",
     "text": [
      "epoch 0  | loss: 0.67772 | train_auc: 0.68004 | train_accuracy: 0.53678 | valid_auc: 0.64317 | valid_accuracy: 0.52352 |  0:00:00s\n",
      "epoch 1  | loss: 0.58694 | train_auc: 0.75352 | train_accuracy: 0.79904 | valid_auc: 0.71078 | valid_accuracy: 0.81595 |  0:00:01s\n",
      "epoch 2  | loss: 0.53315 | train_auc: 0.7772  | train_accuracy: 0.81261 | valid_auc: 0.72783 | valid_accuracy: 0.82004 |  0:00:02s\n",
      "epoch 3  | loss: 0.51794 | train_auc: 0.78575 | train_accuracy: 0.82531 | valid_auc: 0.74739 | valid_accuracy: 0.8364  |  0:00:03s\n",
      "epoch 4  | loss: 0.49393 | train_auc: 0.77239 | train_accuracy: 0.80911 | valid_auc: 0.74616 | valid_accuracy: 0.82413 |  0:00:04s\n",
      "epoch 5  | loss: 0.48386 | train_auc: 0.79496 | train_accuracy: 0.83363 | valid_auc: 0.76835 | valid_accuracy: 0.84458 |  0:00:05s\n",
      "epoch 6  | loss: 0.49347 | train_auc: 0.7908  | train_accuracy: 0.80998 | valid_auc: 0.76078 | valid_accuracy: 0.82209 |  0:00:06s\n",
      "epoch 7  | loss: 0.49318 | train_auc: 0.79815 | train_accuracy: 0.80648 | valid_auc: 0.75763 | valid_accuracy: 0.80982 |  0:00:07s\n",
      "epoch 8  | loss: 0.49244 | train_auc: 0.80677 | train_accuracy: 0.79116 | valid_auc: 0.76779 | valid_accuracy: 0.77096 |  0:00:08s\n",
      "epoch 9  | loss: 0.48192 | train_auc: 0.8141  | train_accuracy: 0.82224 | valid_auc: 0.74822 | valid_accuracy: 0.83231 |  0:00:09s\n",
      "epoch 10 | loss: 0.44565 | train_auc: 0.82645 | train_accuracy: 0.81349 | valid_auc: 0.76779 | valid_accuracy: 0.80777 |  0:00:10s\n",
      "epoch 11 | loss: 0.45061 | train_auc: 0.83114 | train_accuracy: 0.81261 | valid_auc: 0.76307 | valid_accuracy: 0.78732 |  0:00:10s\n",
      "epoch 12 | loss: 0.45447 | train_auc: 0.83827 | train_accuracy: 0.83187 | valid_auc: 0.75135 | valid_accuracy: 0.81391 |  0:00:11s\n",
      "epoch 13 | loss: 0.46261 | train_auc: 0.84825 | train_accuracy: 0.82399 | valid_auc: 0.7577  | valid_accuracy: 0.77914 |  0:00:13s\n",
      "epoch 14 | loss: 0.43738 | train_auc: 0.85226 | train_accuracy: 0.82662 | valid_auc: 0.74335 | valid_accuracy: 0.77914 |  0:00:14s\n",
      "epoch 15 | loss: 0.44856 | train_auc: 0.8518  | train_accuracy: 0.7824  | valid_auc: 0.76248 | valid_accuracy: 0.73006 |  0:00:15s\n",
      "epoch 16 | loss: 0.4352  | train_auc: 0.85681 | train_accuracy: 0.80867 | valid_auc: 0.74173 | valid_accuracy: 0.7546  |  0:00:15s\n",
      "epoch 17 | loss: 0.43964 | train_auc: 0.85922 | train_accuracy: 0.82574 | valid_auc: 0.74195 | valid_accuracy: 0.76687 |  0:00:17s\n",
      "epoch 18 | loss: 0.41668 | train_auc: 0.84912 | train_accuracy: 0.82049 | valid_auc: 0.75741 | valid_accuracy: 0.78119 |  0:00:18s\n",
      "epoch 19 | loss: 0.42757 | train_auc: 0.86281 | train_accuracy: 0.81436 | valid_auc: 0.76819 | valid_accuracy: 0.76074 |  0:00:20s\n",
      "epoch 20 | loss: 0.43436 | train_auc: 0.87193 | train_accuracy: 0.82837 | valid_auc: 0.74846 | valid_accuracy: 0.76278 |  0:00:22s\n",
      "epoch 21 | loss: 0.43764 | train_auc: 0.87982 | train_accuracy: 0.84764 | valid_auc: 0.74628 | valid_accuracy: 0.79346 |  0:00:24s\n",
      "epoch 22 | loss: 0.4077  | train_auc: 0.88037 | train_accuracy: 0.82049 | valid_auc: 0.71594 | valid_accuracy: 0.74233 |  0:00:25s\n",
      "epoch 23 | loss: 0.3947  | train_auc: 0.89042 | train_accuracy: 0.83056 | valid_auc: 0.72362 | valid_accuracy: 0.72802 |  0:00:27s\n",
      "epoch 24 | loss: 0.41416 | train_auc: 0.89028 | train_accuracy: 0.82049 | valid_auc: 0.7109  | valid_accuracy: 0.70552 |  0:00:29s\n",
      "epoch 25 | loss: 0.40447 | train_auc: 0.88509 | train_accuracy: 0.81217 | valid_auc: 0.7329  | valid_accuracy: 0.69939 |  0:00:31s\n",
      "epoch 26 | loss: 0.40538 | train_auc: 0.88768 | train_accuracy: 0.83056 | valid_auc: 0.73735 | valid_accuracy: 0.73824 |  0:00:32s\n",
      "epoch 27 | loss: 0.39045 | train_auc: 0.88451 | train_accuracy: 0.78809 | valid_auc: 0.70389 | valid_accuracy: 0.6728  |  0:00:33s\n",
      "epoch 28 | loss: 0.38678 | train_auc: 0.89466 | train_accuracy: 0.84764 | valid_auc: 0.73508 | valid_accuracy: 0.76483 |  0:00:34s\n",
      "epoch 29 | loss: 0.40249 | train_auc: 0.88547 | train_accuracy: 0.83275 | valid_auc: 0.73191 | valid_accuracy: 0.74438 |  0:00:36s\n",
      "epoch 30 | loss: 0.40241 | train_auc: 0.89314 | train_accuracy: 0.8437  | valid_auc: 0.72629 | valid_accuracy: 0.75665 |  0:00:37s\n",
      "epoch 31 | loss: 0.40006 | train_auc: 0.90991 | train_accuracy: 0.85201 | valid_auc: 0.71343 | valid_accuracy: 0.75051 |  0:00:39s\n",
      "epoch 32 | loss: 0.38968 | train_auc: 0.91273 | train_accuracy: 0.83363 | valid_auc: 0.74178 | valid_accuracy: 0.71166 |  0:00:41s\n",
      "epoch 33 | loss: 0.37782 | train_auc: 0.90383 | train_accuracy: 0.81918 | valid_auc: 0.74799 | valid_accuracy: 0.69121 |  0:00:42s\n",
      "epoch 34 | loss: 0.38572 | train_auc: 0.89214 | train_accuracy: 0.82268 | valid_auc: 0.7437  | valid_accuracy: 0.74233 |  0:00:44s\n",
      "epoch 35 | loss: 0.39056 | train_auc: 0.90243 | train_accuracy: 0.83757 | valid_auc: 0.73503 | valid_accuracy: 0.72802 |  0:00:46s\n",
      "epoch 36 | loss: 0.37559 | train_auc: 0.90821 | train_accuracy: 0.82925 | valid_auc: 0.7338  | valid_accuracy: 0.72188 |  0:00:47s\n",
      "epoch 37 | loss: 0.37867 | train_auc: 0.90997 | train_accuracy: 0.81305 | valid_auc: 0.72606 | valid_accuracy: 0.67894 |  0:00:48s\n",
      "epoch 38 | loss: 0.3886  | train_auc: 0.90883 | train_accuracy: 0.82925 | valid_auc: 0.73655 | valid_accuracy: 0.69121 |  0:00:49s\n",
      "epoch 39 | loss: 0.36816 | train_auc: 0.91221 | train_accuracy: 0.84764 | valid_auc: 0.72265 | valid_accuracy: 0.69939 |  0:00:51s\n",
      "epoch 40 | loss: 0.37095 | train_auc: 0.90568 | train_accuracy: 0.84194 | valid_auc: 0.71803 | valid_accuracy: 0.6953  |  0:00:53s\n",
      "epoch 41 | loss: 0.38132 | train_auc: 0.92332 | train_accuracy: 0.83713 | valid_auc: 0.74176 | valid_accuracy: 0.68916 |  0:00:55s\n",
      "epoch 42 | loss: 0.3755  | train_auc: 0.9251  | train_accuracy: 0.85639 | valid_auc: 0.73494 | valid_accuracy: 0.72393 |  0:00:56s\n",
      "epoch 43 | loss: 0.35197 | train_auc: 0.90966 | train_accuracy: 0.82487 | valid_auc: 0.72809 | valid_accuracy: 0.6953  |  0:00:58s\n",
      "epoch 44 | loss: 0.38511 | train_auc: 0.92477 | train_accuracy: 0.86559 | valid_auc: 0.72615 | valid_accuracy: 0.73415 |  0:00:59s\n",
      "epoch 45 | loss: 0.35834 | train_auc: 0.93191 | train_accuracy: 0.84501 | valid_auc: 0.73134 | valid_accuracy: 0.7137  |  0:01:00s\n",
      "epoch 46 | loss: 0.35336 | train_auc: 0.93061 | train_accuracy: 0.85552 | valid_auc: 0.74275 | valid_accuracy: 0.73006 |  0:01:02s\n",
      "epoch 47 | loss: 0.36831 | train_auc: 0.92411 | train_accuracy: 0.84764 | valid_auc: 0.75028 | valid_accuracy: 0.74029 |  0:01:03s\n",
      "epoch 48 | loss: 0.3444  | train_auc: 0.93178 | train_accuracy: 0.86077 | valid_auc: 0.73605 | valid_accuracy: 0.71779 |  0:01:05s\n",
      "epoch 49 | loss: 0.33683 | train_auc: 0.93153 | train_accuracy: 0.85639 | valid_auc: 0.73577 | valid_accuracy: 0.71779 |  0:01:06s\n",
      "epoch 50 | loss: 0.32649 | train_auc: 0.93883 | train_accuracy: 0.86296 | valid_auc: 0.755   | valid_accuracy: 0.74438 |  0:01:07s\n",
      "epoch 51 | loss: 0.33353 | train_auc: 0.9451  | train_accuracy: 0.85639 | valid_auc: 0.74003 | valid_accuracy: 0.71779 |  0:01:09s\n",
      "epoch 52 | loss: 0.31617 | train_auc: 0.9422  | train_accuracy: 0.87347 | valid_auc: 0.76016 | valid_accuracy: 0.74029 |  0:01:10s\n",
      "epoch 53 | loss: 0.31052 | train_auc: 0.94476 | train_accuracy: 0.86953 | valid_auc: 0.75142 | valid_accuracy: 0.7362  |  0:01:11s\n",
      "epoch 54 | loss: 0.32007 | train_auc: 0.93505 | train_accuracy: 0.85989 | valid_auc: 0.73501 | valid_accuracy: 0.73415 |  0:01:13s\n",
      "epoch 55 | loss: 0.31209 | train_auc: 0.93999 | train_accuracy: 0.84326 | valid_auc: 0.73077 | valid_accuracy: 0.6953  |  0:01:15s\n",
      "\n",
      "Early stopping occurred at epoch 55 with best_epoch = 5 and best_valid_accuracy = 0.84458\n",
      "Best weights from best epoch are automatically used!\n"
     ]
    }
   ],
   "source": [
    "clf1.fit(\n",
    "    x_train,y_train,\n",
    "    eval_set=[(x_train, y_train), (x_val, y_val)],\n",
    "    eval_name=['train', 'valid'],\n",
    "    eval_metric=['auc','accuracy'],\n",
    "    max_epochs=1000 , patience=50,\n",
    "    batch_size=256, virtual_batch_size=128,\n",
    "    num_workers=0,\n",
    "    weights=1,\n",
    "    drop_last=False\n",
    ")"
   ]
  },
  {
   "cell_type": "code",
   "execution_count": 121,
   "metadata": {},
   "outputs": [
    {
     "data": {
      "text/plain": [
       "[<matplotlib.lines.Line2D at 0x1ba7990dc40>]"
      ]
     },
     "execution_count": 121,
     "metadata": {},
     "output_type": "execute_result"
    },
    {
     "data": {
      "image/png": "[encoded data removed]",
      "text/plain": [
       "<Figure size 432x288 with 1 Axes>"
      ]
     },
     "metadata": {},
     "output_type": "display_data"
    }
   ],
   "source": [
    "# plot losses\n",
    "plt.plot(clf1.history['loss'])"
   ]
  },
  {
   "cell_type": "code",
   "execution_count": 122,
   "metadata": {},
   "outputs": [
    {
     "data": {
      "text/plain": [
       "[<matplotlib.lines.Line2D at 0x1ba77cd0370>]"
      ]
     },
     "execution_count": 122,
     "metadata": {},
     "output_type": "execute_result"
    },
    {
     "data": {
      "image/png": "[encoded data removed]",
      "text/plain": [
       "<Figure size 432x288 with 1 Axes>"
      ]
     },
     "metadata": {},
     "output_type": "display_data"
    }
   ],
   "source": [
    "# plot auc\n",
    "plt.plot(clf1.history['train_auc'])\n",
    "plt.plot(clf1.history['valid_auc'])"
   ]
  },
  {
   "cell_type": "code",
   "execution_count": 143,
   "metadata": {},
   "outputs": [
    {
     "data": {
      "text/plain": [
       "[<matplotlib.lines.Line2D at 0x1ba0092a3d0>]"
      ]
     },
     "execution_count": 143,
     "metadata": {},
     "output_type": "execute_result"
    },
    {
     "data": {
      "image/png": "[encoded data removed]",
      "text/plain": [
       "<Figure size 432x288 with 1 Axes>"
      ]
     },
     "metadata": {},
     "output_type": "display_data"
    }
   ],
   "source": [
    "# plot auc\n",
    "plt.plot(clf1.history['train_accuracy'])\n",
    "plt.plot(clf1.history['valid_accuracy'])"
   ]
  },
  {
   "cell_type": "code",
   "execution_count": 123,
   "metadata": {},
   "outputs": [
    {
     "data": {
      "text/plain": [
       "[<matplotlib.lines.Line2D at 0x1ba00091a30>]"
      ]
     },
     "execution_count": 123,
     "metadata": {},
     "output_type": "execute_result"
    },
    {
     "data": {
      "image/png": "[encoded data removed]",
      "text/plain": [
       "<Figure size 432x288 with 1 Axes>"
      ]
     },
     "metadata": {},
     "output_type": "display_data"
    }
   ],
   "source": [
    "# plot learning rates\n",
    "plt.plot(clf1.history['lr'])"
   ]
  },
  {
   "cell_type": "code",
   "execution_count": 124,
   "metadata": {},
   "outputs": [
    {
     "name": "stdout",
     "output_type": "stream",
     "text": [
      "BEST VALID SCORE FOR THIS SET : 0.8445807770961146\n",
      "FINAL TEST SCORE FOR THIS SET : 0.7787206132529874\n"
     ]
    }
   ],
   "source": [
    "preds = clf1.predict_proba(x_test)\n",
    "test_auc = roc_auc_score(y_score=preds[:,1], y_true=y_test)\n",
    "\n",
    "\n",
    "preds_valid = clf1.predict_proba(x_val)\n",
    "valid_auc = roc_auc_score(y_score=preds_valid[:,1], y_true=y_val)\n",
    "\n",
    "print(f\"BEST VALID SCORE FOR THIS SET : {clf1.best_cost}\")\n",
    "print(f\"FINAL TEST SCORE FOR THIS SET : {test_auc}\")"
   ]
  },
  {
   "cell_type": "code",
   "execution_count": 159,
   "metadata": {},
   "outputs": [
    {
     "name": "stdout",
     "output_type": "stream",
     "text": [
      "BEST ACCURACY SCORE ON VALIDATION SET : 0.8445807770961146\n",
      "BEST ACCURACY SCORE ON TEST SET : 0.8183673469387756\n"
     ]
    }
   ],
   "source": [
    "preds = clf1.predict(x_test)\n",
    "test_acc = accuracy_score(preds, y_test)\n",
    "\n",
    "\n",
    "preds_valid = clf1.predict(x_val)\n",
    "valid_acc = accuracy_score(preds_valid, y_val)\n",
    "\n",
    "print(f\"BEST ACCURACY SCORE ON VALIDATION SET : {valid_acc}\")\n",
    "print(f\"BEST ACCURACY SCORE ON TEST SET : {test_acc}\")"
   ]
  },
  {
   "cell_type": "code",
   "execution_count": null,
   "metadata": {},
   "outputs": [],
   "source": [
    "# check that best weights are used\n",
    "assert np.isclose(valid_auc, np.max(clf1.history['valid_auc']), atol=1e-6)"
   ]
  },
  {
   "cell_type": "code",
   "execution_count": 125,
   "metadata": {},
   "outputs": [],
   "source": [
    "y_pred = clf1.predict(x_test)"
   ]
  },
  {
   "cell_type": "code",
   "execution_count": 126,
   "metadata": {},
   "outputs": [
    {
     "data": {
      "text/plain": [
       "array([0.05758596, 0.06925715, 0.04699321, 0.04336625, 0.02433202,\n",
       "       0.01860883, 0.00455365, 0.01661093, 0.00973072, 0.00383943,\n",
       "       0.0265288 , 0.0146363 , 0.00718994, 0.15064551, 0.3801657 ,\n",
       "       0.03707393, 0.01493747, 0.0378262 , 0.00247997, 0.03363802])"
      ]
     },
     "execution_count": 126,
     "metadata": {},
     "output_type": "execute_result"
    }
   ],
   "source": [
    "clf1.feature_importances_"
   ]
  },
  {
   "cell_type": "code",
   "execution_count": 127,
   "metadata": {},
   "outputs": [],
   "source": [
    "explain_matrix, masks = clf1.explain(x_test)"
   ]
  },
  {
   "cell_type": "code",
   "execution_count": 128,
   "metadata": {},
   "outputs": [
    {
     "data": {
      "image/png": "[encoded data removed]",
      "text/plain": [
       "<Figure size 1440x1440 with 3 Axes>"
      ]
     },
     "metadata": {},
     "output_type": "display_data"
    }
   ],
   "source": [
    "fig, axs = plt.subplots(1, 3, figsize=(20,20))\n",
    "\n",
    "for i in range(3):\n",
    "    axs[i].imshow(masks[i][:50])\n",
    "    axs[i].set_title(f\"mask {i}\")"
   ]
  },
  {
   "cell_type": "code",
   "execution_count": 129,
   "metadata": {},
   "outputs": [
    {
     "data": {
      "text/plain": [
       "array([[337,  14],\n",
       "       [ 75,  64]], dtype=int64)"
      ]
     },
     "execution_count": 129,
     "metadata": {},
     "output_type": "execute_result"
    }
   ],
   "source": [
    "from sklearn.metrics import confusion_matrix\n",
    "confusion_matrix(y_test, y_pred)"
   ]
  },
  {
   "cell_type": "markdown",
   "metadata": {},
   "source": [
    "# Unsupervised Tabnet"
   ]
  },
  {
   "cell_type": "code",
   "execution_count": 131,
   "metadata": {},
   "outputs": [],
   "source": [
    "from pytorch_tabnet.pretraining import TabNetPretrainer"
   ]
  },
  {
   "cell_type": "code",
   "execution_count": 132,
   "metadata": {},
   "outputs": [
    {
     "name": "stdout",
     "output_type": "stream",
     "text": [
      "Device used : cpu\n"
     ]
    }
   ],
   "source": [
    "# TabNetPretrainer\n",
    "unsupervised_model = TabNetPretrainer(\n",
    "    optimizer_fn=torch.optim.Adam,\n",
    "    optimizer_params=dict(lr=2e-2),\n",
    "    mask_type='entmax', # \"sparsemax\",\n",
    "    #n_shared_decoder=1, # nb shared glu for decoding\n",
    "    #n_indep_decoder=1, # nb independent glu for decoding\n",
    ")"
   ]
  },
  {
   "cell_type": "code",
   "execution_count": 133,
   "metadata": {},
   "outputs": [
    {
     "name": "stdout",
     "output_type": "stream",
     "text": [
      "epoch 0  | loss: 5.34737 | val_0_unsup_loss: 1.42451 |  0:00:01s\n",
      "epoch 1  | loss: 1.6799  | val_0_unsup_loss: 1.16788 |  0:00:02s\n",
      "epoch 2  | loss: 1.16748 | val_0_unsup_loss: 1.134   |  0:00:04s\n",
      "epoch 3  | loss: 1.06895 | val_0_unsup_loss: 1.09998 |  0:00:06s\n",
      "epoch 4  | loss: 1.03868 | val_0_unsup_loss: 1.07285 |  0:00:07s\n",
      "epoch 5  | loss: 1.02801 | val_0_unsup_loss: 1.04224 |  0:00:09s\n",
      "epoch 6  | loss: 1.00839 | val_0_unsup_loss: 1.03399 |  0:00:11s\n",
      "epoch 7  | loss: 0.99228 | val_0_unsup_loss: 0.9981  |  0:00:12s\n",
      "epoch 8  | loss: 1.01007 | val_0_unsup_loss: 0.97959 |  0:00:15s\n",
      "epoch 9  | loss: 4492.3747| val_0_unsup_loss: 0.98103 |  0:00:16s\n",
      "epoch 10 | loss: 0.9975  | val_0_unsup_loss: 0.96291 |  0:00:17s\n",
      "epoch 11 | loss: 0.98667 | val_0_unsup_loss: 0.9609  |  0:00:19s\n",
      "epoch 12 | loss: 0.97941 | val_0_unsup_loss: 0.951   |  0:00:20s\n",
      "epoch 13 | loss: 0.97447 | val_0_unsup_loss: 0.94539 |  0:00:21s\n",
      "epoch 14 | loss: 0.98115 | val_0_unsup_loss: 0.94276 |  0:00:23s\n",
      "epoch 15 | loss: 0.9764  | val_0_unsup_loss: 0.93513 |  0:00:24s\n",
      "epoch 16 | loss: 0.9834  | val_0_unsup_loss: 0.92612 |  0:00:25s\n",
      "epoch 17 | loss: 0.9759  | val_0_unsup_loss: 0.91616 |  0:00:27s\n",
      "epoch 18 | loss: 0.9737  | val_0_unsup_loss: 0.90928 |  0:00:29s\n",
      "epoch 19 | loss: 0.96871 | val_0_unsup_loss: 0.89957 |  0:00:30s\n",
      "epoch 20 | loss: 0.96001 | val_0_unsup_loss: 0.89609 |  0:00:32s\n",
      "epoch 21 | loss: 0.96264 | val_0_unsup_loss: 0.89818 |  0:00:33s\n",
      "epoch 22 | loss: 0.96541 | val_0_unsup_loss: 0.88669 |  0:00:35s\n",
      "epoch 23 | loss: 0.96476 | val_0_unsup_loss: 0.88715 |  0:00:36s\n",
      "epoch 24 | loss: 0.95866 | val_0_unsup_loss: 0.88323 |  0:00:38s\n",
      "epoch 25 | loss: 0.95488 | val_0_unsup_loss: 0.88972 |  0:00:39s\n",
      "epoch 26 | loss: 0.96029 | val_0_unsup_loss: 0.90941 |  0:00:42s\n",
      "epoch 27 | loss: 0.95284 | val_0_unsup_loss: 0.87971 |  0:00:43s\n",
      "epoch 28 | loss: 0.95379 | val_0_unsup_loss: 0.87648 |  0:00:45s\n",
      "epoch 29 | loss: 0.93715 | val_0_unsup_loss: 0.86789 |  0:00:46s\n",
      "epoch 30 | loss: 0.95357 | val_0_unsup_loss: 0.87655 |  0:00:47s\n",
      "epoch 31 | loss: 0.95238 | val_0_unsup_loss: 0.86475 |  0:00:49s\n",
      "epoch 32 | loss: 0.94354 | val_0_unsup_loss: 0.85405 |  0:00:50s\n",
      "epoch 33 | loss: 0.93889 | val_0_unsup_loss: 0.84624 |  0:00:51s\n",
      "epoch 34 | loss: 6757.00788| val_0_unsup_loss: 0.85788 |  0:00:52s\n",
      "epoch 35 | loss: 0.93876 | val_0_unsup_loss: 0.84374 |  0:00:54s\n",
      "epoch 36 | loss: 0.94151 | val_0_unsup_loss: 0.83645 |  0:00:55s\n",
      "epoch 37 | loss: 0.92721 | val_0_unsup_loss: 0.83842 |  0:00:56s\n",
      "epoch 38 | loss: 0.94008 | val_0_unsup_loss: 0.82225 |  0:00:58s\n",
      "epoch 39 | loss: 0.93399 | val_0_unsup_loss: 0.84122 |  0:00:58s\n",
      "epoch 40 | loss: 0.94238 | val_0_unsup_loss: 0.82482 |  0:00:59s\n",
      "epoch 41 | loss: 0.94079 | val_0_unsup_loss: 0.82534 |  0:01:02s\n",
      "epoch 42 | loss: 0.9195  | val_0_unsup_loss: 0.81225 |  0:01:03s\n",
      "epoch 43 | loss: 0.92326 | val_0_unsup_loss: 0.82145 |  0:01:04s\n",
      "epoch 44 | loss: 0.9362  | val_0_unsup_loss: 0.82536 |  0:01:05s\n",
      "epoch 45 | loss: 0.93278 | val_0_unsup_loss: 0.80341 |  0:01:07s\n",
      "epoch 46 | loss: 0.93739 | val_0_unsup_loss: 0.80691 |  0:01:08s\n",
      "epoch 47 | loss: 0.94804 | val_0_unsup_loss: 0.82047 |  0:01:10s\n",
      "epoch 48 | loss: 0.93462 | val_0_unsup_loss: 0.80412 |  0:01:11s\n",
      "epoch 49 | loss: 0.92992 | val_0_unsup_loss: 0.81996 |  0:01:12s\n",
      "epoch 50 | loss: 0.92752 | val_0_unsup_loss: 0.82634 |  0:01:13s\n",
      "epoch 51 | loss: 0.92896 | val_0_unsup_loss: 0.81287 |  0:01:15s\n",
      "epoch 52 | loss: 0.93532 | val_0_unsup_loss: 0.81019 |  0:01:16s\n",
      "epoch 53 | loss: 0.92944 | val_0_unsup_loss: 0.80105 |  0:01:17s\n",
      "epoch 54 | loss: 0.92338 | val_0_unsup_loss: 0.79698 |  0:01:19s\n",
      "epoch 55 | loss: 0.91422 | val_0_unsup_loss: 0.80567 |  0:01:19s\n",
      "epoch 56 | loss: 0.93659 | val_0_unsup_loss: 0.80338 |  0:01:21s\n",
      "epoch 57 | loss: 5937.46375| val_0_unsup_loss: 0.81874 |  0:01:22s\n",
      "epoch 58 | loss: 0.93328 | val_0_unsup_loss: 0.81929 |  0:01:24s\n",
      "epoch 59 | loss: 0.93252 | val_0_unsup_loss: 0.81647 |  0:01:26s\n",
      "epoch 60 | loss: 0.9271  | val_0_unsup_loss: 0.80418 |  0:01:27s\n",
      "epoch 61 | loss: 0.94035 | val_0_unsup_loss: 0.80493 |  0:01:28s\n",
      "epoch 62 | loss: 0.92458 | val_0_unsup_loss: 0.80479 |  0:01:29s\n",
      "epoch 63 | loss: 0.91501 | val_0_unsup_loss: 0.80463 |  0:01:31s\n",
      "epoch 64 | loss: 0.9202  | val_0_unsup_loss: 0.80972 |  0:01:32s\n",
      "epoch 65 | loss: 0.92433 | val_0_unsup_loss: 0.79739 |  0:01:34s\n",
      "epoch 66 | loss: 0.91448 | val_0_unsup_loss: 0.79741 |  0:01:35s\n",
      "epoch 67 | loss: 0.92801 | val_0_unsup_loss: 0.80706 |  0:01:36s\n",
      "epoch 68 | loss: 0.9105  | val_0_unsup_loss: 0.81012 |  0:01:37s\n",
      "epoch 69 | loss: 0.92801 | val_0_unsup_loss: 0.80587 |  0:01:39s\n",
      "epoch 70 | loss: 0.91298 | val_0_unsup_loss: 0.80172 |  0:01:40s\n",
      "epoch 71 | loss: 0.92483 | val_0_unsup_loss: 0.79368 |  0:01:41s\n",
      "epoch 72 | loss: 0.9354  | val_0_unsup_loss: 0.79414 |  0:01:43s\n",
      "epoch 73 | loss: 0.93227 | val_0_unsup_loss: 0.80009 |  0:01:44s\n",
      "epoch 74 | loss: 0.92837 | val_0_unsup_loss: 0.79638 |  0:01:45s\n",
      "epoch 75 | loss: 0.91346 | val_0_unsup_loss: 0.78706 |  0:01:46s\n",
      "epoch 76 | loss: 0.92096 | val_0_unsup_loss: 0.80626 |  0:01:47s\n",
      "epoch 77 | loss: 0.93509 | val_0_unsup_loss: 0.79285 |  0:01:48s\n",
      "epoch 78 | loss: 0.91401 | val_0_unsup_loss: 0.79807 |  0:01:49s\n",
      "epoch 79 | loss: 1246.40028| val_0_unsup_loss: 0.81744 |  0:01:50s\n",
      "epoch 80 | loss: 0.91166 | val_0_unsup_loss: 0.80406 |  0:01:52s\n",
      "epoch 81 | loss: 0.91707 | val_0_unsup_loss: 0.8032  |  0:01:53s\n",
      "epoch 82 | loss: 0.91123 | val_0_unsup_loss: 0.79293 |  0:01:55s\n",
      "epoch 83 | loss: 0.9215  | val_0_unsup_loss: 0.79035 |  0:01:56s\n",
      "epoch 84 | loss: 0.91261 | val_0_unsup_loss: 0.79204 |  0:01:58s\n",
      "epoch 85 | loss: 0.92612 | val_0_unsup_loss: 0.79325 |  0:01:59s\n",
      "epoch 86 | loss: 0.93073 | val_0_unsup_loss: 0.78727 |  0:02:00s\n",
      "epoch 87 | loss: 0.92234 | val_0_unsup_loss: 0.7896  |  0:02:02s\n",
      "epoch 88 | loss: 0.91096 | val_0_unsup_loss: 0.78812 |  0:02:03s\n",
      "epoch 89 | loss: 0.91273 | val_0_unsup_loss: 0.78979 |  0:02:04s\n",
      "epoch 90 | loss: 0.91058 | val_0_unsup_loss: 0.79796 |  0:02:06s\n",
      "epoch 91 | loss: 0.90974 | val_0_unsup_loss: 0.79277 |  0:02:07s\n",
      "epoch 92 | loss: 0.9111  | val_0_unsup_loss: 0.79575 |  0:02:08s\n",
      "epoch 93 | loss: 0.91614 | val_0_unsup_loss: 0.78607 |  0:02:09s\n",
      "epoch 94 | loss: 0.91858 | val_0_unsup_loss: 0.80414 |  0:02:11s\n",
      "epoch 95 | loss: 0.94117 | val_0_unsup_loss: 0.79068 |  0:02:12s\n",
      "epoch 96 | loss: 0.90339 | val_0_unsup_loss: 0.78681 |  0:02:13s\n",
      "epoch 97 | loss: 6779.37306| val_0_unsup_loss: 0.81182 |  0:02:15s\n",
      "epoch 98 | loss: 0.91008 | val_0_unsup_loss: 0.7893  |  0:02:16s\n",
      "epoch 99 | loss: 13999.28193| val_0_unsup_loss: 0.79179 |  0:02:17s\n",
      "epoch 100| loss: 0.92007 | val_0_unsup_loss: 0.78289 |  0:02:18s\n",
      "epoch 101| loss: 0.92744 | val_0_unsup_loss: 0.78867 |  0:02:19s\n",
      "epoch 102| loss: 2632.77317| val_0_unsup_loss: 0.79654 |  0:02:20s\n",
      "epoch 103| loss: 0.93368 | val_0_unsup_loss: 0.78723 |  0:02:22s\n",
      "epoch 104| loss: 0.92102 | val_0_unsup_loss: 0.7907  |  0:02:23s\n",
      "epoch 105| loss: 0.90691 | val_0_unsup_loss: 0.77564 |  0:02:24s\n",
      "epoch 106| loss: 0.91918 | val_0_unsup_loss: 0.76989 |  0:02:25s\n",
      "epoch 107| loss: 0.91769 | val_0_unsup_loss: 0.76984 |  0:02:27s\n",
      "epoch 108| loss: 0.91772 | val_0_unsup_loss: 0.77147 |  0:02:29s\n",
      "epoch 109| loss: 0.90768 | val_0_unsup_loss: 0.77793 |  0:02:30s\n",
      "epoch 110| loss: 0.91276 | val_0_unsup_loss: 0.78294 |  0:02:31s\n",
      "epoch 111| loss: 3316.16049| val_0_unsup_loss: 0.77914 |  0:02:32s\n",
      "epoch 112| loss: 0.93561 | val_0_unsup_loss: 0.78836 |  0:02:34s\n",
      "epoch 113| loss: 0.91655 | val_0_unsup_loss: 0.79712 |  0:02:34s\n",
      "epoch 114| loss: 0.93015 | val_0_unsup_loss: 0.79803 |  0:02:35s\n",
      "epoch 115| loss: 0.91609 | val_0_unsup_loss: 0.78492 |  0:02:36s\n",
      "epoch 116| loss: 0.92076 | val_0_unsup_loss: 0.78544 |  0:02:37s\n",
      "epoch 117| loss: 0.90559 | val_0_unsup_loss: 0.77635 |  0:02:41s\n",
      "epoch 118| loss: 0.92727 | val_0_unsup_loss: 0.77852 |  0:02:42s\n",
      "epoch 119| loss: 0.91712 | val_0_unsup_loss: 0.78447 |  0:02:43s\n",
      "epoch 120| loss: 0.92042 | val_0_unsup_loss: 0.7968  |  0:02:44s\n",
      "epoch 121| loss: 0.91245 | val_0_unsup_loss: 0.77702 |  0:02:45s\n",
      "epoch 122| loss: 0.93144 | val_0_unsup_loss: 0.79096 |  0:02:46s\n",
      "epoch 123| loss: 0.92066 | val_0_unsup_loss: 0.78662 |  0:02:46s\n",
      "epoch 124| loss: 0.91233 | val_0_unsup_loss: 0.77121 |  0:02:47s\n",
      "epoch 125| loss: 0.92203 | val_0_unsup_loss: 0.76824 |  0:02:49s\n",
      "epoch 126| loss: 0.92978 | val_0_unsup_loss: 0.78558 |  0:02:50s\n",
      "epoch 127| loss: 0.91096 | val_0_unsup_loss: 0.7735  |  0:02:51s\n",
      "epoch 128| loss: 0.91749 | val_0_unsup_loss: 0.77969 |  0:02:52s\n",
      "epoch 129| loss: 0.92528 | val_0_unsup_loss: 0.77448 |  0:02:53s\n",
      "epoch 130| loss: 2379.12678| val_0_unsup_loss: 0.80008 |  0:02:54s\n",
      "epoch 131| loss: 0.9182  | val_0_unsup_loss: 0.79091 |  0:02:55s\n",
      "epoch 132| loss: 0.91171 | val_0_unsup_loss: 0.78617 |  0:02:56s\n",
      "epoch 133| loss: 0.92365 | val_0_unsup_loss: 0.77455 |  0:02:57s\n",
      "epoch 134| loss: 0.91843 | val_0_unsup_loss: 0.76972 |  0:02:59s\n",
      "epoch 135| loss: 0.92076 | val_0_unsup_loss: 0.7805  |  0:03:00s\n",
      "epoch 136| loss: 0.915   | val_0_unsup_loss: 0.77675 |  0:03:01s\n",
      "epoch 137| loss: 0.8993  | val_0_unsup_loss: 0.77346 |  0:03:02s\n",
      "epoch 138| loss: 0.91966 | val_0_unsup_loss: 0.78483 |  0:03:02s\n",
      "epoch 139| loss: 0.92322 | val_0_unsup_loss: 0.77796 |  0:03:03s\n",
      "epoch 140| loss: 0.91935 | val_0_unsup_loss: 0.77479 |  0:03:04s\n",
      "epoch 141| loss: 0.90207 | val_0_unsup_loss: 0.76447 |  0:03:05s\n",
      "epoch 142| loss: 0.91142 | val_0_unsup_loss: 0.75753 |  0:03:06s\n",
      "epoch 143| loss: 0.90872 | val_0_unsup_loss: 0.75536 |  0:03:07s\n",
      "epoch 144| loss: 0.92266 | val_0_unsup_loss: 0.75449 |  0:03:08s\n",
      "epoch 145| loss: 0.89349 | val_0_unsup_loss: 0.75265 |  0:03:09s\n",
      "epoch 146| loss: 0.92234 | val_0_unsup_loss: 0.75678 |  0:03:10s\n",
      "epoch 147| loss: 0.91647 | val_0_unsup_loss: 0.75679 |  0:03:12s\n",
      "epoch 148| loss: 0.92029 | val_0_unsup_loss: 0.75812 |  0:03:13s\n",
      "epoch 149| loss: 0.91808 | val_0_unsup_loss: 0.7631  |  0:03:14s\n",
      "epoch 150| loss: 0.9143  | val_0_unsup_loss: 0.76762 |  0:03:15s\n",
      "epoch 151| loss: 0.91017 | val_0_unsup_loss: 0.76759 |  0:03:16s\n",
      "epoch 152| loss: 0.90837 | val_0_unsup_loss: 0.76288 |  0:03:17s\n",
      "epoch 153| loss: 0.92328 | val_0_unsup_loss: 0.77015 |  0:03:19s\n",
      "epoch 154| loss: 0.9024  | val_0_unsup_loss: 0.76457 |  0:03:20s\n",
      "epoch 155| loss: 0.90935 | val_0_unsup_loss: 0.76332 |  0:03:22s\n",
      "epoch 156| loss: 0.92389 | val_0_unsup_loss: 0.7645  |  0:03:23s\n",
      "epoch 157| loss: 0.90562 | val_0_unsup_loss: 0.77578 |  0:03:25s\n",
      "epoch 158| loss: 0.91787 | val_0_unsup_loss: 0.76783 |  0:03:26s\n",
      "epoch 159| loss: 0.90938 | val_0_unsup_loss: 0.76245 |  0:03:26s\n",
      "epoch 160| loss: 0.9108  | val_0_unsup_loss: 0.7692  |  0:03:27s\n",
      "epoch 161| loss: 0.91608 | val_0_unsup_loss: 0.77059 |  0:03:28s\n",
      "epoch 162| loss: 0.91281 | val_0_unsup_loss: 0.76584 |  0:03:29s\n",
      "epoch 163| loss: 0.90159 | val_0_unsup_loss: 0.75846 |  0:03:31s\n",
      "epoch 164| loss: 0.90947 | val_0_unsup_loss: 0.77187 |  0:03:32s\n",
      "epoch 165| loss: 0.91583 | val_0_unsup_loss: 0.76705 |  0:03:33s\n",
      "epoch 166| loss: 0.90114 | val_0_unsup_loss: 0.77119 |  0:03:33s\n",
      "epoch 167| loss: 0.91804 | val_0_unsup_loss: 0.77297 |  0:03:34s\n",
      "epoch 168| loss: 0.92382 | val_0_unsup_loss: 0.7699  |  0:03:37s\n",
      "epoch 169| loss: 0.88854 | val_0_unsup_loss: 0.76585 |  0:03:38s\n",
      "epoch 170| loss: 0.89836 | val_0_unsup_loss: 0.76841 |  0:03:39s\n",
      "epoch 171| loss: 0.90164 | val_0_unsup_loss: 0.77093 |  0:03:40s\n",
      "epoch 172| loss: 0.89169 | val_0_unsup_loss: 0.77693 |  0:03:41s\n",
      "epoch 173| loss: 0.91241 | val_0_unsup_loss: 0.76869 |  0:03:42s\n",
      "epoch 174| loss: 0.91636 | val_0_unsup_loss: 0.7738  |  0:03:42s\n",
      "epoch 175| loss: 0.90389 | val_0_unsup_loss: 0.76822 |  0:03:43s\n",
      "epoch 176| loss: 0.89717 | val_0_unsup_loss: 0.76249 |  0:03:44s\n",
      "epoch 177| loss: 0.90058 | val_0_unsup_loss: 0.76979 |  0:03:45s\n",
      "epoch 178| loss: 0.88314 | val_0_unsup_loss: 0.76607 |  0:03:46s\n",
      "epoch 179| loss: 0.91785 | val_0_unsup_loss: 0.76006 |  0:03:47s\n",
      "epoch 180| loss: 0.90511 | val_0_unsup_loss: 0.76322 |  0:03:48s\n",
      "epoch 181| loss: 0.91318 | val_0_unsup_loss: 0.76026 |  0:03:48s\n",
      "epoch 182| loss: 0.90284 | val_0_unsup_loss: 0.76794 |  0:03:50s\n",
      "epoch 183| loss: 0.88556 | val_0_unsup_loss: 0.75717 |  0:03:51s\n",
      "epoch 184| loss: 0.89463 | val_0_unsup_loss: 0.75698 |  0:03:52s\n",
      "epoch 185| loss: 0.91408 | val_0_unsup_loss: 0.7594  |  0:03:53s\n",
      "epoch 186| loss: 0.90523 | val_0_unsup_loss: 0.75529 |  0:03:54s\n",
      "epoch 187| loss: 0.91855 | val_0_unsup_loss: 0.77836 |  0:03:55s\n",
      "epoch 188| loss: 2796.39871| val_0_unsup_loss: 0.77967 |  0:03:55s\n",
      "epoch 189| loss: 0.92404 | val_0_unsup_loss: 0.77507 |  0:03:56s\n",
      "epoch 190| loss: 0.90632 | val_0_unsup_loss: 0.77607 |  0:03:57s\n",
      "epoch 191| loss: 0.90683 | val_0_unsup_loss: 0.76362 |  0:03:58s\n",
      "epoch 192| loss: 0.9093  | val_0_unsup_loss: 0.75991 |  0:03:59s\n",
      "epoch 193| loss: 0.90965 | val_0_unsup_loss: 0.75685 |  0:04:00s\n",
      "epoch 194| loss: 0.91159 | val_0_unsup_loss: 0.75962 |  0:04:01s\n",
      "epoch 195| loss: 0.91324 | val_0_unsup_loss: 0.75497 |  0:04:02s\n",
      "\n",
      "Early stopping occurred at epoch 195 with best_epoch = 145 and best_val_0_unsup_loss = 0.75265\n",
      "Best weights from best epoch are automatically used!\n"
     ]
    }
   ],
   "source": [
    "unsupervised_model.fit(\n",
    "    x_train,\n",
    "    eval_set=[x_val],\n",
    "    max_epochs=1000 , patience=50,\n",
    "    batch_size=256, virtual_batch_size=128,\n",
    "    num_workers=0,\n",
    "    drop_last=False,\n",
    "    pretraining_ratio=0.8,\n",
    "\n",
    ")"
   ]
  },
  {
   "cell_type": "code",
   "execution_count": 134,
   "metadata": {},
   "outputs": [],
   "source": [
    "# Make reconstruction from a dataset\n",
    "reconstructed_X, embedded_X = unsupervised_model.predict(x_val)\n",
    "assert(reconstructed_X.shape==embedded_X.shape)"
   ]
  },
  {
   "cell_type": "code",
   "execution_count": 135,
   "metadata": {},
   "outputs": [],
   "source": [
    "unsupervised_explain_matrix, unsupervised_masks = unsupervised_model.explain(x_val)"
   ]
  },
  {
   "cell_type": "code",
   "execution_count": 136,
   "metadata": {},
   "outputs": [
    {
     "data": {
      "image/png": "[encoded data removed]",
      "text/plain": [
       "<Figure size 1440x1440 with 3 Axes>"
      ]
     },
     "metadata": {},
     "output_type": "display_data"
    }
   ],
   "source": [
    "fig, axs = plt.subplots(1, 3, figsize=(20,20))\n",
    "\n",
    "for i in range(3):\n",
    "    axs[i].imshow(unsupervised_masks[i][:50])\n",
    "    axs[i].set_title(f\"mask {i}\")"
   ]
  },
  {
   "cell_type": "code",
   "execution_count": 137,
   "metadata": {},
   "outputs": [
    {
     "name": "stdout",
     "output_type": "stream",
     "text": [
      "Successfully saved model at ./test_pretrain.zip\n",
      "Device used : cpu\n",
      "Device used : cpu\n"
     ]
    }
   ],
   "source": [
    "unsupervised_model.save_model('./test_pretrain')\n",
    "loaded_pretrain = TabNetPretrainer()\n",
    "loaded_pretrain.load_model('./test_pretrain.zip')"
   ]
  },
  {
   "cell_type": "code",
   "execution_count": 138,
   "metadata": {},
   "outputs": [
    {
     "name": "stdout",
     "output_type": "stream",
     "text": [
      "Device used : cpu\n"
     ]
    }
   ],
   "source": [
    "clf2 = TabNetClassifier(optimizer_fn=torch.optim.Adam,\n",
    "                       optimizer_params=dict(lr=2e-2),\n",
    "                       scheduler_params={\"step_size\":10, # how to use learning rate scheduler\n",
    "                                         \"gamma\":0.9},\n",
    "                       scheduler_fn=torch.optim.lr_scheduler.StepLR,\n",
    "                       mask_type='sparsemax' # This will be overwritten if using pretrain model\n",
    "                      )"
   ]
  },
  {
   "cell_type": "code",
   "execution_count": 139,
   "metadata": {},
   "outputs": [
    {
     "name": "stderr",
     "output_type": "stream",
     "text": [
      "C:\\Users\\Ryan\\anaconda3\\lib\\site-packages\\pytorch_tabnet\\abstract_model.py:97: UserWarning: Pretraining: mask_type changed from sparsemax to entmax\n",
      "  warnings.warn(wrn_msg)\n"
     ]
    },
    {
     "name": "stdout",
     "output_type": "stream",
     "text": [
      "Loading weights from unsupervised pretraining\n",
      "epoch 0  | loss: 0.65307 | train_auc: 0.76633 | train_accuracy: 0.79947 | valid_auc: 0.7491  | valid_accuracy: 0.80573 |  0:00:00s\n",
      "epoch 1  | loss: 0.53346 | train_auc: 0.77326 | train_accuracy: 0.71454 | valid_auc: 0.76772 | valid_accuracy: 0.71166 |  0:00:01s\n",
      "epoch 2  | loss: 0.48578 | train_auc: 0.78482 | train_accuracy: 0.59151 | valid_auc: 0.77743 | valid_accuracy: 0.58078 |  0:00:02s\n",
      "epoch 3  | loss: 0.4888  | train_auc: 0.79643 | train_accuracy: 0.63573 | valid_auc: 0.78785 | valid_accuracy: 0.66258 |  0:00:03s\n",
      "epoch 4  | loss: 0.46891 | train_auc: 0.80103 | train_accuracy: 0.66813 | valid_auc: 0.79403 | valid_accuracy: 0.6953  |  0:00:04s\n",
      "epoch 5  | loss: 0.47397 | train_auc: 0.80618 | train_accuracy: 0.71541 | valid_auc: 0.80294 | valid_accuracy: 0.72802 |  0:00:05s\n",
      "epoch 6  | loss: 0.46732 | train_auc: 0.8192  | train_accuracy: 0.68608 | valid_auc: 0.79857 | valid_accuracy: 0.69121 |  0:00:06s\n",
      "epoch 7  | loss: 0.46803 | train_auc: 0.81672 | train_accuracy: 0.70709 | valid_auc: 0.78762 | valid_accuracy: 0.68916 |  0:00:07s\n",
      "epoch 8  | loss: 0.46866 | train_auc: 0.80867 | train_accuracy: 0.68039 | valid_auc: 0.76751 | valid_accuracy: 0.66871 |  0:00:09s\n",
      "epoch 9  | loss: 0.46266 | train_auc: 0.82197 | train_accuracy: 0.80473 | valid_auc: 0.78046 | valid_accuracy: 0.79959 |  0:00:10s\n",
      "epoch 10 | loss: 0.45237 | train_auc: 0.82764 | train_accuracy: 0.74956 | valid_auc: 0.78545 | valid_accuracy: 0.75051 |  0:00:12s\n",
      "epoch 11 | loss: 0.44499 | train_auc: 0.83468 | train_accuracy: 0.79247 | valid_auc: 0.78145 | valid_accuracy: 0.77096 |  0:00:13s\n",
      "epoch 12 | loss: 0.4501  | train_auc: 0.83247 | train_accuracy: 0.78897 | valid_auc: 0.77323 | valid_accuracy: 0.78937 |  0:00:14s\n",
      "epoch 13 | loss: 0.46444 | train_auc: 0.82614 | train_accuracy: 0.77014 | valid_auc: 0.77977 | valid_accuracy: 0.77301 |  0:00:15s\n",
      "epoch 14 | loss: 0.45666 | train_auc: 0.84172 | train_accuracy: 0.74956 | valid_auc: 0.7864  | valid_accuracy: 0.74233 |  0:00:16s\n",
      "epoch 15 | loss: 0.45785 | train_auc: 0.83676 | train_accuracy: 0.71322 | valid_auc: 0.80461 | valid_accuracy: 0.71779 |  0:00:16s\n",
      "epoch 16 | loss: 0.46117 | train_auc: 0.83625 | train_accuracy: 0.78065 | valid_auc: 0.7959  | valid_accuracy: 0.7771  |  0:00:17s\n",
      "epoch 17 | loss: 0.45048 | train_auc: 0.84345 | train_accuracy: 0.73249 | valid_auc: 0.80447 | valid_accuracy: 0.72393 |  0:00:18s\n",
      "epoch 18 | loss: 0.4316  | train_auc: 0.85889 | train_accuracy: 0.81699 | valid_auc: 0.78768 | valid_accuracy: 0.79141 |  0:00:19s\n",
      "epoch 19 | loss: 0.4192  | train_auc: 0.86746 | train_accuracy: 0.79466 | valid_auc: 0.80182 | valid_accuracy: 0.76892 |  0:00:21s\n",
      "epoch 20 | loss: 0.42658 | train_auc: 0.87289 | train_accuracy: 0.81918 | valid_auc: 0.80088 | valid_accuracy: 0.79346 |  0:00:22s\n",
      "epoch 21 | loss: 0.4522  | train_auc: 0.86471 | train_accuracy: 0.82574 | valid_auc: 0.80316 | valid_accuracy: 0.79346 |  0:00:23s\n",
      "epoch 22 | loss: 0.42846 | train_auc: 0.87852 | train_accuracy: 0.82793 | valid_auc: 0.78459 | valid_accuracy: 0.7955  |  0:00:25s\n",
      "epoch 23 | loss: 0.43615 | train_auc: 0.87418 | train_accuracy: 0.7894  | valid_auc: 0.79962 | valid_accuracy: 0.76278 |  0:00:26s\n",
      "epoch 24 | loss: 0.42833 | train_auc: 0.87676 | train_accuracy: 0.81611 | valid_auc: 0.80262 | valid_accuracy: 0.7771  |  0:00:27s\n",
      "epoch 25 | loss: 0.41453 | train_auc: 0.87158 | train_accuracy: 0.79072 | valid_auc: 0.77239 | valid_accuracy: 0.74233 |  0:00:28s\n",
      "epoch 26 | loss: 0.42678 | train_auc: 0.88938 | train_accuracy: 0.82706 | valid_auc: 0.78278 | valid_accuracy: 0.77096 |  0:00:29s\n",
      "epoch 27 | loss: 0.42043 | train_auc: 0.87751 | train_accuracy: 0.79904 | valid_auc: 0.77176 | valid_accuracy: 0.73415 |  0:00:30s\n",
      "epoch 28 | loss: 0.42369 | train_auc: 0.88389 | train_accuracy: 0.82968 | valid_auc: 0.79532 | valid_accuracy: 0.80573 |  0:00:31s\n",
      "epoch 29 | loss: 0.42212 | train_auc: 0.88039 | train_accuracy: 0.80079 | valid_auc: 0.76947 | valid_accuracy: 0.75869 |  0:00:32s\n",
      "epoch 30 | loss: 0.41019 | train_auc: 0.86876 | train_accuracy: 0.78678 | valid_auc: 0.78554 | valid_accuracy: 0.77505 |  0:00:33s\n",
      "epoch 31 | loss: 0.41965 | train_auc: 0.87857 | train_accuracy: 0.81655 | valid_auc: 0.77142 | valid_accuracy: 0.76074 |  0:00:34s\n",
      "epoch 32 | loss: 0.4237  | train_auc: 0.88347 | train_accuracy: 0.81392 | valid_auc: 0.7831  | valid_accuracy: 0.76278 |  0:00:35s\n",
      "epoch 33 | loss: 0.41378 | train_auc: 0.89023 | train_accuracy: 0.82881 | valid_auc: 0.77052 | valid_accuracy: 0.76687 |  0:00:36s\n",
      "epoch 34 | loss: 0.41765 | train_auc: 0.89299 | train_accuracy: 0.84151 | valid_auc: 0.77486 | valid_accuracy: 0.79346 |  0:00:37s\n",
      "epoch 35 | loss: 0.3867  | train_auc: 0.88932 | train_accuracy: 0.838   | valid_auc: 0.77111 | valid_accuracy: 0.7771  |  0:00:38s\n",
      "epoch 36 | loss: 0.39483 | train_auc: 0.89062 | train_accuracy: 0.82968 | valid_auc: 0.75805 | valid_accuracy: 0.76687 |  0:00:39s\n",
      "epoch 37 | loss: 0.41285 | train_auc: 0.88239 | train_accuracy: 0.8275  | valid_auc: 0.76519 | valid_accuracy: 0.78119 |  0:00:40s\n",
      "epoch 38 | loss: 0.41279 | train_auc: 0.89731 | train_accuracy: 0.83888 | valid_auc: 0.77277 | valid_accuracy: 0.78937 |  0:00:41s\n",
      "epoch 39 | loss: 0.39107 | train_auc: 0.89731 | train_accuracy: 0.81042 | valid_auc: 0.75587 | valid_accuracy: 0.7362  |  0:00:42s\n",
      "epoch 40 | loss: 0.42137 | train_auc: 0.89729 | train_accuracy: 0.84764 | valid_auc: 0.74091 | valid_accuracy: 0.78732 |  0:00:43s\n",
      "epoch 41 | loss: 0.406   | train_auc: 0.89816 | train_accuracy: 0.80779 | valid_auc: 0.75369 | valid_accuracy: 0.73415 |  0:00:44s\n",
      "epoch 42 | loss: 0.42395 | train_auc: 0.90269 | train_accuracy: 0.82881 | valid_auc: 0.75687 | valid_accuracy: 0.73824 |  0:00:45s\n",
      "epoch 43 | loss: 0.38173 | train_auc: 0.90716 | train_accuracy: 0.83494 | valid_auc: 0.74904 | valid_accuracy: 0.76278 |  0:00:45s\n",
      "epoch 44 | loss: 0.40038 | train_auc: 0.9051  | train_accuracy: 0.85289 | valid_auc: 0.75365 | valid_accuracy: 0.80982 |  0:00:46s\n",
      "epoch 45 | loss: 0.38671 | train_auc: 0.90266 | train_accuracy: 0.85245 | valid_auc: 0.74955 | valid_accuracy: 0.79755 |  0:00:47s\n",
      "epoch 46 | loss: 0.40419 | train_auc: 0.9048  | train_accuracy: 0.831   | valid_auc: 0.75995 | valid_accuracy: 0.76074 |  0:00:48s\n",
      "epoch 47 | loss: 0.39894 | train_auc: 0.89838 | train_accuracy: 0.80779 | valid_auc: 0.75436 | valid_accuracy: 0.74029 |  0:00:49s\n",
      "epoch 48 | loss: 0.38054 | train_auc: 0.90077 | train_accuracy: 0.83406 | valid_auc: 0.77018 | valid_accuracy: 0.76483 |  0:00:50s\n",
      "epoch 49 | loss: 0.4068  | train_auc: 0.90241 | train_accuracy: 0.81173 | valid_auc: 0.75488 | valid_accuracy: 0.72802 |  0:00:51s\n",
      "epoch 50 | loss: 0.38401 | train_auc: 0.90921 | train_accuracy: 0.84194 | valid_auc: 0.75618 | valid_accuracy: 0.77914 |  0:00:52s\n",
      "epoch 51 | loss: 0.38225 | train_auc: 0.91476 | train_accuracy: 0.83231 | valid_auc: 0.75085 | valid_accuracy: 0.74847 |  0:00:53s\n",
      "epoch 52 | loss: 0.35777 | train_auc: 0.9146  | train_accuracy: 0.8275  | valid_auc: 0.76381 | valid_accuracy: 0.74233 |  0:00:54s\n",
      "epoch 53 | loss: 0.39323 | train_auc: 0.90579 | train_accuracy: 0.79597 | valid_auc: 0.77574 | valid_accuracy: 0.73006 |  0:00:55s\n",
      "epoch 54 | loss: 0.38656 | train_auc: 0.90322 | train_accuracy: 0.81786 | valid_auc: 0.77186 | valid_accuracy: 0.73415 |  0:00:56s\n",
      "epoch 55 | loss: 0.37783 | train_auc: 0.91355 | train_accuracy: 0.83669 | valid_auc: 0.78039 | valid_accuracy: 0.76278 |  0:00:56s\n",
      "epoch 56 | loss: 0.38909 | train_auc: 0.91659 | train_accuracy: 0.84457 | valid_auc: 0.77536 | valid_accuracy: 0.7771  |  0:00:57s\n",
      "epoch 57 | loss: 0.3531  | train_auc: 0.91984 | train_accuracy: 0.84107 | valid_auc: 0.76573 | valid_accuracy: 0.75665 |  0:00:59s\n",
      "epoch 58 | loss: 0.39041 | train_auc: 0.91837 | train_accuracy: 0.84588 | valid_auc: 0.74319 | valid_accuracy: 0.77914 |  0:01:00s\n",
      "epoch 59 | loss: 0.38176 | train_auc: 0.90916 | train_accuracy: 0.86077 | valid_auc: 0.74595 | valid_accuracy: 0.79755 |  0:01:01s\n",
      "epoch 60 | loss: 0.3845  | train_auc: 0.92165 | train_accuracy: 0.86515 | valid_auc: 0.752   | valid_accuracy: 0.78732 |  0:01:02s\n",
      "epoch 61 | loss: 0.36864 | train_auc: 0.9264  | train_accuracy: 0.86208 | valid_auc: 0.74218 | valid_accuracy: 0.79346 |  0:01:03s\n",
      "epoch 62 | loss: 0.37428 | train_auc: 0.92697 | train_accuracy: 0.82005 | valid_auc: 0.75419 | valid_accuracy: 0.73824 |  0:01:04s\n",
      "epoch 63 | loss: 0.35216 | train_auc: 0.92274 | train_accuracy: 0.83844 | valid_auc: 0.76991 | valid_accuracy: 0.76483 |  0:01:05s\n",
      "epoch 64 | loss: 0.35198 | train_auc: 0.91807 | train_accuracy: 0.81918 | valid_auc: 0.77405 | valid_accuracy: 0.75051 |  0:01:06s\n",
      "epoch 65 | loss: 0.34929 | train_auc: 0.92128 | train_accuracy: 0.83187 | valid_auc: 0.75439 | valid_accuracy: 0.74642 |  0:01:07s\n",
      "epoch 66 | loss: 0.36755 | train_auc: 0.92781 | train_accuracy: 0.83625 | valid_auc: 0.7623  | valid_accuracy: 0.75665 |  0:01:07s\n",
      "epoch 67 | loss: 0.36077 | train_auc: 0.93106 | train_accuracy: 0.8634  | valid_auc: 0.75094 | valid_accuracy: 0.78528 |  0:01:08s\n",
      "epoch 68 | loss: 0.36822 | train_auc: 0.93545 | train_accuracy: 0.85639 | valid_auc: 0.74762 | valid_accuracy: 0.77096 |  0:01:09s\n",
      "epoch 69 | loss: 0.35925 | train_auc: 0.93081 | train_accuracy: 0.85639 | valid_auc: 0.75399 | valid_accuracy: 0.75051 |  0:01:10s\n",
      "epoch 70 | loss: 0.36902 | train_auc: 0.91334 | train_accuracy: 0.83932 | valid_auc: 0.73063 | valid_accuracy: 0.75869 |  0:01:11s\n",
      "epoch 71 | loss: 0.34402 | train_auc: 0.92956 | train_accuracy: 0.87084 | valid_auc: 0.73224 | valid_accuracy: 0.79346 |  0:01:12s\n",
      "epoch 72 | loss: 0.3486  | train_auc: 0.93678 | train_accuracy: 0.86515 | valid_auc: 0.74922 | valid_accuracy: 0.77301 |  0:01:13s\n",
      "epoch 73 | loss: 0.34562 | train_auc: 0.93719 | train_accuracy: 0.86121 | valid_auc: 0.75208 | valid_accuracy: 0.76278 |  0:01:14s\n",
      "epoch 74 | loss: 0.32108 | train_auc: 0.94271 | train_accuracy: 0.86865 | valid_auc: 0.74074 | valid_accuracy: 0.78119 |  0:01:15s\n",
      "epoch 75 | loss: 0.33554 | train_auc: 0.94276 | train_accuracy: 0.86602 | valid_auc: 0.74986 | valid_accuracy: 0.77505 |  0:01:16s\n",
      "epoch 76 | loss: 0.32142 | train_auc: 0.94053 | train_accuracy: 0.86165 | valid_auc: 0.75895 | valid_accuracy: 0.76483 |  0:01:17s\n",
      "epoch 77 | loss: 0.32758 | train_auc: 0.94177 | train_accuracy: 0.85727 | valid_auc: 0.75156 | valid_accuracy: 0.7546  |  0:01:18s\n",
      "epoch 78 | loss: 0.31892 | train_auc: 0.93645 | train_accuracy: 0.86165 | valid_auc: 0.74672 | valid_accuracy: 0.75665 |  0:01:19s\n",
      "epoch 79 | loss: 0.34081 | train_auc: 0.93846 | train_accuracy: 0.85989 | valid_auc: 0.75179 | valid_accuracy: 0.77505 |  0:01:20s\n",
      "epoch 80 | loss: 0.31326 | train_auc: 0.94227 | train_accuracy: 0.86646 | valid_auc: 0.77109 | valid_accuracy: 0.79346 |  0:01:21s\n",
      "epoch 81 | loss: 0.33319 | train_auc: 0.94053 | train_accuracy: 0.86734 | valid_auc: 0.75568 | valid_accuracy: 0.78119 |  0:01:22s\n",
      "epoch 82 | loss: 0.33423 | train_auc: 0.93905 | train_accuracy: 0.8669  | valid_auc: 0.75455 | valid_accuracy: 0.77505 |  0:01:23s\n",
      "epoch 83 | loss: 0.33768 | train_auc: 0.9394  | train_accuracy: 0.87872 | valid_auc: 0.75176 | valid_accuracy: 0.77914 |  0:01:24s\n",
      "epoch 84 | loss: 0.33748 | train_auc: 0.94463 | train_accuracy: 0.86384 | valid_auc: 0.74332 | valid_accuracy: 0.75256 |  0:01:25s\n",
      "epoch 85 | loss: 0.31692 | train_auc: 0.95021 | train_accuracy: 0.88222 | valid_auc: 0.75912 | valid_accuracy: 0.78119 |  0:01:26s\n",
      "epoch 86 | loss: 0.31103 | train_auc: 0.9511  | train_accuracy: 0.87872 | valid_auc: 0.76419 | valid_accuracy: 0.76074 |  0:01:27s\n",
      "epoch 87 | loss: 0.33406 | train_auc: 0.95288 | train_accuracy: 0.87434 | valid_auc: 0.76925 | valid_accuracy: 0.75869 |  0:01:28s\n",
      "epoch 88 | loss: 0.29754 | train_auc: 0.95152 | train_accuracy: 0.87609 | valid_auc: 0.752   | valid_accuracy: 0.76278 |  0:01:29s\n",
      "epoch 89 | loss: 0.30914 | train_auc: 0.95362 | train_accuracy: 0.86165 | valid_auc: 0.75352 | valid_accuracy: 0.74642 |  0:01:30s\n",
      "epoch 90 | loss: 0.3008  | train_auc: 0.95241 | train_accuracy: 0.87522 | valid_auc: 0.76129 | valid_accuracy: 0.76687 |  0:01:31s\n",
      "epoch 91 | loss: 0.31116 | train_auc: 0.95016 | train_accuracy: 0.8634  | valid_auc: 0.75034 | valid_accuracy: 0.75256 |  0:01:32s\n",
      "epoch 92 | loss: 0.3012  | train_auc: 0.95049 | train_accuracy: 0.87741 | valid_auc: 0.76462 | valid_accuracy: 0.7771  |  0:01:33s\n",
      "epoch 93 | loss: 0.30879 | train_auc: 0.95324 | train_accuracy: 0.86996 | valid_auc: 0.76361 | valid_accuracy: 0.77505 |  0:01:34s\n",
      "epoch 94 | loss: 0.29694 | train_auc: 0.95555 | train_accuracy: 0.8796  | valid_auc: 0.75684 | valid_accuracy: 0.77301 |  0:01:35s\n",
      "\n",
      "Early stopping occurred at epoch 94 with best_epoch = 44 and best_valid_accuracy = 0.80982\n",
      "Best weights from best epoch are automatically used!\n"
     ]
    }
   ],
   "source": [
    "clf2.fit(\n",
    "    x_train, y_train,\n",
    "    eval_set=[(x_train, y_train), (x_val, y_val)],\n",
    "    eval_name=['train', 'valid'],\n",
    "    eval_metric=['auc', 'accuracy'],\n",
    "    max_epochs=1000 , patience=50,\n",
    "    batch_size=256, virtual_batch_size=128,\n",
    "    num_workers=0,\n",
    "    weights=1,\n",
    "    drop_last=False,\n",
    "    from_unsupervised=loaded_pretrain\n",
    "    \n",
    ")"
   ]
  },
  {
   "cell_type": "code",
   "execution_count": 140,
   "metadata": {},
   "outputs": [
    {
     "data": {
      "text/plain": [
       "[<matplotlib.lines.Line2D at 0x1ba00841e20>]"
      ]
     },
     "execution_count": 140,
     "metadata": {},
     "output_type": "execute_result"
    },
    {
     "data": {
      "image/png": "[encoded data removed]",
      "text/plain": [
       "<Figure size 432x288 with 1 Axes>"
      ]
     },
     "metadata": {},
     "output_type": "display_data"
    }
   ],
   "source": [
    "# plot losses\n",
    "plt.plot(clf2.history['loss'])"
   ]
  },
  {
   "cell_type": "code",
   "execution_count": 141,
   "metadata": {},
   "outputs": [
    {
     "data": {
      "text/plain": [
       "[<matplotlib.lines.Line2D at 0x1ba0088dc70>]"
      ]
     },
     "execution_count": 141,
     "metadata": {},
     "output_type": "execute_result"
    },
    {
     "data": {
      "image/png": "[encoded data removed]",
      "text/plain": [
       "<Figure size 432x288 with 1 Axes>"
      ]
     },
     "metadata": {},
     "output_type": "display_data"
    }
   ],
   "source": [
    "# plot auc\n",
    "plt.plot(clf2.history['train_auc'])\n",
    "plt.plot(clf2.history['valid_auc'])"
   ]
  },
  {
   "cell_type": "code",
   "execution_count": 142,
   "metadata": {},
   "outputs": [
    {
     "data": {
      "text/plain": [
       "[<matplotlib.lines.Line2D at 0x1ba008d4df0>]"
      ]
     },
     "execution_count": 142,
     "metadata": {},
     "output_type": "execute_result"
    },
    {
     "data": {
      "image/png": "[encoded data removed]",
      "text/plain": [
       "<Figure size 432x288 with 1 Axes>"
      ]
     },
     "metadata": {},
     "output_type": "display_data"
    }
   ],
   "source": [
    "# plot auc\n",
    "plt.plot(clf2.history['train_accuracy'])\n",
    "plt.plot(clf2.history['valid_accuracy'])"
   ]
  },
  {
   "cell_type": "code",
   "execution_count": 144,
   "metadata": {},
   "outputs": [
    {
     "data": {
      "text/plain": [
       "[<matplotlib.lines.Line2D at 0x1ba00972ac0>]"
      ]
     },
     "execution_count": 144,
     "metadata": {},
     "output_type": "execute_result"
    },
    {
     "data": {
      "image/png": "[encoded data removed]",
      "text/plain": [
       "<Figure size 432x288 with 1 Axes>"
      ]
     },
     "metadata": {},
     "output_type": "display_data"
    }
   ],
   "source": [
    "# plot learning rates\n",
    "plt.plot(clf2.history['lr'])"
   ]
  },
  {
   "cell_type": "code",
   "execution_count": 145,
   "metadata": {},
   "outputs": [
    {
     "name": "stdout",
     "output_type": "stream",
     "text": [
      "BEST VALID SCORE FOR THIS DATASET : 0.8098159509202454\n",
      "FINAL TEST SCORE FOR THIS DATASET : 0.7844391153743673\n"
     ]
    }
   ],
   "source": [
    "preds = clf2.predict_proba(x_test)\n",
    "test_auc = roc_auc_score(y_score=preds[:,1], y_true=y_test)\n",
    "\n",
    "\n",
    "preds_valid = clf2.predict_proba(x_val)\n",
    "valid_auc = roc_auc_score(y_score=preds_valid[:,1], y_true=y_val)\n",
    "\n",
    "print(f\"BEST VALID SCORE FOR THIS DATASET : {clf2.best_cost}\")\n",
    "print(f\"FINAL TEST SCORE FOR THIS DATASET : {test_auc}\")"
   ]
  },
  {
   "cell_type": "code",
   "execution_count": 160,
   "metadata": {},
   "outputs": [
    {
     "name": "stdout",
     "output_type": "stream",
     "text": [
      "BEST ACCURACY SCORE ON VALIDATION SET : 0.8098159509202454\n",
      "BEST ACCURACY SCORE ON TEST SET : 0.789795918367347\n"
     ]
    }
   ],
   "source": [
    "preds = clf2.predict(x_test)\n",
    "test_acc = accuracy_score(preds, y_test)\n",
    "\n",
    "\n",
    "preds_valid = clf2.predict(x_val)\n",
    "valid_acc = accuracy_score(preds_valid, y_val)\n",
    "\n",
    "print(f\"BEST ACCURACY SCORE ON VALIDATION SET : {valid_acc}\")\n",
    "print(f\"BEST ACCURACY SCORE ON TEST SET : {test_acc}\")"
   ]
  },
  {
   "cell_type": "code",
   "execution_count": 146,
   "metadata": {},
   "outputs": [
    {
     "data": {
      "text/plain": [
       "array([6.66540299e-03, 1.10643632e-01, 2.53662704e-02, 6.34960812e-02,\n",
       "       2.43257936e-02, 7.10324597e-04, 4.34706993e-02, 7.63395676e-05,\n",
       "       4.52318972e-07, 2.57438152e-02, 0.00000000e+00, 0.00000000e+00,\n",
       "       2.82767767e-03, 4.75498125e-01, 8.73588859e-02, 2.84611834e-02,\n",
       "       3.55743867e-06, 8.32668027e-02, 2.14661568e-02, 6.18800566e-04])"
      ]
     },
     "execution_count": 146,
     "metadata": {},
     "output_type": "execute_result"
    }
   ],
   "source": [
    "clf2.feature_importances_"
   ]
  },
  {
   "cell_type": "code",
   "execution_count": 147,
   "metadata": {},
   "outputs": [],
   "source": [
    "explain_matrix, masks = clf2.explain(x_test)"
   ]
  },
  {
   "cell_type": "code",
   "execution_count": 148,
   "metadata": {},
   "outputs": [
    {
     "data": {
      "image/png": "[encoded data removed]",
      "text/plain": [
       "<Figure size 1440x1440 with 3 Axes>"
      ]
     },
     "metadata": {},
     "output_type": "display_data"
    }
   ],
   "source": [
    "fig, axs = plt.subplots(1, 3, figsize=(20,20))\n",
    "\n",
    "for i in range(3):\n",
    "    axs[i].imshow(masks[i][:50])\n",
    "    axs[i].set_title(f\"mask {i}\")"
   ]
  },
  {
   "cell_type": "code",
   "execution_count": 149,
   "metadata": {},
   "outputs": [
    {
     "data": {
      "text/plain": [
       "array([[337,  14],\n",
       "       [ 75,  64]], dtype=int64)"
      ]
     },
     "execution_count": 149,
     "metadata": {},
     "output_type": "execute_result"
    }
   ],
   "source": [
    "confusion_matrix(y_test, y_pred)"
   ]
  },
  {
   "cell_type": "code",
   "execution_count": null,
   "metadata": {},
   "outputs": [],
   "source": []
  },
  {
   "cell_type": "code",
   "execution_count": 102,
   "metadata": {},
   "outputs": [
    {
     "name": "stdout",
     "output_type": "stream",
     "text": [
      "[0]\tvalidation_0-error:0.29652\n",
      "Will train until validation_0-error hasn't improved in 40 rounds.\n",
      "[10]\tvalidation_0-error:0.23108\n",
      "[20]\tvalidation_0-error:0.22290\n",
      "[30]\tvalidation_0-error:0.22290\n",
      "[40]\tvalidation_0-error:0.23313\n",
      "[50]\tvalidation_0-error:0.23517\n",
      "Stopping. Best iteration:\n",
      "[17]\tvalidation_0-error:0.21677\n",
      "\n"
     ]
    },
    {
     "data": {
      "text/plain": [
       "XGBClassifier(base_score=0.5, booster='gbtree', colsample_bylevel=1,\n",
       "              colsample_bynode=1, colsample_bytree=1, gamma=0, gpu_id=-1,\n",
       "              importance_type='gain', interaction_constraints='',\n",
       "              learning_rate=0.1, max_delta_step=0, max_depth=8,\n",
       "              min_child_weight=1, missing=nan, monotone_constraints='()',\n",
       "              n_estimators=1000, n_jobs=-1, nthread=-1, num_parallel_tree=1,\n",
       "              random_state=0, reg_alpha=0, reg_lambda=1, scale_pos_weight=1,\n",
       "              seed=0, silent=None, subsample=0.7, tree_method='exact',\n",
       "              validate_parameters=1, verbosity=0)"
      ]
     },
     "execution_count": 102,
     "metadata": {},
     "output_type": "execute_result"
    }
   ],
   "source": [
    "from xgboost import XGBClassifier\n",
    "\n",
    "clf_xgb = XGBClassifier(max_depth=8,\n",
    "    learning_rate=0.1,\n",
    "    n_estimators=1000,\n",
    "    verbosity=0,\n",
    "    silent=None,\n",
    "    objective='binary:logistic',\n",
    "    booster='gbtree',\n",
    "    n_jobs=-1,\n",
    "    nthread=None,\n",
    "    gamma=0,\n",
    "    min_child_weight=1,\n",
    "    max_delta_step=0,\n",
    "    subsample=0.7,\n",
    "    colsample_bytree=1,\n",
    "    colsample_bylevel=1,\n",
    "    colsample_bynode=1,\n",
    "    reg_alpha=0,\n",
    "    reg_lambda=1,\n",
    "    scale_pos_weight=1,\n",
    "    base_score=0.5,\n",
    "    random_state=0,\n",
    "    seed=None,)\n",
    "\n",
    "clf_xgb.fit(x_train, y_train,\n",
    "        eval_set=[(x_val, y_val)],\n",
    "        early_stopping_rounds=40,\n",
    "        verbose=10)"
   ]
  },
  {
   "cell_type": "code",
   "execution_count": 103,
   "metadata": {},
   "outputs": [
    {
     "name": "stdout",
     "output_type": "stream",
     "text": [
      "BEST ACCURACY SCORE ON VALIDATION SET : 0.7832310838445807\n",
      "BEST ACCURACY SCORE ON TEST SET : 0.7326530612244898\n"
     ]
    }
   ],
   "source": [
    "preds = clf_xgb.predict(x_test)\n",
    "test_acc = accuracy_score(preds, y_test)\n",
    "\n",
    "\n",
    "preds_valid = clf_xgb.predict(x_val)\n",
    "valid_acc = accuracy_score(preds_valid, y_val)\n",
    "\n",
    "print(f\"BEST ACCURACY SCORE ON VALIDATION SET : {valid_acc}\")\n",
    "print(f\"BEST ACCURACY SCORE ON TEST SET : {test_acc}\")"
   ]
  },
  {
   "cell_type": "code",
   "execution_count": null,
   "metadata": {},
   "outputs": [],
   "source": []
  }
 ],
 "metadata": {
  "kernelspec": {
   "display_name": "Python 3",
   "language": "python",
   "name": "python3"
  },
  "language_info": {
   "codemirror_mode": {
    "name": "ipython",
    "version": 3
   },
   "file_extension": ".py",
   "mimetype": "text/x-python",
   "name": "python",
   "nbconvert_exporter": "python",
   "pygments_lexer": "ipython3",
   "version": "3.8.10"
  }
 },
 "nbformat": 4,
 "nbformat_minor": 4
}
