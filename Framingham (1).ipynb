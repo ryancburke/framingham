{
 "cells": [
  {
   "cell_type": "code",
   "execution_count": 1,
   "metadata": {},
   "outputs": [],
   "source": [
    "# Importing necessary libraries\n",
    "\n",
    "import pandas as pd\n",
    "import numpy as np\n",
    "import matplotlib.pyplot as plt\n",
    "import seaborn as sns\n",
    "\n",
    "sns.set_style(\"white\")"
   ]
  },
  {
   "cell_type": "code",
   "execution_count": 2,
   "metadata": {},
   "outputs": [
    {
     "data": {
      "text/html": [
       "<div>\n",
       "<style scoped>\n",
       "    .dataframe tbody tr th:only-of-type {\n",
       "        vertical-align: middle;\n",
       "    }\n",
       "\n",
       "    .dataframe tbody tr th {\n",
       "        vertical-align: top;\n",
       "    }\n",
       "\n",
       "    .dataframe thead th {\n",
       "        text-align: right;\n",
       "    }\n",
       "</style>\n",
       "<table border=\"1\" class=\"dataframe\">\n",
       "  <thead>\n",
       "    <tr style=\"text-align: right;\">\n",
       "      <th></th>\n",
       "      <th>RANDID</th>\n",
       "      <th>SEX</th>\n",
       "      <th>TOTCHOL</th>\n",
       "      <th>AGE</th>\n",
       "      <th>SYSBP</th>\n",
       "      <th>DIABP</th>\n",
       "      <th>CURSMOKE</th>\n",
       "      <th>CIGPDAY</th>\n",
       "      <th>BMI</th>\n",
       "      <th>DIABETES</th>\n",
       "      <th>...</th>\n",
       "      <th>CVD</th>\n",
       "      <th>HYPERTEN</th>\n",
       "      <th>TIMEAP</th>\n",
       "      <th>TIMEMI</th>\n",
       "      <th>TIMEMIFC</th>\n",
       "      <th>TIMECHD</th>\n",
       "      <th>TIMESTRK</th>\n",
       "      <th>TIMECVD</th>\n",
       "      <th>TIMEDTH</th>\n",
       "      <th>TIMEHYP</th>\n",
       "    </tr>\n",
       "  </thead>\n",
       "  <tbody>\n",
       "    <tr>\n",
       "      <th>0</th>\n",
       "      <td>2448</td>\n",
       "      <td>1</td>\n",
       "      <td>195.0</td>\n",
       "      <td>39</td>\n",
       "      <td>106.0</td>\n",
       "      <td>70.0</td>\n",
       "      <td>0</td>\n",
       "      <td>0.0</td>\n",
       "      <td>26.97</td>\n",
       "      <td>0</td>\n",
       "      <td>...</td>\n",
       "      <td>1</td>\n",
       "      <td>0</td>\n",
       "      <td>8766</td>\n",
       "      <td>6438</td>\n",
       "      <td>6438</td>\n",
       "      <td>6438</td>\n",
       "      <td>8766</td>\n",
       "      <td>6438</td>\n",
       "      <td>8766</td>\n",
       "      <td>8766</td>\n",
       "    </tr>\n",
       "    <tr>\n",
       "      <th>1</th>\n",
       "      <td>2448</td>\n",
       "      <td>1</td>\n",
       "      <td>209.0</td>\n",
       "      <td>52</td>\n",
       "      <td>121.0</td>\n",
       "      <td>66.0</td>\n",
       "      <td>0</td>\n",
       "      <td>0.0</td>\n",
       "      <td>NaN</td>\n",
       "      <td>0</td>\n",
       "      <td>...</td>\n",
       "      <td>1</td>\n",
       "      <td>0</td>\n",
       "      <td>8766</td>\n",
       "      <td>6438</td>\n",
       "      <td>6438</td>\n",
       "      <td>6438</td>\n",
       "      <td>8766</td>\n",
       "      <td>6438</td>\n",
       "      <td>8766</td>\n",
       "      <td>8766</td>\n",
       "    </tr>\n",
       "    <tr>\n",
       "      <th>2</th>\n",
       "      <td>6238</td>\n",
       "      <td>2</td>\n",
       "      <td>250.0</td>\n",
       "      <td>46</td>\n",
       "      <td>121.0</td>\n",
       "      <td>81.0</td>\n",
       "      <td>0</td>\n",
       "      <td>0.0</td>\n",
       "      <td>28.73</td>\n",
       "      <td>0</td>\n",
       "      <td>...</td>\n",
       "      <td>0</td>\n",
       "      <td>0</td>\n",
       "      <td>8766</td>\n",
       "      <td>8766</td>\n",
       "      <td>8766</td>\n",
       "      <td>8766</td>\n",
       "      <td>8766</td>\n",
       "      <td>8766</td>\n",
       "      <td>8766</td>\n",
       "      <td>8766</td>\n",
       "    </tr>\n",
       "    <tr>\n",
       "      <th>3</th>\n",
       "      <td>6238</td>\n",
       "      <td>2</td>\n",
       "      <td>260.0</td>\n",
       "      <td>52</td>\n",
       "      <td>105.0</td>\n",
       "      <td>69.5</td>\n",
       "      <td>0</td>\n",
       "      <td>0.0</td>\n",
       "      <td>29.43</td>\n",
       "      <td>0</td>\n",
       "      <td>...</td>\n",
       "      <td>0</td>\n",
       "      <td>0</td>\n",
       "      <td>8766</td>\n",
       "      <td>8766</td>\n",
       "      <td>8766</td>\n",
       "      <td>8766</td>\n",
       "      <td>8766</td>\n",
       "      <td>8766</td>\n",
       "      <td>8766</td>\n",
       "      <td>8766</td>\n",
       "    </tr>\n",
       "    <tr>\n",
       "      <th>4</th>\n",
       "      <td>6238</td>\n",
       "      <td>2</td>\n",
       "      <td>237.0</td>\n",
       "      <td>58</td>\n",
       "      <td>108.0</td>\n",
       "      <td>66.0</td>\n",
       "      <td>0</td>\n",
       "      <td>0.0</td>\n",
       "      <td>28.50</td>\n",
       "      <td>0</td>\n",
       "      <td>...</td>\n",
       "      <td>0</td>\n",
       "      <td>0</td>\n",
       "      <td>8766</td>\n",
       "      <td>8766</td>\n",
       "      <td>8766</td>\n",
       "      <td>8766</td>\n",
       "      <td>8766</td>\n",
       "      <td>8766</td>\n",
       "      <td>8766</td>\n",
       "      <td>8766</td>\n",
       "    </tr>\n",
       "  </tbody>\n",
       "</table>\n",
       "<p>5 rows × 39 columns</p>\n",
       "</div>"
      ],
      "text/plain": [
       "   RANDID  SEX  TOTCHOL  AGE  SYSBP  DIABP  CURSMOKE  CIGPDAY    BMI  \\\n",
       "0    2448    1    195.0   39  106.0   70.0         0      0.0  26.97   \n",
       "1    2448    1    209.0   52  121.0   66.0         0      0.0    NaN   \n",
       "2    6238    2    250.0   46  121.0   81.0         0      0.0  28.73   \n",
       "3    6238    2    260.0   52  105.0   69.5         0      0.0  29.43   \n",
       "4    6238    2    237.0   58  108.0   66.0         0      0.0  28.50   \n",
       "\n",
       "   DIABETES  ...  CVD  HYPERTEN  TIMEAP  TIMEMI  TIMEMIFC  TIMECHD  TIMESTRK  \\\n",
       "0         0  ...    1         0    8766    6438      6438     6438      8766   \n",
       "1         0  ...    1         0    8766    6438      6438     6438      8766   \n",
       "2         0  ...    0         0    8766    8766      8766     8766      8766   \n",
       "3         0  ...    0         0    8766    8766      8766     8766      8766   \n",
       "4         0  ...    0         0    8766    8766      8766     8766      8766   \n",
       "\n",
       "   TIMECVD  TIMEDTH  TIMEHYP  \n",
       "0     6438     8766     8766  \n",
       "1     6438     8766     8766  \n",
       "2     8766     8766     8766  \n",
       "3     8766     8766     8766  \n",
       "4     8766     8766     8766  \n",
       "\n",
       "[5 rows x 39 columns]"
      ]
     },
     "execution_count": 2,
     "metadata": {},
     "output_type": "execute_result"
    }
   ],
   "source": [
    "# Creating the data frame\n",
    "df = pd.read_csv('frmgham2.csv')\n",
    "df.head()"
   ]
  },
  {
   "cell_type": "code",
   "execution_count": 3,
   "metadata": {},
   "outputs": [
    {
     "name": "stdout",
     "output_type": "stream",
     "text": [
      "<class 'pandas.core.frame.DataFrame'>\n",
      "RangeIndex: 11627 entries, 0 to 11626\n",
      "Data columns (total 39 columns):\n",
      " #   Column    Non-Null Count  Dtype  \n",
      "---  ------    --------------  -----  \n",
      " 0   RANDID    11627 non-null  int64  \n",
      " 1   SEX       11627 non-null  int64  \n",
      " 2   TOTCHOL   11218 non-null  float64\n",
      " 3   AGE       11627 non-null  int64  \n",
      " 4   SYSBP     11627 non-null  float64\n",
      " 5   DIABP     11627 non-null  float64\n",
      " 6   CURSMOKE  11627 non-null  int64  \n",
      " 7   CIGPDAY   11548 non-null  float64\n",
      " 8   BMI       11575 non-null  float64\n",
      " 9   DIABETES  11627 non-null  int64  \n",
      " 10  BPMEDS    11034 non-null  float64\n",
      " 11  HEARTRTE  11621 non-null  float64\n",
      " 12  GLUCOSE   10187 non-null  float64\n",
      " 13  educ      11332 non-null  float64\n",
      " 14  PREVCHD   11627 non-null  int64  \n",
      " 15  PREVAP    11627 non-null  int64  \n",
      " 16  PREVMI    11627 non-null  int64  \n",
      " 17  PREVSTRK  11627 non-null  int64  \n",
      " 18  PREVHYP   11627 non-null  int64  \n",
      " 19  TIME      11627 non-null  int64  \n",
      " 20  PERIOD    11627 non-null  int64  \n",
      " 21  HDLC      3027 non-null   float64\n",
      " 22  LDLC      3026 non-null   float64\n",
      " 23  DEATH     11627 non-null  int64  \n",
      " 24  ANGINA    11627 non-null  int64  \n",
      " 25  HOSPMI    11627 non-null  int64  \n",
      " 26  MI_FCHD   11627 non-null  int64  \n",
      " 27  ANYCHD    11627 non-null  int64  \n",
      " 28  STROKE    11627 non-null  int64  \n",
      " 29  CVD       11627 non-null  int64  \n",
      " 30  HYPERTEN  11627 non-null  int64  \n",
      " 31  TIMEAP    11627 non-null  int64  \n",
      " 32  TIMEMI    11627 non-null  int64  \n",
      " 33  TIMEMIFC  11627 non-null  int64  \n",
      " 34  TIMECHD   11627 non-null  int64  \n",
      " 35  TIMESTRK  11627 non-null  int64  \n",
      " 36  TIMECVD   11627 non-null  int64  \n",
      " 37  TIMEDTH   11627 non-null  int64  \n",
      " 38  TIMEHYP   11627 non-null  int64  \n",
      "dtypes: float64(11), int64(28)\n",
      "memory usage: 3.5 MB\n"
     ]
    }
   ],
   "source": [
    "df.info()"
   ]
  },
  {
   "cell_type": "code",
   "execution_count": 4,
   "metadata": {},
   "outputs": [
    {
     "data": {
      "text/plain": [
       "1    4434\n",
       "2    3930\n",
       "3    3263\n",
       "Name: PERIOD, dtype: int64"
      ]
     },
     "execution_count": 4,
     "metadata": {},
     "output_type": "execute_result"
    }
   ],
   "source": [
    "df.PERIOD.value_counts()"
   ]
  },
  {
   "cell_type": "code",
   "execution_count": 5,
   "metadata": {},
   "outputs": [
    {
     "data": {
      "text/plain": [
       "0    8469\n",
       "1    3158\n",
       "Name: ANYCHD, dtype: int64"
      ]
     },
     "execution_count": 5,
     "metadata": {},
     "output_type": "execute_result"
    }
   ],
   "source": [
    "df.ANYCHD.value_counts()"
   ]
  },
  {
   "cell_type": "code",
   "execution_count": 6,
   "metadata": {},
   "outputs": [],
   "source": [
    "df2 = df[[\"SEX\",\"TOTCHOL\", \"AGE\", \"SYSBP\", \"DIABP\", \"CURSMOKE\", \n",
    "                \"CIGPDAY\", \"BMI\", \"DIABETES\", \"BPMEDS\", \"HEARTRTE\", \"GLUCOSE\", \"educ\",\n",
    "               \"PREVCHD\", \"PREVAP\", \"PREVMI\", \"PREVSTRK\", \"PREVHYP\", \"HDLC\", \"LDLC\", \"ANYCHD\", \"PERIOD\"]].copy()"
   ]
  },
  {
   "cell_type": "code",
   "execution_count": 7,
   "metadata": {},
   "outputs": [],
   "source": [
    "df2 = df2[(df2.PERIOD == 3)] "
   ]
  },
  {
   "cell_type": "code",
   "execution_count": 8,
   "metadata": {},
   "outputs": [
    {
     "name": "stdout",
     "output_type": "stream",
     "text": [
      "<class 'pandas.core.frame.DataFrame'>\n",
      "Int64Index: 3263 entries, 1 to 11626\n",
      "Data columns (total 22 columns):\n",
      " #   Column    Non-Null Count  Dtype  \n",
      "---  ------    --------------  -----  \n",
      " 0   SEX       3263 non-null   int64  \n",
      " 1   TOTCHOL   3049 non-null   float64\n",
      " 2   AGE       3263 non-null   int64  \n",
      " 3   SYSBP     3263 non-null   float64\n",
      " 4   DIABP     3263 non-null   float64\n",
      " 5   CURSMOKE  3263 non-null   int64  \n",
      " 6   CIGPDAY   3249 non-null   float64\n",
      " 7   BMI       3246 non-null   float64\n",
      " 8   DIABETES  3263 non-null   int64  \n",
      " 9   BPMEDS    2817 non-null   float64\n",
      " 10  HEARTRTE  3259 non-null   float64\n",
      " 11  GLUCOSE   2701 non-null   float64\n",
      " 12  educ      3181 non-null   float64\n",
      " 13  PREVCHD   3263 non-null   int64  \n",
      " 14  PREVAP    3263 non-null   int64  \n",
      " 15  PREVMI    3263 non-null   int64  \n",
      " 16  PREVSTRK  3263 non-null   int64  \n",
      " 17  PREVHYP   3263 non-null   int64  \n",
      " 18  HDLC      3027 non-null   float64\n",
      " 19  LDLC      3026 non-null   float64\n",
      " 20  ANYCHD    3263 non-null   int64  \n",
      " 21  PERIOD    3263 non-null   int64  \n",
      "dtypes: float64(11), int64(11)\n",
      "memory usage: 586.3 KB\n"
     ]
    }
   ],
   "source": [
    "df2.info()"
   ]
  },
  {
   "cell_type": "code",
   "execution_count": 9,
   "metadata": {},
   "outputs": [],
   "source": [
    "df2 = df2.drop(columns='PERIOD')"
   ]
  },
  {
   "cell_type": "code",
   "execution_count": 10,
   "metadata": {},
   "outputs": [
    {
     "data": {
      "text/plain": [
       "(3263, 21)"
      ]
     },
     "execution_count": 10,
     "metadata": {},
     "output_type": "execute_result"
    }
   ],
   "source": [
    "df2.shape"
   ]
  },
  {
   "cell_type": "code",
   "execution_count": 11,
   "metadata": {},
   "outputs": [
    {
     "data": {
      "text/html": [
       "<div>\n",
       "<style scoped>\n",
       "    .dataframe tbody tr th:only-of-type {\n",
       "        vertical-align: middle;\n",
       "    }\n",
       "\n",
       "    .dataframe tbody tr th {\n",
       "        vertical-align: top;\n",
       "    }\n",
       "\n",
       "    .dataframe thead th {\n",
       "        text-align: right;\n",
       "    }\n",
       "</style>\n",
       "<table border=\"1\" class=\"dataframe\">\n",
       "  <thead>\n",
       "    <tr style=\"text-align: right;\">\n",
       "      <th></th>\n",
       "      <th>SEX</th>\n",
       "      <th>TOTCHOL</th>\n",
       "      <th>AGE</th>\n",
       "      <th>SYSBP</th>\n",
       "      <th>DIABP</th>\n",
       "      <th>CURSMOKE</th>\n",
       "      <th>CIGPDAY</th>\n",
       "      <th>BMI</th>\n",
       "      <th>DIABETES</th>\n",
       "      <th>BPMEDS</th>\n",
       "      <th>...</th>\n",
       "      <th>GLUCOSE</th>\n",
       "      <th>educ</th>\n",
       "      <th>PREVCHD</th>\n",
       "      <th>PREVAP</th>\n",
       "      <th>PREVMI</th>\n",
       "      <th>PREVSTRK</th>\n",
       "      <th>PREVHYP</th>\n",
       "      <th>HDLC</th>\n",
       "      <th>LDLC</th>\n",
       "      <th>ANYCHD</th>\n",
       "    </tr>\n",
       "  </thead>\n",
       "  <tbody>\n",
       "    <tr>\n",
       "      <th>1</th>\n",
       "      <td>1</td>\n",
       "      <td>209.0</td>\n",
       "      <td>52</td>\n",
       "      <td>121.0</td>\n",
       "      <td>66.0</td>\n",
       "      <td>0</td>\n",
       "      <td>0.0</td>\n",
       "      <td>NaN</td>\n",
       "      <td>0</td>\n",
       "      <td>0.0</td>\n",
       "      <td>...</td>\n",
       "      <td>92.0</td>\n",
       "      <td>4.0</td>\n",
       "      <td>0</td>\n",
       "      <td>0</td>\n",
       "      <td>0</td>\n",
       "      <td>0</td>\n",
       "      <td>0</td>\n",
       "      <td>31.0</td>\n",
       "      <td>178.0</td>\n",
       "      <td>1</td>\n",
       "    </tr>\n",
       "    <tr>\n",
       "      <th>4</th>\n",
       "      <td>2</td>\n",
       "      <td>237.0</td>\n",
       "      <td>58</td>\n",
       "      <td>108.0</td>\n",
       "      <td>66.0</td>\n",
       "      <td>0</td>\n",
       "      <td>0.0</td>\n",
       "      <td>28.50</td>\n",
       "      <td>0</td>\n",
       "      <td>0.0</td>\n",
       "      <td>...</td>\n",
       "      <td>71.0</td>\n",
       "      <td>2.0</td>\n",
       "      <td>0</td>\n",
       "      <td>0</td>\n",
       "      <td>0</td>\n",
       "      <td>0</td>\n",
       "      <td>0</td>\n",
       "      <td>54.0</td>\n",
       "      <td>141.0</td>\n",
       "      <td>0</td>\n",
       "    </tr>\n",
       "    <tr>\n",
       "      <th>11</th>\n",
       "      <td>2</td>\n",
       "      <td>NaN</td>\n",
       "      <td>58</td>\n",
       "      <td>155.0</td>\n",
       "      <td>90.0</td>\n",
       "      <td>1</td>\n",
       "      <td>30.0</td>\n",
       "      <td>24.61</td>\n",
       "      <td>0</td>\n",
       "      <td>0.0</td>\n",
       "      <td>...</td>\n",
       "      <td>NaN</td>\n",
       "      <td>3.0</td>\n",
       "      <td>0</td>\n",
       "      <td>0</td>\n",
       "      <td>0</td>\n",
       "      <td>0</td>\n",
       "      <td>1</td>\n",
       "      <td>NaN</td>\n",
       "      <td>NaN</td>\n",
       "      <td>0</td>\n",
       "    </tr>\n",
       "    <tr>\n",
       "      <th>14</th>\n",
       "      <td>2</td>\n",
       "      <td>220.0</td>\n",
       "      <td>55</td>\n",
       "      <td>180.0</td>\n",
       "      <td>106.0</td>\n",
       "      <td>0</td>\n",
       "      <td>0.0</td>\n",
       "      <td>31.17</td>\n",
       "      <td>1</td>\n",
       "      <td>1.0</td>\n",
       "      <td>...</td>\n",
       "      <td>81.0</td>\n",
       "      <td>2.0</td>\n",
       "      <td>0</td>\n",
       "      <td>0</td>\n",
       "      <td>0</td>\n",
       "      <td>0</td>\n",
       "      <td>1</td>\n",
       "      <td>46.0</td>\n",
       "      <td>135.0</td>\n",
       "      <td>1</td>\n",
       "    </tr>\n",
       "    <tr>\n",
       "      <th>19</th>\n",
       "      <td>2</td>\n",
       "      <td>320.0</td>\n",
       "      <td>57</td>\n",
       "      <td>110.0</td>\n",
       "      <td>46.0</td>\n",
       "      <td>1</td>\n",
       "      <td>30.0</td>\n",
       "      <td>22.02</td>\n",
       "      <td>0</td>\n",
       "      <td>0.0</td>\n",
       "      <td>...</td>\n",
       "      <td>87.0</td>\n",
       "      <td>2.0</td>\n",
       "      <td>0</td>\n",
       "      <td>0</td>\n",
       "      <td>0</td>\n",
       "      <td>0</td>\n",
       "      <td>0</td>\n",
       "      <td>34.0</td>\n",
       "      <td>286.0</td>\n",
       "      <td>0</td>\n",
       "    </tr>\n",
       "  </tbody>\n",
       "</table>\n",
       "<p>5 rows × 21 columns</p>\n",
       "</div>"
      ],
      "text/plain": [
       "    SEX  TOTCHOL  AGE  SYSBP  DIABP  CURSMOKE  CIGPDAY    BMI  DIABETES  \\\n",
       "1     1    209.0   52  121.0   66.0         0      0.0    NaN         0   \n",
       "4     2    237.0   58  108.0   66.0         0      0.0  28.50         0   \n",
       "11    2      NaN   58  155.0   90.0         1     30.0  24.61         0   \n",
       "14    2    220.0   55  180.0  106.0         0      0.0  31.17         1   \n",
       "19    2    320.0   57  110.0   46.0         1     30.0  22.02         0   \n",
       "\n",
       "    BPMEDS  ...  GLUCOSE  educ  PREVCHD  PREVAP  PREVMI  PREVSTRK  PREVHYP  \\\n",
       "1      0.0  ...     92.0   4.0        0       0       0         0        0   \n",
       "4      0.0  ...     71.0   2.0        0       0       0         0        0   \n",
       "11     0.0  ...      NaN   3.0        0       0       0         0        1   \n",
       "14     1.0  ...     81.0   2.0        0       0       0         0        1   \n",
       "19     0.0  ...     87.0   2.0        0       0       0         0        0   \n",
       "\n",
       "    HDLC   LDLC  ANYCHD  \n",
       "1   31.0  178.0       1  \n",
       "4   54.0  141.0       0  \n",
       "11   NaN    NaN       0  \n",
       "14  46.0  135.0       1  \n",
       "19  34.0  286.0       0  \n",
       "\n",
       "[5 rows x 21 columns]"
      ]
     },
     "execution_count": 11,
     "metadata": {},
     "output_type": "execute_result"
    }
   ],
   "source": [
    "df2.head()"
   ]
  },
  {
   "cell_type": "code",
   "execution_count": 12,
   "metadata": {},
   "outputs": [
    {
     "data": {
      "text/plain": [
       "SEX           int64\n",
       "TOTCHOL     float64\n",
       "AGE           int64\n",
       "SYSBP       float64\n",
       "DIABP       float64\n",
       "CURSMOKE      int64\n",
       "CIGPDAY     float64\n",
       "BMI         float64\n",
       "DIABETES      int64\n",
       "BPMEDS      float64\n",
       "HEARTRTE    float64\n",
       "GLUCOSE     float64\n",
       "educ        float64\n",
       "PREVCHD       int64\n",
       "PREVAP        int64\n",
       "PREVMI        int64\n",
       "PREVSTRK      int64\n",
       "PREVHYP       int64\n",
       "HDLC        float64\n",
       "LDLC        float64\n",
       "ANYCHD        int64\n",
       "dtype: object"
      ]
     },
     "execution_count": 12,
     "metadata": {},
     "output_type": "execute_result"
    }
   ],
   "source": [
    "df2.dtypes"
   ]
  },
  {
   "cell_type": "code",
   "execution_count": 13,
   "metadata": {},
   "outputs": [],
   "source": [
    "for col in ['SEX','CURSMOKE', 'DIABETES', 'PREVCHD', 'PREVAP', 'PREVMI', 'PREVSTRK', 'PREVHYP', 'ANYCHD']:\n",
    "    df2[col] = df2[col].astype('category')"
   ]
  },
  {
   "cell_type": "code",
   "execution_count": 14,
   "metadata": {},
   "outputs": [
    {
     "name": "stdout",
     "output_type": "stream",
     "text": [
      "<class 'pandas.core.frame.DataFrame'>\n",
      "Int64Index: 3263 entries, 1 to 11626\n",
      "Data columns (total 21 columns):\n",
      " #   Column    Non-Null Count  Dtype   \n",
      "---  ------    --------------  -----   \n",
      " 0   SEX       3263 non-null   category\n",
      " 1   TOTCHOL   3049 non-null   float64 \n",
      " 2   AGE       3263 non-null   int64   \n",
      " 3   SYSBP     3263 non-null   float64 \n",
      " 4   DIABP     3263 non-null   float64 \n",
      " 5   CURSMOKE  3263 non-null   category\n",
      " 6   CIGPDAY   3249 non-null   float64 \n",
      " 7   BMI       3246 non-null   float64 \n",
      " 8   DIABETES  3263 non-null   category\n",
      " 9   BPMEDS    2817 non-null   float64 \n",
      " 10  HEARTRTE  3259 non-null   float64 \n",
      " 11  GLUCOSE   2701 non-null   float64 \n",
      " 12  educ      3181 non-null   float64 \n",
      " 13  PREVCHD   3263 non-null   category\n",
      " 14  PREVAP    3263 non-null   category\n",
      " 15  PREVMI    3263 non-null   category\n",
      " 16  PREVSTRK  3263 non-null   category\n",
      " 17  PREVHYP   3263 non-null   category\n",
      " 18  HDLC      3027 non-null   float64 \n",
      " 19  LDLC      3026 non-null   float64 \n",
      " 20  ANYCHD    3263 non-null   category\n",
      "dtypes: category(9), float64(11), int64(1)\n",
      "memory usage: 361.2 KB\n"
     ]
    }
   ],
   "source": [
    "df2.info()"
   ]
  },
  {
   "cell_type": "code",
   "execution_count": 15,
   "metadata": {},
   "outputs": [
    {
     "data": {
      "text/plain": [
       "SEX           0\n",
       "TOTCHOL     214\n",
       "AGE           0\n",
       "SYSBP         0\n",
       "DIABP         0\n",
       "CURSMOKE      0\n",
       "CIGPDAY      14\n",
       "BMI          17\n",
       "DIABETES      0\n",
       "BPMEDS      446\n",
       "HEARTRTE      4\n",
       "GLUCOSE     562\n",
       "educ         82\n",
       "PREVCHD       0\n",
       "PREVAP        0\n",
       "PREVMI        0\n",
       "PREVSTRK      0\n",
       "PREVHYP       0\n",
       "HDLC        236\n",
       "LDLC        237\n",
       "ANYCHD        0\n",
       "dtype: int64"
      ]
     },
     "execution_count": 15,
     "metadata": {},
     "output_type": "execute_result"
    }
   ],
   "source": [
    "df2.isnull().sum()"
   ]
  },
  {
   "cell_type": "code",
   "execution_count": 16,
   "metadata": {},
   "outputs": [],
   "source": [
    "#!pip install missingno\n",
    "import missingno as msno"
   ]
  },
  {
   "cell_type": "code",
   "execution_count": 17,
   "metadata": {},
   "outputs": [
    {
     "data": {
      "text/plain": [
       "<AxesSubplot:>"
      ]
     },
     "execution_count": 17,
     "metadata": {},
     "output_type": "execute_result"
    },
    {
     "data": {
      "image/png": "[encoded data removed]",
      "text/plain": [
       "<Figure size 1800x720 with 2 Axes>"
      ]
     },
     "metadata": {},
     "output_type": "display_data"
    }
   ],
   "source": [
    "msno.matrix(df2)"
   ]
  },
  {
   "cell_type": "code",
   "execution_count": 18,
   "metadata": {},
   "outputs": [
    {
     "data": {
      "text/plain": [
       "<AxesSubplot:>"
      ]
     },
     "execution_count": 18,
     "metadata": {},
     "output_type": "execute_result"
    },
    {
     "data": {
      "image/png": "[encoded data removed]",
      "text/plain": [
       "<Figure size 1440x864 with 2 Axes>"
      ]
     },
     "metadata": {},
     "output_type": "display_data"
    }
   ],
   "source": [
    "msno.heatmap(df2)"
   ]
  },
  {
   "cell_type": "markdown",
   "metadata": {},
   "source": [
    "# TabNet w/o preprocessing"
   ]
  },
  {
   "cell_type": "code",
   "execution_count": 38,
   "metadata": {},
   "outputs": [],
   "source": [
    "feat = df2.drop('ANYCHD', axis = 1)"
   ]
  },
  {
   "cell_type": "code",
   "execution_count": 19,
   "metadata": {},
   "outputs": [],
   "source": [
    "# Labels are the values we want to predict\n",
    "target = np.array(df2['ANYCHD'])\n",
    "# Remove the labels from the features\n",
    "# axis 1 refers to the columns\n",
    "features= df2.drop('ANYCHD', axis = 1)\n",
    "# Saving feature names for later use\n",
    "feature_list = list(features.columns)\n",
    "# Convert to numpy array\n",
    "features = np.array(features)"
   ]
  },
  {
   "cell_type": "code",
   "execution_count": 20,
   "metadata": {},
   "outputs": [
    {
     "name": "stdout",
     "output_type": "stream",
     "text": [
      "Missing: 1812\n",
      "Missing: 0\n"
     ]
    }
   ],
   "source": [
    "from numpy import isnan\n",
    "from sklearn.impute import KNNImputer\n",
    "# print total missing\n",
    "print('Missing: %d' % sum(isnan(features).flatten()))\n",
    "# define imputer\n",
    "imputer = KNNImputer(missing_values=np.nan)\n",
    "# fit on the dataset\n",
    "imputer.fit(features)\n",
    "# transform the dataset\n",
    "features_trans = imputer.transform(features)\n",
    "# print total missing\n",
    "print('Missing: %d' % sum(isnan(features_trans).flatten()))"
   ]
  },
  {
   "cell_type": "code",
   "execution_count": 21,
   "metadata": {},
   "outputs": [],
   "source": [
    "from sklearn.model_selection import train_test_split\n",
    "x_train, x_val, y_train, y_val = train_test_split(features_trans, target, test_size=0.30, random_state=8)"
   ]
  },
  {
   "cell_type": "code",
   "execution_count": 22,
   "metadata": {},
   "outputs": [],
   "source": [
    "x_val, x_test, y_val, y_test = train_test_split(x_val, y_val, test_size=0.50, random_state=8)"
   ]
  },
  {
   "cell_type": "code",
   "execution_count": 23,
   "metadata": {},
   "outputs": [],
   "source": [
    "import pytorch_tabnet\n",
    "from pytorch_tabnet.tab_model import TabNetClassifier\n",
    "\n",
    "import torch\n",
    "from sklearn.preprocessing import LabelEncoder\n",
    "from sklearn.metrics import roc_auc_score, accuracy_score\n",
    "from sklearn.model_selection import KFold\n",
    "\n",
    "np.random.seed(8)"
   ]
  },
  {
   "cell_type": "code",
   "execution_count": 24,
   "metadata": {},
   "outputs": [
    {
     "name": "stdout",
     "output_type": "stream",
     "text": [
      "Device used : cpu\n"
     ]
    }
   ],
   "source": [
    "clf1_nopreproc = TabNetClassifier(optimizer_fn=torch.optim.Adam,\n",
    "                       optimizer_params=dict(lr=2e-2),\n",
    "                       scheduler_params={\"step_size\":50, # how to use learning rate scheduler\n",
    "                                         \"gamma\":0.9},\n",
    "                       scheduler_fn=torch.optim.lr_scheduler.StepLR,\n",
    "                       mask_type='entmax' # \"sparsemax\"\n",
    "                      )"
   ]
  },
  {
   "cell_type": "code",
   "execution_count": 25,
   "metadata": {},
   "outputs": [
    {
     "name": "stdout",
     "output_type": "stream",
     "text": [
      "epoch 0  | loss: 0.6811  | train_auc: 0.45344 | train_accuracy: 0.28897 | valid_auc: 0.43488 | valid_accuracy: 0.24131 |  0:00:01s\n",
      "epoch 1  | loss: 0.5875  | train_auc: 0.51003 | train_accuracy: 0.33187 | valid_auc: 0.52899 | valid_accuracy: 0.32106 |  0:00:02s\n",
      "epoch 2  | loss: 0.52736 | train_auc: 0.56218 | train_accuracy: 0.2732  | valid_auc: 0.5909  | valid_accuracy: 0.24335 |  0:00:02s\n",
      "epoch 3  | loss: 0.51835 | train_auc: 0.59103 | train_accuracy: 0.26095 | valid_auc: 0.64295 | valid_accuracy: 0.22904 |  0:00:03s\n",
      "epoch 4  | loss: 0.49763 | train_auc: 0.54292 | train_accuracy: 0.26182 | valid_auc: 0.51632 | valid_accuracy: 0.23108 |  0:00:04s\n",
      "epoch 5  | loss: 0.49266 | train_auc: 0.60884 | train_accuracy: 0.26138 | valid_auc: 0.56915 | valid_accuracy: 0.23313 |  0:00:05s\n",
      "epoch 6  | loss: 0.4844  | train_auc: 0.65335 | train_accuracy: 0.2627  | valid_auc: 0.62204 | valid_accuracy: 0.22699 |  0:00:06s\n",
      "epoch 7  | loss: 0.49256 | train_auc: 0.64321 | train_accuracy: 0.26751 | valid_auc: 0.67275 | valid_accuracy: 0.23108 |  0:00:07s\n",
      "epoch 8  | loss: 0.49198 | train_auc: 0.69364 | train_accuracy: 0.26926 | valid_auc: 0.73901 | valid_accuracy: 0.23313 |  0:00:08s\n",
      "epoch 9  | loss: 0.47581 | train_auc: 0.68207 | train_accuracy: 0.29904 | valid_auc: 0.72333 | valid_accuracy: 0.25767 |  0:00:09s\n",
      "epoch 10 | loss: 0.46317 | train_auc: 0.729   | train_accuracy: 0.37828 | valid_auc: 0.7224  | valid_accuracy: 0.35583 |  0:00:10s\n",
      "epoch 11 | loss: 0.46035 | train_auc: 0.7306  | train_accuracy: 0.37697 | valid_auc: 0.72506 | valid_accuracy: 0.35992 |  0:00:10s\n",
      "epoch 12 | loss: 0.46012 | train_auc: 0.71318 | train_accuracy: 0.32837 | valid_auc: 0.68868 | valid_accuracy: 0.30879 |  0:00:11s\n",
      "epoch 13 | loss: 0.48256 | train_auc: 0.71993 | train_accuracy: 0.40455 | valid_auc: 0.7586  | valid_accuracy: 0.41309 |  0:00:13s\n",
      "epoch 14 | loss: 0.45445 | train_auc: 0.75071 | train_accuracy: 0.39229 | valid_auc: 0.7237  | valid_accuracy: 0.38446 |  0:00:14s\n",
      "epoch 15 | loss: 0.45654 | train_auc: 0.73527 | train_accuracy: 0.3472  | valid_auc: 0.74749 | valid_accuracy: 0.31902 |  0:00:15s\n",
      "epoch 16 | loss: 0.46662 | train_auc: 0.75284 | train_accuracy: 0.419   | valid_auc: 0.7608  | valid_accuracy: 0.4274  |  0:00:16s\n",
      "epoch 17 | loss: 0.45286 | train_auc: 0.77365 | train_accuracy: 0.55911 | valid_auc: 0.74389 | valid_accuracy: 0.5726  |  0:00:17s\n",
      "epoch 18 | loss: 0.43219 | train_auc: 0.78641 | train_accuracy: 0.50876 | valid_auc: 0.76291 | valid_accuracy: 0.50716 |  0:00:18s\n",
      "epoch 19 | loss: 0.43682 | train_auc: 0.79262 | train_accuracy: 0.65061 | valid_auc: 0.77551 | valid_accuracy: 0.66258 |  0:00:19s\n",
      "epoch 20 | loss: 0.43037 | train_auc: 0.81277 | train_accuracy: 0.65499 | valid_auc: 0.78631 | valid_accuracy: 0.64417 |  0:00:20s\n",
      "epoch 21 | loss: 0.45984 | train_auc: 0.81455 | train_accuracy: 0.66462 | valid_auc: 0.76021 | valid_accuracy: 0.66053 |  0:00:21s\n",
      "epoch 22 | loss: 0.43791 | train_auc: 0.82067 | train_accuracy: 0.73599 | valid_auc: 0.75474 | valid_accuracy: 0.70757 |  0:00:22s\n",
      "epoch 23 | loss: 0.44233 | train_auc: 0.81258 | train_accuracy: 0.69527 | valid_auc: 0.76814 | valid_accuracy: 0.69325 |  0:00:23s\n",
      "epoch 24 | loss: 0.44316 | train_auc: 0.82178 | train_accuracy: 0.74168 | valid_auc: 0.75962 | valid_accuracy: 0.72802 |  0:00:24s\n",
      "epoch 25 | loss: 0.45794 | train_auc: 0.82989 | train_accuracy: 0.76489 | valid_auc: 0.7549  | valid_accuracy: 0.75665 |  0:00:25s\n",
      "epoch 26 | loss: 0.44455 | train_auc: 0.83453 | train_accuracy: 0.78722 | valid_auc: 0.76615 | valid_accuracy: 0.78732 |  0:00:25s\n",
      "epoch 27 | loss: 0.43698 | train_auc: 0.82989 | train_accuracy: 0.76708 | valid_auc: 0.77058 | valid_accuracy: 0.78323 |  0:00:26s\n",
      "epoch 28 | loss: 0.43499 | train_auc: 0.83913 | train_accuracy: 0.73905 | valid_auc: 0.76577 | valid_accuracy: 0.71166 |  0:00:27s\n",
      "epoch 29 | loss: 0.4308  | train_auc: 0.85007 | train_accuracy: 0.76576 | valid_auc: 0.77404 | valid_accuracy: 0.7546  |  0:00:29s\n",
      "epoch 30 | loss: 0.42194 | train_auc: 0.84365 | train_accuracy: 0.75482 | valid_auc: 0.77195 | valid_accuracy: 0.74642 |  0:00:30s\n",
      "epoch 31 | loss: 0.42159 | train_auc: 0.85171 | train_accuracy: 0.76489 | valid_auc: 0.74993 | valid_accuracy: 0.72802 |  0:00:31s\n",
      "epoch 32 | loss: 0.42968 | train_auc: 0.86009 | train_accuracy: 0.76051 | valid_auc: 0.74998 | valid_accuracy: 0.72802 |  0:00:32s\n",
      "epoch 33 | loss: 0.41226 | train_auc: 0.87082 | train_accuracy: 0.78371 | valid_auc: 0.77702 | valid_accuracy: 0.73415 |  0:00:33s\n",
      "epoch 34 | loss: 0.42545 | train_auc: 0.86231 | train_accuracy: 0.74781 | valid_auc: 0.76724 | valid_accuracy: 0.66667 |  0:00:35s\n",
      "epoch 35 | loss: 0.40479 | train_auc: 0.86913 | train_accuracy: 0.7894  | valid_auc: 0.7468  | valid_accuracy: 0.71575 |  0:00:36s\n",
      "epoch 36 | loss: 0.39045 | train_auc: 0.86959 | train_accuracy: 0.7859  | valid_auc: 0.73911 | valid_accuracy: 0.76483 |  0:00:37s\n",
      "epoch 37 | loss: 0.42103 | train_auc: 0.86958 | train_accuracy: 0.73205 | valid_auc: 0.77153 | valid_accuracy: 0.67894 |  0:00:38s\n",
      "epoch 38 | loss: 0.42797 | train_auc: 0.85564 | train_accuracy: 0.76489 | valid_auc: 0.78027 | valid_accuracy: 0.7546  |  0:00:40s\n",
      "epoch 39 | loss: 0.42591 | train_auc: 0.87332 | train_accuracy: 0.78765 | valid_auc: 0.77563 | valid_accuracy: 0.75869 |  0:00:42s\n",
      "epoch 40 | loss: 0.41015 | train_auc: 0.88419 | train_accuracy: 0.79072 | valid_auc: 0.76355 | valid_accuracy: 0.73824 |  0:00:44s\n",
      "epoch 41 | loss: 0.41873 | train_auc: 0.88504 | train_accuracy: 0.76708 | valid_auc: 0.74846 | valid_accuracy: 0.6953  |  0:00:45s\n",
      "epoch 42 | loss: 0.43299 | train_auc: 0.8805  | train_accuracy: 0.80429 | valid_auc: 0.73716 | valid_accuracy: 0.73415 |  0:00:46s\n",
      "epoch 43 | loss: 0.41176 | train_auc: 0.88709 | train_accuracy: 0.78765 | valid_auc: 0.73925 | valid_accuracy: 0.73415 |  0:00:47s\n",
      "epoch 44 | loss: 0.4132  | train_auc: 0.89401 | train_accuracy: 0.81305 | valid_auc: 0.74962 | valid_accuracy: 0.75869 |  0:00:48s\n",
      "epoch 45 | loss: 0.4033  | train_auc: 0.9014  | train_accuracy: 0.79378 | valid_auc: 0.75528 | valid_accuracy: 0.71984 |  0:00:49s\n",
      "epoch 46 | loss: 0.39689 | train_auc: 0.89845 | train_accuracy: 0.8113  | valid_auc: 0.75663 | valid_accuracy: 0.75256 |  0:00:50s\n",
      "epoch 47 | loss: 0.39369 | train_auc: 0.90981 | train_accuracy: 0.84501 | valid_auc: 0.74467 | valid_accuracy: 0.77505 |  0:00:51s\n",
      "epoch 48 | loss: 0.36927 | train_auc: 0.91199 | train_accuracy: 0.82837 | valid_auc: 0.74396 | valid_accuracy: 0.76278 |  0:00:52s\n",
      "epoch 49 | loss: 0.38588 | train_auc: 0.89819 | train_accuracy: 0.82268 | valid_auc: 0.74768 | valid_accuracy: 0.74438 |  0:00:53s\n",
      "epoch 50 | loss: 0.37673 | train_auc: 0.91131 | train_accuracy: 0.82137 | valid_auc: 0.75429 | valid_accuracy: 0.74847 |  0:00:54s\n",
      "epoch 51 | loss: 0.37019 | train_auc: 0.91771 | train_accuracy: 0.80429 | valid_auc: 0.75526 | valid_accuracy: 0.72802 |  0:00:55s\n",
      "epoch 52 | loss: 0.3509  | train_auc: 0.91807 | train_accuracy: 0.8437  | valid_auc: 0.75417 | valid_accuracy: 0.76074 |  0:00:56s\n",
      "epoch 53 | loss: 0.35557 | train_auc: 0.91558 | train_accuracy: 0.81086 | valid_auc: 0.75161 | valid_accuracy: 0.70757 |  0:00:57s\n",
      "epoch 54 | loss: 0.38687 | train_auc: 0.91526 | train_accuracy: 0.82793 | valid_auc: 0.76044 | valid_accuracy: 0.76687 |  0:00:58s\n",
      "epoch 55 | loss: 0.38835 | train_auc: 0.91358 | train_accuracy: 0.8345  | valid_auc: 0.75208 | valid_accuracy: 0.75869 |  0:00:59s\n",
      "epoch 56 | loss: 0.37205 | train_auc: 0.91845 | train_accuracy: 0.83144 | valid_auc: 0.73809 | valid_accuracy: 0.75665 |  0:01:00s\n",
      "epoch 57 | loss: 0.36342 | train_auc: 0.92675 | train_accuracy: 0.81874 | valid_auc: 0.75002 | valid_accuracy: 0.72597 |  0:01:01s\n",
      "epoch 58 | loss: 0.36541 | train_auc: 0.92894 | train_accuracy: 0.81655 | valid_auc: 0.73255 | valid_accuracy: 0.66871 |  0:01:02s\n",
      "epoch 59 | loss: 0.34996 | train_auc: 0.92721 | train_accuracy: 0.83844 | valid_auc: 0.73172 | valid_accuracy: 0.72393 |  0:01:03s\n",
      "epoch 60 | loss: 0.36264 | train_auc: 0.92595 | train_accuracy: 0.83888 | valid_auc: 0.7387  | valid_accuracy: 0.70961 |  0:01:04s\n",
      "epoch 61 | loss: 0.36017 | train_auc: 0.92653 | train_accuracy: 0.84851 | valid_auc: 0.74853 | valid_accuracy: 0.75051 |  0:01:05s\n",
      "epoch 62 | loss: 0.37357 | train_auc: 0.91919 | train_accuracy: 0.83012 | valid_auc: 0.74796 | valid_accuracy: 0.72597 |  0:01:06s\n",
      "epoch 63 | loss: 0.37592 | train_auc: 0.92565 | train_accuracy: 0.84982 | valid_auc: 0.71478 | valid_accuracy: 0.7362  |  0:01:07s\n",
      "epoch 64 | loss: 0.34334 | train_auc: 0.92306 | train_accuracy: 0.83012 | valid_auc: 0.72819 | valid_accuracy: 0.74029 |  0:01:08s\n",
      "epoch 65 | loss: 0.36427 | train_auc: 0.92485 | train_accuracy: 0.82574 | valid_auc: 0.74879 | valid_accuracy: 0.71575 |  0:01:08s\n",
      "epoch 66 | loss: 0.35772 | train_auc: 0.92413 | train_accuracy: 0.80473 | valid_auc: 0.74098 | valid_accuracy: 0.68916 |  0:01:09s\n",
      "epoch 67 | loss: 0.36092 | train_auc: 0.92341 | train_accuracy: 0.83363 | valid_auc: 0.71061 | valid_accuracy: 0.71166 |  0:01:10s\n",
      "epoch 68 | loss: 0.35864 | train_auc: 0.93392 | train_accuracy: 0.82312 | valid_auc: 0.70853 | valid_accuracy: 0.66871 |  0:01:12s\n",
      "epoch 69 | loss: 0.34985 | train_auc: 0.93231 | train_accuracy: 0.82093 | valid_auc: 0.71135 | valid_accuracy: 0.69121 |  0:01:13s\n",
      "epoch 70 | loss: 0.35303 | train_auc: 0.93331 | train_accuracy: 0.83144 | valid_auc: 0.73366 | valid_accuracy: 0.7137  |  0:01:14s\n",
      "epoch 71 | loss: 0.31757 | train_auc: 0.93346 | train_accuracy: 0.85464 | valid_auc: 0.74062 | valid_accuracy: 0.76074 |  0:01:15s\n",
      "epoch 72 | loss: 0.34262 | train_auc: 0.93163 | train_accuracy: 0.82224 | valid_auc: 0.74415 | valid_accuracy: 0.68098 |  0:01:16s\n",
      "epoch 73 | loss: 0.33852 | train_auc: 0.92966 | train_accuracy: 0.85245 | valid_auc: 0.74391 | valid_accuracy: 0.75256 |  0:01:17s\n",
      "epoch 74 | loss: 0.3203  | train_auc: 0.94598 | train_accuracy: 0.84501 | valid_auc: 0.75933 | valid_accuracy: 0.71166 |  0:01:18s\n",
      "epoch 75 | loss: 0.30802 | train_auc: 0.94575 | train_accuracy: 0.84807 | valid_auc: 0.75372 | valid_accuracy: 0.70348 |  0:01:19s\n",
      "epoch 76 | loss: 0.32588 | train_auc: 0.93745 | train_accuracy: 0.84851 | valid_auc: 0.74588 | valid_accuracy: 0.71166 |  0:01:20s\n",
      "\n",
      "Early stopping occurred at epoch 76 with best_epoch = 26 and best_valid_accuracy = 0.78732\n",
      "Best weights from best epoch are automatically used!\n"
     ]
    }
   ],
   "source": [
    "clf1_nopreproc.fit(\n",
    "    x_train,y_train,\n",
    "    eval_set=[(x_train, y_train), (x_val, y_val)],\n",
    "    eval_name=['train', 'valid'],\n",
    "    eval_metric=['auc','accuracy'],\n",
    "    max_epochs=1000 , patience=50,\n",
    "    batch_size=256, virtual_batch_size=128,\n",
    "    num_workers=0,\n",
    "    weights=1,\n",
    "    drop_last=False\n",
    ")"
   ]
  },
  {
   "cell_type": "code",
   "execution_count": 26,
   "metadata": {},
   "outputs": [
    {
     "data": {
      "text/plain": [
       "[<matplotlib.lines.Line2D at 0x1cd4bc45610>]"
      ]
     },
     "execution_count": 26,
     "metadata": {},
     "output_type": "execute_result"
    },
    {
     "data": {
      "image/png": "[encoded data removed]",
      "text/plain": [
       "<Figure size 432x288 with 1 Axes>"
      ]
     },
     "metadata": {},
     "output_type": "display_data"
    }
   ],
   "source": [
    "# plot losses\n",
    "plt.plot(clf1_nopreproc.history['loss'])"
   ]
  },
  {
   "cell_type": "code",
   "execution_count": 27,
   "metadata": {},
   "outputs": [
    {
     "data": {
      "text/plain": [
       "[<matplotlib.lines.Line2D at 0x1cd4cc77100>]"
      ]
     },
     "execution_count": 27,
     "metadata": {},
     "output_type": "execute_result"
    },
    {
     "data": {
      "image/png": "[encoded data removed]",
      "text/plain": [
       "<Figure size 432x288 with 1 Axes>"
      ]
     },
     "metadata": {},
     "output_type": "display_data"
    }
   ],
   "source": [
    "# plot auc\n",
    "plt.plot(clf1_nopreproc.history['train_accuracy'])\n",
    "plt.plot(clf1_nopreproc.history['valid_accuracy'])"
   ]
  },
  {
   "cell_type": "code",
   "execution_count": 28,
   "metadata": {},
   "outputs": [
    {
     "data": {
      "text/plain": [
       "[<matplotlib.lines.Line2D at 0x1cd4ccc70a0>]"
      ]
     },
     "execution_count": 28,
     "metadata": {},
     "output_type": "execute_result"
    },
    {
     "data": {
      "image/png": "[encoded data removed]",
      "text/plain": [
       "<Figure size 432x288 with 1 Axes>"
      ]
     },
     "metadata": {},
     "output_type": "display_data"
    }
   ],
   "source": [
    "# plot learning rates\n",
    "plt.plot(clf1_nopreproc.history['lr'])"
   ]
  },
  {
   "cell_type": "code",
   "execution_count": 29,
   "metadata": {},
   "outputs": [
    {
     "name": "stdout",
     "output_type": "stream",
     "text": [
      "BEST ACCURACY SCORE ON VALIDATION SET : 0.787321063394683\n",
      "BEST ACCURACY SCORE ON TEST SET : 0.773469387755102\n"
     ]
    }
   ],
   "source": [
    "preds = clf1_nopreproc.predict(x_test)\n",
    "test_acc = accuracy_score(preds, y_test)\n",
    "\n",
    "\n",
    "preds_valid = clf1_nopreproc.predict(x_val)\n",
    "valid_acc = accuracy_score(preds_valid, y_val)\n",
    "\n",
    "print(f\"BEST ACCURACY SCORE ON VALIDATION SET : {valid_acc}\")\n",
    "print(f\"BEST ACCURACY SCORE ON TEST SET : {test_acc}\")"
   ]
  },
  {
   "cell_type": "code",
   "execution_count": 30,
   "metadata": {},
   "outputs": [],
   "source": [
    "y_pred = clf1_nopreproc.predict(x_test)"
   ]
  },
  {
   "cell_type": "code",
   "execution_count": 31,
   "metadata": {},
   "outputs": [
    {
     "data": {
      "text/plain": [
       "array([3.09734049e-02, 1.82831721e-02, 6.71989026e-02, 4.45387635e-02,\n",
       "       8.06291507e-02, 2.42945686e-03, 2.76267222e-02, 2.83654528e-03,\n",
       "       3.92965149e-02, 2.67893684e-02, 1.83584157e-02, 1.24146036e-05,\n",
       "       4.64652711e-03, 3.13469201e-01, 1.03416664e-01, 1.27211731e-01,\n",
       "       4.13320385e-03, 3.33088501e-02, 2.10572764e-02, 3.37837146e-02])"
      ]
     },
     "execution_count": 31,
     "metadata": {},
     "output_type": "execute_result"
    }
   ],
   "source": [
    "clf1_nopreproc.feature_importances_"
   ]
  },
  {
   "cell_type": "code",
   "execution_count": 39,
   "metadata": {},
   "outputs": [
    {
     "data": {
      "text/plain": [
       "<AxesSubplot:>"
      ]
     },
     "execution_count": 39,
     "metadata": {},
     "output_type": "execute_result"
    },
    {
     "data": {
      "image/png": "[encoded data removed]",
      "text/plain": [
       "<Figure size 432x288 with 1 Axes>"
      ]
     },
     "metadata": {},
     "output_type": "display_data"
    }
   ],
   "source": [
    "feat_importances = pd.Series(clf1_nopreproc.feature_importances_, index=feat.columns)\n",
    "feat_importances.nlargest(20).plot(kind='barh')"
   ]
  },
  {
   "cell_type": "code",
   "execution_count": 32,
   "metadata": {},
   "outputs": [],
   "source": [
    "explain_matrix, masks = clf1_nopreproc.explain(x_test)"
   ]
  },
  {
   "cell_type": "code",
   "execution_count": 33,
   "metadata": {},
   "outputs": [
    {
     "data": {
      "image/png": "[encoded data removed]",
      "text/plain": [
       "<Figure size 1440x1440 with 3 Axes>"
      ]
     },
     "metadata": {},
     "output_type": "display_data"
    }
   ],
   "source": [
    "fig, axs = plt.subplots(1, 3, figsize=(20,20))\n",
    "\n",
    "for i in range(3):\n",
    "    axs[i].imshow(masks[i][:50])\n",
    "    axs[i].set_title(f\"mask {i}\")"
   ]
  },
  {
   "cell_type": "markdown",
   "metadata": {},
   "source": [
    "# Unsupervised "
   ]
  },
  {
   "cell_type": "code",
   "execution_count": 40,
   "metadata": {},
   "outputs": [],
   "source": [
    "from pytorch_tabnet.pretraining import TabNetPretrainer"
   ]
  },
  {
   "cell_type": "code",
   "execution_count": 41,
   "metadata": {},
   "outputs": [
    {
     "name": "stdout",
     "output_type": "stream",
     "text": [
      "Device used : cpu\n"
     ]
    }
   ],
   "source": [
    "# TabNetPretrainer\n",
    "unsupervised_model_no_preproc = TabNetPretrainer(\n",
    "    optimizer_fn=torch.optim.Adam,\n",
    "    optimizer_params=dict(lr=2e-2),\n",
    "    mask_type='entmax', # \"sparsemax\",\n",
    "    #n_shared_decoder=1, # nb shared glu for decoding\n",
    "    #n_indep_decoder=1, # nb independent glu for decoding\n",
    ")"
   ]
  },
  {
   "cell_type": "code",
   "execution_count": 42,
   "metadata": {},
   "outputs": [
    {
     "name": "stdout",
     "output_type": "stream",
     "text": [
      "epoch 0  | loss: 20.13245| val_0_unsup_loss: 164.78799|  0:00:01s\n",
      "epoch 1  | loss: 16.35803| val_0_unsup_loss: 22.19065|  0:00:02s\n",
      "epoch 2  | loss: 15.3253 | val_0_unsup_loss: 17.33967|  0:00:03s\n",
      "epoch 3  | loss: 14.48952| val_0_unsup_loss: 18.96335|  0:00:04s\n",
      "epoch 4  | loss: 12.99092| val_0_unsup_loss: 14.85807|  0:00:05s\n",
      "epoch 5  | loss: 10.71867| val_0_unsup_loss: 12.44502|  0:00:06s\n",
      "epoch 6  | loss: 8.28366 | val_0_unsup_loss: 11.09743|  0:00:07s\n",
      "epoch 7  | loss: 6.37237 | val_0_unsup_loss: 9.06544 |  0:00:07s\n",
      "epoch 8  | loss: 4.96083 | val_0_unsup_loss: 7.8869  |  0:00:08s\n",
      "epoch 9  | loss: 40453.60396| val_0_unsup_loss: 7.55118 |  0:00:09s\n",
      "epoch 10 | loss: 3.23896 | val_0_unsup_loss: 5.55214 |  0:00:10s\n",
      "epoch 11 | loss: 2.89441 | val_0_unsup_loss: 4.0518  |  0:00:11s\n",
      "epoch 12 | loss: 2.66084 | val_0_unsup_loss: 3.71331 |  0:00:12s\n",
      "epoch 13 | loss: 2.43951 | val_0_unsup_loss: 3.26952 |  0:00:13s\n",
      "epoch 14 | loss: 2.20883 | val_0_unsup_loss: 2.90877 |  0:00:13s\n",
      "epoch 15 | loss: 2.00743 | val_0_unsup_loss: 2.46808 |  0:00:14s\n",
      "epoch 16 | loss: 1.86422 | val_0_unsup_loss: 2.36949 |  0:00:15s\n",
      "epoch 17 | loss: 1.75055 | val_0_unsup_loss: 2.46367 |  0:00:16s\n",
      "epoch 18 | loss: 1.61928 | val_0_unsup_loss: 2.13901 |  0:00:17s\n",
      "epoch 19 | loss: 1.5552  | val_0_unsup_loss: 1.96709 |  0:00:19s\n",
      "epoch 20 | loss: 1.44689 | val_0_unsup_loss: 1.86928 |  0:00:20s\n",
      "epoch 21 | loss: 1.39421 | val_0_unsup_loss: 1.64591 |  0:00:21s\n",
      "epoch 22 | loss: 1.31345 | val_0_unsup_loss: 1.60426 |  0:00:21s\n",
      "epoch 23 | loss: 1.29399 | val_0_unsup_loss: 1.51491 |  0:00:23s\n",
      "epoch 24 | loss: 1.24841 | val_0_unsup_loss: 1.36769 |  0:00:24s\n",
      "epoch 25 | loss: 1.22092 | val_0_unsup_loss: 1.37713 |  0:00:24s\n",
      "epoch 26 | loss: 1.23484 | val_0_unsup_loss: 1.38009 |  0:00:25s\n",
      "epoch 27 | loss: 1.19655 | val_0_unsup_loss: 1.47864 |  0:00:26s\n",
      "epoch 28 | loss: 1.18116 | val_0_unsup_loss: 1.41473 |  0:00:27s\n",
      "epoch 29 | loss: 1.1586  | val_0_unsup_loss: 1.36686 |  0:00:28s\n",
      "epoch 30 | loss: 1.19719 | val_0_unsup_loss: 1.2957  |  0:00:29s\n",
      "epoch 31 | loss: 1.20731 | val_0_unsup_loss: 1.32109 |  0:00:30s\n",
      "epoch 32 | loss: 1.13058 | val_0_unsup_loss: 1.39532 |  0:00:31s\n",
      "epoch 33 | loss: 1.15154 | val_0_unsup_loss: 1.3343  |  0:00:32s\n",
      "epoch 34 | loss: 175214.61796| val_0_unsup_loss: 1.22776 |  0:00:33s\n",
      "epoch 35 | loss: 1.1292  | val_0_unsup_loss: 1.26052 |  0:00:34s\n",
      "epoch 36 | loss: 1.14695 | val_0_unsup_loss: 1.26804 |  0:00:35s\n",
      "epoch 37 | loss: 1.14091 | val_0_unsup_loss: 1.42302 |  0:00:36s\n",
      "epoch 38 | loss: 1.12979 | val_0_unsup_loss: 1.37731 |  0:00:37s\n",
      "epoch 39 | loss: 1.09249 | val_0_unsup_loss: 1.42317 |  0:00:37s\n",
      "epoch 40 | loss: 1.07211 | val_0_unsup_loss: 1.46417 |  0:00:39s\n",
      "epoch 41 | loss: 1.09093 | val_0_unsup_loss: 1.27951 |  0:00:40s\n",
      "epoch 42 | loss: 1.06048 | val_0_unsup_loss: 1.13482 |  0:00:40s\n",
      "epoch 43 | loss: 1.04875 | val_0_unsup_loss: 1.17597 |  0:00:41s\n",
      "epoch 44 | loss: 1.07326 | val_0_unsup_loss: 1.24556 |  0:00:42s\n",
      "epoch 45 | loss: 1.09343 | val_0_unsup_loss: 1.11296 |  0:00:43s\n",
      "epoch 46 | loss: 1.06853 | val_0_unsup_loss: 1.26298 |  0:00:45s\n",
      "epoch 47 | loss: 1.10891 | val_0_unsup_loss: 1.47709 |  0:00:46s\n",
      "epoch 48 | loss: 1.111   | val_0_unsup_loss: 1.61181 |  0:00:47s\n",
      "epoch 49 | loss: 1.06341 | val_0_unsup_loss: 1.84608 |  0:00:48s\n",
      "epoch 50 | loss: 1.07306 | val_0_unsup_loss: 1.58668 |  0:00:50s\n",
      "epoch 51 | loss: 1.05663 | val_0_unsup_loss: 1.49346 |  0:00:50s\n",
      "epoch 52 | loss: 1.08642 | val_0_unsup_loss: 1.53738 |  0:00:52s\n",
      "epoch 53 | loss: 1.176   | val_0_unsup_loss: 1.59598 |  0:00:53s\n",
      "epoch 54 | loss: 1.06947 | val_0_unsup_loss: 1.38074 |  0:00:54s\n",
      "epoch 55 | loss: 1.0444  | val_0_unsup_loss: 1.42145 |  0:00:55s\n",
      "epoch 56 | loss: 1.0686  | val_0_unsup_loss: 1.29562 |  0:00:55s\n",
      "epoch 57 | loss: 12176.26957| val_0_unsup_loss: 1.33652 |  0:00:56s\n",
      "epoch 58 | loss: 1.12096 | val_0_unsup_loss: 1.13914 |  0:00:58s\n",
      "epoch 59 | loss: 1.11156 | val_0_unsup_loss: 1.14709 |  0:00:59s\n",
      "epoch 60 | loss: 1.06136 | val_0_unsup_loss: 1.07245 |  0:00:59s\n",
      "epoch 61 | loss: 1.03946 | val_0_unsup_loss: 1.29403 |  0:01:00s\n",
      "epoch 62 | loss: 1.04625 | val_0_unsup_loss: 1.31225 |  0:01:01s\n",
      "epoch 63 | loss: 1.0254  | val_0_unsup_loss: 1.39876 |  0:01:02s\n",
      "epoch 64 | loss: 1.03576 | val_0_unsup_loss: 1.24135 |  0:01:03s\n",
      "epoch 65 | loss: 1.03623 | val_0_unsup_loss: 1.15608 |  0:01:03s\n",
      "epoch 66 | loss: 1.01915 | val_0_unsup_loss: 1.10238 |  0:01:04s\n",
      "epoch 67 | loss: 1.01831 | val_0_unsup_loss: 1.11438 |  0:01:05s\n",
      "epoch 68 | loss: 1.00862 | val_0_unsup_loss: 1.2092  |  0:01:06s\n",
      "epoch 69 | loss: 1.02695 | val_0_unsup_loss: 1.13351 |  0:01:10s\n",
      "epoch 70 | loss: 1.00629 | val_0_unsup_loss: 1.064   |  0:01:11s\n",
      "epoch 71 | loss: 1.03687 | val_0_unsup_loss: 1.05415 |  0:01:11s\n",
      "epoch 72 | loss: 1.02724 | val_0_unsup_loss: 1.06673 |  0:01:12s\n",
      "epoch 73 | loss: 1.0264  | val_0_unsup_loss: 1.03828 |  0:01:13s\n",
      "epoch 74 | loss: 1.02575 | val_0_unsup_loss: 1.04282 |  0:01:14s\n",
      "epoch 75 | loss: 0.99978 | val_0_unsup_loss: 1.07564 |  0:01:16s\n",
      "epoch 76 | loss: 1.03099 | val_0_unsup_loss: 1.04835 |  0:01:16s\n",
      "epoch 77 | loss: 1.04377 | val_0_unsup_loss: 1.0623  |  0:01:18s\n",
      "epoch 78 | loss: 1.00498 | val_0_unsup_loss: 1.04292 |  0:01:18s\n",
      "epoch 79 | loss: 6512.08618| val_0_unsup_loss: 1.05428 |  0:01:19s\n",
      "epoch 80 | loss: 1.01554 | val_0_unsup_loss: 1.04895 |  0:01:20s\n",
      "epoch 81 | loss: 1.01784 | val_0_unsup_loss: 1.07069 |  0:01:21s\n",
      "epoch 82 | loss: 1.01388 | val_0_unsup_loss: 0.99713 |  0:01:22s\n",
      "epoch 83 | loss: 1.06951 | val_0_unsup_loss: 1.04337 |  0:01:22s\n",
      "epoch 84 | loss: 1.03823 | val_0_unsup_loss: 1.091   |  0:01:23s\n",
      "epoch 85 | loss: 1.0455  | val_0_unsup_loss: 1.00501 |  0:01:24s\n",
      "epoch 86 | loss: 1.0248  | val_0_unsup_loss: 1.02878 |  0:01:25s\n",
      "epoch 87 | loss: 1.00336 | val_0_unsup_loss: 1.01145 |  0:01:26s\n",
      "epoch 88 | loss: 1.00893 | val_0_unsup_loss: 1.07349 |  0:01:26s\n",
      "epoch 89 | loss: 0.99846 | val_0_unsup_loss: 0.97488 |  0:01:27s\n",
      "epoch 90 | loss: 0.99247 | val_0_unsup_loss: 1.05345 |  0:01:28s\n",
      "epoch 91 | loss: 1.00455 | val_0_unsup_loss: 1.0748  |  0:01:29s\n",
      "epoch 92 | loss: 1.01703 | val_0_unsup_loss: 0.96257 |  0:01:31s\n",
      "epoch 93 | loss: 1.01734 | val_0_unsup_loss: 0.96112 |  0:01:32s\n",
      "epoch 94 | loss: 0.99145 | val_0_unsup_loss: 1.02474 |  0:01:33s\n",
      "epoch 95 | loss: 1.04805 | val_0_unsup_loss: 1.04267 |  0:01:34s\n",
      "epoch 96 | loss: 1.0384  | val_0_unsup_loss: 1.01215 |  0:01:36s\n",
      "epoch 97 | loss: 22156.95037| val_0_unsup_loss: 0.99097 |  0:01:37s\n",
      "epoch 98 | loss: 0.99802 | val_0_unsup_loss: 0.99504 |  0:01:38s\n",
      "epoch 99 | loss: 2042.06422| val_0_unsup_loss: 1.27352 |  0:01:39s\n",
      "epoch 100| loss: 1.12772 | val_0_unsup_loss: 1.32176 |  0:01:40s\n",
      "epoch 101| loss: 1.14287 | val_0_unsup_loss: 1.10037 |  0:01:41s\n",
      "epoch 102| loss: 8960.84024| val_0_unsup_loss: 1.10741 |  0:01:42s\n",
      "epoch 103| loss: 1.05089 | val_0_unsup_loss: 0.98893 |  0:01:43s\n",
      "epoch 104| loss: 1.02113 | val_0_unsup_loss: 1.05259 |  0:01:44s\n",
      "epoch 105| loss: 1.01443 | val_0_unsup_loss: 0.98298 |  0:01:45s\n",
      "epoch 106| loss: 1.03554 | val_0_unsup_loss: 1.00931 |  0:01:46s\n",
      "epoch 107| loss: 1.0034  | val_0_unsup_loss: 0.95114 |  0:01:47s\n",
      "epoch 108| loss: 0.98923 | val_0_unsup_loss: 0.94929 |  0:01:47s\n",
      "epoch 109| loss: 0.99098 | val_0_unsup_loss: 0.98668 |  0:01:48s\n",
      "epoch 110| loss: 1.00177 | val_0_unsup_loss: 0.97624 |  0:01:49s\n",
      "epoch 111| loss: 3574.19853| val_0_unsup_loss: 1.08549 |  0:01:50s\n",
      "epoch 112| loss: 1.04834 | val_0_unsup_loss: 1.12802 |  0:01:51s\n",
      "epoch 113| loss: 1.02629 | val_0_unsup_loss: 1.02306 |  0:01:52s\n",
      "epoch 114| loss: 1.05524 | val_0_unsup_loss: 1.08431 |  0:01:53s\n",
      "epoch 115| loss: 1.03872 | val_0_unsup_loss: 1.16202 |  0:01:54s\n",
      "epoch 116| loss: 1.01554 | val_0_unsup_loss: 1.12865 |  0:01:55s\n",
      "epoch 117| loss: 1.01194 | val_0_unsup_loss: 1.21784 |  0:01:57s\n",
      "epoch 118| loss: 1.09622 | val_0_unsup_loss: 1.04529 |  0:01:57s\n",
      "epoch 119| loss: 1.0003  | val_0_unsup_loss: 1.00933 |  0:01:58s\n",
      "epoch 120| loss: 0.99916 | val_0_unsup_loss: 0.91786 |  0:01:59s\n",
      "epoch 121| loss: 0.99764 | val_0_unsup_loss: 0.93241 |  0:02:00s\n",
      "epoch 122| loss: 1.00085 | val_0_unsup_loss: 0.91678 |  0:02:01s\n",
      "epoch 123| loss: 1.04166 | val_0_unsup_loss: 0.94547 |  0:02:02s\n",
      "epoch 124| loss: 1.05974 | val_0_unsup_loss: 0.95916 |  0:02:02s\n",
      "epoch 125| loss: 1.02259 | val_0_unsup_loss: 0.968   |  0:02:03s\n",
      "epoch 126| loss: 1.012   | val_0_unsup_loss: 0.95492 |  0:02:04s\n",
      "epoch 127| loss: 0.98483 | val_0_unsup_loss: 0.93218 |  0:02:05s\n",
      "epoch 128| loss: 1.00188 | val_0_unsup_loss: 0.95387 |  0:02:05s\n",
      "epoch 129| loss: 0.99736 | val_0_unsup_loss: 0.92611 |  0:02:06s\n",
      "epoch 130| loss: 9748.39126| val_0_unsup_loss: 0.95763 |  0:02:07s\n",
      "epoch 131| loss: 1.0206  | val_0_unsup_loss: 0.96538 |  0:02:08s\n",
      "epoch 132| loss: 1.01759 | val_0_unsup_loss: 1.01755 |  0:02:09s\n",
      "epoch 133| loss: 1.00307 | val_0_unsup_loss: 0.94802 |  0:02:10s\n",
      "epoch 134| loss: 1.01483 | val_0_unsup_loss: 0.99497 |  0:02:11s\n",
      "epoch 135| loss: 1.02639 | val_0_unsup_loss: 0.97769 |  0:02:12s\n",
      "epoch 136| loss: 1.00096 | val_0_unsup_loss: 0.93266 |  0:02:13s\n",
      "epoch 137| loss: 0.99313 | val_0_unsup_loss: 0.95106 |  0:02:14s\n",
      "epoch 138| loss: 1.01171 | val_0_unsup_loss: 0.93237 |  0:02:16s\n",
      "epoch 139| loss: 1.00394 | val_0_unsup_loss: 0.9238  |  0:02:17s\n",
      "epoch 140| loss: 1.00623 | val_0_unsup_loss: 0.96667 |  0:02:18s\n",
      "epoch 141| loss: 1.00394 | val_0_unsup_loss: 0.94695 |  0:02:19s\n",
      "epoch 142| loss: 0.99741 | val_0_unsup_loss: 0.90303 |  0:02:20s\n",
      "epoch 143| loss: 0.98997 | val_0_unsup_loss: 0.89849 |  0:02:21s\n",
      "epoch 144| loss: 1.00807 | val_0_unsup_loss: 0.95403 |  0:02:21s\n",
      "epoch 145| loss: 0.97416 | val_0_unsup_loss: 0.93539 |  0:02:22s\n",
      "epoch 146| loss: 0.9895  | val_0_unsup_loss: 0.92456 |  0:02:23s\n",
      "epoch 147| loss: 0.99138 | val_0_unsup_loss: 0.94754 |  0:02:25s\n",
      "epoch 148| loss: 1.00792 | val_0_unsup_loss: 0.92645 |  0:02:26s\n",
      "epoch 149| loss: 0.99856 | val_0_unsup_loss: 1.01752 |  0:02:27s\n",
      "epoch 150| loss: 0.99569 | val_0_unsup_loss: 0.93499 |  0:02:28s\n",
      "epoch 151| loss: 0.98519 | val_0_unsup_loss: 0.94667 |  0:02:30s\n",
      "epoch 152| loss: 0.99267 | val_0_unsup_loss: 0.95967 |  0:02:31s\n",
      "epoch 153| loss: 1.04296 | val_0_unsup_loss: 0.91221 |  0:02:32s\n",
      "epoch 154| loss: 0.97048 | val_0_unsup_loss: 0.91443 |  0:02:33s\n",
      "epoch 155| loss: 0.99521 | val_0_unsup_loss: 0.96071 |  0:02:34s\n",
      "epoch 156| loss: 1.02202 | val_0_unsup_loss: 0.89124 |  0:02:34s\n",
      "epoch 157| loss: 0.97893 | val_0_unsup_loss: 0.91794 |  0:02:35s\n",
      "epoch 158| loss: 0.99661 | val_0_unsup_loss: 0.90476 |  0:02:36s\n",
      "epoch 159| loss: 0.99544 | val_0_unsup_loss: 0.92841 |  0:02:37s\n",
      "epoch 160| loss: 1.01366 | val_0_unsup_loss: 0.87801 |  0:02:39s\n",
      "epoch 161| loss: 1.01356 | val_0_unsup_loss: 0.86427 |  0:02:39s\n",
      "epoch 162| loss: 0.99621 | val_0_unsup_loss: 0.89629 |  0:02:40s\n",
      "epoch 163| loss: 0.97778 | val_0_unsup_loss: 0.87525 |  0:02:41s\n",
      "epoch 164| loss: 0.97637 | val_0_unsup_loss: 0.88508 |  0:02:42s\n",
      "epoch 165| loss: 0.98677 | val_0_unsup_loss: 0.88923 |  0:02:43s\n",
      "epoch 166| loss: 0.97251 | val_0_unsup_loss: 0.88683 |  0:02:44s\n",
      "epoch 167| loss: 0.97653 | val_0_unsup_loss: 0.90203 |  0:02:44s\n",
      "epoch 168| loss: 0.98739 | val_0_unsup_loss: 0.85683 |  0:02:45s\n",
      "epoch 169| loss: 0.96593 | val_0_unsup_loss: 0.86863 |  0:02:46s\n",
      "epoch 170| loss: 0.96254 | val_0_unsup_loss: 0.87604 |  0:02:47s\n",
      "epoch 171| loss: 0.98229 | val_0_unsup_loss: 0.8746  |  0:02:48s\n",
      "epoch 172| loss: 0.96732 | val_0_unsup_loss: 0.89143 |  0:02:49s\n",
      "epoch 173| loss: 0.9949  | val_0_unsup_loss: 0.89302 |  0:02:50s\n",
      "epoch 174| loss: 0.98995 | val_0_unsup_loss: 0.94245 |  0:02:50s\n",
      "epoch 175| loss: 0.97626 | val_0_unsup_loss: 0.90279 |  0:02:51s\n",
      "epoch 176| loss: 0.97338 | val_0_unsup_loss: 0.89215 |  0:02:52s\n",
      "epoch 177| loss: 0.96552 | val_0_unsup_loss: 0.89827 |  0:02:53s\n",
      "epoch 178| loss: 0.9669  | val_0_unsup_loss: 0.8719  |  0:02:54s\n",
      "epoch 179| loss: 0.98298 | val_0_unsup_loss: 0.88468 |  0:02:55s\n",
      "epoch 180| loss: 0.97908 | val_0_unsup_loss: 0.93245 |  0:02:55s\n",
      "epoch 181| loss: 1.00938 | val_0_unsup_loss: 0.89666 |  0:02:56s\n",
      "epoch 182| loss: 0.99007 | val_0_unsup_loss: 0.89271 |  0:02:58s\n",
      "epoch 183| loss: 0.94349 | val_0_unsup_loss: 0.85102 |  0:02:59s\n",
      "epoch 184| loss: 0.97099 | val_0_unsup_loss: 0.90659 |  0:03:00s\n",
      "epoch 185| loss: 0.98619 | val_0_unsup_loss: 0.89644 |  0:03:00s\n",
      "epoch 186| loss: 0.97086 | val_0_unsup_loss: 0.88758 |  0:03:01s\n",
      "epoch 187| loss: 0.98731 | val_0_unsup_loss: 0.87523 |  0:03:02s\n",
      "epoch 188| loss: 16221.29868| val_0_unsup_loss: 0.86899 |  0:03:03s\n",
      "epoch 189| loss: 1.01645 | val_0_unsup_loss: 0.90218 |  0:03:04s\n",
      "epoch 190| loss: 0.98853 | val_0_unsup_loss: 0.88304 |  0:03:04s\n",
      "epoch 191| loss: 1.00045 | val_0_unsup_loss: 0.92261 |  0:03:05s\n",
      "epoch 192| loss: 0.97762 | val_0_unsup_loss: 0.89138 |  0:03:06s\n",
      "epoch 193| loss: 0.97427 | val_0_unsup_loss: 0.89071 |  0:03:07s\n",
      "epoch 194| loss: 0.9806  | val_0_unsup_loss: 0.90312 |  0:03:08s\n",
      "epoch 195| loss: 0.97523 | val_0_unsup_loss: 0.88025 |  0:03:08s\n",
      "epoch 196| loss: 0.97203 | val_0_unsup_loss: 0.87616 |  0:03:09s\n",
      "epoch 197| loss: 0.98144 | val_0_unsup_loss: 0.90752 |  0:03:10s\n",
      "epoch 198| loss: 0.97426 | val_0_unsup_loss: 0.8651  |  0:03:12s\n",
      "epoch 199| loss: 0.97668 | val_0_unsup_loss: 0.93669 |  0:03:13s\n",
      "epoch 200| loss: 0.99613 | val_0_unsup_loss: 0.89748 |  0:03:15s\n",
      "epoch 201| loss: 0.98433 | val_0_unsup_loss: 0.87613 |  0:03:16s\n",
      "epoch 202| loss: 0.95836 | val_0_unsup_loss: 0.87083 |  0:03:17s\n",
      "epoch 203| loss: 0.97456 | val_0_unsup_loss: 0.85364 |  0:03:18s\n",
      "epoch 204| loss: 0.95898 | val_0_unsup_loss: 0.86813 |  0:03:18s\n",
      "epoch 205| loss: 0.9688  | val_0_unsup_loss: 0.88046 |  0:03:19s\n",
      "epoch 206| loss: 0.99994 | val_0_unsup_loss: 1.00243 |  0:03:20s\n",
      "epoch 207| loss: 2430.8636| val_0_unsup_loss: 1.03164 |  0:03:21s\n",
      "epoch 208| loss: 1.05957 | val_0_unsup_loss: 1.0562  |  0:03:22s\n",
      "epoch 209| loss: 1.01557 | val_0_unsup_loss: 0.99415 |  0:03:22s\n",
      "epoch 210| loss: 1.01985 | val_0_unsup_loss: 0.90309 |  0:03:23s\n",
      "epoch 211| loss: 0.98042 | val_0_unsup_loss: 0.8833  |  0:03:24s\n",
      "epoch 212| loss: 0.97924 | val_0_unsup_loss: 0.8866  |  0:03:25s\n",
      "epoch 213| loss: 0.9909  | val_0_unsup_loss: 0.92743 |  0:03:25s\n",
      "epoch 214| loss: 0.99618 | val_0_unsup_loss: 0.89695 |  0:03:26s\n",
      "epoch 215| loss: 0.98715 | val_0_unsup_loss: 0.90955 |  0:03:27s\n",
      "epoch 216| loss: 0.96353 | val_0_unsup_loss: 0.88403 |  0:03:28s\n",
      "epoch 217| loss: 0.98812 | val_0_unsup_loss: 0.91728 |  0:03:28s\n",
      "epoch 218| loss: 1.00613 | val_0_unsup_loss: 0.88184 |  0:03:29s\n",
      "epoch 219| loss: 1.00744 | val_0_unsup_loss: 0.92192 |  0:03:30s\n",
      "epoch 220| loss: 1.00334 | val_0_unsup_loss: 0.96635 |  0:03:31s\n",
      "epoch 221| loss: 0.99889 | val_0_unsup_loss: 0.87637 |  0:03:31s\n",
      "epoch 222| loss: 0.97433 | val_0_unsup_loss: 0.89782 |  0:03:32s\n",
      "epoch 223| loss: 0.9627  | val_0_unsup_loss: 0.89843 |  0:03:33s\n",
      "epoch 224| loss: 0.98813 | val_0_unsup_loss: 0.94068 |  0:03:34s\n",
      "epoch 225| loss: 0.99584 | val_0_unsup_loss: 0.90847 |  0:03:34s\n",
      "epoch 226| loss: 0.97963 | val_0_unsup_loss: 0.96022 |  0:03:35s\n",
      "epoch 227| loss: 0.99754 | val_0_unsup_loss: 0.86058 |  0:03:36s\n",
      "epoch 228| loss: 1.00155 | val_0_unsup_loss: 0.99174 |  0:03:37s\n",
      "epoch 229| loss: 1.02457 | val_0_unsup_loss: 0.93293 |  0:03:38s\n",
      "epoch 230| loss: 0.99021 | val_0_unsup_loss: 0.88171 |  0:03:39s\n",
      "epoch 231| loss: 0.9673  | val_0_unsup_loss: 0.86698 |  0:03:39s\n",
      "epoch 232| loss: 0.96548 | val_0_unsup_loss: 0.89067 |  0:03:40s\n",
      "epoch 233| loss: 0.97186 | val_0_unsup_loss: 0.89205 |  0:03:41s\n",
      "\n",
      "Early stopping occurred at epoch 233 with best_epoch = 183 and best_val_0_unsup_loss = 0.85102\n",
      "Best weights from best epoch are automatically used!\n"
     ]
    }
   ],
   "source": [
    "unsupervised_model_no_preproc.fit(\n",
    "    x_train,\n",
    "    eval_set=[x_val],\n",
    "    max_epochs=1000 , patience=50,\n",
    "    batch_size=256, virtual_batch_size=128,\n",
    "    num_workers=0,\n",
    "    drop_last=False,\n",
    "    pretraining_ratio=0.8,\n",
    "\n",
    ")"
   ]
  },
  {
   "cell_type": "code",
   "execution_count": 43,
   "metadata": {},
   "outputs": [],
   "source": [
    "# Make reconstruction from a dataset\n",
    "reconstructed_X, embedded_X = unsupervised_model_no_preproc.predict(x_val)\n",
    "assert(reconstructed_X.shape==embedded_X.shape)"
   ]
  },
  {
   "cell_type": "code",
   "execution_count": 44,
   "metadata": {},
   "outputs": [],
   "source": [
    "unsupervised_explain_matrix, unsupervised_masks = unsupervised_model_no_preproc.explain(x_val)"
   ]
  },
  {
   "cell_type": "code",
   "execution_count": 45,
   "metadata": {},
   "outputs": [
    {
     "data": {
      "image/png": "[encoded data removed]",
      "text/plain": [
       "<Figure size 1440x1440 with 3 Axes>"
      ]
     },
     "metadata": {},
     "output_type": "display_data"
    }
   ],
   "source": [
    "fig, axs = plt.subplots(1, 3, figsize=(20,20))\n",
    "\n",
    "for i in range(3):\n",
    "    axs[i].imshow(unsupervised_masks[i][:50])\n",
    "    axs[i].set_title(f\"mask {i}\")"
   ]
  },
  {
   "cell_type": "code",
   "execution_count": 46,
   "metadata": {},
   "outputs": [
    {
     "name": "stdout",
     "output_type": "stream",
     "text": [
      "Successfully saved model at ./test_pretrain2.zip\n",
      "Device used : cpu\n",
      "Device used : cpu\n"
     ]
    }
   ],
   "source": [
    "unsupervised_model_no_preproc.save_model('./test_pretrain2')\n",
    "loaded_pretrain = TabNetPretrainer()\n",
    "loaded_pretrain.load_model('./test_pretrain2.zip')"
   ]
  },
  {
   "cell_type": "code",
   "execution_count": 47,
   "metadata": {},
   "outputs": [
    {
     "name": "stdout",
     "output_type": "stream",
     "text": [
      "Device used : cpu\n"
     ]
    }
   ],
   "source": [
    "clf2_no_preproc = TabNetClassifier(optimizer_fn=torch.optim.Adam,\n",
    "                       optimizer_params=dict(lr=2e-2),\n",
    "                       scheduler_params={\"step_size\":10, # how to use learning rate scheduler\n",
    "                                         \"gamma\":0.9},\n",
    "                       scheduler_fn=torch.optim.lr_scheduler.StepLR,\n",
    "                       mask_type='sparsemax' # This will be overwritten if using pretrain model\n",
    "                      )"
   ]
  },
  {
   "cell_type": "code",
   "execution_count": 48,
   "metadata": {},
   "outputs": [
    {
     "name": "stderr",
     "output_type": "stream",
     "text": [
      "C:\\Users\\Ryan\\anaconda3\\lib\\site-packages\\pytorch_tabnet\\abstract_model.py:97: UserWarning: Pretraining: mask_type changed from sparsemax to entmax\n",
      "  warnings.warn(wrn_msg)\n"
     ]
    },
    {
     "name": "stdout",
     "output_type": "stream",
     "text": [
      "Loading weights from unsupervised pretraining\n",
      "epoch 0  | loss: 0.75267 | train_auc: 0.72048 | train_accuracy: 0.83363 | valid_auc: 0.74638 | valid_accuracy: 0.84049 |  0:00:00s\n",
      "epoch 1  | loss: 0.54912 | train_auc: 0.73486 | train_accuracy: 0.54072 | valid_auc: 0.73663 | valid_accuracy: 0.54397 |  0:00:01s\n",
      "epoch 2  | loss: 0.53119 | train_auc: 0.73486 | train_accuracy: 0.70447 | valid_auc: 0.73166 | valid_accuracy: 0.68507 |  0:00:03s\n",
      "epoch 3  | loss: 0.51997 | train_auc: 0.70989 | train_accuracy: 0.40324 | valid_auc: 0.70288 | valid_accuracy: 0.40491 |  0:00:04s\n",
      "epoch 4  | loss: 0.50477 | train_auc: 0.71401 | train_accuracy: 0.51926 | valid_auc: 0.7203  | valid_accuracy: 0.51738 |  0:00:05s\n",
      "epoch 5  | loss: 0.50297 | train_auc: 0.71051 | train_accuracy: 0.83538 | valid_auc: 0.73602 | valid_accuracy: 0.84663 |  0:00:06s\n",
      "epoch 6  | loss: 0.497   | train_auc: 0.73902 | train_accuracy: 0.73336 | valid_auc: 0.74433 | valid_accuracy: 0.74642 |  0:00:07s\n",
      "epoch 7  | loss: 0.50524 | train_auc: 0.767   | train_accuracy: 0.54028 | valid_auc: 0.75036 | valid_accuracy: 0.5317  |  0:00:08s\n",
      "epoch 8  | loss: 0.49707 | train_auc: 0.78776 | train_accuracy: 0.52539 | valid_auc: 0.75673 | valid_accuracy: 0.52761 |  0:00:11s\n",
      "epoch 9  | loss: 0.50362 | train_auc: 0.78623 | train_accuracy: 0.60902 | valid_auc: 0.74152 | valid_accuracy: 0.60327 |  0:00:13s\n",
      "epoch 10 | loss: 0.47099 | train_auc: 0.77834 | train_accuracy: 0.85114 | valid_auc: 0.7498  | valid_accuracy: 0.86094 |  0:00:14s\n",
      "epoch 11 | loss: 0.4904  | train_auc: 0.78447 | train_accuracy: 0.75744 | valid_auc: 0.72979 | valid_accuracy: 0.73824 |  0:00:15s\n",
      "epoch 12 | loss: 0.48838 | train_auc: 0.78327 | train_accuracy: 0.56524 | valid_auc: 0.73333 | valid_accuracy: 0.52147 |  0:00:18s\n",
      "epoch 13 | loss: 0.4974  | train_auc: 0.79447 | train_accuracy: 0.59063 | valid_auc: 0.76068 | valid_accuracy: 0.56646 |  0:00:19s\n",
      "epoch 14 | loss: 0.46722 | train_auc: 0.79838 | train_accuracy: 0.77408 | valid_auc: 0.74777 | valid_accuracy: 0.7771  |  0:00:20s\n",
      "epoch 15 | loss: 0.46808 | train_auc: 0.80712 | train_accuracy: 0.82356 | valid_auc: 0.7678  | valid_accuracy: 0.82004 |  0:00:21s\n",
      "epoch 16 | loss: 0.46253 | train_auc: 0.81052 | train_accuracy: 0.67644 | valid_auc: 0.765   | valid_accuracy: 0.6544  |  0:00:23s\n",
      "epoch 17 | loss: 0.46655 | train_auc: 0.80869 | train_accuracy: 0.74518 | valid_auc: 0.76725 | valid_accuracy: 0.74233 |  0:00:23s\n",
      "epoch 18 | loss: 0.4585  | train_auc: 0.81035 | train_accuracy: 0.8056  | valid_auc: 0.77262 | valid_accuracy: 0.78528 |  0:00:25s\n",
      "epoch 19 | loss: 0.47135 | train_auc: 0.81425 | train_accuracy: 0.6493  | valid_auc: 0.77923 | valid_accuracy: 0.61963 |  0:00:26s\n",
      "epoch 20 | loss: 0.46363 | train_auc: 0.80972 | train_accuracy: 0.66725 | valid_auc: 0.77941 | valid_accuracy: 0.66258 |  0:00:27s\n",
      "epoch 21 | loss: 0.47108 | train_auc: 0.81291 | train_accuracy: 0.81874 | valid_auc: 0.77918 | valid_accuracy: 0.81391 |  0:00:28s\n",
      "epoch 22 | loss: 0.45984 | train_auc: 0.81904 | train_accuracy: 0.65587 | valid_auc: 0.77308 | valid_accuracy: 0.62372 |  0:00:32s\n",
      "epoch 23 | loss: 0.46444 | train_auc: 0.81676 | train_accuracy: 0.63704 | valid_auc: 0.76549 | valid_accuracy: 0.62168 |  0:00:36s\n",
      "epoch 24 | loss: 0.46729 | train_auc: 0.826   | train_accuracy: 0.68082 | valid_auc: 0.76229 | valid_accuracy: 0.63804 |  0:00:39s\n",
      "epoch 25 | loss: 0.45557 | train_auc: 0.82327 | train_accuracy: 0.72898 | valid_auc: 0.76565 | valid_accuracy: 0.70961 |  0:00:43s\n",
      "epoch 26 | loss: 0.46671 | train_auc: 0.83305 | train_accuracy: 0.71322 | valid_auc: 0.77621 | valid_accuracy: 0.6728  |  0:00:44s\n",
      "epoch 27 | loss: 0.44852 | train_auc: 0.8417  | train_accuracy: 0.75394 | valid_auc: 0.78261 | valid_accuracy: 0.73211 |  0:00:46s\n",
      "epoch 28 | loss: 0.45403 | train_auc: 0.83702 | train_accuracy: 0.73292 | valid_auc: 0.76118 | valid_accuracy: 0.7137  |  0:00:47s\n",
      "epoch 29 | loss: 0.4403  | train_auc: 0.84124 | train_accuracy: 0.71673 | valid_auc: 0.7685  | valid_accuracy: 0.67894 |  0:00:48s\n",
      "epoch 30 | loss: 0.43593 | train_auc: 0.85509 | train_accuracy: 0.77058 | valid_auc: 0.78723 | valid_accuracy: 0.74438 |  0:00:49s\n",
      "epoch 31 | loss: 0.43859 | train_auc: 0.8482  | train_accuracy: 0.77671 | valid_auc: 0.78136 | valid_accuracy: 0.76483 |  0:00:50s\n",
      "epoch 32 | loss: 0.44716 | train_auc: 0.85641 | train_accuracy: 0.75832 | valid_auc: 0.79748 | valid_accuracy: 0.74642 |  0:00:51s\n",
      "epoch 33 | loss: 0.42887 | train_auc: 0.86321 | train_accuracy: 0.78021 | valid_auc: 0.79834 | valid_accuracy: 0.76892 |  0:00:52s\n",
      "epoch 34 | loss: 0.44011 | train_auc: 0.85292 | train_accuracy: 0.8113  | valid_auc: 0.78766 | valid_accuracy: 0.78937 |  0:00:53s\n",
      "epoch 35 | loss: 0.42398 | train_auc: 0.85807 | train_accuracy: 0.76138 | valid_auc: 0.79388 | valid_accuracy: 0.75256 |  0:00:54s\n",
      "epoch 36 | loss: 0.43095 | train_auc: 0.8679  | train_accuracy: 0.77277 | valid_auc: 0.79725 | valid_accuracy: 0.76074 |  0:00:54s\n",
      "epoch 37 | loss: 0.43779 | train_auc: 0.85677 | train_accuracy: 0.74518 | valid_auc: 0.78037 | valid_accuracy: 0.71166 |  0:00:55s\n",
      "epoch 38 | loss: 0.44612 | train_auc: 0.86141 | train_accuracy: 0.73468 | valid_auc: 0.77817 | valid_accuracy: 0.68916 |  0:00:56s\n",
      "epoch 39 | loss: 0.42909 | train_auc: 0.8732  | train_accuracy: 0.83538 | valid_auc: 0.78925 | valid_accuracy: 0.79959 |  0:00:57s\n",
      "epoch 40 | loss: 0.43083 | train_auc: 0.86214 | train_accuracy: 0.77977 | valid_auc: 0.79064 | valid_accuracy: 0.76687 |  0:00:58s\n",
      "epoch 41 | loss: 0.44487 | train_auc: 0.87167 | train_accuracy: 0.73949 | valid_auc: 0.79275 | valid_accuracy: 0.72597 |  0:00:59s\n",
      "epoch 42 | loss: 0.43536 | train_auc: 0.87756 | train_accuracy: 0.79378 | valid_auc: 0.77759 | valid_accuracy: 0.75051 |  0:01:00s\n",
      "epoch 43 | loss: 0.43308 | train_auc: 0.88094 | train_accuracy: 0.79597 | valid_auc: 0.78356 | valid_accuracy: 0.75051 |  0:01:00s\n",
      "epoch 44 | loss: 0.43545 | train_auc: 0.88474 | train_accuracy: 0.79072 | valid_auc: 0.77907 | valid_accuracy: 0.7362  |  0:01:01s\n",
      "epoch 45 | loss: 0.42774 | train_auc: 0.88447 | train_accuracy: 0.8345  | valid_auc: 0.78375 | valid_accuracy: 0.78732 |  0:01:02s\n",
      "epoch 46 | loss: 0.42942 | train_auc: 0.87983 | train_accuracy: 0.80867 | valid_auc: 0.76369 | valid_accuracy: 0.73824 |  0:01:03s\n",
      "epoch 47 | loss: 0.43546 | train_auc: 0.87351 | train_accuracy: 0.8113  | valid_auc: 0.74794 | valid_accuracy: 0.74642 |  0:01:04s\n",
      "epoch 48 | loss: 0.40022 | train_auc: 0.88836 | train_accuracy: 0.78809 | valid_auc: 0.78434 | valid_accuracy: 0.73006 |  0:01:05s\n",
      "epoch 49 | loss: 0.40626 | train_auc: 0.88627 | train_accuracy: 0.81567 | valid_auc: 0.76852 | valid_accuracy: 0.75665 |  0:01:07s\n",
      "epoch 50 | loss: 0.41464 | train_auc: 0.89296 | train_accuracy: 0.77364 | valid_auc: 0.7783  | valid_accuracy: 0.70757 |  0:01:08s\n",
      "epoch 51 | loss: 0.39048 | train_auc: 0.89539 | train_accuracy: 0.81392 | valid_auc: 0.76618 | valid_accuracy: 0.74847 |  0:01:08s\n",
      "epoch 52 | loss: 0.38758 | train_auc: 0.8992  | train_accuracy: 0.79553 | valid_auc: 0.77163 | valid_accuracy: 0.74642 |  0:01:09s\n",
      "epoch 53 | loss: 0.40095 | train_auc: 0.90485 | train_accuracy: 0.81874 | valid_auc: 0.78306 | valid_accuracy: 0.75665 |  0:01:10s\n",
      "epoch 54 | loss: 0.38199 | train_auc: 0.90298 | train_accuracy: 0.80911 | valid_auc: 0.76412 | valid_accuracy: 0.73415 |  0:01:11s\n",
      "epoch 55 | loss: 0.37867 | train_auc: 0.9101  | train_accuracy: 0.81699 | valid_auc: 0.77406 | valid_accuracy: 0.75665 |  0:01:13s\n",
      "epoch 56 | loss: 0.39996 | train_auc: 0.91117 | train_accuracy: 0.82312 | valid_auc: 0.76672 | valid_accuracy: 0.73211 |  0:01:14s\n",
      "epoch 57 | loss: 0.38189 | train_auc: 0.90107 | train_accuracy: 0.77715 | valid_auc: 0.76022 | valid_accuracy: 0.69325 |  0:01:15s\n",
      "epoch 58 | loss: 0.38315 | train_auc: 0.91098 | train_accuracy: 0.8218  | valid_auc: 0.75509 | valid_accuracy: 0.71166 |  0:01:16s\n",
      "epoch 59 | loss: 0.38742 | train_auc: 0.9102  | train_accuracy: 0.82837 | valid_auc: 0.76149 | valid_accuracy: 0.73824 |  0:01:17s\n",
      "epoch 60 | loss: 0.3918  | train_auc: 0.91138 | train_accuracy: 0.81173 | valid_auc: 0.74927 | valid_accuracy: 0.71575 |  0:01:18s\n",
      "\n",
      "Early stopping occurred at epoch 60 with best_epoch = 10 and best_valid_accuracy = 0.86094\n",
      "Best weights from best epoch are automatically used!\n"
     ]
    }
   ],
   "source": [
    "clf2_no_preproc.fit(\n",
    "    x_train, y_train,\n",
    "    eval_set=[(x_train, y_train), (x_val, y_val)],\n",
    "    eval_name=['train', 'valid'],\n",
    "    eval_metric=['auc', 'accuracy'],\n",
    "    max_epochs=1000 , patience=50,\n",
    "    batch_size=256, virtual_batch_size=128,\n",
    "    num_workers=0,\n",
    "    weights=1,\n",
    "    drop_last=False,\n",
    "    from_unsupervised=loaded_pretrain\n",
    "    \n",
    ")"
   ]
  },
  {
   "cell_type": "code",
   "execution_count": 49,
   "metadata": {},
   "outputs": [
    {
     "data": {
      "text/plain": [
       "[<matplotlib.lines.Line2D at 0x1cd4da7e850>]"
      ]
     },
     "execution_count": 49,
     "metadata": {},
     "output_type": "execute_result"
    },
    {
     "data": {
      "image/png": "[encoded data removed]",
      "text/plain": [
       "<Figure size 432x288 with 1 Axes>"
      ]
     },
     "metadata": {},
     "output_type": "display_data"
    }
   ],
   "source": [
    "# plot losses\n",
    "plt.plot(clf2_no_preproc.history['loss'])"
   ]
  },
  {
   "cell_type": "code",
   "execution_count": 50,
   "metadata": {},
   "outputs": [
    {
     "data": {
      "text/plain": [
       "[<matplotlib.lines.Line2D at 0x1cd4dac5e20>]"
      ]
     },
     "execution_count": 50,
     "metadata": {},
     "output_type": "execute_result"
    },
    {
     "data": {
      "image/png": "[encoded data removed]",
      "text/plain": [
       "<Figure size 432x288 with 1 Axes>"
      ]
     },
     "metadata": {},
     "output_type": "display_data"
    }
   ],
   "source": [
    "# plot auc\n",
    "plt.plot(clf2_no_preproc.history['train_accuracy'])\n",
    "plt.plot(clf2_no_preproc.history['valid_accuracy'])"
   ]
  },
  {
   "cell_type": "code",
   "execution_count": 51,
   "metadata": {},
   "outputs": [
    {
     "data": {
      "text/plain": [
       "[<matplotlib.lines.Line2D at 0x1cd4db1a1f0>]"
      ]
     },
     "execution_count": 51,
     "metadata": {},
     "output_type": "execute_result"
    },
    {
     "data": {
      "image/png": "[encoded data removed]",
      "text/plain": [
       "<Figure size 432x288 with 1 Axes>"
      ]
     },
     "metadata": {},
     "output_type": "display_data"
    }
   ],
   "source": [
    "# plot learning rates\n",
    "plt.plot(clf2_no_preproc.history['lr'])"
   ]
  },
  {
   "cell_type": "code",
   "execution_count": 52,
   "metadata": {},
   "outputs": [
    {
     "name": "stdout",
     "output_type": "stream",
     "text": [
      "BEST ACCURACY SCORE ON VALIDATION SET : 0.8609406952965235\n",
      "BEST ACCURACY SCORE ON TEST SET : 0.8428571428571429\n"
     ]
    }
   ],
   "source": [
    "preds = clf2_no_preproc.predict(x_test)\n",
    "test_acc = accuracy_score(preds, y_test)\n",
    "\n",
    "\n",
    "preds_valid = clf2_no_preproc.predict(x_val)\n",
    "valid_acc = accuracy_score(preds_valid, y_val)\n",
    "\n",
    "print(f\"BEST ACCURACY SCORE ON VALIDATION SET : {valid_acc}\")\n",
    "print(f\"BEST ACCURACY SCORE ON TEST SET : {test_acc}\")"
   ]
  },
  {
   "cell_type": "code",
   "execution_count": 53,
   "metadata": {},
   "outputs": [
    {
     "data": {
      "text/plain": [
       "array([7.80516201e-02, 3.26055918e-03, 0.00000000e+00, 6.97957290e-02,\n",
       "       1.26630082e-01, 1.85774420e-01, 5.42789693e-04, 0.00000000e+00,\n",
       "       6.47300846e-04, 6.82064111e-07, 1.22977061e-04, 5.40297861e-02,\n",
       "       0.00000000e+00, 1.02663910e-01, 1.97752460e-01, 5.91288642e-02,\n",
       "       1.39783854e-03, 4.84953488e-02, 6.71592479e-02, 4.54638451e-03])"
      ]
     },
     "execution_count": 53,
     "metadata": {},
     "output_type": "execute_result"
    }
   ],
   "source": [
    "clf2_no_preproc.feature_importances_"
   ]
  },
  {
   "cell_type": "code",
   "execution_count": 54,
   "metadata": {},
   "outputs": [
    {
     "data": {
      "text/plain": [
       "<AxesSubplot:>"
      ]
     },
     "execution_count": 54,
     "metadata": {},
     "output_type": "execute_result"
    },
    {
     "data": {
      "image/png": "[encoded data removed]",
      "text/plain": [
       "<Figure size 432x288 with 1 Axes>"
      ]
     },
     "metadata": {},
     "output_type": "display_data"
    }
   ],
   "source": [
    "feat_importances = pd.Series(clf2_no_preproc.feature_importances_, index=feat.columns)\n",
    "feat_importances.nlargest(20).plot(kind='barh')"
   ]
  },
  {
   "cell_type": "code",
   "execution_count": 195,
   "metadata": {},
   "outputs": [],
   "source": [
    "explain_matrix, masks = clf2_no_preproc.explain(x_test)"
   ]
  },
  {
   "cell_type": "code",
   "execution_count": 196,
   "metadata": {},
   "outputs": [
    {
     "data": {
      "image/png": "[encoded data removed]",
      "text/plain": [
       "<Figure size 1440x1440 with 3 Axes>"
      ]
     },
     "metadata": {},
     "output_type": "display_data"
    }
   ],
   "source": [
    "fig, axs = plt.subplots(1, 3, figsize=(20,20))\n",
    "\n",
    "for i in range(3):\n",
    "    axs[i].imshow(masks[i][:50])\n",
    "    axs[i].set_title(f\"mask {i}\")"
   ]
  },
  {
   "cell_type": "code",
   "execution_count": null,
   "metadata": {},
   "outputs": [],
   "source": []
  },
  {
   "cell_type": "code",
   "execution_count": 166,
   "metadata": {},
   "outputs": [],
   "source": [
    "df3 = df2.copy()"
   ]
  },
  {
   "cell_type": "markdown",
   "metadata": {},
   "source": [
    "# TabNet with preprocessing"
   ]
  },
  {
   "cell_type": "code",
   "execution_count": 91,
   "metadata": {},
   "outputs": [],
   "source": [
    "from sklearn.preprocessing import LabelEncoder\n",
    "\n",
    "categ = ['SEX','CURSMOKE', 'DIABETES', 'PREVCHD', 'PREVAP', 'PREVMI', 'PREVSTRK', 'PREVHYP', 'ANYCHD']\n",
    "\n",
    "# Encode Categorical Columns\n",
    "le = LabelEncoder()\n",
    "df3[categ] = df3[categ].apply(le.fit_transform)"
   ]
  },
  {
   "cell_type": "code",
   "execution_count": 92,
   "metadata": {},
   "outputs": [],
   "source": [
    "from sklearn.preprocessing import StandardScaler\n",
    "\n",
    "numeric = ['TOTCHOL', 'AGE', 'SYSBP', 'DIABP', 'CIGPDAY', 'BMI', 'BPMEDS', 'HEARTRTE', 'GLUCOSE', \n",
    "           'educ', 'HDLC', 'LDLC' ]\n",
    "features = df3[numeric]\n",
    "\n",
    "# Use scaler of choice; here Standard scaler is used\n",
    "scaler = StandardScaler().fit(features.values)\n",
    "standardized = scaler.transform(features.values)\n",
    "inversed = scaler.inverse_transform(standardized)\n",
    "\n",
    "df3[numeric] = standardized\n"
   ]
  },
  {
   "cell_type": "code",
   "execution_count": 101,
   "metadata": {},
   "outputs": [
    {
     "data": {
      "text/html": [
       "<div>\n",
       "<style scoped>\n",
       "    .dataframe tbody tr th:only-of-type {\n",
       "        vertical-align: middle;\n",
       "    }\n",
       "\n",
       "    .dataframe tbody tr th {\n",
       "        vertical-align: top;\n",
       "    }\n",
       "\n",
       "    .dataframe thead th {\n",
       "        text-align: right;\n",
       "    }\n",
       "</style>\n",
       "<table border=\"1\" class=\"dataframe\">\n",
       "  <thead>\n",
       "    <tr style=\"text-align: right;\">\n",
       "      <th></th>\n",
       "      <th>SEX</th>\n",
       "      <th>TOTCHOL</th>\n",
       "      <th>AGE</th>\n",
       "      <th>SYSBP</th>\n",
       "      <th>DIABP</th>\n",
       "      <th>CURSMOKE</th>\n",
       "      <th>CIGPDAY</th>\n",
       "      <th>BMI</th>\n",
       "      <th>DIABETES</th>\n",
       "      <th>BPMEDS</th>\n",
       "      <th>...</th>\n",
       "      <th>GLUCOSE</th>\n",
       "      <th>educ</th>\n",
       "      <th>PREVCHD</th>\n",
       "      <th>PREVAP</th>\n",
       "      <th>PREVMI</th>\n",
       "      <th>PREVSTRK</th>\n",
       "      <th>PREVHYP</th>\n",
       "      <th>HDLC</th>\n",
       "      <th>LDLC</th>\n",
       "      <th>ANYCHD</th>\n",
       "    </tr>\n",
       "  </thead>\n",
       "  <tbody>\n",
       "    <tr>\n",
       "      <th>1</th>\n",
       "      <td>0</td>\n",
       "      <td>-0.623582</td>\n",
       "      <td>-1.042515</td>\n",
       "      <td>-0.838233</td>\n",
       "      <td>-1.401366</td>\n",
       "      <td>0</td>\n",
       "      <td>-0.582363</td>\n",
       "      <td>NaN</td>\n",
       "      <td>0</td>\n",
       "      <td>-0.423849</td>\n",
       "      <td>...</td>\n",
       "      <td>0.079021</td>\n",
       "      <td>1.925290</td>\n",
       "      <td>0</td>\n",
       "      <td>0</td>\n",
       "      <td>0</td>\n",
       "      <td>0</td>\n",
       "      <td>0</td>\n",
       "      <td>-1.175411</td>\n",
       "      <td>0.032719</td>\n",
       "      <td>1</td>\n",
       "    </tr>\n",
       "    <tr>\n",
       "      <th>4</th>\n",
       "      <td>1</td>\n",
       "      <td>0.006450</td>\n",
       "      <td>-0.319231</td>\n",
       "      <td>-1.405321</td>\n",
       "      <td>-1.401366</td>\n",
       "      <td>0</td>\n",
       "      <td>-0.582363</td>\n",
       "      <td>0.638530</td>\n",
       "      <td>0</td>\n",
       "      <td>-0.423849</td>\n",
       "      <td>...</td>\n",
       "      <td>-0.666886</td>\n",
       "      <td>-0.013101</td>\n",
       "      <td>0</td>\n",
       "      <td>0</td>\n",
       "      <td>0</td>\n",
       "      <td>0</td>\n",
       "      <td>0</td>\n",
       "      <td>0.296675</td>\n",
       "      <td>-0.756941</td>\n",
       "      <td>0</td>\n",
       "    </tr>\n",
       "    <tr>\n",
       "      <th>11</th>\n",
       "      <td>1</td>\n",
       "      <td>NaN</td>\n",
       "      <td>-0.319231</td>\n",
       "      <td>0.644921</td>\n",
       "      <td>0.728237</td>\n",
       "      <td>1</td>\n",
       "      <td>1.997652</td>\n",
       "      <td>-0.314895</td>\n",
       "      <td>0</td>\n",
       "      <td>-0.423849</td>\n",
       "      <td>...</td>\n",
       "      <td>NaN</td>\n",
       "      <td>0.956094</td>\n",
       "      <td>0</td>\n",
       "      <td>0</td>\n",
       "      <td>0</td>\n",
       "      <td>0</td>\n",
       "      <td>1</td>\n",
       "      <td>NaN</td>\n",
       "      <td>NaN</td>\n",
       "      <td>0</td>\n",
       "    </tr>\n",
       "    <tr>\n",
       "      <th>14</th>\n",
       "      <td>1</td>\n",
       "      <td>-0.376069</td>\n",
       "      <td>-0.680873</td>\n",
       "      <td>1.735475</td>\n",
       "      <td>2.147973</td>\n",
       "      <td>0</td>\n",
       "      <td>-0.582363</td>\n",
       "      <td>1.292937</td>\n",
       "      <td>1</td>\n",
       "      <td>2.359329</td>\n",
       "      <td>...</td>\n",
       "      <td>-0.311692</td>\n",
       "      <td>-0.013101</td>\n",
       "      <td>0</td>\n",
       "      <td>0</td>\n",
       "      <td>0</td>\n",
       "      <td>0</td>\n",
       "      <td>1</td>\n",
       "      <td>-0.215355</td>\n",
       "      <td>-0.884994</td>\n",
       "      <td>1</td>\n",
       "    </tr>\n",
       "    <tr>\n",
       "      <th>19</th>\n",
       "      <td>1</td>\n",
       "      <td>1.874045</td>\n",
       "      <td>-0.439778</td>\n",
       "      <td>-1.318076</td>\n",
       "      <td>-3.176035</td>\n",
       "      <td>1</td>\n",
       "      <td>1.997652</td>\n",
       "      <td>-0.949695</td>\n",
       "      <td>0</td>\n",
       "      <td>-0.423849</td>\n",
       "      <td>...</td>\n",
       "      <td>-0.098576</td>\n",
       "      <td>-0.013101</td>\n",
       "      <td>0</td>\n",
       "      <td>0</td>\n",
       "      <td>0</td>\n",
       "      <td>0</td>\n",
       "      <td>0</td>\n",
       "      <td>-0.983399</td>\n",
       "      <td>2.337670</td>\n",
       "      <td>0</td>\n",
       "    </tr>\n",
       "    <tr>\n",
       "      <th>22</th>\n",
       "      <td>0</td>\n",
       "      <td>0.973999</td>\n",
       "      <td>0.404053</td>\n",
       "      <td>1.212009</td>\n",
       "      <td>1.615572</td>\n",
       "      <td>0</td>\n",
       "      <td>-0.582363</td>\n",
       "      <td>-0.042838</td>\n",
       "      <td>0</td>\n",
       "      <td>-0.423849</td>\n",
       "      <td>...</td>\n",
       "      <td>-0.276173</td>\n",
       "      <td>-0.982297</td>\n",
       "      <td>0</td>\n",
       "      <td>0</td>\n",
       "      <td>0</td>\n",
       "      <td>0</td>\n",
       "      <td>1</td>\n",
       "      <td>-0.343362</td>\n",
       "      <td>1.270563</td>\n",
       "      <td>0</td>\n",
       "    </tr>\n",
       "    <tr>\n",
       "      <th>25</th>\n",
       "      <td>0</td>\n",
       "      <td>-0.578580</td>\n",
       "      <td>-0.680873</td>\n",
       "      <td>1.430120</td>\n",
       "      <td>3.656442</td>\n",
       "      <td>0</td>\n",
       "      <td>-0.582363</td>\n",
       "      <td>0.788039</td>\n",
       "      <td>0</td>\n",
       "      <td>2.359329</td>\n",
       "      <td>...</td>\n",
       "      <td>-0.169615</td>\n",
       "      <td>-0.982297</td>\n",
       "      <td>0</td>\n",
       "      <td>0</td>\n",
       "      <td>0</td>\n",
       "      <td>0</td>\n",
       "      <td>1</td>\n",
       "      <td>-0.087347</td>\n",
       "      <td>-0.287414</td>\n",
       "      <td>0</td>\n",
       "    </tr>\n",
       "    <tr>\n",
       "      <th>28</th>\n",
       "      <td>1</td>\n",
       "      <td>1.221512</td>\n",
       "      <td>0.162959</td>\n",
       "      <td>-0.881855</td>\n",
       "      <td>-1.046432</td>\n",
       "      <td>0</td>\n",
       "      <td>-0.582363</td>\n",
       "      <td>-0.959499</td>\n",
       "      <td>0</td>\n",
       "      <td>NaN</td>\n",
       "      <td>...</td>\n",
       "      <td>-0.240653</td>\n",
       "      <td>-0.982297</td>\n",
       "      <td>0</td>\n",
       "      <td>0</td>\n",
       "      <td>0</td>\n",
       "      <td>0</td>\n",
       "      <td>0</td>\n",
       "      <td>0.680698</td>\n",
       "      <td>0.865062</td>\n",
       "      <td>0</td>\n",
       "    </tr>\n",
       "    <tr>\n",
       "      <th>34</th>\n",
       "      <td>1</td>\n",
       "      <td>-1.748639</td>\n",
       "      <td>-0.921967</td>\n",
       "      <td>-0.707366</td>\n",
       "      <td>-0.336564</td>\n",
       "      <td>0</td>\n",
       "      <td>-0.582363</td>\n",
       "      <td>0.177749</td>\n",
       "      <td>0</td>\n",
       "      <td>-0.423849</td>\n",
       "      <td>...</td>\n",
       "      <td>1.606354</td>\n",
       "      <td>0.956094</td>\n",
       "      <td>0</td>\n",
       "      <td>0</td>\n",
       "      <td>0</td>\n",
       "      <td>0</td>\n",
       "      <td>1</td>\n",
       "      <td>0.232672</td>\n",
       "      <td>-1.503916</td>\n",
       "      <td>0</td>\n",
       "    </tr>\n",
       "    <tr>\n",
       "      <th>37</th>\n",
       "      <td>1</td>\n",
       "      <td>0.613981</td>\n",
       "      <td>-1.163062</td>\n",
       "      <td>0.034211</td>\n",
       "      <td>-0.070364</td>\n",
       "      <td>1</td>\n",
       "      <td>0.707645</td>\n",
       "      <td>-0.275680</td>\n",
       "      <td>0</td>\n",
       "      <td>-0.423849</td>\n",
       "      <td>...</td>\n",
       "      <td>0.256618</td>\n",
       "      <td>-0.013101</td>\n",
       "      <td>0</td>\n",
       "      <td>0</td>\n",
       "      <td>0</td>\n",
       "      <td>0</td>\n",
       "      <td>1</td>\n",
       "      <td>0.552690</td>\n",
       "      <td>0.630299</td>\n",
       "      <td>0</td>\n",
       "    </tr>\n",
       "    <tr>\n",
       "      <th>41</th>\n",
       "      <td>0</td>\n",
       "      <td>-0.488575</td>\n",
       "      <td>-0.078136</td>\n",
       "      <td>0.186888</td>\n",
       "      <td>-0.159097</td>\n",
       "      <td>1</td>\n",
       "      <td>0.277642</td>\n",
       "      <td>-0.719304</td>\n",
       "      <td>0</td>\n",
       "      <td>-0.423849</td>\n",
       "      <td>...</td>\n",
       "      <td>0.043502</td>\n",
       "      <td>0.956094</td>\n",
       "      <td>0</td>\n",
       "      <td>0</td>\n",
       "      <td>0</td>\n",
       "      <td>0</td>\n",
       "      <td>1</td>\n",
       "      <td>0.808705</td>\n",
       "      <td>-0.884994</td>\n",
       "      <td>0</td>\n",
       "    </tr>\n",
       "    <tr>\n",
       "      <th>45</th>\n",
       "      <td>1</td>\n",
       "      <td>-0.556079</td>\n",
       "      <td>-1.404157</td>\n",
       "      <td>0.993898</td>\n",
       "      <td>1.260638</td>\n",
       "      <td>1</td>\n",
       "      <td>0.277642</td>\n",
       "      <td>1.361564</td>\n",
       "      <td>0</td>\n",
       "      <td>-0.423849</td>\n",
       "      <td>...</td>\n",
       "      <td>-0.205134</td>\n",
       "      <td>-0.013101</td>\n",
       "      <td>0</td>\n",
       "      <td>0</td>\n",
       "      <td>0</td>\n",
       "      <td>0</td>\n",
       "      <td>1</td>\n",
       "      <td>-0.599377</td>\n",
       "      <td>-0.095334</td>\n",
       "      <td>0</td>\n",
       "    </tr>\n",
       "    <tr>\n",
       "      <th>48</th>\n",
       "      <td>0</td>\n",
       "      <td>-1.681136</td>\n",
       "      <td>-0.921967</td>\n",
       "      <td>0.535865</td>\n",
       "      <td>1.704305</td>\n",
       "      <td>0</td>\n",
       "      <td>-0.582363</td>\n",
       "      <td>0.131180</td>\n",
       "      <td>0</td>\n",
       "      <td>-0.423849</td>\n",
       "      <td>...</td>\n",
       "      <td>-0.418250</td>\n",
       "      <td>-0.013101</td>\n",
       "      <td>0</td>\n",
       "      <td>0</td>\n",
       "      <td>0</td>\n",
       "      <td>0</td>\n",
       "      <td>1</td>\n",
       "      <td>-1.175411</td>\n",
       "      <td>-1.824048</td>\n",
       "      <td>0</td>\n",
       "    </tr>\n",
       "    <tr>\n",
       "      <th>51</th>\n",
       "      <td>1</td>\n",
       "      <td>-0.241063</td>\n",
       "      <td>-0.801420</td>\n",
       "      <td>-0.620122</td>\n",
       "      <td>-0.602765</td>\n",
       "      <td>1</td>\n",
       "      <td>2.857657</td>\n",
       "      <td>-1.055087</td>\n",
       "      <td>0</td>\n",
       "      <td>-0.423849</td>\n",
       "      <td>...</td>\n",
       "      <td>0.434215</td>\n",
       "      <td>-0.013101</td>\n",
       "      <td>0</td>\n",
       "      <td>0</td>\n",
       "      <td>0</td>\n",
       "      <td>0</td>\n",
       "      <td>0</td>\n",
       "      <td>2.216788</td>\n",
       "      <td>-0.735599</td>\n",
       "      <td>0</td>\n",
       "    </tr>\n",
       "    <tr>\n",
       "      <th>54</th>\n",
       "      <td>1</td>\n",
       "      <td>NaN</td>\n",
       "      <td>-0.680873</td>\n",
       "      <td>-0.489255</td>\n",
       "      <td>-0.514031</td>\n",
       "      <td>0</td>\n",
       "      <td>-0.582363</td>\n",
       "      <td>2.405675</td>\n",
       "      <td>0</td>\n",
       "      <td>-0.423849</td>\n",
       "      <td>...</td>\n",
       "      <td>NaN</td>\n",
       "      <td>-0.982297</td>\n",
       "      <td>0</td>\n",
       "      <td>0</td>\n",
       "      <td>0</td>\n",
       "      <td>0</td>\n",
       "      <td>0</td>\n",
       "      <td>NaN</td>\n",
       "      <td>NaN</td>\n",
       "      <td>0</td>\n",
       "    </tr>\n",
       "    <tr>\n",
       "      <th>57</th>\n",
       "      <td>1</td>\n",
       "      <td>1.041502</td>\n",
       "      <td>0.404053</td>\n",
       "      <td>0.819409</td>\n",
       "      <td>-1.135166</td>\n",
       "      <td>0</td>\n",
       "      <td>-0.582363</td>\n",
       "      <td>1.724307</td>\n",
       "      <td>1</td>\n",
       "      <td>-0.423849</td>\n",
       "      <td>...</td>\n",
       "      <td>4.980694</td>\n",
       "      <td>-0.982297</td>\n",
       "      <td>0</td>\n",
       "      <td>0</td>\n",
       "      <td>0</td>\n",
       "      <td>0</td>\n",
       "      <td>1</td>\n",
       "      <td>-0.279358</td>\n",
       "      <td>1.313247</td>\n",
       "      <td>1</td>\n",
       "    </tr>\n",
       "    <tr>\n",
       "      <th>60</th>\n",
       "      <td>1</td>\n",
       "      <td>-0.016051</td>\n",
       "      <td>0.404053</td>\n",
       "      <td>0.426810</td>\n",
       "      <td>0.639504</td>\n",
       "      <td>1</td>\n",
       "      <td>1.137647</td>\n",
       "      <td>-0.461953</td>\n",
       "      <td>0</td>\n",
       "      <td>-0.423849</td>\n",
       "      <td>...</td>\n",
       "      <td>-0.347211</td>\n",
       "      <td>0.956094</td>\n",
       "      <td>0</td>\n",
       "      <td>0</td>\n",
       "      <td>0</td>\n",
       "      <td>0</td>\n",
       "      <td>1</td>\n",
       "      <td>2.792821</td>\n",
       "      <td>-0.714257</td>\n",
       "      <td>0</td>\n",
       "    </tr>\n",
       "    <tr>\n",
       "      <th>63</th>\n",
       "      <td>0</td>\n",
       "      <td>1.199010</td>\n",
       "      <td>-0.560325</td>\n",
       "      <td>-0.358389</td>\n",
       "      <td>-1.046432</td>\n",
       "      <td>1</td>\n",
       "      <td>2.857657</td>\n",
       "      <td>-0.775677</td>\n",
       "      <td>0</td>\n",
       "      <td>-0.423849</td>\n",
       "      <td>...</td>\n",
       "      <td>0.007982</td>\n",
       "      <td>-0.013101</td>\n",
       "      <td>0</td>\n",
       "      <td>0</td>\n",
       "      <td>0</td>\n",
       "      <td>0</td>\n",
       "      <td>1</td>\n",
       "      <td>0.296675</td>\n",
       "      <td>1.270563</td>\n",
       "      <td>0</td>\n",
       "    </tr>\n",
       "    <tr>\n",
       "      <th>67</th>\n",
       "      <td>1</td>\n",
       "      <td>1.379020</td>\n",
       "      <td>1.368432</td>\n",
       "      <td>-1.361699</td>\n",
       "      <td>-1.933767</td>\n",
       "      <td>0</td>\n",
       "      <td>-0.582363</td>\n",
       "      <td>0.074808</td>\n",
       "      <td>0</td>\n",
       "      <td>-0.423849</td>\n",
       "      <td>...</td>\n",
       "      <td>0.363176</td>\n",
       "      <td>-0.982297</td>\n",
       "      <td>0</td>\n",
       "      <td>0</td>\n",
       "      <td>0</td>\n",
       "      <td>0</td>\n",
       "      <td>0</td>\n",
       "      <td>-0.727384</td>\n",
       "      <td>1.782774</td>\n",
       "      <td>1</td>\n",
       "    </tr>\n",
       "    <tr>\n",
       "      <th>70</th>\n",
       "      <td>0</td>\n",
       "      <td>0.073953</td>\n",
       "      <td>-1.645252</td>\n",
       "      <td>-0.402011</td>\n",
       "      <td>0.728237</td>\n",
       "      <td>0</td>\n",
       "      <td>-0.582363</td>\n",
       "      <td>0.214513</td>\n",
       "      <td>0</td>\n",
       "      <td>-0.423849</td>\n",
       "      <td>...</td>\n",
       "      <td>-0.489289</td>\n",
       "      <td>-0.013101</td>\n",
       "      <td>0</td>\n",
       "      <td>0</td>\n",
       "      <td>0</td>\n",
       "      <td>0</td>\n",
       "      <td>1</td>\n",
       "      <td>-0.599377</td>\n",
       "      <td>0.502246</td>\n",
       "      <td>0</td>\n",
       "    </tr>\n",
       "  </tbody>\n",
       "</table>\n",
       "<p>20 rows × 21 columns</p>\n",
       "</div>"
      ],
      "text/plain": [
       "    SEX   TOTCHOL       AGE     SYSBP     DIABP  CURSMOKE   CIGPDAY       BMI  \\\n",
       "1     0 -0.623582 -1.042515 -0.838233 -1.401366         0 -0.582363       NaN   \n",
       "4     1  0.006450 -0.319231 -1.405321 -1.401366         0 -0.582363  0.638530   \n",
       "11    1       NaN -0.319231  0.644921  0.728237         1  1.997652 -0.314895   \n",
       "14    1 -0.376069 -0.680873  1.735475  2.147973         0 -0.582363  1.292937   \n",
       "19    1  1.874045 -0.439778 -1.318076 -3.176035         1  1.997652 -0.949695   \n",
       "22    0  0.973999  0.404053  1.212009  1.615572         0 -0.582363 -0.042838   \n",
       "25    0 -0.578580 -0.680873  1.430120  3.656442         0 -0.582363  0.788039   \n",
       "28    1  1.221512  0.162959 -0.881855 -1.046432         0 -0.582363 -0.959499   \n",
       "34    1 -1.748639 -0.921967 -0.707366 -0.336564         0 -0.582363  0.177749   \n",
       "37    1  0.613981 -1.163062  0.034211 -0.070364         1  0.707645 -0.275680   \n",
       "41    0 -0.488575 -0.078136  0.186888 -0.159097         1  0.277642 -0.719304   \n",
       "45    1 -0.556079 -1.404157  0.993898  1.260638         1  0.277642  1.361564   \n",
       "48    0 -1.681136 -0.921967  0.535865  1.704305         0 -0.582363  0.131180   \n",
       "51    1 -0.241063 -0.801420 -0.620122 -0.602765         1  2.857657 -1.055087   \n",
       "54    1       NaN -0.680873 -0.489255 -0.514031         0 -0.582363  2.405675   \n",
       "57    1  1.041502  0.404053  0.819409 -1.135166         0 -0.582363  1.724307   \n",
       "60    1 -0.016051  0.404053  0.426810  0.639504         1  1.137647 -0.461953   \n",
       "63    0  1.199010 -0.560325 -0.358389 -1.046432         1  2.857657 -0.775677   \n",
       "67    1  1.379020  1.368432 -1.361699 -1.933767         0 -0.582363  0.074808   \n",
       "70    0  0.073953 -1.645252 -0.402011  0.728237         0 -0.582363  0.214513   \n",
       "\n",
       "    DIABETES    BPMEDS  ...   GLUCOSE      educ  PREVCHD  PREVAP  PREVMI  \\\n",
       "1          0 -0.423849  ...  0.079021  1.925290        0       0       0   \n",
       "4          0 -0.423849  ... -0.666886 -0.013101        0       0       0   \n",
       "11         0 -0.423849  ...       NaN  0.956094        0       0       0   \n",
       "14         1  2.359329  ... -0.311692 -0.013101        0       0       0   \n",
       "19         0 -0.423849  ... -0.098576 -0.013101        0       0       0   \n",
       "22         0 -0.423849  ... -0.276173 -0.982297        0       0       0   \n",
       "25         0  2.359329  ... -0.169615 -0.982297        0       0       0   \n",
       "28         0       NaN  ... -0.240653 -0.982297        0       0       0   \n",
       "34         0 -0.423849  ...  1.606354  0.956094        0       0       0   \n",
       "37         0 -0.423849  ...  0.256618 -0.013101        0       0       0   \n",
       "41         0 -0.423849  ...  0.043502  0.956094        0       0       0   \n",
       "45         0 -0.423849  ... -0.205134 -0.013101        0       0       0   \n",
       "48         0 -0.423849  ... -0.418250 -0.013101        0       0       0   \n",
       "51         0 -0.423849  ...  0.434215 -0.013101        0       0       0   \n",
       "54         0 -0.423849  ...       NaN -0.982297        0       0       0   \n",
       "57         1 -0.423849  ...  4.980694 -0.982297        0       0       0   \n",
       "60         0 -0.423849  ... -0.347211  0.956094        0       0       0   \n",
       "63         0 -0.423849  ...  0.007982 -0.013101        0       0       0   \n",
       "67         0 -0.423849  ...  0.363176 -0.982297        0       0       0   \n",
       "70         0 -0.423849  ... -0.489289 -0.013101        0       0       0   \n",
       "\n",
       "    PREVSTRK  PREVHYP      HDLC      LDLC  ANYCHD  \n",
       "1          0        0 -1.175411  0.032719       1  \n",
       "4          0        0  0.296675 -0.756941       0  \n",
       "11         0        1       NaN       NaN       0  \n",
       "14         0        1 -0.215355 -0.884994       1  \n",
       "19         0        0 -0.983399  2.337670       0  \n",
       "22         0        1 -0.343362  1.270563       0  \n",
       "25         0        1 -0.087347 -0.287414       0  \n",
       "28         0        0  0.680698  0.865062       0  \n",
       "34         0        1  0.232672 -1.503916       0  \n",
       "37         0        1  0.552690  0.630299       0  \n",
       "41         0        1  0.808705 -0.884994       0  \n",
       "45         0        1 -0.599377 -0.095334       0  \n",
       "48         0        1 -1.175411 -1.824048       0  \n",
       "51         0        0  2.216788 -0.735599       0  \n",
       "54         0        0       NaN       NaN       0  \n",
       "57         0        1 -0.279358  1.313247       1  \n",
       "60         0        1  2.792821 -0.714257       0  \n",
       "63         0        1  0.296675  1.270563       0  \n",
       "67         0        0 -0.727384  1.782774       1  \n",
       "70         0        1 -0.599377  0.502246       0  \n",
       "\n",
       "[20 rows x 21 columns]"
      ]
     },
     "execution_count": 101,
     "metadata": {},
     "output_type": "execute_result"
    }
   ],
   "source": [
    "df3.head(20)"
   ]
  },
  {
   "cell_type": "code",
   "execution_count": 111,
   "metadata": {},
   "outputs": [],
   "source": [
    "train = df3.copy()"
   ]
  },
  {
   "cell_type": "code",
   "execution_count": 112,
   "metadata": {},
   "outputs": [],
   "source": [
    "# Labels are the values we want to predict\n",
    "target = np.array(train['ANYCHD'])\n",
    "# Remove the labels from the features\n",
    "# axis 1 refers to the columns\n",
    "features= train.drop('ANYCHD', axis = 1)\n",
    "# Saving feature names for later use\n",
    "feature_list = list(features.columns)\n",
    "# Convert to numpy array\n",
    "features = np.array(features)"
   ]
  },
  {
   "cell_type": "code",
   "execution_count": 114,
   "metadata": {},
   "outputs": [
    {
     "name": "stdout",
     "output_type": "stream",
     "text": [
      "Missing: 1812\n",
      "Missing: 0\n"
     ]
    }
   ],
   "source": [
    "from numpy import isnan\n",
    "from sklearn.impute import KNNImputer\n",
    "# print total missing\n",
    "print('Missing: %d' % sum(isnan(features).flatten()))\n",
    "# define imputer\n",
    "imputer = KNNImputer(missing_values=np.nan)\n",
    "# fit on the dataset\n",
    "imputer.fit(features)\n",
    "# transform the dataset\n",
    "features_trans = imputer.transform(features)\n",
    "# print total missing\n",
    "print('Missing: %d' % sum(isnan(features_trans).flatten()))"
   ]
  },
  {
   "cell_type": "code",
   "execution_count": 115,
   "metadata": {},
   "outputs": [],
   "source": [
    "from sklearn.model_selection import train_test_split\n",
    "x_train, x_val, y_train, y_val = train_test_split(features_trans, target, test_size=0.30, random_state=8)"
   ]
  },
  {
   "cell_type": "code",
   "execution_count": 116,
   "metadata": {},
   "outputs": [],
   "source": [
    "x_val, x_test, y_val, y_test = train_test_split(x_val, y_val, test_size=0.50, random_state=8)"
   ]
  },
  {
   "cell_type": "code",
   "execution_count": 117,
   "metadata": {},
   "outputs": [
    {
     "name": "stdout",
     "output_type": "stream",
     "text": [
      "X train shape:  (2284, 20)\n",
      "X validation shape:  (489, 20)\n",
      "X test shape:  (490, 20)\n",
      "Y train shape:  (2284,)\n",
      "Y validation shape:  (489,)\n",
      "Y test shape:  (490,)\n"
     ]
    }
   ],
   "source": [
    "print(\"X train shape: \", x_train.shape)\n",
    "print(\"X validation shape: \", x_val.shape)\n",
    "print(\"X test shape: \", x_test.shape)\n",
    "print(\"Y train shape: \", y_train.shape)\n",
    "print(\"Y validation shape: \", y_val.shape)\n",
    "print(\"Y test shape: \", y_test.shape)"
   ]
  },
  {
   "cell_type": "code",
   "execution_count": 86,
   "metadata": {},
   "outputs": [],
   "source": [
    "import pytorch_tabnet"
   ]
  },
  {
   "cell_type": "code",
   "execution_count": 150,
   "metadata": {},
   "outputs": [],
   "source": [
    "from pytorch_tabnet.tab_model import TabNetClassifier\n",
    "\n",
    "import torch\n",
    "from sklearn.preprocessing import LabelEncoder\n",
    "from sklearn.metrics import roc_auc_score, accuracy_score\n",
    "from sklearn.model_selection import KFold\n",
    "\n",
    "np.random.seed(8)"
   ]
  },
  {
   "cell_type": "code",
   "execution_count": 118,
   "metadata": {},
   "outputs": [
    {
     "name": "stdout",
     "output_type": "stream",
     "text": [
      "Before OverSampling, counts of label '1': 596\n",
      "Before OverSampling, counts of label '0': 1688 \n",
      "\n",
      "After OverSampling, the shape of train_X: (3376, 20)\n",
      "After OverSampling, the shape of train_y: (3376,) \n",
      "\n",
      "After OverSampling, counts of label '1': 1688\n",
      "After OverSampling, counts of label '0': 1688\n"
     ]
    }
   ],
   "source": [
    "import imblearn\n",
    "from imblearn.over_sampling import SMOTE\n",
    "\n",
    "print(\"Before OverSampling, counts of label '1': {}\".format(sum(y_train==1)))\n",
    "print(\"Before OverSampling, counts of label '0': {} \\n\".format(sum(y_train==0)))\n",
    "\n",
    "sm = SMOTE(random_state=8)\n",
    "x_train_res, y_train_res = sm.fit_sample(x_train, y_train.ravel())\n",
    "\n",
    "print('After OverSampling, the shape of train_X: {}'.format(x_train_res.shape))\n",
    "print('After OverSampling, the shape of train_y: {} \\n'.format(y_train_res.shape))\n",
    "\n",
    "print(\"After OverSampling, counts of label '1': {}\".format(sum(y_train_res==1)))\n",
    "print(\"After OverSampling, counts of label '0': {}\".format(sum(y_train_res==0)))"
   ]
  },
  {
   "cell_type": "code",
   "execution_count": 119,
   "metadata": {},
   "outputs": [
    {
     "name": "stdout",
     "output_type": "stream",
     "text": [
      "Device used : cpu\n"
     ]
    }
   ],
   "source": [
    "clf1 = TabNetClassifier(optimizer_fn=torch.optim.Adam,\n",
    "                       optimizer_params=dict(lr=2e-2),\n",
    "                       scheduler_params={\"step_size\":50, # how to use learning rate scheduler\n",
    "                                         \"gamma\":0.9},\n",
    "                       scheduler_fn=torch.optim.lr_scheduler.StepLR,\n",
    "                       mask_type='entmax' # \"sparsemax\"\n",
    "                      )"
   ]
  },
  {
   "cell_type": "code",
   "execution_count": 120,
   "metadata": {},
   "outputs": [
    {
     "name": "stdout",
     "output_type": "stream",
     "text": [
      "epoch 0  | loss: 0.67772 | train_auc: 0.68004 | train_accuracy: 0.53678 | valid_auc: 0.64317 | valid_accuracy: 0.52352 |  0:00:00s\n",
      "epoch 1  | loss: 0.58694 | train_auc: 0.75352 | train_accuracy: 0.79904 | valid_auc: 0.71078 | valid_accuracy: 0.81595 |  0:00:01s\n",
      "epoch 2  | loss: 0.53315 | train_auc: 0.7772  | train_accuracy: 0.81261 | valid_auc: 0.72783 | valid_accuracy: 0.82004 |  0:00:02s\n",
      "epoch 3  | loss: 0.51794 | train_auc: 0.78575 | train_accuracy: 0.82531 | valid_auc: 0.74739 | valid_accuracy: 0.8364  |  0:00:03s\n",
      "epoch 4  | loss: 0.49393 | train_auc: 0.77239 | train_accuracy: 0.80911 | valid_auc: 0.74616 | valid_accuracy: 0.82413 |  0:00:04s\n",
      "epoch 5  | loss: 0.48386 | train_auc: 0.79496 | train_accuracy: 0.83363 | valid_auc: 0.76835 | valid_accuracy: 0.84458 |  0:00:05s\n",
      "epoch 6  | loss: 0.49347 | train_auc: 0.7908  | train_accuracy: 0.80998 | valid_auc: 0.76078 | valid_accuracy: 0.82209 |  0:00:06s\n",
      "epoch 7  | loss: 0.49318 | train_auc: 0.79815 | train_accuracy: 0.80648 | valid_auc: 0.75763 | valid_accuracy: 0.80982 |  0:00:07s\n",
      "epoch 8  | loss: 0.49244 | train_auc: 0.80677 | train_accuracy: 0.79116 | valid_auc: 0.76779 | valid_accuracy: 0.77096 |  0:00:08s\n",
      "epoch 9  | loss: 0.48192 | train_auc: 0.8141  | train_accuracy: 0.82224 | valid_auc: 0.74822 | valid_accuracy: 0.83231 |  0:00:09s\n",
      "epoch 10 | loss: 0.44565 | train_auc: 0.82645 | train_accuracy: 0.81349 | valid_auc: 0.76779 | valid_accuracy: 0.80777 |  0:00:10s\n",
      "epoch 11 | loss: 0.45061 | train_auc: 0.83114 | train_accuracy: 0.81261 | valid_auc: 0.76307 | valid_accuracy: 0.78732 |  0:00:10s\n",
      "epoch 12 | loss: 0.45447 | train_auc: 0.83827 | train_accuracy: 0.83187 | valid_auc: 0.75135 | valid_accuracy: 0.81391 |  0:00:11s\n",
      "epoch 13 | loss: 0.46261 | train_auc: 0.84825 | train_accuracy: 0.82399 | valid_auc: 0.7577  | valid_accuracy: 0.77914 |  0:00:13s\n",
      "epoch 14 | loss: 0.43738 | train_auc: 0.85226 | train_accuracy: 0.82662 | valid_auc: 0.74335 | valid_accuracy: 0.77914 |  0:00:14s\n",
      "epoch 15 | loss: 0.44856 | train_auc: 0.8518  | train_accuracy: 0.7824  | valid_auc: 0.76248 | valid_accuracy: 0.73006 |  0:00:15s\n",
      "epoch 16 | loss: 0.4352  | train_auc: 0.85681 | train_accuracy: 0.80867 | valid_auc: 0.74173 | valid_accuracy: 0.7546  |  0:00:15s\n",
      "epoch 17 | loss: 0.43964 | train_auc: 0.85922 | train_accuracy: 0.82574 | valid_auc: 0.74195 | valid_accuracy: 0.76687 |  0:00:17s\n",
      "epoch 18 | loss: 0.41668 | train_auc: 0.84912 | train_accuracy: 0.82049 | valid_auc: 0.75741 | valid_accuracy: 0.78119 |  0:00:18s\n",
      "epoch 19 | loss: 0.42757 | train_auc: 0.86281 | train_accuracy: 0.81436 | valid_auc: 0.76819 | valid_accuracy: 0.76074 |  0:00:20s\n",
      "epoch 20 | loss: 0.43436 | train_auc: 0.87193 | train_accuracy: 0.82837 | valid_auc: 0.74846 | valid_accuracy: 0.76278 |  0:00:22s\n",
      "epoch 21 | loss: 0.43764 | train_auc: 0.87982 | train_accuracy: 0.84764 | valid_auc: 0.74628 | valid_accuracy: 0.79346 |  0:00:24s\n",
      "epoch 22 | loss: 0.4077  | train_auc: 0.88037 | train_accuracy: 0.82049 | valid_auc: 0.71594 | valid_accuracy: 0.74233 |  0:00:25s\n",
      "epoch 23 | loss: 0.3947  | train_auc: 0.89042 | train_accuracy: 0.83056 | valid_auc: 0.72362 | valid_accuracy: 0.72802 |  0:00:27s\n",
      "epoch 24 | loss: 0.41416 | train_auc: 0.89028 | train_accuracy: 0.82049 | valid_auc: 0.7109  | valid_accuracy: 0.70552 |  0:00:29s\n",
      "epoch 25 | loss: 0.40447 | train_auc: 0.88509 | train_accuracy: 0.81217 | valid_auc: 0.7329  | valid_accuracy: 0.69939 |  0:00:31s\n",
      "epoch 26 | loss: 0.40538 | train_auc: 0.88768 | train_accuracy: 0.83056 | valid_auc: 0.73735 | valid_accuracy: 0.73824 |  0:00:32s\n",
      "epoch 27 | loss: 0.39045 | train_auc: 0.88451 | train_accuracy: 0.78809 | valid_auc: 0.70389 | valid_accuracy: 0.6728  |  0:00:33s\n",
      "epoch 28 | loss: 0.38678 | train_auc: 0.89466 | train_accuracy: 0.84764 | valid_auc: 0.73508 | valid_accuracy: 0.76483 |  0:00:34s\n",
      "epoch 29 | loss: 0.40249 | train_auc: 0.88547 | train_accuracy: 0.83275 | valid_auc: 0.73191 | valid_accuracy: 0.74438 |  0:00:36s\n",
      "epoch 30 | loss: 0.40241 | train_auc: 0.89314 | train_accuracy: 0.8437  | valid_auc: 0.72629 | valid_accuracy: 0.75665 |  0:00:37s\n",
      "epoch 31 | loss: 0.40006 | train_auc: 0.90991 | train_accuracy: 0.85201 | valid_auc: 0.71343 | valid_accuracy: 0.75051 |  0:00:39s\n",
      "epoch 32 | loss: 0.38968 | train_auc: 0.91273 | train_accuracy: 0.83363 | valid_auc: 0.74178 | valid_accuracy: 0.71166 |  0:00:41s\n",
      "epoch 33 | loss: 0.37782 | train_auc: 0.90383 | train_accuracy: 0.81918 | valid_auc: 0.74799 | valid_accuracy: 0.69121 |  0:00:42s\n",
      "epoch 34 | loss: 0.38572 | train_auc: 0.89214 | train_accuracy: 0.82268 | valid_auc: 0.7437  | valid_accuracy: 0.74233 |  0:00:44s\n",
      "epoch 35 | loss: 0.39056 | train_auc: 0.90243 | train_accuracy: 0.83757 | valid_auc: 0.73503 | valid_accuracy: 0.72802 |  0:00:46s\n",
      "epoch 36 | loss: 0.37559 | train_auc: 0.90821 | train_accuracy: 0.82925 | valid_auc: 0.7338  | valid_accuracy: 0.72188 |  0:00:47s\n",
      "epoch 37 | loss: 0.37867 | train_auc: 0.90997 | train_accuracy: 0.81305 | valid_auc: 0.72606 | valid_accuracy: 0.67894 |  0:00:48s\n",
      "epoch 38 | loss: 0.3886  | train_auc: 0.90883 | train_accuracy: 0.82925 | valid_auc: 0.73655 | valid_accuracy: 0.69121 |  0:00:49s\n",
      "epoch 39 | loss: 0.36816 | train_auc: 0.91221 | train_accuracy: 0.84764 | valid_auc: 0.72265 | valid_accuracy: 0.69939 |  0:00:51s\n",
      "epoch 40 | loss: 0.37095 | train_auc: 0.90568 | train_accuracy: 0.84194 | valid_auc: 0.71803 | valid_accuracy: 0.6953  |  0:00:53s\n",
      "epoch 41 | loss: 0.38132 | train_auc: 0.92332 | train_accuracy: 0.83713 | valid_auc: 0.74176 | valid_accuracy: 0.68916 |  0:00:55s\n",
      "epoch 42 | loss: 0.3755  | train_auc: 0.9251  | train_accuracy: 0.85639 | valid_auc: 0.73494 | valid_accuracy: 0.72393 |  0:00:56s\n",
      "epoch 43 | loss: 0.35197 | train_auc: 0.90966 | train_accuracy: 0.82487 | valid_auc: 0.72809 | valid_accuracy: 0.6953  |  0:00:58s\n",
      "epoch 44 | loss: 0.38511 | train_auc: 0.92477 | train_accuracy: 0.86559 | valid_auc: 0.72615 | valid_accuracy: 0.73415 |  0:00:59s\n",
      "epoch 45 | loss: 0.35834 | train_auc: 0.93191 | train_accuracy: 0.84501 | valid_auc: 0.73134 | valid_accuracy: 0.7137  |  0:01:00s\n",
      "epoch 46 | loss: 0.35336 | train_auc: 0.93061 | train_accuracy: 0.85552 | valid_auc: 0.74275 | valid_accuracy: 0.73006 |  0:01:02s\n",
      "epoch 47 | loss: 0.36831 | train_auc: 0.92411 | train_accuracy: 0.84764 | valid_auc: 0.75028 | valid_accuracy: 0.74029 |  0:01:03s\n",
      "epoch 48 | loss: 0.3444  | train_auc: 0.93178 | train_accuracy: 0.86077 | valid_auc: 0.73605 | valid_accuracy: 0.71779 |  0:01:05s\n",
      "epoch 49 | loss: 0.33683 | train_auc: 0.93153 | train_accuracy: 0.85639 | valid_auc: 0.73577 | valid_accuracy: 0.71779 |  0:01:06s\n",
      "epoch 50 | loss: 0.32649 | train_auc: 0.93883 | train_accuracy: 0.86296 | valid_auc: 0.755   | valid_accuracy: 0.74438 |  0:01:07s\n",
      "epoch 51 | loss: 0.33353 | train_auc: 0.9451  | train_accuracy: 0.85639 | valid_auc: 0.74003 | valid_accuracy: 0.71779 |  0:01:09s\n",
      "epoch 52 | loss: 0.31617 | train_auc: 0.9422  | train_accuracy: 0.87347 | valid_auc: 0.76016 | valid_accuracy: 0.74029 |  0:01:10s\n",
      "epoch 53 | loss: 0.31052 | train_auc: 0.94476 | train_accuracy: 0.86953 | valid_auc: 0.75142 | valid_accuracy: 0.7362  |  0:01:11s\n",
      "epoch 54 | loss: 0.32007 | train_auc: 0.93505 | train_accuracy: 0.85989 | valid_auc: 0.73501 | valid_accuracy: 0.73415 |  0:01:13s\n",
      "epoch 55 | loss: 0.31209 | train_auc: 0.93999 | train_accuracy: 0.84326 | valid_auc: 0.73077 | valid_accuracy: 0.6953  |  0:01:15s\n",
      "\n",
      "Early stopping occurred at epoch 55 with best_epoch = 5 and best_valid_accuracy = 0.84458\n",
      "Best weights from best epoch are automatically used!\n"
     ]
    }
   ],
   "source": [
    "clf1.fit(\n",
    "    x_train,y_train,\n",
    "    eval_set=[(x_train, y_train), (x_val, y_val)],\n",
    "    eval_name=['train', 'valid'],\n",
    "    eval_metric=['auc','accuracy'],\n",
    "    max_epochs=1000 , patience=50,\n",
    "    batch_size=256, virtual_batch_size=128,\n",
    "    num_workers=0,\n",
    "    weights=1,\n",
    "    drop_last=False\n",
    ")"
   ]
  },
  {
   "cell_type": "code",
   "execution_count": 121,
   "metadata": {},
   "outputs": [
    {
     "data": {
      "text/plain": [
       "[<matplotlib.lines.Line2D at 0x1ba7990dc40>]"
      ]
     },
     "execution_count": 121,
     "metadata": {},
     "output_type": "execute_result"
    },
    {
     "data": {
      "image/png": "[encoded data removed]",
      "text/plain": [
       "<Figure size 432x288 with 1 Axes>"
      ]
     },
     "metadata": {},
     "output_type": "display_data"
    }
   ],
   "source": [
    "# plot losses\n",
    "plt.plot(clf1.history['loss'])"
   ]
  },
  {
   "cell_type": "code",
   "execution_count": 122,
   "metadata": {},
   "outputs": [
    {
     "data": {
      "text/plain": [
       "[<matplotlib.lines.Line2D at 0x1ba77cd0370>]"
      ]
     },
     "execution_count": 122,
     "metadata": {},
     "output_type": "execute_result"
    },
    {
     "data": {
      "image/png": "[encoded data removed]",
      "text/plain": [
       "<Figure size 432x288 with 1 Axes>"
      ]
     },
     "metadata": {},
     "output_type": "display_data"
    }
   ],
   "source": [
    "# plot auc\n",
    "plt.plot(clf1.history['train_auc'])\n",
    "plt.plot(clf1.history['valid_auc'])"
   ]
  },
  {
   "cell_type": "code",
   "execution_count": 143,
   "metadata": {},
   "outputs": [
    {
     "data": {
      "text/plain": [
       "[<matplotlib.lines.Line2D at 0x1ba0092a3d0>]"
      ]
     },
     "execution_count": 143,
     "metadata": {},
     "output_type": "execute_result"
    },
    {
     "data": {
      "image/png": "[encoded data removed]",
      "text/plain": [
       "<Figure size 432x288 with 1 Axes>"
      ]
     },
     "metadata": {},
     "output_type": "display_data"
    }
   ],
   "source": [
    "# plot auc\n",
    "plt.plot(clf1.history['train_accuracy'])\n",
    "plt.plot(clf1.history['valid_accuracy'])"
   ]
  },
  {
   "cell_type": "code",
   "execution_count": 123,
   "metadata": {},
   "outputs": [
    {
     "data": {
      "text/plain": [
       "[<matplotlib.lines.Line2D at 0x1ba00091a30>]"
      ]
     },
     "execution_count": 123,
     "metadata": {},
     "output_type": "execute_result"
    },
    {
     "data": {
      "image/png": "[encoded data removed]",
      "text/plain": [
       "<Figure size 432x288 with 1 Axes>"
      ]
     },
     "metadata": {},
     "output_type": "display_data"
    }
   ],
   "source": [
    "# plot learning rates\n",
    "plt.plot(clf1.history['lr'])"
   ]
  },
  {
   "cell_type": "code",
   "execution_count": 124,
   "metadata": {},
   "outputs": [
    {
     "name": "stdout",
     "output_type": "stream",
     "text": [
      "BEST VALID SCORE FOR THIS SET : 0.8445807770961146\n",
      "FINAL TEST SCORE FOR THIS SET : 0.7787206132529874\n"
     ]
    }
   ],
   "source": [
    "preds = clf1.predict_proba(x_test)\n",
    "test_auc = roc_auc_score(y_score=preds[:,1], y_true=y_test)\n",
    "\n",
    "\n",
    "preds_valid = clf1.predict_proba(x_val)\n",
    "valid_auc = roc_auc_score(y_score=preds_valid[:,1], y_true=y_val)\n",
    "\n",
    "print(f\"BEST VALID SCORE FOR THIS SET : {clf1.best_cost}\")\n",
    "print(f\"FINAL TEST SCORE FOR THIS SET : {test_auc}\")"
   ]
  },
  {
   "cell_type": "code",
   "execution_count": 159,
   "metadata": {},
   "outputs": [
    {
     "name": "stdout",
     "output_type": "stream",
     "text": [
      "BEST ACCURACY SCORE ON VALIDATION SET : 0.8445807770961146\n",
      "BEST ACCURACY SCORE ON TEST SET : 0.8183673469387756\n"
     ]
    }
   ],
   "source": [
    "preds = clf1.predict(x_test)\n",
    "test_acc = accuracy_score(preds, y_test)\n",
    "\n",
    "\n",
    "preds_valid = clf1.predict(x_val)\n",
    "valid_acc = accuracy_score(preds_valid, y_val)\n",
    "\n",
    "print(f\"BEST ACCURACY SCORE ON VALIDATION SET : {valid_acc}\")\n",
    "print(f\"BEST ACCURACY SCORE ON TEST SET : {test_acc}\")"
   ]
  },
  {
   "cell_type": "code",
   "execution_count": null,
   "metadata": {},
   "outputs": [],
   "source": [
    "# check that best weights are used\n",
    "assert np.isclose(valid_auc, np.max(clf1.history['valid_auc']), atol=1e-6)"
   ]
  },
  {
   "cell_type": "code",
   "execution_count": 125,
   "metadata": {},
   "outputs": [],
   "source": [
    "y_pred = clf1.predict(x_test)"
   ]
  },
  {
   "cell_type": "code",
   "execution_count": 126,
   "metadata": {},
   "outputs": [
    {
     "data": {
      "text/plain": [
       "array([0.05758596, 0.06925715, 0.04699321, 0.04336625, 0.02433202,\n",
       "       0.01860883, 0.00455365, 0.01661093, 0.00973072, 0.00383943,\n",
       "       0.0265288 , 0.0146363 , 0.00718994, 0.15064551, 0.3801657 ,\n",
       "       0.03707393, 0.01493747, 0.0378262 , 0.00247997, 0.03363802])"
      ]
     },
     "execution_count": 126,
     "metadata": {},
     "output_type": "execute_result"
    }
   ],
   "source": [
    "clf1.feature_importances_"
   ]
  },
  {
   "cell_type": "code",
   "execution_count": 127,
   "metadata": {},
   "outputs": [],
   "source": [
    "explain_matrix, masks = clf1.explain(x_test)"
   ]
  },
  {
   "cell_type": "code",
   "execution_count": 128,
   "metadata": {},
   "outputs": [
    {
     "data": {
      "image/png": "[encoded data removed]",
      "text/plain": [
       "<Figure size 1440x1440 with 3 Axes>"
      ]
     },
     "metadata": {},
     "output_type": "display_data"
    }
   ],
   "source": [
    "fig, axs = plt.subplots(1, 3, figsize=(20,20))\n",
    "\n",
    "for i in range(3):\n",
    "    axs[i].imshow(masks[i][:50])\n",
    "    axs[i].set_title(f\"mask {i}\")"
   ]
  },
  {
   "cell_type": "code",
   "execution_count": 129,
   "metadata": {},
   "outputs": [
    {
     "data": {
      "text/plain": [
       "array([[337,  14],\n",
       "       [ 75,  64]], dtype=int64)"
      ]
     },
     "execution_count": 129,
     "metadata": {},
     "output_type": "execute_result"
    }
   ],
   "source": [
    "from sklearn.metrics import confusion_matrix\n",
    "confusion_matrix(y_test, y_pred)"
   ]
  },
  {
   "cell_type": "markdown",
   "metadata": {},
   "source": [
    "# Unsupervised Tabnet"
   ]
  },
  {
   "cell_type": "code",
   "execution_count": 131,
   "metadata": {},
   "outputs": [],
   "source": [
    "from pytorch_tabnet.pretraining import TabNetPretrainer"
   ]
  },
  {
   "cell_type": "code",
   "execution_count": 132,
   "metadata": {},
   "outputs": [
    {
     "name": "stdout",
     "output_type": "stream",
     "text": [
      "Device used : cpu\n"
     ]
    }
   ],
   "source": [
    "# TabNetPretrainer\n",
    "unsupervised_model = TabNetPretrainer(\n",
    "    optimizer_fn=torch.optim.Adam,\n",
    "    optimizer_params=dict(lr=2e-2),\n",
    "    mask_type='entmax', # \"sparsemax\",\n",
    "    #n_shared_decoder=1, # nb shared glu for decoding\n",
    "    #n_indep_decoder=1, # nb independent glu for decoding\n",
    ")"
   ]
  },
  {
   "cell_type": "code",
   "execution_count": 133,
   "metadata": {},
   "outputs": [
    {
     "name": "stdout",
     "output_type": "stream",
     "text": [
      "epoch 0  | loss: 5.34737 | val_0_unsup_loss: 1.42451 |  0:00:01s\n",
      "epoch 1  | loss: 1.6799  | val_0_unsup_loss: 1.16788 |  0:00:02s\n",
      "epoch 2  | loss: 1.16748 | val_0_unsup_loss: 1.134   |  0:00:04s\n",
      "epoch 3  | loss: 1.06895 | val_0_unsup_loss: 1.09998 |  0:00:06s\n",
      "epoch 4  | loss: 1.03868 | val_0_unsup_loss: 1.07285 |  0:00:07s\n",
      "epoch 5  | loss: 1.02801 | val_0_unsup_loss: 1.04224 |  0:00:09s\n",
      "epoch 6  | loss: 1.00839 | val_0_unsup_loss: 1.03399 |  0:00:11s\n",
      "epoch 7  | loss: 0.99228 | val_0_unsup_loss: 0.9981  |  0:00:12s\n",
      "epoch 8  | loss: 1.01007 | val_0_unsup_loss: 0.97959 |  0:00:15s\n",
      "epoch 9  | loss: 4492.3747| val_0_unsup_loss: 0.98103 |  0:00:16s\n",
      "epoch 10 | loss: 0.9975  | val_0_unsup_loss: 0.96291 |  0:00:17s\n",
      "epoch 11 | loss: 0.98667 | val_0_unsup_loss: 0.9609  |  0:00:19s\n",
      "epoch 12 | loss: 0.97941 | val_0_unsup_loss: 0.951   |  0:00:20s\n",
      "epoch 13 | loss: 0.97447 | val_0_unsup_loss: 0.94539 |  0:00:21s\n",
      "epoch 14 | loss: 0.98115 | val_0_unsup_loss: 0.94276 |  0:00:23s\n",
      "epoch 15 | loss: 0.9764  | val_0_unsup_loss: 0.93513 |  0:00:24s\n",
      "epoch 16 | loss: 0.9834  | val_0_unsup_loss: 0.92612 |  0:00:25s\n",
      "epoch 17 | loss: 0.9759  | val_0_unsup_loss: 0.91616 |  0:00:27s\n",
      "epoch 18 | loss: 0.9737  | val_0_unsup_loss: 0.90928 |  0:00:29s\n",
      "epoch 19 | loss: 0.96871 | val_0_unsup_loss: 0.89957 |  0:00:30s\n",
      "epoch 20 | loss: 0.96001 | val_0_unsup_loss: 0.89609 |  0:00:32s\n",
      "epoch 21 | loss: 0.96264 | val_0_unsup_loss: 0.89818 |  0:00:33s\n",
      "epoch 22 | loss: 0.96541 | val_0_unsup_loss: 0.88669 |  0:00:35s\n",
      "epoch 23 | loss: 0.96476 | val_0_unsup_loss: 0.88715 |  0:00:36s\n",
      "epoch 24 | loss: 0.95866 | val_0_unsup_loss: 0.88323 |  0:00:38s\n",
      "epoch 25 | loss: 0.95488 | val_0_unsup_loss: 0.88972 |  0:00:39s\n",
      "epoch 26 | loss: 0.96029 | val_0_unsup_loss: 0.90941 |  0:00:42s\n",
      "epoch 27 | loss: 0.95284 | val_0_unsup_loss: 0.87971 |  0:00:43s\n",
      "epoch 28 | loss: 0.95379 | val_0_unsup_loss: 0.87648 |  0:00:45s\n",
      "epoch 29 | loss: 0.93715 | val_0_unsup_loss: 0.86789 |  0:00:46s\n",
      "epoch 30 | loss: 0.95357 | val_0_unsup_loss: 0.87655 |  0:00:47s\n",
      "epoch 31 | loss: 0.95238 | val_0_unsup_loss: 0.86475 |  0:00:49s\n",
      "epoch 32 | loss: 0.94354 | val_0_unsup_loss: 0.85405 |  0:00:50s\n",
      "epoch 33 | loss: 0.93889 | val_0_unsup_loss: 0.84624 |  0:00:51s\n",
      "epoch 34 | loss: 6757.00788| val_0_unsup_loss: 0.85788 |  0:00:52s\n",
      "epoch 35 | loss: 0.93876 | val_0_unsup_loss: 0.84374 |  0:00:54s\n",
      "epoch 36 | loss: 0.94151 | val_0_unsup_loss: 0.83645 |  0:00:55s\n",
      "epoch 37 | loss: 0.92721 | val_0_unsup_loss: 0.83842 |  0:00:56s\n",
      "epoch 38 | loss: 0.94008 | val_0_unsup_loss: 0.82225 |  0:00:58s\n",
      "epoch 39 | loss: 0.93399 | val_0_unsup_loss: 0.84122 |  0:00:58s\n",
      "epoch 40 | loss: 0.94238 | val_0_unsup_loss: 0.82482 |  0:00:59s\n",
      "epoch 41 | loss: 0.94079 | val_0_unsup_loss: 0.82534 |  0:01:02s\n",
      "epoch 42 | loss: 0.9195  | val_0_unsup_loss: 0.81225 |  0:01:03s\n",
      "epoch 43 | loss: 0.92326 | val_0_unsup_loss: 0.82145 |  0:01:04s\n",
      "epoch 44 | loss: 0.9362  | val_0_unsup_loss: 0.82536 |  0:01:05s\n",
      "epoch 45 | loss: 0.93278 | val_0_unsup_loss: 0.80341 |  0:01:07s\n",
      "epoch 46 | loss: 0.93739 | val_0_unsup_loss: 0.80691 |  0:01:08s\n",
      "epoch 47 | loss: 0.94804 | val_0_unsup_loss: 0.82047 |  0:01:10s\n",
      "epoch 48 | loss: 0.93462 | val_0_unsup_loss: 0.80412 |  0:01:11s\n",
      "epoch 49 | loss: 0.92992 | val_0_unsup_loss: 0.81996 |  0:01:12s\n",
      "epoch 50 | loss: 0.92752 | val_0_unsup_loss: 0.82634 |  0:01:13s\n",
      "epoch 51 | loss: 0.92896 | val_0_unsup_loss: 0.81287 |  0:01:15s\n",
      "epoch 52 | loss: 0.93532 | val_0_unsup_loss: 0.81019 |  0:01:16s\n",
      "epoch 53 | loss: 0.92944 | val_0_unsup_loss: 0.80105 |  0:01:17s\n",
      "epoch 54 | loss: 0.92338 | val_0_unsup_loss: 0.79698 |  0:01:19s\n",
      "epoch 55 | loss: 0.91422 | val_0_unsup_loss: 0.80567 |  0:01:19s\n",
      "epoch 56 | loss: 0.93659 | val_0_unsup_loss: 0.80338 |  0:01:21s\n",
      "epoch 57 | loss: 5937.46375| val_0_unsup_loss: 0.81874 |  0:01:22s\n",
      "epoch 58 | loss: 0.93328 | val_0_unsup_loss: 0.81929 |  0:01:24s\n",
      "epoch 59 | loss: 0.93252 | val_0_unsup_loss: 0.81647 |  0:01:26s\n",
      "epoch 60 | loss: 0.9271  | val_0_unsup_loss: 0.80418 |  0:01:27s\n",
      "epoch 61 | loss: 0.94035 | val_0_unsup_loss: 0.80493 |  0:01:28s\n",
      "epoch 62 | loss: 0.92458 | val_0_unsup_loss: 0.80479 |  0:01:29s\n",
      "epoch 63 | loss: 0.91501 | val_0_unsup_loss: 0.80463 |  0:01:31s\n",
      "epoch 64 | loss: 0.9202  | val_0_unsup_loss: 0.80972 |  0:01:32s\n",
      "epoch 65 | loss: 0.92433 | val_0_unsup_loss: 0.79739 |  0:01:34s\n",
      "epoch 66 | loss: 0.91448 | val_0_unsup_loss: 0.79741 |  0:01:35s\n",
      "epoch 67 | loss: 0.92801 | val_0_unsup_loss: 0.80706 |  0:01:36s\n",
      "epoch 68 | loss: 0.9105  | val_0_unsup_loss: 0.81012 |  0:01:37s\n",
      "epoch 69 | loss: 0.92801 | val_0_unsup_loss: 0.80587 |  0:01:39s\n",
      "epoch 70 | loss: 0.91298 | val_0_unsup_loss: 0.80172 |  0:01:40s\n",
      "epoch 71 | loss: 0.92483 | val_0_unsup_loss: 0.79368 |  0:01:41s\n",
      "epoch 72 | loss: 0.9354  | val_0_unsup_loss: 0.79414 |  0:01:43s\n",
      "epoch 73 | loss: 0.93227 | val_0_unsup_loss: 0.80009 |  0:01:44s\n",
      "epoch 74 | loss: 0.92837 | val_0_unsup_loss: 0.79638 |  0:01:45s\n",
      "epoch 75 | loss: 0.91346 | val_0_unsup_loss: 0.78706 |  0:01:46s\n",
      "epoch 76 | loss: 0.92096 | val_0_unsup_loss: 0.80626 |  0:01:47s\n",
      "epoch 77 | loss: 0.93509 | val_0_unsup_loss: 0.79285 |  0:01:48s\n",
      "epoch 78 | loss: 0.91401 | val_0_unsup_loss: 0.79807 |  0:01:49s\n",
      "epoch 79 | loss: 1246.40028| val_0_unsup_loss: 0.81744 |  0:01:50s\n",
      "epoch 80 | loss: 0.91166 | val_0_unsup_loss: 0.80406 |  0:01:52s\n",
      "epoch 81 | loss: 0.91707 | val_0_unsup_loss: 0.8032  |  0:01:53s\n",
      "epoch 82 | loss: 0.91123 | val_0_unsup_loss: 0.79293 |  0:01:55s\n",
      "epoch 83 | loss: 0.9215  | val_0_unsup_loss: 0.79035 |  0:01:56s\n",
      "epoch 84 | loss: 0.91261 | val_0_unsup_loss: 0.79204 |  0:01:58s\n",
      "epoch 85 | loss: 0.92612 | val_0_unsup_loss: 0.79325 |  0:01:59s\n",
      "epoch 86 | loss: 0.93073 | val_0_unsup_loss: 0.78727 |  0:02:00s\n",
      "epoch 87 | loss: 0.92234 | val_0_unsup_loss: 0.7896  |  0:02:02s\n",
      "epoch 88 | loss: 0.91096 | val_0_unsup_loss: 0.78812 |  0:02:03s\n",
      "epoch 89 | loss: 0.91273 | val_0_unsup_loss: 0.78979 |  0:02:04s\n",
      "epoch 90 | loss: 0.91058 | val_0_unsup_loss: 0.79796 |  0:02:06s\n",
      "epoch 91 | loss: 0.90974 | val_0_unsup_loss: 0.79277 |  0:02:07s\n",
      "epoch 92 | loss: 0.9111  | val_0_unsup_loss: 0.79575 |  0:02:08s\n",
      "epoch 93 | loss: 0.91614 | val_0_unsup_loss: 0.78607 |  0:02:09s\n",
      "epoch 94 | loss: 0.91858 | val_0_unsup_loss: 0.80414 |  0:02:11s\n",
      "epoch 95 | loss: 0.94117 | val_0_unsup_loss: 0.79068 |  0:02:12s\n",
      "epoch 96 | loss: 0.90339 | val_0_unsup_loss: 0.78681 |  0:02:13s\n",
      "epoch 97 | loss: 6779.37306| val_0_unsup_loss: 0.81182 |  0:02:15s\n",
      "epoch 98 | loss: 0.91008 | val_0_unsup_loss: 0.7893  |  0:02:16s\n",
      "epoch 99 | loss: 13999.28193| val_0_unsup_loss: 0.79179 |  0:02:17s\n",
      "epoch 100| loss: 0.92007 | val_0_unsup_loss: 0.78289 |  0:02:18s\n",
      "epoch 101| loss: 0.92744 | val_0_unsup_loss: 0.78867 |  0:02:19s\n",
      "epoch 102| loss: 2632.77317| val_0_unsup_loss: 0.79654 |  0:02:20s\n",
      "epoch 103| loss: 0.93368 | val_0_unsup_loss: 0.78723 |  0:02:22s\n",
      "epoch 104| loss: 0.92102 | val_0_unsup_loss: 0.7907  |  0:02:23s\n",
      "epoch 105| loss: 0.90691 | val_0_unsup_loss: 0.77564 |  0:02:24s\n",
      "epoch 106| loss: 0.91918 | val_0_unsup_loss: 0.76989 |  0:02:25s\n",
      "epoch 107| loss: 0.91769 | val_0_unsup_loss: 0.76984 |  0:02:27s\n",
      "epoch 108| loss: 0.91772 | val_0_unsup_loss: 0.77147 |  0:02:29s\n",
      "epoch 109| loss: 0.90768 | val_0_unsup_loss: 0.77793 |  0:02:30s\n",
      "epoch 110| loss: 0.91276 | val_0_unsup_loss: 0.78294 |  0:02:31s\n",
      "epoch 111| loss: 3316.16049| val_0_unsup_loss: 0.77914 |  0:02:32s\n",
      "epoch 112| loss: 0.93561 | val_0_unsup_loss: 0.78836 |  0:02:34s\n",
      "epoch 113| loss: 0.91655 | val_0_unsup_loss: 0.79712 |  0:02:34s\n",
      "epoch 114| loss: 0.93015 | val_0_unsup_loss: 0.79803 |  0:02:35s\n",
      "epoch 115| loss: 0.91609 | val_0_unsup_loss: 0.78492 |  0:02:36s\n",
      "epoch 116| loss: 0.92076 | val_0_unsup_loss: 0.78544 |  0:02:37s\n",
      "epoch 117| loss: 0.90559 | val_0_unsup_loss: 0.77635 |  0:02:41s\n",
      "epoch 118| loss: 0.92727 | val_0_unsup_loss: 0.77852 |  0:02:42s\n",
      "epoch 119| loss: 0.91712 | val_0_unsup_loss: 0.78447 |  0:02:43s\n",
      "epoch 120| loss: 0.92042 | val_0_unsup_loss: 0.7968  |  0:02:44s\n",
      "epoch 121| loss: 0.91245 | val_0_unsup_loss: 0.77702 |  0:02:45s\n",
      "epoch 122| loss: 0.93144 | val_0_unsup_loss: 0.79096 |  0:02:46s\n",
      "epoch 123| loss: 0.92066 | val_0_unsup_loss: 0.78662 |  0:02:46s\n",
      "epoch 124| loss: 0.91233 | val_0_unsup_loss: 0.77121 |  0:02:47s\n",
      "epoch 125| loss: 0.92203 | val_0_unsup_loss: 0.76824 |  0:02:49s\n",
      "epoch 126| loss: 0.92978 | val_0_unsup_loss: 0.78558 |  0:02:50s\n",
      "epoch 127| loss: 0.91096 | val_0_unsup_loss: 0.7735  |  0:02:51s\n",
      "epoch 128| loss: 0.91749 | val_0_unsup_loss: 0.77969 |  0:02:52s\n",
      "epoch 129| loss: 0.92528 | val_0_unsup_loss: 0.77448 |  0:02:53s\n",
      "epoch 130| loss: 2379.12678| val_0_unsup_loss: 0.80008 |  0:02:54s\n",
      "epoch 131| loss: 0.9182  | val_0_unsup_loss: 0.79091 |  0:02:55s\n",
      "epoch 132| loss: 0.91171 | val_0_unsup_loss: 0.78617 |  0:02:56s\n",
      "epoch 133| loss: 0.92365 | val_0_unsup_loss: 0.77455 |  0:02:57s\n",
      "epoch 134| loss: 0.91843 | val_0_unsup_loss: 0.76972 |  0:02:59s\n",
      "epoch 135| loss: 0.92076 | val_0_unsup_loss: 0.7805  |  0:03:00s\n",
      "epoch 136| loss: 0.915   | val_0_unsup_loss: 0.77675 |  0:03:01s\n",
      "epoch 137| loss: 0.8993  | val_0_unsup_loss: 0.77346 |  0:03:02s\n",
      "epoch 138| loss: 0.91966 | val_0_unsup_loss: 0.78483 |  0:03:02s\n",
      "epoch 139| loss: 0.92322 | val_0_unsup_loss: 0.77796 |  0:03:03s\n",
      "epoch 140| loss: 0.91935 | val_0_unsup_loss: 0.77479 |  0:03:04s\n",
      "epoch 141| loss: 0.90207 | val_0_unsup_loss: 0.76447 |  0:03:05s\n",
      "epoch 142| loss: 0.91142 | val_0_unsup_loss: 0.75753 |  0:03:06s\n",
      "epoch 143| loss: 0.90872 | val_0_unsup_loss: 0.75536 |  0:03:07s\n",
      "epoch 144| loss: 0.92266 | val_0_unsup_loss: 0.75449 |  0:03:08s\n",
      "epoch 145| loss: 0.89349 | val_0_unsup_loss: 0.75265 |  0:03:09s\n",
      "epoch 146| loss: 0.92234 | val_0_unsup_loss: 0.75678 |  0:03:10s\n",
      "epoch 147| loss: 0.91647 | val_0_unsup_loss: 0.75679 |  0:03:12s\n",
      "epoch 148| loss: 0.92029 | val_0_unsup_loss: 0.75812 |  0:03:13s\n",
      "epoch 149| loss: 0.91808 | val_0_unsup_loss: 0.7631  |  0:03:14s\n",
      "epoch 150| loss: 0.9143  | val_0_unsup_loss: 0.76762 |  0:03:15s\n",
      "epoch 151| loss: 0.91017 | val_0_unsup_loss: 0.76759 |  0:03:16s\n",
      "epoch 152| loss: 0.90837 | val_0_unsup_loss: 0.76288 |  0:03:17s\n",
      "epoch 153| loss: 0.92328 | val_0_unsup_loss: 0.77015 |  0:03:19s\n",
      "epoch 154| loss: 0.9024  | val_0_unsup_loss: 0.76457 |  0:03:20s\n",
      "epoch 155| loss: 0.90935 | val_0_unsup_loss: 0.76332 |  0:03:22s\n",
      "epoch 156| loss: 0.92389 | val_0_unsup_loss: 0.7645  |  0:03:23s\n",
      "epoch 157| loss: 0.90562 | val_0_unsup_loss: 0.77578 |  0:03:25s\n",
      "epoch 158| loss: 0.91787 | val_0_unsup_loss: 0.76783 |  0:03:26s\n",
      "epoch 159| loss: 0.90938 | val_0_unsup_loss: 0.76245 |  0:03:26s\n",
      "epoch 160| loss: 0.9108  | val_0_unsup_loss: 0.7692  |  0:03:27s\n",
      "epoch 161| loss: 0.91608 | val_0_unsup_loss: 0.77059 |  0:03:28s\n",
      "epoch 162| loss: 0.91281 | val_0_unsup_loss: 0.76584 |  0:03:29s\n",
      "epoch 163| loss: 0.90159 | val_0_unsup_loss: 0.75846 |  0:03:31s\n",
      "epoch 164| loss: 0.90947 | val_0_unsup_loss: 0.77187 |  0:03:32s\n",
      "epoch 165| loss: 0.91583 | val_0_unsup_loss: 0.76705 |  0:03:33s\n",
      "epoch 166| loss: 0.90114 | val_0_unsup_loss: 0.77119 |  0:03:33s\n",
      "epoch 167| loss: 0.91804 | val_0_unsup_loss: 0.77297 |  0:03:34s\n",
      "epoch 168| loss: 0.92382 | val_0_unsup_loss: 0.7699  |  0:03:37s\n",
      "epoch 169| loss: 0.88854 | val_0_unsup_loss: 0.76585 |  0:03:38s\n",
      "epoch 170| loss: 0.89836 | val_0_unsup_loss: 0.76841 |  0:03:39s\n",
      "epoch 171| loss: 0.90164 | val_0_unsup_loss: 0.77093 |  0:03:40s\n",
      "epoch 172| loss: 0.89169 | val_0_unsup_loss: 0.77693 |  0:03:41s\n",
      "epoch 173| loss: 0.91241 | val_0_unsup_loss: 0.76869 |  0:03:42s\n",
      "epoch 174| loss: 0.91636 | val_0_unsup_loss: 0.7738  |  0:03:42s\n",
      "epoch 175| loss: 0.90389 | val_0_unsup_loss: 0.76822 |  0:03:43s\n",
      "epoch 176| loss: 0.89717 | val_0_unsup_loss: 0.76249 |  0:03:44s\n",
      "epoch 177| loss: 0.90058 | val_0_unsup_loss: 0.76979 |  0:03:45s\n",
      "epoch 178| loss: 0.88314 | val_0_unsup_loss: 0.76607 |  0:03:46s\n",
      "epoch 179| loss: 0.91785 | val_0_unsup_loss: 0.76006 |  0:03:47s\n",
      "epoch 180| loss: 0.90511 | val_0_unsup_loss: 0.76322 |  0:03:48s\n",
      "epoch 181| loss: 0.91318 | val_0_unsup_loss: 0.76026 |  0:03:48s\n",
      "epoch 182| loss: 0.90284 | val_0_unsup_loss: 0.76794 |  0:03:50s\n",
      "epoch 183| loss: 0.88556 | val_0_unsup_loss: 0.75717 |  0:03:51s\n",
      "epoch 184| loss: 0.89463 | val_0_unsup_loss: 0.75698 |  0:03:52s\n",
      "epoch 185| loss: 0.91408 | val_0_unsup_loss: 0.7594  |  0:03:53s\n",
      "epoch 186| loss: 0.90523 | val_0_unsup_loss: 0.75529 |  0:03:54s\n",
      "epoch 187| loss: 0.91855 | val_0_unsup_loss: 0.77836 |  0:03:55s\n",
      "epoch 188| loss: 2796.39871| val_0_unsup_loss: 0.77967 |  0:03:55s\n",
      "epoch 189| loss: 0.92404 | val_0_unsup_loss: 0.77507 |  0:03:56s\n",
      "epoch 190| loss: 0.90632 | val_0_unsup_loss: 0.77607 |  0:03:57s\n",
      "epoch 191| loss: 0.90683 | val_0_unsup_loss: 0.76362 |  0:03:58s\n",
      "epoch 192| loss: 0.9093  | val_0_unsup_loss: 0.75991 |  0:03:59s\n",
      "epoch 193| loss: 0.90965 | val_0_unsup_loss: 0.75685 |  0:04:00s\n",
      "epoch 194| loss: 0.91159 | val_0_unsup_loss: 0.75962 |  0:04:01s\n",
      "epoch 195| loss: 0.91324 | val_0_unsup_loss: 0.75497 |  0:04:02s\n",
      "\n",
      "Early stopping occurred at epoch 195 with best_epoch = 145 and best_val_0_unsup_loss = 0.75265\n",
      "Best weights from best epoch are automatically used!\n"
     ]
    }
   ],
   "source": [
    "unsupervised_model.fit(\n",
    "    x_train,\n",
    "    eval_set=[x_val],\n",
    "    max_epochs=1000 , patience=50,\n",
    "    batch_size=256, virtual_batch_size=128,\n",
    "    num_workers=0,\n",
    "    drop_last=False,\n",
    "    pretraining_ratio=0.8,\n",
    "\n",
    ")"
   ]
  },
  {
   "cell_type": "code",
   "execution_count": 134,
   "metadata": {},
   "outputs": [],
   "source": [
    "# Make reconstruction from a dataset\n",
    "reconstructed_X, embedded_X = unsupervised_model.predict(x_val)\n",
    "assert(reconstructed_X.shape==embedded_X.shape)"
   ]
  },
  {
   "cell_type": "code",
   "execution_count": 135,
   "metadata": {},
   "outputs": [],
   "source": [
    "unsupervised_explain_matrix, unsupervised_masks = unsupervised_model.explain(x_val)"
   ]
  },
  {
   "cell_type": "code",
   "execution_count": 136,
   "metadata": {},
   "outputs": [
    {
     "data": {
      "image/png": "[encoded data removed]",
      "text/plain": [
       "<Figure size 1440x1440 with 3 Axes>"
      ]
     },
     "metadata": {},
     "output_type": "display_data"
    }
   ],
   "source": [
    "fig, axs = plt.subplots(1, 3, figsize=(20,20))\n",
    "\n",
    "for i in range(3):\n",
    "    axs[i].imshow(unsupervised_masks[i][:50])\n",
    "    axs[i].set_title(f\"mask {i}\")"
   ]
  },
  {
   "cell_type": "code",
   "execution_count": 137,
   "metadata": {},
   "outputs": [
    {
     "name": "stdout",
     "output_type": "stream",
     "text": [
      "Successfully saved model at ./test_pretrain.zip\n",
      "Device used : cpu\n",
      "Device used : cpu\n"
     ]
    }
   ],
   "source": [
    "unsupervised_model.save_model('./test_pretrain')\n",
    "loaded_pretrain = TabNetPretrainer()\n",
    "loaded_pretrain.load_model('./test_pretrain.zip')"
   ]
  },
  {
   "cell_type": "code",
   "execution_count": 138,
   "metadata": {},
   "outputs": [
    {
     "name": "stdout",
     "output_type": "stream",
     "text": [
      "Device used : cpu\n"
     ]
    }
   ],
   "source": [
    "clf2 = TabNetClassifier(optimizer_fn=torch.optim.Adam,\n",
    "                       optimizer_params=dict(lr=2e-2),\n",
    "                       scheduler_params={\"step_size\":10, # how to use learning rate scheduler\n",
    "                                         \"gamma\":0.9},\n",
    "                       scheduler_fn=torch.optim.lr_scheduler.StepLR,\n",
    "                       mask_type='sparsemax' # This will be overwritten if using pretrain model\n",
    "                      )"
   ]
  },
  {
   "cell_type": "code",
   "execution_count": 139,
   "metadata": {},
   "outputs": [
    {
     "name": "stderr",
     "output_type": "stream",
     "text": [
      "C:\\Users\\Ryan\\anaconda3\\lib\\site-packages\\pytorch_tabnet\\abstract_model.py:97: UserWarning: Pretraining: mask_type changed from sparsemax to entmax\n",
      "  warnings.warn(wrn_msg)\n"
     ]
    },
    {
     "name": "stdout",
     "output_type": "stream",
     "text": [
      "Loading weights from unsupervised pretraining\n",
      "epoch 0  | loss: 0.65307 | train_auc: 0.76633 | train_accuracy: 0.79947 | valid_auc: 0.7491  | valid_accuracy: 0.80573 |  0:00:00s\n",
      "epoch 1  | loss: 0.53346 | train_auc: 0.77326 | train_accuracy: 0.71454 | valid_auc: 0.76772 | valid_accuracy: 0.71166 |  0:00:01s\n",
      "epoch 2  | loss: 0.48578 | train_auc: 0.78482 | train_accuracy: 0.59151 | valid_auc: 0.77743 | valid_accuracy: 0.58078 |  0:00:02s\n",
      "epoch 3  | loss: 0.4888  | train_auc: 0.79643 | train_accuracy: 0.63573 | valid_auc: 0.78785 | valid_accuracy: 0.66258 |  0:00:03s\n",
      "epoch 4  | loss: 0.46891 | train_auc: 0.80103 | train_accuracy: 0.66813 | valid_auc: 0.79403 | valid_accuracy: 0.6953  |  0:00:04s\n",
      "epoch 5  | loss: 0.47397 | train_auc: 0.80618 | train_accuracy: 0.71541 | valid_auc: 0.80294 | valid_accuracy: 0.72802 |  0:00:05s\n",
      "epoch 6  | loss: 0.46732 | train_auc: 0.8192  | train_accuracy: 0.68608 | valid_auc: 0.79857 | valid_accuracy: 0.69121 |  0:00:06s\n",
      "epoch 7  | loss: 0.46803 | train_auc: 0.81672 | train_accuracy: 0.70709 | valid_auc: 0.78762 | valid_accuracy: 0.68916 |  0:00:07s\n",
      "epoch 8  | loss: 0.46866 | train_auc: 0.80867 | train_accuracy: 0.68039 | valid_auc: 0.76751 | valid_accuracy: 0.66871 |  0:00:09s\n",
      "epoch 9  | loss: 0.46266 | train_auc: 0.82197 | train_accuracy: 0.80473 | valid_auc: 0.78046 | valid_accuracy: 0.79959 |  0:00:10s\n",
      "epoch 10 | loss: 0.45237 | train_auc: 0.82764 | train_accuracy: 0.74956 | valid_auc: 0.78545 | valid_accuracy: 0.75051 |  0:00:12s\n",
      "epoch 11 | loss: 0.44499 | train_auc: 0.83468 | train_accuracy: 0.79247 | valid_auc: 0.78145 | valid_accuracy: 0.77096 |  0:00:13s\n",
      "epoch 12 | loss: 0.4501  | train_auc: 0.83247 | train_accuracy: 0.78897 | valid_auc: 0.77323 | valid_accuracy: 0.78937 |  0:00:14s\n",
      "epoch 13 | loss: 0.46444 | train_auc: 0.82614 | train_accuracy: 0.77014 | valid_auc: 0.77977 | valid_accuracy: 0.77301 |  0:00:15s\n",
      "epoch 14 | loss: 0.45666 | train_auc: 0.84172 | train_accuracy: 0.74956 | valid_auc: 0.7864  | valid_accuracy: 0.74233 |  0:00:16s\n",
      "epoch 15 | loss: 0.45785 | train_auc: 0.83676 | train_accuracy: 0.71322 | valid_auc: 0.80461 | valid_accuracy: 0.71779 |  0:00:16s\n",
      "epoch 16 | loss: 0.46117 | train_auc: 0.83625 | train_accuracy: 0.78065 | valid_auc: 0.7959  | valid_accuracy: 0.7771  |  0:00:17s\n",
      "epoch 17 | loss: 0.45048 | train_auc: 0.84345 | train_accuracy: 0.73249 | valid_auc: 0.80447 | valid_accuracy: 0.72393 |  0:00:18s\n",
      "epoch 18 | loss: 0.4316  | train_auc: 0.85889 | train_accuracy: 0.81699 | valid_auc: 0.78768 | valid_accuracy: 0.79141 |  0:00:19s\n",
      "epoch 19 | loss: 0.4192  | train_auc: 0.86746 | train_accuracy: 0.79466 | valid_auc: 0.80182 | valid_accuracy: 0.76892 |  0:00:21s\n",
      "epoch 20 | loss: 0.42658 | train_auc: 0.87289 | train_accuracy: 0.81918 | valid_auc: 0.80088 | valid_accuracy: 0.79346 |  0:00:22s\n",
      "epoch 21 | loss: 0.4522  | train_auc: 0.86471 | train_accuracy: 0.82574 | valid_auc: 0.80316 | valid_accuracy: 0.79346 |  0:00:23s\n",
      "epoch 22 | loss: 0.42846 | train_auc: 0.87852 | train_accuracy: 0.82793 | valid_auc: 0.78459 | valid_accuracy: 0.7955  |  0:00:25s\n",
      "epoch 23 | loss: 0.43615 | train_auc: 0.87418 | train_accuracy: 0.7894  | valid_auc: 0.79962 | valid_accuracy: 0.76278 |  0:00:26s\n",
      "epoch 24 | loss: 0.42833 | train_auc: 0.87676 | train_accuracy: 0.81611 | valid_auc: 0.80262 | valid_accuracy: 0.7771  |  0:00:27s\n",
      "epoch 25 | loss: 0.41453 | train_auc: 0.87158 | train_accuracy: 0.79072 | valid_auc: 0.77239 | valid_accuracy: 0.74233 |  0:00:28s\n",
      "epoch 26 | loss: 0.42678 | train_auc: 0.88938 | train_accuracy: 0.82706 | valid_auc: 0.78278 | valid_accuracy: 0.77096 |  0:00:29s\n",
      "epoch 27 | loss: 0.42043 | train_auc: 0.87751 | train_accuracy: 0.79904 | valid_auc: 0.77176 | valid_accuracy: 0.73415 |  0:00:30s\n",
      "epoch 28 | loss: 0.42369 | train_auc: 0.88389 | train_accuracy: 0.82968 | valid_auc: 0.79532 | valid_accuracy: 0.80573 |  0:00:31s\n",
      "epoch 29 | loss: 0.42212 | train_auc: 0.88039 | train_accuracy: 0.80079 | valid_auc: 0.76947 | valid_accuracy: 0.75869 |  0:00:32s\n",
      "epoch 30 | loss: 0.41019 | train_auc: 0.86876 | train_accuracy: 0.78678 | valid_auc: 0.78554 | valid_accuracy: 0.77505 |  0:00:33s\n",
      "epoch 31 | loss: 0.41965 | train_auc: 0.87857 | train_accuracy: 0.81655 | valid_auc: 0.77142 | valid_accuracy: 0.76074 |  0:00:34s\n",
      "epoch 32 | loss: 0.4237  | train_auc: 0.88347 | train_accuracy: 0.81392 | valid_auc: 0.7831  | valid_accuracy: 0.76278 |  0:00:35s\n",
      "epoch 33 | loss: 0.41378 | train_auc: 0.89023 | train_accuracy: 0.82881 | valid_auc: 0.77052 | valid_accuracy: 0.76687 |  0:00:36s\n",
      "epoch 34 | loss: 0.41765 | train_auc: 0.89299 | train_accuracy: 0.84151 | valid_auc: 0.77486 | valid_accuracy: 0.79346 |  0:00:37s\n",
      "epoch 35 | loss: 0.3867  | train_auc: 0.88932 | train_accuracy: 0.838   | valid_auc: 0.77111 | valid_accuracy: 0.7771  |  0:00:38s\n",
      "epoch 36 | loss: 0.39483 | train_auc: 0.89062 | train_accuracy: 0.82968 | valid_auc: 0.75805 | valid_accuracy: 0.76687 |  0:00:39s\n",
      "epoch 37 | loss: 0.41285 | train_auc: 0.88239 | train_accuracy: 0.8275  | valid_auc: 0.76519 | valid_accuracy: 0.78119 |  0:00:40s\n",
      "epoch 38 | loss: 0.41279 | train_auc: 0.89731 | train_accuracy: 0.83888 | valid_auc: 0.77277 | valid_accuracy: 0.78937 |  0:00:41s\n",
      "epoch 39 | loss: 0.39107 | train_auc: 0.89731 | train_accuracy: 0.81042 | valid_auc: 0.75587 | valid_accuracy: 0.7362  |  0:00:42s\n",
      "epoch 40 | loss: 0.42137 | train_auc: 0.89729 | train_accuracy: 0.84764 | valid_auc: 0.74091 | valid_accuracy: 0.78732 |  0:00:43s\n",
      "epoch 41 | loss: 0.406   | train_auc: 0.89816 | train_accuracy: 0.80779 | valid_auc: 0.75369 | valid_accuracy: 0.73415 |  0:00:44s\n",
      "epoch 42 | loss: 0.42395 | train_auc: 0.90269 | train_accuracy: 0.82881 | valid_auc: 0.75687 | valid_accuracy: 0.73824 |  0:00:45s\n",
      "epoch 43 | loss: 0.38173 | train_auc: 0.90716 | train_accuracy: 0.83494 | valid_auc: 0.74904 | valid_accuracy: 0.76278 |  0:00:45s\n",
      "epoch 44 | loss: 0.40038 | train_auc: 0.9051  | train_accuracy: 0.85289 | valid_auc: 0.75365 | valid_accuracy: 0.80982 |  0:00:46s\n",
      "epoch 45 | loss: 0.38671 | train_auc: 0.90266 | train_accuracy: 0.85245 | valid_auc: 0.74955 | valid_accuracy: 0.79755 |  0:00:47s\n",
      "epoch 46 | loss: 0.40419 | train_auc: 0.9048  | train_accuracy: 0.831   | valid_auc: 0.75995 | valid_accuracy: 0.76074 |  0:00:48s\n",
      "epoch 47 | loss: 0.39894 | train_auc: 0.89838 | train_accuracy: 0.80779 | valid_auc: 0.75436 | valid_accuracy: 0.74029 |  0:00:49s\n",
      "epoch 48 | loss: 0.38054 | train_auc: 0.90077 | train_accuracy: 0.83406 | valid_auc: 0.77018 | valid_accuracy: 0.76483 |  0:00:50s\n",
      "epoch 49 | loss: 0.4068  | train_auc: 0.90241 | train_accuracy: 0.81173 | valid_auc: 0.75488 | valid_accuracy: 0.72802 |  0:00:51s\n",
      "epoch 50 | loss: 0.38401 | train_auc: 0.90921 | train_accuracy: 0.84194 | valid_auc: 0.75618 | valid_accuracy: 0.77914 |  0:00:52s\n",
      "epoch 51 | loss: 0.38225 | train_auc: 0.91476 | train_accuracy: 0.83231 | valid_auc: 0.75085 | valid_accuracy: 0.74847 |  0:00:53s\n",
      "epoch 52 | loss: 0.35777 | train_auc: 0.9146  | train_accuracy: 0.8275  | valid_auc: 0.76381 | valid_accuracy: 0.74233 |  0:00:54s\n",
      "epoch 53 | loss: 0.39323 | train_auc: 0.90579 | train_accuracy: 0.79597 | valid_auc: 0.77574 | valid_accuracy: 0.73006 |  0:00:55s\n",
      "epoch 54 | loss: 0.38656 | train_auc: 0.90322 | train_accuracy: 0.81786 | valid_auc: 0.77186 | valid_accuracy: 0.73415 |  0:00:56s\n",
      "epoch 55 | loss: 0.37783 | train_auc: 0.91355 | train_accuracy: 0.83669 | valid_auc: 0.78039 | valid_accuracy: 0.76278 |  0:00:56s\n",
      "epoch 56 | loss: 0.38909 | train_auc: 0.91659 | train_accuracy: 0.84457 | valid_auc: 0.77536 | valid_accuracy: 0.7771  |  0:00:57s\n",
      "epoch 57 | loss: 0.3531  | train_auc: 0.91984 | train_accuracy: 0.84107 | valid_auc: 0.76573 | valid_accuracy: 0.75665 |  0:00:59s\n",
      "epoch 58 | loss: 0.39041 | train_auc: 0.91837 | train_accuracy: 0.84588 | valid_auc: 0.74319 | valid_accuracy: 0.77914 |  0:01:00s\n",
      "epoch 59 | loss: 0.38176 | train_auc: 0.90916 | train_accuracy: 0.86077 | valid_auc: 0.74595 | valid_accuracy: 0.79755 |  0:01:01s\n",
      "epoch 60 | loss: 0.3845  | train_auc: 0.92165 | train_accuracy: 0.86515 | valid_auc: 0.752   | valid_accuracy: 0.78732 |  0:01:02s\n",
      "epoch 61 | loss: 0.36864 | train_auc: 0.9264  | train_accuracy: 0.86208 | valid_auc: 0.74218 | valid_accuracy: 0.79346 |  0:01:03s\n",
      "epoch 62 | loss: 0.37428 | train_auc: 0.92697 | train_accuracy: 0.82005 | valid_auc: 0.75419 | valid_accuracy: 0.73824 |  0:01:04s\n",
      "epoch 63 | loss: 0.35216 | train_auc: 0.92274 | train_accuracy: 0.83844 | valid_auc: 0.76991 | valid_accuracy: 0.76483 |  0:01:05s\n",
      "epoch 64 | loss: 0.35198 | train_auc: 0.91807 | train_accuracy: 0.81918 | valid_auc: 0.77405 | valid_accuracy: 0.75051 |  0:01:06s\n",
      "epoch 65 | loss: 0.34929 | train_auc: 0.92128 | train_accuracy: 0.83187 | valid_auc: 0.75439 | valid_accuracy: 0.74642 |  0:01:07s\n",
      "epoch 66 | loss: 0.36755 | train_auc: 0.92781 | train_accuracy: 0.83625 | valid_auc: 0.7623  | valid_accuracy: 0.75665 |  0:01:07s\n",
      "epoch 67 | loss: 0.36077 | train_auc: 0.93106 | train_accuracy: 0.8634  | valid_auc: 0.75094 | valid_accuracy: 0.78528 |  0:01:08s\n",
      "epoch 68 | loss: 0.36822 | train_auc: 0.93545 | train_accuracy: 0.85639 | valid_auc: 0.74762 | valid_accuracy: 0.77096 |  0:01:09s\n",
      "epoch 69 | loss: 0.35925 | train_auc: 0.93081 | train_accuracy: 0.85639 | valid_auc: 0.75399 | valid_accuracy: 0.75051 |  0:01:10s\n",
      "epoch 70 | loss: 0.36902 | train_auc: 0.91334 | train_accuracy: 0.83932 | valid_auc: 0.73063 | valid_accuracy: 0.75869 |  0:01:11s\n",
      "epoch 71 | loss: 0.34402 | train_auc: 0.92956 | train_accuracy: 0.87084 | valid_auc: 0.73224 | valid_accuracy: 0.79346 |  0:01:12s\n",
      "epoch 72 | loss: 0.3486  | train_auc: 0.93678 | train_accuracy: 0.86515 | valid_auc: 0.74922 | valid_accuracy: 0.77301 |  0:01:13s\n",
      "epoch 73 | loss: 0.34562 | train_auc: 0.93719 | train_accuracy: 0.86121 | valid_auc: 0.75208 | valid_accuracy: 0.76278 |  0:01:14s\n",
      "epoch 74 | loss: 0.32108 | train_auc: 0.94271 | train_accuracy: 0.86865 | valid_auc: 0.74074 | valid_accuracy: 0.78119 |  0:01:15s\n",
      "epoch 75 | loss: 0.33554 | train_auc: 0.94276 | train_accuracy: 0.86602 | valid_auc: 0.74986 | valid_accuracy: 0.77505 |  0:01:16s\n",
      "epoch 76 | loss: 0.32142 | train_auc: 0.94053 | train_accuracy: 0.86165 | valid_auc: 0.75895 | valid_accuracy: 0.76483 |  0:01:17s\n",
      "epoch 77 | loss: 0.32758 | train_auc: 0.94177 | train_accuracy: 0.85727 | valid_auc: 0.75156 | valid_accuracy: 0.7546  |  0:01:18s\n",
      "epoch 78 | loss: 0.31892 | train_auc: 0.93645 | train_accuracy: 0.86165 | valid_auc: 0.74672 | valid_accuracy: 0.75665 |  0:01:19s\n",
      "epoch 79 | loss: 0.34081 | train_auc: 0.93846 | train_accuracy: 0.85989 | valid_auc: 0.75179 | valid_accuracy: 0.77505 |  0:01:20s\n",
      "epoch 80 | loss: 0.31326 | train_auc: 0.94227 | train_accuracy: 0.86646 | valid_auc: 0.77109 | valid_accuracy: 0.79346 |  0:01:21s\n",
      "epoch 81 | loss: 0.33319 | train_auc: 0.94053 | train_accuracy: 0.86734 | valid_auc: 0.75568 | valid_accuracy: 0.78119 |  0:01:22s\n",
      "epoch 82 | loss: 0.33423 | train_auc: 0.93905 | train_accuracy: 0.8669  | valid_auc: 0.75455 | valid_accuracy: 0.77505 |  0:01:23s\n",
      "epoch 83 | loss: 0.33768 | train_auc: 0.9394  | train_accuracy: 0.87872 | valid_auc: 0.75176 | valid_accuracy: 0.77914 |  0:01:24s\n",
      "epoch 84 | loss: 0.33748 | train_auc: 0.94463 | train_accuracy: 0.86384 | valid_auc: 0.74332 | valid_accuracy: 0.75256 |  0:01:25s\n",
      "epoch 85 | loss: 0.31692 | train_auc: 0.95021 | train_accuracy: 0.88222 | valid_auc: 0.75912 | valid_accuracy: 0.78119 |  0:01:26s\n",
      "epoch 86 | loss: 0.31103 | train_auc: 0.9511  | train_accuracy: 0.87872 | valid_auc: 0.76419 | valid_accuracy: 0.76074 |  0:01:27s\n",
      "epoch 87 | loss: 0.33406 | train_auc: 0.95288 | train_accuracy: 0.87434 | valid_auc: 0.76925 | valid_accuracy: 0.75869 |  0:01:28s\n",
      "epoch 88 | loss: 0.29754 | train_auc: 0.95152 | train_accuracy: 0.87609 | valid_auc: 0.752   | valid_accuracy: 0.76278 |  0:01:29s\n",
      "epoch 89 | loss: 0.30914 | train_auc: 0.95362 | train_accuracy: 0.86165 | valid_auc: 0.75352 | valid_accuracy: 0.74642 |  0:01:30s\n",
      "epoch 90 | loss: 0.3008  | train_auc: 0.95241 | train_accuracy: 0.87522 | valid_auc: 0.76129 | valid_accuracy: 0.76687 |  0:01:31s\n",
      "epoch 91 | loss: 0.31116 | train_auc: 0.95016 | train_accuracy: 0.8634  | valid_auc: 0.75034 | valid_accuracy: 0.75256 |  0:01:32s\n",
      "epoch 92 | loss: 0.3012  | train_auc: 0.95049 | train_accuracy: 0.87741 | valid_auc: 0.76462 | valid_accuracy: 0.7771  |  0:01:33s\n",
      "epoch 93 | loss: 0.30879 | train_auc: 0.95324 | train_accuracy: 0.86996 | valid_auc: 0.76361 | valid_accuracy: 0.77505 |  0:01:34s\n",
      "epoch 94 | loss: 0.29694 | train_auc: 0.95555 | train_accuracy: 0.8796  | valid_auc: 0.75684 | valid_accuracy: 0.77301 |  0:01:35s\n",
      "\n",
      "Early stopping occurred at epoch 94 with best_epoch = 44 and best_valid_accuracy = 0.80982\n",
      "Best weights from best epoch are automatically used!\n"
     ]
    }
   ],
   "source": [
    "clf2.fit(\n",
    "    x_train, y_train,\n",
    "    eval_set=[(x_train, y_train), (x_val, y_val)],\n",
    "    eval_name=['train', 'valid'],\n",
    "    eval_metric=['auc', 'accuracy'],\n",
    "    max_epochs=1000 , patience=50,\n",
    "    batch_size=256, virtual_batch_size=128,\n",
    "    num_workers=0,\n",
    "    weights=1,\n",
    "    drop_last=False,\n",
    "    from_unsupervised=loaded_pretrain\n",
    "    \n",
    ")"
   ]
  },
  {
   "cell_type": "code",
   "execution_count": 140,
   "metadata": {},
   "outputs": [
    {
     "data": {
      "text/plain": [
       "[<matplotlib.lines.Line2D at 0x1ba00841e20>]"
      ]
     },
     "execution_count": 140,
     "metadata": {},
     "output_type": "execute_result"
    },
    {
     "data": {
      "image/png": "[encoded data removed]",
      "text/plain": [
       "<Figure size 432x288 with 1 Axes>"
      ]
     },
     "metadata": {},
     "output_type": "display_data"
    }
   ],
   "source": [
    "# plot losses\n",
    "plt.plot(clf2.history['loss'])"
   ]
  },
  {
   "cell_type": "code",
   "execution_count": 141,
   "metadata": {},
   "outputs": [
    {
     "data": {
      "text/plain": [
       "[<matplotlib.lines.Line2D at 0x1ba0088dc70>]"
      ]
     },
     "execution_count": 141,
     "metadata": {},
     "output_type": "execute_result"
    },
    {
     "data": {
      "image/png": "[encoded data removed]",
      "text/plain": [
       "<Figure size 432x288 with 1 Axes>"
      ]
     },
     "metadata": {},
     "output_type": "display_data"
    }
   ],
   "source": [
    "# plot auc\n",
    "plt.plot(clf2.history['train_auc'])\n",
    "plt.plot(clf2.history['valid_auc'])"
   ]
  },
  {
   "cell_type": "code",
   "execution_count": 142,
   "metadata": {},
   "outputs": [
    {
     "data": {
      "text/plain": [
       "[<matplotlib.lines.Line2D at 0x1ba008d4df0>]"
      ]
     },
     "execution_count": 142,
     "metadata": {},
     "output_type": "execute_result"
    },
    {
     "data": {
      "image/png": "[encoded data removed]",
      "text/plain": [
       "<Figure size 432x288 with 1 Axes>"
      ]
     },
     "metadata": {},
     "output_type": "display_data"
    }
   ],
   "source": [
    "# plot auc\n",
    "plt.plot(clf2.history['train_accuracy'])\n",
    "plt.plot(clf2.history['valid_accuracy'])"
   ]
  },
  {
   "cell_type": "code",
   "execution_count": 144,
   "metadata": {},
   "outputs": [
    {
     "data": {
      "text/plain": [
       "[<matplotlib.lines.Line2D at 0x1ba00972ac0>]"
      ]
     },
     "execution_count": 144,
     "metadata": {},
     "output_type": "execute_result"
    },
    {
     "data": {
      "image/png": "[encoded data removed]",
      "text/plain": [
       "<Figure size 432x288 with 1 Axes>"
      ]
     },
     "metadata": {},
     "output_type": "display_data"
    }
   ],
   "source": [
    "# plot learning rates\n",
    "plt.plot(clf2.history['lr'])"
   ]
  },
  {
   "cell_type": "code",
   "execution_count": 145,
   "metadata": {},
   "outputs": [
    {
     "name": "stdout",
     "output_type": "stream",
     "text": [
      "BEST VALID SCORE FOR THIS DATASET : 0.8098159509202454\n",
      "FINAL TEST SCORE FOR THIS DATASET : 0.7844391153743673\n"
     ]
    }
   ],
   "source": [
    "preds = clf2.predict_proba(x_test)\n",
    "test_auc = roc_auc_score(y_score=preds[:,1], y_true=y_test)\n",
    "\n",
    "\n",
    "preds_valid = clf2.predict_proba(x_val)\n",
    "valid_auc = roc_auc_score(y_score=preds_valid[:,1], y_true=y_val)\n",
    "\n",
    "print(f\"BEST VALID SCORE FOR THIS DATASET : {clf2.best_cost}\")\n",
    "print(f\"FINAL TEST SCORE FOR THIS DATASET : {test_auc}\")"
   ]
  },
  {
   "cell_type": "code",
   "execution_count": 160,
   "metadata": {},
   "outputs": [
    {
     "name": "stdout",
     "output_type": "stream",
     "text": [
      "BEST ACCURACY SCORE ON VALIDATION SET : 0.8098159509202454\n",
      "BEST ACCURACY SCORE ON TEST SET : 0.789795918367347\n"
     ]
    }
   ],
   "source": [
    "preds = clf2.predict(x_test)\n",
    "test_acc = accuracy_score(preds, y_test)\n",
    "\n",
    "\n",
    "preds_valid = clf2.predict(x_val)\n",
    "valid_acc = accuracy_score(preds_valid, y_val)\n",
    "\n",
    "print(f\"BEST ACCURACY SCORE ON VALIDATION SET : {valid_acc}\")\n",
    "print(f\"BEST ACCURACY SCORE ON TEST SET : {test_acc}\")"
   ]
  },
  {
   "cell_type": "code",
   "execution_count": 146,
   "metadata": {},
   "outputs": [
    {
     "data": {
      "text/plain": [
       "array([6.66540299e-03, 1.10643632e-01, 2.53662704e-02, 6.34960812e-02,\n",
       "       2.43257936e-02, 7.10324597e-04, 4.34706993e-02, 7.63395676e-05,\n",
       "       4.52318972e-07, 2.57438152e-02, 0.00000000e+00, 0.00000000e+00,\n",
       "       2.82767767e-03, 4.75498125e-01, 8.73588859e-02, 2.84611834e-02,\n",
       "       3.55743867e-06, 8.32668027e-02, 2.14661568e-02, 6.18800566e-04])"
      ]
     },
     "execution_count": 146,
     "metadata": {},
     "output_type": "execute_result"
    }
   ],
   "source": [
    "clf2.feature_importances_"
   ]
  },
  {
   "cell_type": "code",
   "execution_count": 147,
   "metadata": {},
   "outputs": [],
   "source": [
    "explain_matrix, masks = clf2.explain(x_test)"
   ]
  },
  {
   "cell_type": "code",
   "execution_count": 148,
   "metadata": {},
   "outputs": [
    {
     "data": {
      "image/png": "[encoded data removed]",
      "text/plain": [
       "<Figure size 1440x1440 with 3 Axes>"
      ]
     },
     "metadata": {},
     "output_type": "display_data"
    }
   ],
   "source": [
    "fig, axs = plt.subplots(1, 3, figsize=(20,20))\n",
    "\n",
    "for i in range(3):\n",
    "    axs[i].imshow(masks[i][:50])\n",
    "    axs[i].set_title(f\"mask {i}\")"
   ]
  },
  {
   "cell_type": "code",
   "execution_count": 149,
   "metadata": {},
   "outputs": [
    {
     "data": {
      "text/plain": [
       "array([[337,  14],\n",
       "       [ 75,  64]], dtype=int64)"
      ]
     },
     "execution_count": 149,
     "metadata": {},
     "output_type": "execute_result"
    }
   ],
   "source": [
    "confusion_matrix(y_test, y_pred)"
   ]
  },
  {
   "cell_type": "code",
   "execution_count": null,
   "metadata": {},
   "outputs": [],
   "source": []
  },
  {
   "cell_type": "code",
   "execution_count": null,
   "metadata": {},
   "outputs": [],
   "source": []
  },
  {
   "cell_type": "code",
   "execution_count": null,
   "metadata": {},
   "outputs": [],
   "source": []
  },
  {
   "cell_type": "code",
   "execution_count": null,
   "metadata": {},
   "outputs": [],
   "source": []
  },
  {
   "cell_type": "code",
   "execution_count": null,
   "metadata": {},
   "outputs": [],
   "source": []
  }
 ],
 "metadata": {
  "kernelspec": {
   "display_name": "Python 3",
   "language": "python",
   "name": "python3"
  },
  "language_info": {
   "codemirror_mode": {
    "name": "ipython",
    "version": 3
   },
   "file_extension": ".py",
   "mimetype": "text/x-python",
   "name": "python",
   "nbconvert_exporter": "python",
   "pygments_lexer": "ipython3",
   "version": "3.8.10"
  }
 },
 "nbformat": 4,
 "nbformat_minor": 4
}
